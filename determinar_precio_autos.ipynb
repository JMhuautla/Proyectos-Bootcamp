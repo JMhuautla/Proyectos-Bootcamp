{
 "cells": [
  {
   "cell_type": "markdown",
   "metadata": {},
   "source": [
    "# Introducción\n",
    "Un servicio de venta de autos usados está desarrollando una aplicación para atraer nuevos clientes. Gracias a esta app, se puede averiguar rápidamente el valor de mercado de tu coche. Se tiene acceso al historial: especificaciones técnicas, versiones de equipamiento y precios.\n",
    "\n",
    "\n",
    "# Objetivo\n",
    "\n",
    "Crear un modelo que determine el valor de mercado. A la empresa le interesa:\n",
    "- la calidad de la predicción;\n",
    "- la velocidad de la predicción;\n",
    "- el tiempo requerido para el entrenamiento\n",
    "\n",
    "\n",
    "Para realizar esta tarea será necesario entrenar distintos modelos. Se debe empezar por un modelo de regresión lineal que funja como pruba de cordura. La métrica que se utilizará como base de comparación será la raiz del error cuadrático medio (RECM). Los modelos a comparar serán Bosque aleatorio y modelo basado en el descenso del gradiente. \n",
    "\n",
    "- Regresión Lineal.\n",
    "- Bosque aleatorio.\n",
    "- Modelo del descenso del gradiente con LightGBM\n"
   ]
  },
  {
   "cell_type": "markdown",
   "metadata": {},
   "source": [
    "## Descripción preliminar de los datos"
   ]
  },
  {
   "cell_type": "markdown",
   "metadata": {},
   "source": [
    "Será útil presentar la descripción básica de cada modelo."
   ]
  },
  {
   "cell_type": "markdown",
   "metadata": {},
   "source": [
    "- `DateCrawled` — fecha en la que se descargó el perfil de la base de datos\n",
    "- `VehicleType` — tipo de carrocería del vehículo\n",
    "- `RegistrationYear` — año de matriculación del vehículo\n",
    "- `Gearbox` — tipo de caja de cambios\n",
    "- `Power` — potencia (CV)\n",
    "- `Model` — modelo del vehículo\n",
    "- `Mileage` — kilometraje (medido en km de acuerdo con las especificidades regionales del conjunto de datos)\n",
    "- `RegistrationMonth` — mes de matriculación del vehículo\n",
    "- `FuelType` — tipo de combustible\n",
    "- `Brand` — marca del vehículo\n",
    "- `NotRepaired` — vehículo con o sin reparación\n",
    "- `DateCreated` — fecha de creación del perfil\n",
    "- `NumberOfPictures` — número de fotos del vehículo\n",
    "- `PostalCode` — código postal del propietario del perfil (usuario)\n",
    "- `LastSeen` — fecha de la última vez que el usuario estuvo activo"
   ]
  },
  {
   "cell_type": "markdown",
   "metadata": {},
   "source": [
    "## Preparación de datos"
   ]
  },
  {
   "cell_type": "markdown",
   "metadata": {},
   "source": [
    "### Descargar librerías"
   ]
  },
  {
   "cell_type": "code",
   "execution_count": 1,
   "metadata": {},
   "outputs": [],
   "source": [
    "import pandas as pd\n",
    "import seaborn as sns\n",
    "import lightgbm as lgb\n",
    "import numpy as np\n",
    "from sklearn.model_selection import train_test_split\n",
    "from sklearn.preprocessing import StandardScaler, OneHotEncoder # Escalar nuestros valores\n",
    "from sklearn.preprocessing import OrdinalEncoder\n",
    "\n",
    "# Modelos\n",
    "from sklearn.linear_model import LinearRegression\n",
    "from sklearn.ensemble import RandomForestRegressor\n",
    "import lightgbm as lgb\n",
    "\n",
    "# Métricas de evaluación\n",
    "from sklearn.metrics import mean_squared_error\n",
    "\n",
    "# ParrilladaCV\n",
    "from sklearn.model_selection import GridSearchCV"
   ]
  },
  {
   "cell_type": "markdown",
   "metadata": {},
   "source": [
    "### Descargar Base de datos"
   ]
  },
  {
   "cell_type": "code",
   "execution_count": 2,
   "metadata": {},
   "outputs": [],
   "source": [
    "df = pd.read_csv('/datasets/car_data.csv')"
   ]
  },
  {
   "cell_type": "markdown",
   "metadata": {},
   "source": [
    "### Perspectiva inicial de los datos"
   ]
  },
  {
   "cell_type": "code",
   "execution_count": 3,
   "metadata": {},
   "outputs": [
    {
     "data": {
      "text/plain": [
       "(354369, 16)"
      ]
     },
     "execution_count": 3,
     "metadata": {},
     "output_type": "execute_result"
    }
   ],
   "source": [
    "# Obtener las dimensiones de nuestra tabla\n",
    "df.shape\n",
    "#Si eliminamos los ausentes nos quedarían 249 mil filas "
   ]
  },
  {
   "cell_type": "code",
   "execution_count": 4,
   "metadata": {},
   "outputs": [
    {
     "data": {
      "text/html": [
       "<div>\n",
       "<style scoped>\n",
       "    .dataframe tbody tr th:only-of-type {\n",
       "        vertical-align: middle;\n",
       "    }\n",
       "\n",
       "    .dataframe tbody tr th {\n",
       "        vertical-align: top;\n",
       "    }\n",
       "\n",
       "    .dataframe thead th {\n",
       "        text-align: right;\n",
       "    }\n",
       "</style>\n",
       "<table border=\"1\" class=\"dataframe\">\n",
       "  <thead>\n",
       "    <tr style=\"text-align: right;\">\n",
       "      <th></th>\n",
       "      <th>DateCrawled</th>\n",
       "      <th>Price</th>\n",
       "      <th>VehicleType</th>\n",
       "      <th>RegistrationYear</th>\n",
       "      <th>Gearbox</th>\n",
       "      <th>Power</th>\n",
       "      <th>Model</th>\n",
       "      <th>Mileage</th>\n",
       "      <th>RegistrationMonth</th>\n",
       "      <th>FuelType</th>\n",
       "      <th>Brand</th>\n",
       "      <th>NotRepaired</th>\n",
       "      <th>DateCreated</th>\n",
       "      <th>NumberOfPictures</th>\n",
       "      <th>PostalCode</th>\n",
       "      <th>LastSeen</th>\n",
       "    </tr>\n",
       "  </thead>\n",
       "  <tbody>\n",
       "    <tr>\n",
       "      <th>0</th>\n",
       "      <td>24/03/2016 11:52</td>\n",
       "      <td>480</td>\n",
       "      <td>NaN</td>\n",
       "      <td>1993</td>\n",
       "      <td>manual</td>\n",
       "      <td>0</td>\n",
       "      <td>golf</td>\n",
       "      <td>150000</td>\n",
       "      <td>0</td>\n",
       "      <td>petrol</td>\n",
       "      <td>volkswagen</td>\n",
       "      <td>NaN</td>\n",
       "      <td>24/03/2016 00:00</td>\n",
       "      <td>0</td>\n",
       "      <td>70435</td>\n",
       "      <td>07/04/2016 03:16</td>\n",
       "    </tr>\n",
       "    <tr>\n",
       "      <th>1</th>\n",
       "      <td>24/03/2016 10:58</td>\n",
       "      <td>18300</td>\n",
       "      <td>coupe</td>\n",
       "      <td>2011</td>\n",
       "      <td>manual</td>\n",
       "      <td>190</td>\n",
       "      <td>NaN</td>\n",
       "      <td>125000</td>\n",
       "      <td>5</td>\n",
       "      <td>gasoline</td>\n",
       "      <td>audi</td>\n",
       "      <td>yes</td>\n",
       "      <td>24/03/2016 00:00</td>\n",
       "      <td>0</td>\n",
       "      <td>66954</td>\n",
       "      <td>07/04/2016 01:46</td>\n",
       "    </tr>\n",
       "    <tr>\n",
       "      <th>2</th>\n",
       "      <td>14/03/2016 12:52</td>\n",
       "      <td>9800</td>\n",
       "      <td>suv</td>\n",
       "      <td>2004</td>\n",
       "      <td>auto</td>\n",
       "      <td>163</td>\n",
       "      <td>grand</td>\n",
       "      <td>125000</td>\n",
       "      <td>8</td>\n",
       "      <td>gasoline</td>\n",
       "      <td>jeep</td>\n",
       "      <td>NaN</td>\n",
       "      <td>14/03/2016 00:00</td>\n",
       "      <td>0</td>\n",
       "      <td>90480</td>\n",
       "      <td>05/04/2016 12:47</td>\n",
       "    </tr>\n",
       "    <tr>\n",
       "      <th>3</th>\n",
       "      <td>17/03/2016 16:54</td>\n",
       "      <td>1500</td>\n",
       "      <td>small</td>\n",
       "      <td>2001</td>\n",
       "      <td>manual</td>\n",
       "      <td>75</td>\n",
       "      <td>golf</td>\n",
       "      <td>150000</td>\n",
       "      <td>6</td>\n",
       "      <td>petrol</td>\n",
       "      <td>volkswagen</td>\n",
       "      <td>no</td>\n",
       "      <td>17/03/2016 00:00</td>\n",
       "      <td>0</td>\n",
       "      <td>91074</td>\n",
       "      <td>17/03/2016 17:40</td>\n",
       "    </tr>\n",
       "    <tr>\n",
       "      <th>4</th>\n",
       "      <td>31/03/2016 17:25</td>\n",
       "      <td>3600</td>\n",
       "      <td>small</td>\n",
       "      <td>2008</td>\n",
       "      <td>manual</td>\n",
       "      <td>69</td>\n",
       "      <td>fabia</td>\n",
       "      <td>90000</td>\n",
       "      <td>7</td>\n",
       "      <td>gasoline</td>\n",
       "      <td>skoda</td>\n",
       "      <td>no</td>\n",
       "      <td>31/03/2016 00:00</td>\n",
       "      <td>0</td>\n",
       "      <td>60437</td>\n",
       "      <td>06/04/2016 10:17</td>\n",
       "    </tr>\n",
       "  </tbody>\n",
       "</table>\n",
       "</div>"
      ],
      "text/plain": [
       "        DateCrawled  Price VehicleType  RegistrationYear Gearbox  Power  \\\n",
       "0  24/03/2016 11:52    480         NaN              1993  manual      0   \n",
       "1  24/03/2016 10:58  18300       coupe              2011  manual    190   \n",
       "2  14/03/2016 12:52   9800         suv              2004    auto    163   \n",
       "3  17/03/2016 16:54   1500       small              2001  manual     75   \n",
       "4  31/03/2016 17:25   3600       small              2008  manual     69   \n",
       "\n",
       "   Model  Mileage  RegistrationMonth  FuelType       Brand NotRepaired  \\\n",
       "0   golf   150000                  0    petrol  volkswagen         NaN   \n",
       "1    NaN   125000                  5  gasoline        audi         yes   \n",
       "2  grand   125000                  8  gasoline        jeep         NaN   \n",
       "3   golf   150000                  6    petrol  volkswagen          no   \n",
       "4  fabia    90000                  7  gasoline       skoda          no   \n",
       "\n",
       "        DateCreated  NumberOfPictures  PostalCode          LastSeen  \n",
       "0  24/03/2016 00:00                 0       70435  07/04/2016 03:16  \n",
       "1  24/03/2016 00:00                 0       66954  07/04/2016 01:46  \n",
       "2  14/03/2016 00:00                 0       90480  05/04/2016 12:47  \n",
       "3  17/03/2016 00:00                 0       91074  17/03/2016 17:40  \n",
       "4  31/03/2016 00:00                 0       60437  06/04/2016 10:17  "
      ]
     },
     "execution_count": 4,
     "metadata": {},
     "output_type": "execute_result"
    }
   ],
   "source": [
    "# Observar las primeras filas de la tabla\n",
    "df.head()"
   ]
  },
  {
   "cell_type": "code",
   "execution_count": 5,
   "metadata": {},
   "outputs": [
    {
     "name": "stdout",
     "output_type": "stream",
     "text": [
      "<class 'pandas.core.frame.DataFrame'>\n",
      "RangeIndex: 354369 entries, 0 to 354368\n",
      "Data columns (total 16 columns):\n",
      " #   Column             Non-Null Count   Dtype \n",
      "---  ------             --------------   ----- \n",
      " 0   DateCrawled        354369 non-null  object\n",
      " 1   Price              354369 non-null  int64 \n",
      " 2   VehicleType        316879 non-null  object\n",
      " 3   RegistrationYear   354369 non-null  int64 \n",
      " 4   Gearbox            334536 non-null  object\n",
      " 5   Power              354369 non-null  int64 \n",
      " 6   Model              334664 non-null  object\n",
      " 7   Mileage            354369 non-null  int64 \n",
      " 8   RegistrationMonth  354369 non-null  int64 \n",
      " 9   FuelType           321474 non-null  object\n",
      " 10  Brand              354369 non-null  object\n",
      " 11  NotRepaired        283215 non-null  object\n",
      " 12  DateCreated        354369 non-null  object\n",
      " 13  NumberOfPictures   354369 non-null  int64 \n",
      " 14  PostalCode         354369 non-null  int64 \n",
      " 15  LastSeen           354369 non-null  object\n",
      "dtypes: int64(7), object(9)\n",
      "memory usage: 43.3+ MB\n"
     ]
    }
   ],
   "source": [
    "# Observar el tipo de datos y la presencia de valores ausentes\n",
    "df.info()"
   ]
  },
  {
   "cell_type": "code",
   "execution_count": 6,
   "metadata": {},
   "outputs": [
    {
     "data": {
      "text/html": [
       "<div>\n",
       "<style scoped>\n",
       "    .dataframe tbody tr th:only-of-type {\n",
       "        vertical-align: middle;\n",
       "    }\n",
       "\n",
       "    .dataframe tbody tr th {\n",
       "        vertical-align: top;\n",
       "    }\n",
       "\n",
       "    .dataframe thead th {\n",
       "        text-align: right;\n",
       "    }\n",
       "</style>\n",
       "<table border=\"1\" class=\"dataframe\">\n",
       "  <thead>\n",
       "    <tr style=\"text-align: right;\">\n",
       "      <th></th>\n",
       "      <th>Price</th>\n",
       "      <th>RegistrationYear</th>\n",
       "      <th>Power</th>\n",
       "      <th>Mileage</th>\n",
       "      <th>RegistrationMonth</th>\n",
       "      <th>NumberOfPictures</th>\n",
       "      <th>PostalCode</th>\n",
       "    </tr>\n",
       "  </thead>\n",
       "  <tbody>\n",
       "    <tr>\n",
       "      <th>count</th>\n",
       "      <td>354369.000000</td>\n",
       "      <td>354369.000000</td>\n",
       "      <td>354369.000000</td>\n",
       "      <td>354369.000000</td>\n",
       "      <td>354369.000000</td>\n",
       "      <td>354369.0</td>\n",
       "      <td>354369.000000</td>\n",
       "    </tr>\n",
       "    <tr>\n",
       "      <th>mean</th>\n",
       "      <td>4416.656776</td>\n",
       "      <td>2004.234448</td>\n",
       "      <td>110.094337</td>\n",
       "      <td>128211.172535</td>\n",
       "      <td>5.714645</td>\n",
       "      <td>0.0</td>\n",
       "      <td>50508.689087</td>\n",
       "    </tr>\n",
       "    <tr>\n",
       "      <th>std</th>\n",
       "      <td>4514.158514</td>\n",
       "      <td>90.227958</td>\n",
       "      <td>189.850405</td>\n",
       "      <td>37905.341530</td>\n",
       "      <td>3.726421</td>\n",
       "      <td>0.0</td>\n",
       "      <td>25783.096248</td>\n",
       "    </tr>\n",
       "    <tr>\n",
       "      <th>min</th>\n",
       "      <td>0.000000</td>\n",
       "      <td>1000.000000</td>\n",
       "      <td>0.000000</td>\n",
       "      <td>5000.000000</td>\n",
       "      <td>0.000000</td>\n",
       "      <td>0.0</td>\n",
       "      <td>1067.000000</td>\n",
       "    </tr>\n",
       "    <tr>\n",
       "      <th>25%</th>\n",
       "      <td>1050.000000</td>\n",
       "      <td>1999.000000</td>\n",
       "      <td>69.000000</td>\n",
       "      <td>125000.000000</td>\n",
       "      <td>3.000000</td>\n",
       "      <td>0.0</td>\n",
       "      <td>30165.000000</td>\n",
       "    </tr>\n",
       "    <tr>\n",
       "      <th>50%</th>\n",
       "      <td>2700.000000</td>\n",
       "      <td>2003.000000</td>\n",
       "      <td>105.000000</td>\n",
       "      <td>150000.000000</td>\n",
       "      <td>6.000000</td>\n",
       "      <td>0.0</td>\n",
       "      <td>49413.000000</td>\n",
       "    </tr>\n",
       "    <tr>\n",
       "      <th>75%</th>\n",
       "      <td>6400.000000</td>\n",
       "      <td>2008.000000</td>\n",
       "      <td>143.000000</td>\n",
       "      <td>150000.000000</td>\n",
       "      <td>9.000000</td>\n",
       "      <td>0.0</td>\n",
       "      <td>71083.000000</td>\n",
       "    </tr>\n",
       "    <tr>\n",
       "      <th>max</th>\n",
       "      <td>20000.000000</td>\n",
       "      <td>9999.000000</td>\n",
       "      <td>20000.000000</td>\n",
       "      <td>150000.000000</td>\n",
       "      <td>12.000000</td>\n",
       "      <td>0.0</td>\n",
       "      <td>99998.000000</td>\n",
       "    </tr>\n",
       "  </tbody>\n",
       "</table>\n",
       "</div>"
      ],
      "text/plain": [
       "               Price  RegistrationYear          Power        Mileage  \\\n",
       "count  354369.000000     354369.000000  354369.000000  354369.000000   \n",
       "mean     4416.656776       2004.234448     110.094337  128211.172535   \n",
       "std      4514.158514         90.227958     189.850405   37905.341530   \n",
       "min         0.000000       1000.000000       0.000000    5000.000000   \n",
       "25%      1050.000000       1999.000000      69.000000  125000.000000   \n",
       "50%      2700.000000       2003.000000     105.000000  150000.000000   \n",
       "75%      6400.000000       2008.000000     143.000000  150000.000000   \n",
       "max     20000.000000       9999.000000   20000.000000  150000.000000   \n",
       "\n",
       "       RegistrationMonth  NumberOfPictures     PostalCode  \n",
       "count      354369.000000          354369.0  354369.000000  \n",
       "mean            5.714645               0.0   50508.689087  \n",
       "std             3.726421               0.0   25783.096248  \n",
       "min             0.000000               0.0    1067.000000  \n",
       "25%             3.000000               0.0   30165.000000  \n",
       "50%             6.000000               0.0   49413.000000  \n",
       "75%             9.000000               0.0   71083.000000  \n",
       "max            12.000000               0.0   99998.000000  "
      ]
     },
     "execution_count": 6,
     "metadata": {},
     "output_type": "execute_result"
    }
   ],
   "source": [
    "# Calcular principales métricas para cada columna numérica\n",
    "df.describe()"
   ]
  },
  {
   "cell_type": "code",
   "execution_count": 7,
   "metadata": {},
   "outputs": [
    {
     "data": {
      "text/plain": [
       "DateCrawled              0\n",
       "Price                    0\n",
       "VehicleType          37490\n",
       "RegistrationYear         0\n",
       "Gearbox              19833\n",
       "Power                    0\n",
       "Model                19705\n",
       "Mileage                  0\n",
       "RegistrationMonth        0\n",
       "FuelType             32895\n",
       "Brand                    0\n",
       "NotRepaired          71154\n",
       "DateCreated              0\n",
       "NumberOfPictures         0\n",
       "PostalCode               0\n",
       "LastSeen                 0\n",
       "dtype: int64"
      ]
     },
     "execution_count": 7,
     "metadata": {},
     "output_type": "execute_result"
    }
   ],
   "source": [
    "# Contar el número de valores ausentes por columna\n",
    "df.isna().sum()"
   ]
  },
  {
   "cell_type": "code",
   "execution_count": 8,
   "metadata": {},
   "outputs": [
    {
     "data": {
      "text/plain": [
       "262"
      ]
     },
     "execution_count": 8,
     "metadata": {},
     "output_type": "execute_result"
    }
   ],
   "source": [
    "# Calcular la cantidad de filas duplicadas\n",
    "df.duplicated().sum()"
   ]
  },
  {
   "cell_type": "code",
   "execution_count": 9,
   "metadata": {},
   "outputs": [
    {
     "data": {
      "text/html": [
       "<div>\n",
       "<style scoped>\n",
       "    .dataframe tbody tr th:only-of-type {\n",
       "        vertical-align: middle;\n",
       "    }\n",
       "\n",
       "    .dataframe tbody tr th {\n",
       "        vertical-align: top;\n",
       "    }\n",
       "\n",
       "    .dataframe thead th {\n",
       "        text-align: right;\n",
       "    }\n",
       "</style>\n",
       "<table border=\"1\" class=\"dataframe\">\n",
       "  <thead>\n",
       "    <tr style=\"text-align: right;\">\n",
       "      <th></th>\n",
       "      <th>Price</th>\n",
       "      <th>RegistrationYear</th>\n",
       "      <th>Power</th>\n",
       "      <th>Mileage</th>\n",
       "      <th>RegistrationMonth</th>\n",
       "      <th>NumberOfPictures</th>\n",
       "      <th>PostalCode</th>\n",
       "    </tr>\n",
       "  </thead>\n",
       "  <tbody>\n",
       "    <tr>\n",
       "      <th>count</th>\n",
       "      <td>354369.000000</td>\n",
       "      <td>354369.000000</td>\n",
       "      <td>354369.000000</td>\n",
       "      <td>354369.000000</td>\n",
       "      <td>354369.000000</td>\n",
       "      <td>354369.0</td>\n",
       "      <td>354369.000000</td>\n",
       "    </tr>\n",
       "    <tr>\n",
       "      <th>mean</th>\n",
       "      <td>4416.656776</td>\n",
       "      <td>2004.234448</td>\n",
       "      <td>110.094337</td>\n",
       "      <td>128211.172535</td>\n",
       "      <td>5.714645</td>\n",
       "      <td>0.0</td>\n",
       "      <td>50508.689087</td>\n",
       "    </tr>\n",
       "    <tr>\n",
       "      <th>std</th>\n",
       "      <td>4514.158514</td>\n",
       "      <td>90.227958</td>\n",
       "      <td>189.850405</td>\n",
       "      <td>37905.341530</td>\n",
       "      <td>3.726421</td>\n",
       "      <td>0.0</td>\n",
       "      <td>25783.096248</td>\n",
       "    </tr>\n",
       "    <tr>\n",
       "      <th>min</th>\n",
       "      <td>0.000000</td>\n",
       "      <td>1000.000000</td>\n",
       "      <td>0.000000</td>\n",
       "      <td>5000.000000</td>\n",
       "      <td>0.000000</td>\n",
       "      <td>0.0</td>\n",
       "      <td>1067.000000</td>\n",
       "    </tr>\n",
       "    <tr>\n",
       "      <th>25%</th>\n",
       "      <td>1050.000000</td>\n",
       "      <td>1999.000000</td>\n",
       "      <td>69.000000</td>\n",
       "      <td>125000.000000</td>\n",
       "      <td>3.000000</td>\n",
       "      <td>0.0</td>\n",
       "      <td>30165.000000</td>\n",
       "    </tr>\n",
       "    <tr>\n",
       "      <th>50%</th>\n",
       "      <td>2700.000000</td>\n",
       "      <td>2003.000000</td>\n",
       "      <td>105.000000</td>\n",
       "      <td>150000.000000</td>\n",
       "      <td>6.000000</td>\n",
       "      <td>0.0</td>\n",
       "      <td>49413.000000</td>\n",
       "    </tr>\n",
       "    <tr>\n",
       "      <th>75%</th>\n",
       "      <td>6400.000000</td>\n",
       "      <td>2008.000000</td>\n",
       "      <td>143.000000</td>\n",
       "      <td>150000.000000</td>\n",
       "      <td>9.000000</td>\n",
       "      <td>0.0</td>\n",
       "      <td>71083.000000</td>\n",
       "    </tr>\n",
       "    <tr>\n",
       "      <th>max</th>\n",
       "      <td>20000.000000</td>\n",
       "      <td>9999.000000</td>\n",
       "      <td>20000.000000</td>\n",
       "      <td>150000.000000</td>\n",
       "      <td>12.000000</td>\n",
       "      <td>0.0</td>\n",
       "      <td>99998.000000</td>\n",
       "    </tr>\n",
       "  </tbody>\n",
       "</table>\n",
       "</div>"
      ],
      "text/plain": [
       "               Price  RegistrationYear          Power        Mileage  \\\n",
       "count  354369.000000     354369.000000  354369.000000  354369.000000   \n",
       "mean     4416.656776       2004.234448     110.094337  128211.172535   \n",
       "std      4514.158514         90.227958     189.850405   37905.341530   \n",
       "min         0.000000       1000.000000       0.000000    5000.000000   \n",
       "25%      1050.000000       1999.000000      69.000000  125000.000000   \n",
       "50%      2700.000000       2003.000000     105.000000  150000.000000   \n",
       "75%      6400.000000       2008.000000     143.000000  150000.000000   \n",
       "max     20000.000000       9999.000000   20000.000000  150000.000000   \n",
       "\n",
       "       RegistrationMonth  NumberOfPictures     PostalCode  \n",
       "count      354369.000000          354369.0  354369.000000  \n",
       "mean            5.714645               0.0   50508.689087  \n",
       "std             3.726421               0.0   25783.096248  \n",
       "min             0.000000               0.0    1067.000000  \n",
       "25%             3.000000               0.0   30165.000000  \n",
       "50%             6.000000               0.0   49413.000000  \n",
       "75%             9.000000               0.0   71083.000000  \n",
       "max            12.000000               0.0   99998.000000  "
      ]
     },
     "execution_count": 9,
     "metadata": {},
     "output_type": "execute_result"
    }
   ],
   "source": [
    "df.describe()"
   ]
  },
  {
   "cell_type": "markdown",
   "metadata": {},
   "source": [
    "**Observaciones iniciales**:\n",
    "\n",
    "- Algunos columnas podrían tener el formato fecha.\n",
    "- Tenemos variables numéricas y categoricas. Dentro de las categóricas, ninguna es ordinal y hay dos dicotómicas.\n",
    "- Presencia de valores ausentes en 5 columnas categóricas.\n",
    "- Tenemos precios iguales a cero.\n",
    "- Hay valores duplicados pero son tan pocos entre una base de datos tan grande que posiblemente se deban sólo a coincidencias exactas. \n",
    "- Hay columnas que no se relacionan directamente con el valor del auto.\n",
    "\n",
    "**Tratameinto:**\n",
    "\n",
    "- Eliminar columnas inecesarias.\n",
    "- Utilizar la columna `RegistrationYear` como un aproximado de la antiguedad de los autos.\n",
    "- Investigar los valores extremos de la tabla.\n",
    "- Eliminar valores ausentes. "
   ]
  },
  {
   "cell_type": "markdown",
   "metadata": {},
   "source": [
    "### Tratamiento de los datos"
   ]
  },
  {
   "cell_type": "markdown",
   "metadata": {},
   "source": [
    "**Eliminar columnas inecesearias**\n",
    "\n",
    "Se eliminarán las siguientes columnas cuyos valores no tengan relación directa o suficientemente directa con el modelo. La decisión se justifica por las siguientes razones: \n",
    "- `NumberOfPictures` es una columna inecesaria pues está consitutida exclusivamente de ceros.\n",
    "- `RegristrationMonth` Aunque es posible que el precio de un auto dependa del mes en que ha sido comprado, sólo tenemos el dato del mes en que fue matriculado el auto *la primera vez que fue adquirido* y por ello no podemos utilizar el valor de este mes como un proxy del mes en que se vende *actualmente*. Más aún, no tenemos información de si los precios de los autos son ofertas actuales o pudieran ser autos ya vendidos a ese precio en diferentes meses. \n",
    "- `LastSeen`, `DateCreated` & `PostalCode` son información de los vendedores y no del auto en particular.\n",
    "- `DateCrawled` podría ser útil sólo si el margen de descarga es grande. De tener una diferencia de tiempo pequeña, es posible que no aporte demasiado al modelo y sólo lo entorpezca. \n",
    "- `DateCrawled` Esta puede ser utilizada como aproximación de la antiguedad del vehículo por lo que, aunque no sea una medida exacta, sí puede ser útil al modelo."
   ]
  },
  {
   "cell_type": "code",
   "execution_count": 10,
   "metadata": {},
   "outputs": [
    {
     "data": {
      "text/plain": [
       "Timedelta('33 days 00:30:00')"
      ]
     },
     "execution_count": 10,
     "metadata": {},
     "output_type": "execute_result"
    }
   ],
   "source": [
    "# Cambiar \"DateCrawled\" al formato de fecha\n",
    "df['DateCrawled'] = pd.to_datetime(df['DateCrawled'], format = '%d/%m/%Y %H:%M')\n",
    "# Diferencia de días\n",
    "df['DateCrawled'].max() - df['DateCrawled'].min()"
   ]
  },
  {
   "cell_type": "markdown",
   "metadata": {},
   "source": [
    "Sólo se trata de 33 días. No será un diferenciador en las variables del modelo."
   ]
  },
  {
   "cell_type": "code",
   "execution_count": 11,
   "metadata": {},
   "outputs": [],
   "source": [
    "# Eliminar columnas inecesarias\n",
    "df.drop(['DateCrawled', 'RegistrationMonth', 'NumberOfPictures', 'PostalCode', 'LastSeen', 'DateCreated'], axis = 1, inplace = True)"
   ]
  },
  {
   "cell_type": "code",
   "execution_count": 12,
   "metadata": {},
   "outputs": [
    {
     "data": {
      "text/plain": [
       "Index(['Price', 'VehicleType', 'RegistrationYear', 'Gearbox', 'Power', 'Model',\n",
       "       'Mileage', 'FuelType', 'Brand', 'NotRepaired'],\n",
       "      dtype='object')"
      ]
     },
     "execution_count": 12,
     "metadata": {},
     "output_type": "execute_result"
    }
   ],
   "source": [
    "df.columns"
   ]
  },
  {
   "cell_type": "markdown",
   "metadata": {},
   "source": [
    "**Observacion y tratamiento de los valores extremos de las tablas:**\n",
    "\n",
    "Para poder visualizar la distribución de los valores extremos debemos seleccionar las variables numéricas del marco de datos para después graficarlas."
   ]
  },
  {
   "cell_type": "code",
   "execution_count": 13,
   "metadata": {},
   "outputs": [],
   "source": [
    "# Crear una lista de las variables numéricas\n",
    "numericas = ['Price', 'RegistrationYear', 'Power', 'Mileage']"
   ]
  },
  {
   "cell_type": "code",
   "execution_count": 14,
   "metadata": {},
   "outputs": [
    {
     "data": {
      "image/png": "[encoded data removed]",
      "text/plain": [
       "<Figure size 576x576 with 4 Axes>"
      ]
     },
     "metadata": {
      "needs_background": "light"
     },
     "output_type": "display_data"
    }
   ],
   "source": [
    "# Graficar cada variable\n",
    "df.loc[:,numericas].hist(bins = 20, figsize=(8,8));"
   ]
  },
  {
   "cell_type": "markdown",
   "metadata": {},
   "source": [
    "El amplio rango en el eje de las x en algunos gráficos indica que hay al menos un valor con datos muy alejados. Por ejemplo, autos con un año de registro de alrededor del año 10,000 o autos con 20,000 CV (que es la potencia en la que rondan algunos trenes). El precio también presenta varios valores cercanos a cero o incluso cero. El kilometraje parece estar dentro de las medidas posibles.\n",
    "\n",
    "Para tratar cada una de las tablas escogeremos los valores que entren dentro de los rangos posibles."
   ]
  },
  {
   "cell_type": "code",
   "execution_count": 15,
   "metadata": {
    "scrolled": false
   },
   "outputs": [
    {
     "data": {
      "image/png": "[encoded data removed]",
      "text/plain": [
       "<Figure size 432x288 with 1 Axes>"
      ]
     },
     "metadata": {
      "needs_background": "light"
     },
     "output_type": "display_data"
    }
   ],
   "source": [
    "# Observar la distribución de los valores posibles\n",
    "df.query('RegistrationYear > 1950 and RegistrationYear < 2023')['RegistrationYear'].hist(bins=25);"
   ]
  },
  {
   "cell_type": "markdown",
   "metadata": {},
   "source": [
    "Estamos buscando automóviles que con base en sus características se vendan en el mercado para su uso. Autos clásicos o demasiado viejos no serán útiles para nuestro análisis porque bien podrían pertenecer a otro tipo de mercado. como se observa, la cantidad de autos comienza a ser importante para los autos de años posteriores a 1990 y por supuesto, a antes de 2020."
   ]
  },
  {
   "cell_type": "code",
   "execution_count": 16,
   "metadata": {},
   "outputs": [
    {
     "data": {
      "image/png": "[encoded data removed]",
      "text/plain": [
       "<Figure size 432x288 with 1 Axes>"
      ]
     },
     "metadata": {
      "needs_background": "light"
     },
     "output_type": "display_data"
    }
   ],
   "source": [
    "# Observar la distribución de los valores posibles\n",
    "df.query('Power > 0 and Power < 600')['Power'].hist(bins=60);"
   ]
  },
  {
   "cell_type": "markdown",
   "metadata": {},
   "source": [
    "Los caballos de vapor mínimos para un auto son de 60 CV mientras 2000 ya es un límite bastante extricto para un auto. La gráfica anterior muestra que la mayoría de los autos de nuestra tabla tienen máximo 450 CV. Un rango de entre 50 a 300 CV se encuentra dentro de lo posible mientras mantiene la mayor cantidad de datos."
   ]
  },
  {
   "cell_type": "code",
   "execution_count": 17,
   "metadata": {},
   "outputs": [
    {
     "data": {
      "image/png": "[encoded data removed]",
      "text/plain": [
       "<Figure size 432x288 with 1 Axes>"
      ]
     },
     "metadata": {
      "needs_background": "light"
     },
     "output_type": "display_data"
    }
   ],
   "source": [
    "# Observar la distribución de los valores posibles\n",
    "df.query('Price > -1 and Price < 20001')['Price'].hist(bins=100);"
   ]
  },
  {
   "cell_type": "markdown",
   "metadata": {},
   "source": [
    "Tenemos una gran cantidad de autos cuyo valor está muy cercano a cero euros. Esto es extraño dado que eso sería un regalo y no una venta. Por lo tanto, no se espera que los valores de cero o muy cercanos a cero sean valores que deban ser tomados en cuenta. Si es posible, por su parte, que existan autos de segunda mano de alrededor de 20.000 euros.  Un rango de entre 500 a 20.000 debería ser suficiente."
   ]
  },
  {
   "cell_type": "code",
   "execution_count": 18,
   "metadata": {},
   "outputs": [
    {
     "data": {
      "text/plain": [
       "(267339, 10)"
      ]
     },
     "execution_count": 18,
     "metadata": {},
     "output_type": "execute_result"
    }
   ],
   "source": [
    "# Aplciar todas las restricciones de manera conjunta\n",
    "df_up = df.query('RegistrationYear > 1990 and RegistrationYear < 2023').query('Power > 50 and Power < 300').query('Price > 500 and Price < 20001')\n",
    "df_up.shape"
   ]
  },
  {
   "cell_type": "code",
   "execution_count": 19,
   "metadata": {},
   "outputs": [
    {
     "name": "stdout",
     "output_type": "stream",
     "text": [
      "(267339, 10)\n"
     ]
    },
    {
     "data": {
      "text/plain": [
       "(210202, 10)"
      ]
     },
     "execution_count": 19,
     "metadata": {},
     "output_type": "execute_result"
    }
   ],
   "source": [
    "# Eliminar valores ausentes\n",
    "df_a = df_up.dropna()\n",
    "print(df_up.shape)\n",
    "df_a.shape"
   ]
  },
  {
   "cell_type": "code",
   "execution_count": 20,
   "metadata": {},
   "outputs": [
    {
     "data": {
      "text/html": [
       "<div>\n",
       "<style scoped>\n",
       "    .dataframe tbody tr th:only-of-type {\n",
       "        vertical-align: middle;\n",
       "    }\n",
       "\n",
       "    .dataframe tbody tr th {\n",
       "        vertical-align: top;\n",
       "    }\n",
       "\n",
       "    .dataframe thead th {\n",
       "        text-align: right;\n",
       "    }\n",
       "</style>\n",
       "<table border=\"1\" class=\"dataframe\">\n",
       "  <thead>\n",
       "    <tr style=\"text-align: right;\">\n",
       "      <th></th>\n",
       "      <th>Price</th>\n",
       "      <th>VehicleType</th>\n",
       "      <th>RegistrationYear</th>\n",
       "      <th>Gearbox</th>\n",
       "      <th>Power</th>\n",
       "      <th>Model</th>\n",
       "      <th>Mileage</th>\n",
       "      <th>FuelType</th>\n",
       "      <th>Brand</th>\n",
       "      <th>NotRepaired</th>\n",
       "    </tr>\n",
       "  </thead>\n",
       "  <tbody>\n",
       "    <tr>\n",
       "      <th>3</th>\n",
       "      <td>1500</td>\n",
       "      <td>small</td>\n",
       "      <td>2001</td>\n",
       "      <td>manual</td>\n",
       "      <td>75</td>\n",
       "      <td>golf</td>\n",
       "      <td>150000</td>\n",
       "      <td>petrol</td>\n",
       "      <td>volkswagen</td>\n",
       "      <td>no</td>\n",
       "    </tr>\n",
       "    <tr>\n",
       "      <th>4</th>\n",
       "      <td>3600</td>\n",
       "      <td>small</td>\n",
       "      <td>2008</td>\n",
       "      <td>manual</td>\n",
       "      <td>69</td>\n",
       "      <td>fabia</td>\n",
       "      <td>90000</td>\n",
       "      <td>gasoline</td>\n",
       "      <td>skoda</td>\n",
       "      <td>no</td>\n",
       "    </tr>\n",
       "    <tr>\n",
       "      <th>5</th>\n",
       "      <td>650</td>\n",
       "      <td>sedan</td>\n",
       "      <td>1995</td>\n",
       "      <td>manual</td>\n",
       "      <td>102</td>\n",
       "      <td>3er</td>\n",
       "      <td>150000</td>\n",
       "      <td>petrol</td>\n",
       "      <td>bmw</td>\n",
       "      <td>yes</td>\n",
       "    </tr>\n",
       "    <tr>\n",
       "      <th>6</th>\n",
       "      <td>2200</td>\n",
       "      <td>convertible</td>\n",
       "      <td>2004</td>\n",
       "      <td>manual</td>\n",
       "      <td>109</td>\n",
       "      <td>2_reihe</td>\n",
       "      <td>150000</td>\n",
       "      <td>petrol</td>\n",
       "      <td>peugeot</td>\n",
       "      <td>no</td>\n",
       "    </tr>\n",
       "    <tr>\n",
       "      <th>10</th>\n",
       "      <td>2000</td>\n",
       "      <td>sedan</td>\n",
       "      <td>2004</td>\n",
       "      <td>manual</td>\n",
       "      <td>105</td>\n",
       "      <td>3_reihe</td>\n",
       "      <td>150000</td>\n",
       "      <td>petrol</td>\n",
       "      <td>mazda</td>\n",
       "      <td>no</td>\n",
       "    </tr>\n",
       "  </tbody>\n",
       "</table>\n",
       "</div>"
      ],
      "text/plain": [
       "    Price  VehicleType  RegistrationYear Gearbox  Power    Model  Mileage  \\\n",
       "3    1500        small              2001  manual     75     golf   150000   \n",
       "4    3600        small              2008  manual     69    fabia    90000   \n",
       "5     650        sedan              1995  manual    102      3er   150000   \n",
       "6    2200  convertible              2004  manual    109  2_reihe   150000   \n",
       "10   2000        sedan              2004  manual    105  3_reihe   150000   \n",
       "\n",
       "    FuelType       Brand NotRepaired  \n",
       "3     petrol  volkswagen          no  \n",
       "4   gasoline       skoda          no  \n",
       "5     petrol         bmw         yes  \n",
       "6     petrol     peugeot          no  \n",
       "10    petrol       mazda          no  "
      ]
     },
     "execution_count": 20,
     "metadata": {},
     "output_type": "execute_result"
    }
   ],
   "source": [
    "# Mostrar primeras filas del nuevo conjunto\n",
    "df_a.head()"
   ]
  },
  {
   "cell_type": "markdown",
   "metadata": {},
   "source": [
    "Aún después de eliminar los valores ausentes aún tenemos suficientes datos para entrenar nuestros modelos. No obstante, hemos guardado la base de datos con valores ausentes ya que lightGBM y CatBoost pueden tratar con valores ausentes."
   ]
  },
  {
   "cell_type": "markdown",
   "metadata": {},
   "source": [
    "### Transformar valores de las columnas para el entrenamiento de los datos.\n",
    "\n",
    "Para ofrecer la mejor comparación entre los modelos y determinar el mejor, debemos imprimir esfuerzos en que sean lo mejores posibles. Los modelos de regresión lineal y de árbol de decisión no procesan en automático las variables categóricas como lo hacen LightGBM o CatBoost por lo que es necesario ajustar las columnas de acuerdo con su naturaleza."
   ]
  },
  {
   "cell_type": "code",
   "execution_count": 21,
   "metadata": {
    "scrolled": true
   },
   "outputs": [
    {
     "data": {
      "text/plain": [
       "Index(['Price', 'VehicleType', 'RegistrationYear', 'Gearbox', 'Power', 'Model',\n",
       "       'Mileage', 'FuelType', 'Brand', 'NotRepaired'],\n",
       "      dtype='object')"
      ]
     },
     "execution_count": 21,
     "metadata": {},
     "output_type": "execute_result"
    }
   ],
   "source": [
    "# Imprimir columnas restantes \n",
    "df_a.columns"
   ]
  },
  {
   "cell_type": "markdown",
   "metadata": {},
   "source": [
    "**Columnas numéricas:**\n",
    "\n",
    "Ya se ha creado una lista para las columnas numéricas que será utilizada para escalar los valores."
   ]
  },
  {
   "cell_type": "markdown",
   "metadata": {},
   "source": [
    "**Columnas categóricas:**\n",
    "\n",
    "Las columnas categóricas restantes son `VehicleType`, `Gearbox`, `Model`, `FuelType`, `Brand`, `NotRepaired`. De las cuales, `Gearbox` y  `NotRepaired` podrían considerarse como dicotómicas. "
   ]
  },
  {
   "cell_type": "code",
   "execution_count": 22,
   "metadata": {},
   "outputs": [],
   "source": [
    "categoricas = ['VehicleType', 'Gearbox', 'Model', 'FuelType', 'Brand', 'NotRepaired']"
   ]
  },
  {
   "cell_type": "code",
   "execution_count": 23,
   "metadata": {
    "scrolled": false
   },
   "outputs": [
    {
     "name": "stdout",
     "output_type": "stream",
     "text": [
      "VehicleType 8\n",
      "Gearbox 2\n",
      "Model 245\n",
      "FuelType 7\n",
      "Brand 38\n",
      "NotRepaired 2\n"
     ]
    }
   ],
   "source": [
    "# Contar número de características por categoría.\n",
    "for i in categoricas:\n",
    "    print(i, df_a[i].unique().size)"
   ]
  },
  {
   "cell_type": "markdown",
   "metadata": {},
   "source": [
    "Es posible usar OHE para todas las columnas excepto para `Model` y `FuelType`. En estos casos, la codificación ordinal será una mejor opción."
   ]
  },
  {
   "cell_type": "code",
   "execution_count": 24,
   "metadata": {},
   "outputs": [],
   "source": [
    "#Variables numéricas a escalar\n",
    "num =  ['RegistrationYear', 'Power', 'Mileage']\n",
    "# Variables categóricas a modificar con OHE {ctgs = categorías}\n",
    "ctgs_ohe = ['VehicleType', 'Gearbox', 'FuelType', 'NotRepaired']\n",
    "# Variables categóricas a modificar con OrdinalEncoder {enc = OrdinalENCoder}\n",
    "ctgs_enc = ['Model', 'Brand']"
   ]
  },
  {
   "cell_type": "markdown",
   "metadata": {},
   "source": [
    "### Dividir el conjunto de datos en conjunto de entrenamiento y prueba"
   ]
  },
  {
   "cell_type": "code",
   "execution_count": 25,
   "metadata": {},
   "outputs": [],
   "source": [
    "# Dividir los conjuntos\n",
    "train_dfa, test_dfa = train_test_split(df_a, random_state=24601, test_size=0.3)\n",
    "# Dividirlos objetivos de las características\n",
    "x_train_dfa = train_dfa.drop(['Price'], axis = 1)\n",
    "y_train_dfa = train_dfa['Price']\n",
    "\n",
    "# Dividir objetivos y caracter+isticas del conjunto de prueba\n",
    "x_test_dfa = test_dfa.drop(['Price'], axis= 1)\n",
    "y_test_dfa = test_dfa['Price']"
   ]
  },
  {
   "cell_type": "markdown",
   "metadata": {},
   "source": [
    "**Escalar todas las variables numéricas**"
   ]
  },
  {
   "cell_type": "markdown",
   "metadata": {},
   "source": [
    "Primero escalaremos los modelos. Podemos usar una función para este paso y el tratamiento de OrdinalEncoder."
   ]
  },
  {
   "cell_type": "code",
   "execution_count": 30,
   "metadata": {},
   "outputs": [],
   "source": [
    "#Definir una  función para no repetir código\n",
    "def optimus_prime(train, test, instancia, columnas):\n",
    "    \n",
    "    modificado = pd.DataFrame(instancia.fit_transform(train[columnas]), columns = columnas)\n",
    "    new_train = pd.concat([train.drop(columns=columnas).reset_index(drop=True), modificado], axis = 1)\n",
    "\n",
    "    modificado_test = pd.DataFrame(instancia.transform(test[columnas]), columns = columnas)\n",
    "    new_test = pd.concat([test.drop(columns=columnas).reset_index(drop=True), modificado_test], axis = 1)\n",
    "\n",
    "    return new_train, new_test"
   ]
  },
  {
   "cell_type": "code",
   "execution_count": 31,
   "metadata": {},
   "outputs": [
    {
     "data": {
      "text/html": [
       "<div>\n",
       "<style scoped>\n",
       "    .dataframe tbody tr th:only-of-type {\n",
       "        vertical-align: middle;\n",
       "    }\n",
       "\n",
       "    .dataframe tbody tr th {\n",
       "        vertical-align: top;\n",
       "    }\n",
       "\n",
       "    .dataframe thead th {\n",
       "        text-align: right;\n",
       "    }\n",
       "</style>\n",
       "<table border=\"1\" class=\"dataframe\">\n",
       "  <thead>\n",
       "    <tr style=\"text-align: right;\">\n",
       "      <th></th>\n",
       "      <th>VehicleType</th>\n",
       "      <th>Gearbox</th>\n",
       "      <th>Model</th>\n",
       "      <th>FuelType</th>\n",
       "      <th>Brand</th>\n",
       "      <th>NotRepaired</th>\n",
       "      <th>RegistrationYear</th>\n",
       "      <th>Power</th>\n",
       "      <th>Mileage</th>\n",
       "    </tr>\n",
       "  </thead>\n",
       "  <tbody>\n",
       "    <tr>\n",
       "      <th>0</th>\n",
       "      <td>sedan</td>\n",
       "      <td>manual</td>\n",
       "      <td>golf</td>\n",
       "      <td>gasoline</td>\n",
       "      <td>volkswagen</td>\n",
       "      <td>no</td>\n",
       "      <td>1.599407</td>\n",
       "      <td>0.957782</td>\n",
       "      <td>0.632179</td>\n",
       "    </tr>\n",
       "    <tr>\n",
       "      <th>1</th>\n",
       "      <td>sedan</td>\n",
       "      <td>manual</td>\n",
       "      <td>passat</td>\n",
       "      <td>petrol</td>\n",
       "      <td>volkswagen</td>\n",
       "      <td>no</td>\n",
       "      <td>-2.381552</td>\n",
       "      <td>-0.721268</td>\n",
       "      <td>0.632179</td>\n",
       "    </tr>\n",
       "    <tr>\n",
       "      <th>2</th>\n",
       "      <td>coupe</td>\n",
       "      <td>manual</td>\n",
       "      <td>astra</td>\n",
       "      <td>petrol</td>\n",
       "      <td>opel</td>\n",
       "      <td>no</td>\n",
       "      <td>-1.983456</td>\n",
       "      <td>-1.350912</td>\n",
       "      <td>0.632179</td>\n",
       "    </tr>\n",
       "    <tr>\n",
       "      <th>3</th>\n",
       "      <td>wagon</td>\n",
       "      <td>manual</td>\n",
       "      <td>passat</td>\n",
       "      <td>petrol</td>\n",
       "      <td>volkswagen</td>\n",
       "      <td>yes</td>\n",
       "      <td>-0.789168</td>\n",
       "      <td>0.013316</td>\n",
       "      <td>0.632179</td>\n",
       "    </tr>\n",
       "    <tr>\n",
       "      <th>4</th>\n",
       "      <td>coupe</td>\n",
       "      <td>manual</td>\n",
       "      <td>rx_reihe</td>\n",
       "      <td>petrol</td>\n",
       "      <td>mazda</td>\n",
       "      <td>no</td>\n",
       "      <td>0.007024</td>\n",
       "      <td>1.419521</td>\n",
       "      <td>-0.038000</td>\n",
       "    </tr>\n",
       "  </tbody>\n",
       "</table>\n",
       "</div>"
      ],
      "text/plain": [
       "  VehicleType Gearbox     Model  FuelType       Brand NotRepaired  \\\n",
       "0       sedan  manual      golf  gasoline  volkswagen          no   \n",
       "1       sedan  manual    passat    petrol  volkswagen          no   \n",
       "2       coupe  manual     astra    petrol        opel          no   \n",
       "3       wagon  manual    passat    petrol  volkswagen         yes   \n",
       "4       coupe  manual  rx_reihe    petrol       mazda          no   \n",
       "\n",
       "   RegistrationYear     Power   Mileage  \n",
       "0          1.599407  0.957782  0.632179  \n",
       "1         -2.381552 -0.721268  0.632179  \n",
       "2         -1.983456 -1.350912  0.632179  \n",
       "3         -0.789168  0.013316  0.632179  \n",
       "4          0.007024  1.419521 -0.038000  "
      ]
     },
     "execution_count": 31,
     "metadata": {},
     "output_type": "execute_result"
    }
   ],
   "source": [
    "scaled_dfs = optimus_prime(x_train_dfa, x_test_dfa, StandardScaler(), num)\n",
    "scaled_dfs[0].head()"
   ]
  },
  {
   "cell_type": "code",
   "execution_count": 32,
   "metadata": {
    "scrolled": true
   },
   "outputs": [
    {
     "data": {
      "text/html": [
       "<div>\n",
       "<style scoped>\n",
       "    .dataframe tbody tr th:only-of-type {\n",
       "        vertical-align: middle;\n",
       "    }\n",
       "\n",
       "    .dataframe tbody tr th {\n",
       "        vertical-align: top;\n",
       "    }\n",
       "\n",
       "    .dataframe thead th {\n",
       "        text-align: right;\n",
       "    }\n",
       "</style>\n",
       "<table border=\"1\" class=\"dataframe\">\n",
       "  <thead>\n",
       "    <tr style=\"text-align: right;\">\n",
       "      <th></th>\n",
       "      <th>VehicleType</th>\n",
       "      <th>Gearbox</th>\n",
       "      <th>Model</th>\n",
       "      <th>FuelType</th>\n",
       "      <th>Brand</th>\n",
       "      <th>NotRepaired</th>\n",
       "      <th>RegistrationYear</th>\n",
       "      <th>Power</th>\n",
       "      <th>Mileage</th>\n",
       "    </tr>\n",
       "  </thead>\n",
       "  <tbody>\n",
       "    <tr>\n",
       "      <th>0</th>\n",
       "      <td>sedan</td>\n",
       "      <td>manual</td>\n",
       "      <td>stilo</td>\n",
       "      <td>petrol</td>\n",
       "      <td>fiat</td>\n",
       "      <td>no</td>\n",
       "      <td>-0.192024</td>\n",
       "      <td>-0.448423</td>\n",
       "      <td>0.632179</td>\n",
       "    </tr>\n",
       "    <tr>\n",
       "      <th>1</th>\n",
       "      <td>small</td>\n",
       "      <td>manual</td>\n",
       "      <td>ka</td>\n",
       "      <td>petrol</td>\n",
       "      <td>ford</td>\n",
       "      <td>no</td>\n",
       "      <td>0.405120</td>\n",
       "      <td>-1.350912</td>\n",
       "      <td>-0.976249</td>\n",
       "    </tr>\n",
       "    <tr>\n",
       "      <th>2</th>\n",
       "      <td>wagon</td>\n",
       "      <td>manual</td>\n",
       "      <td>laguna</td>\n",
       "      <td>petrol</td>\n",
       "      <td>renault</td>\n",
       "      <td>no</td>\n",
       "      <td>-0.590120</td>\n",
       "      <td>-0.091624</td>\n",
       "      <td>0.632179</td>\n",
       "    </tr>\n",
       "    <tr>\n",
       "      <th>3</th>\n",
       "      <td>wagon</td>\n",
       "      <td>manual</td>\n",
       "      <td>astra</td>\n",
       "      <td>petrol</td>\n",
       "      <td>opel</td>\n",
       "      <td>no</td>\n",
       "      <td>-0.789168</td>\n",
       "      <td>-0.490399</td>\n",
       "      <td>0.632179</td>\n",
       "    </tr>\n",
       "    <tr>\n",
       "      <th>4</th>\n",
       "      <td>sedan</td>\n",
       "      <td>auto</td>\n",
       "      <td>7er</td>\n",
       "      <td>petrol</td>\n",
       "      <td>bmw</td>\n",
       "      <td>yes</td>\n",
       "      <td>-1.386312</td>\n",
       "      <td>2.322010</td>\n",
       "      <td>0.632179</td>\n",
       "    </tr>\n",
       "  </tbody>\n",
       "</table>\n",
       "</div>"
      ],
      "text/plain": [
       "  VehicleType Gearbox   Model FuelType    Brand NotRepaired  RegistrationYear  \\\n",
       "0       sedan  manual   stilo   petrol     fiat          no         -0.192024   \n",
       "1       small  manual      ka   petrol     ford          no          0.405120   \n",
       "2       wagon  manual  laguna   petrol  renault          no         -0.590120   \n",
       "3       wagon  manual   astra   petrol     opel          no         -0.789168   \n",
       "4       sedan    auto     7er   petrol      bmw         yes         -1.386312   \n",
       "\n",
       "      Power   Mileage  \n",
       "0 -0.448423  0.632179  \n",
       "1 -1.350912 -0.976249  \n",
       "2 -0.091624  0.632179  \n",
       "3 -0.490399  0.632179  \n",
       "4  2.322010  0.632179  "
      ]
     },
     "execution_count": 32,
     "metadata": {},
     "output_type": "execute_result"
    }
   ],
   "source": [
    "scaled_dfs[1].head()"
   ]
  },
  {
   "cell_type": "markdown",
   "metadata": {},
   "source": [
    "**Aplicar OrdinalEncoder a las columnas seleccionadas**"
   ]
  },
  {
   "cell_type": "code",
   "execution_count": 33,
   "metadata": {},
   "outputs": [
    {
     "data": {
      "text/html": [
       "<div>\n",
       "<style scoped>\n",
       "    .dataframe tbody tr th:only-of-type {\n",
       "        vertical-align: middle;\n",
       "    }\n",
       "\n",
       "    .dataframe tbody tr th {\n",
       "        vertical-align: top;\n",
       "    }\n",
       "\n",
       "    .dataframe thead th {\n",
       "        text-align: right;\n",
       "    }\n",
       "</style>\n",
       "<table border=\"1\" class=\"dataframe\">\n",
       "  <thead>\n",
       "    <tr style=\"text-align: right;\">\n",
       "      <th></th>\n",
       "      <th>VehicleType</th>\n",
       "      <th>Gearbox</th>\n",
       "      <th>FuelType</th>\n",
       "      <th>NotRepaired</th>\n",
       "      <th>RegistrationYear</th>\n",
       "      <th>Power</th>\n",
       "      <th>Mileage</th>\n",
       "      <th>Model</th>\n",
       "      <th>Brand</th>\n",
       "    </tr>\n",
       "  </thead>\n",
       "  <tbody>\n",
       "    <tr>\n",
       "      <th>0</th>\n",
       "      <td>sedan</td>\n",
       "      <td>manual</td>\n",
       "      <td>gasoline</td>\n",
       "      <td>no</td>\n",
       "      <td>1.599407</td>\n",
       "      <td>0.957782</td>\n",
       "      <td>0.632179</td>\n",
       "      <td>114.0</td>\n",
       "      <td>36.0</td>\n",
       "    </tr>\n",
       "    <tr>\n",
       "      <th>1</th>\n",
       "      <td>sedan</td>\n",
       "      <td>manual</td>\n",
       "      <td>petrol</td>\n",
       "      <td>no</td>\n",
       "      <td>-2.381552</td>\n",
       "      <td>-0.721268</td>\n",
       "      <td>0.632179</td>\n",
       "      <td>168.0</td>\n",
       "      <td>36.0</td>\n",
       "    </tr>\n",
       "    <tr>\n",
       "      <th>2</th>\n",
       "      <td>coupe</td>\n",
       "      <td>manual</td>\n",
       "      <td>petrol</td>\n",
       "      <td>no</td>\n",
       "      <td>-1.983456</td>\n",
       "      <td>-1.350912</td>\n",
       "      <td>0.632179</td>\n",
       "      <td>40.0</td>\n",
       "      <td>24.0</td>\n",
       "    </tr>\n",
       "    <tr>\n",
       "      <th>3</th>\n",
       "      <td>wagon</td>\n",
       "      <td>manual</td>\n",
       "      <td>petrol</td>\n",
       "      <td>yes</td>\n",
       "      <td>-0.789168</td>\n",
       "      <td>0.013316</td>\n",
       "      <td>0.632179</td>\n",
       "      <td>168.0</td>\n",
       "      <td>36.0</td>\n",
       "    </tr>\n",
       "    <tr>\n",
       "      <th>4</th>\n",
       "      <td>coupe</td>\n",
       "      <td>manual</td>\n",
       "      <td>petrol</td>\n",
       "      <td>no</td>\n",
       "      <td>0.007024</td>\n",
       "      <td>1.419521</td>\n",
       "      <td>-0.038000</td>\n",
       "      <td>188.0</td>\n",
       "      <td>19.0</td>\n",
       "    </tr>\n",
       "  </tbody>\n",
       "</table>\n",
       "</div>"
      ],
      "text/plain": [
       "  VehicleType Gearbox  FuelType NotRepaired  RegistrationYear     Power  \\\n",
       "0       sedan  manual  gasoline          no          1.599407  0.957782   \n",
       "1       sedan  manual    petrol          no         -2.381552 -0.721268   \n",
       "2       coupe  manual    petrol          no         -1.983456 -1.350912   \n",
       "3       wagon  manual    petrol         yes         -0.789168  0.013316   \n",
       "4       coupe  manual    petrol          no          0.007024  1.419521   \n",
       "\n",
       "    Mileage  Model  Brand  \n",
       "0  0.632179  114.0   36.0  \n",
       "1  0.632179  168.0   36.0  \n",
       "2  0.632179   40.0   24.0  \n",
       "3  0.632179  168.0   36.0  \n",
       "4 -0.038000  188.0   19.0  "
      ]
     },
     "execution_count": 33,
     "metadata": {},
     "output_type": "execute_result"
    }
   ],
   "source": [
    "enc_dfs = optimus_prime(scaled_dfs[0], scaled_dfs[1], OrdinalEncoder(), ctgs_enc)\n",
    "enc_dfs[0].head()"
   ]
  },
  {
   "cell_type": "code",
   "execution_count": 34,
   "metadata": {},
   "outputs": [
    {
     "data": {
      "text/html": [
       "<div>\n",
       "<style scoped>\n",
       "    .dataframe tbody tr th:only-of-type {\n",
       "        vertical-align: middle;\n",
       "    }\n",
       "\n",
       "    .dataframe tbody tr th {\n",
       "        vertical-align: top;\n",
       "    }\n",
       "\n",
       "    .dataframe thead th {\n",
       "        text-align: right;\n",
       "    }\n",
       "</style>\n",
       "<table border=\"1\" class=\"dataframe\">\n",
       "  <thead>\n",
       "    <tr style=\"text-align: right;\">\n",
       "      <th></th>\n",
       "      <th>VehicleType</th>\n",
       "      <th>Gearbox</th>\n",
       "      <th>FuelType</th>\n",
       "      <th>NotRepaired</th>\n",
       "      <th>RegistrationYear</th>\n",
       "      <th>Power</th>\n",
       "      <th>Mileage</th>\n",
       "      <th>Model</th>\n",
       "      <th>Brand</th>\n",
       "    </tr>\n",
       "  </thead>\n",
       "  <tbody>\n",
       "    <tr>\n",
       "      <th>0</th>\n",
       "      <td>sedan</td>\n",
       "      <td>manual</td>\n",
       "      <td>petrol</td>\n",
       "      <td>no</td>\n",
       "      <td>-0.192024</td>\n",
       "      <td>-0.448423</td>\n",
       "      <td>0.632179</td>\n",
       "      <td>209.0</td>\n",
       "      <td>9.0</td>\n",
       "    </tr>\n",
       "    <tr>\n",
       "      <th>1</th>\n",
       "      <td>small</td>\n",
       "      <td>manual</td>\n",
       "      <td>petrol</td>\n",
       "      <td>no</td>\n",
       "      <td>0.405120</td>\n",
       "      <td>-1.350912</td>\n",
       "      <td>-0.976249</td>\n",
       "      <td>126.0</td>\n",
       "      <td>10.0</td>\n",
       "    </tr>\n",
       "    <tr>\n",
       "      <th>2</th>\n",
       "      <td>wagon</td>\n",
       "      <td>manual</td>\n",
       "      <td>petrol</td>\n",
       "      <td>no</td>\n",
       "      <td>-0.590120</td>\n",
       "      <td>-0.091624</td>\n",
       "      <td>0.632179</td>\n",
       "      <td>134.0</td>\n",
       "      <td>27.0</td>\n",
       "    </tr>\n",
       "    <tr>\n",
       "      <th>3</th>\n",
       "      <td>wagon</td>\n",
       "      <td>manual</td>\n",
       "      <td>petrol</td>\n",
       "      <td>no</td>\n",
       "      <td>-0.789168</td>\n",
       "      <td>-0.490399</td>\n",
       "      <td>0.632179</td>\n",
       "      <td>40.0</td>\n",
       "      <td>24.0</td>\n",
       "    </tr>\n",
       "    <tr>\n",
       "      <th>4</th>\n",
       "      <td>sedan</td>\n",
       "      <td>auto</td>\n",
       "      <td>petrol</td>\n",
       "      <td>yes</td>\n",
       "      <td>-1.386312</td>\n",
       "      <td>2.322010</td>\n",
       "      <td>0.632179</td>\n",
       "      <td>17.0</td>\n",
       "      <td>2.0</td>\n",
       "    </tr>\n",
       "  </tbody>\n",
       "</table>\n",
       "</div>"
      ],
      "text/plain": [
       "  VehicleType Gearbox FuelType NotRepaired  RegistrationYear     Power  \\\n",
       "0       sedan  manual   petrol          no         -0.192024 -0.448423   \n",
       "1       small  manual   petrol          no          0.405120 -1.350912   \n",
       "2       wagon  manual   petrol          no         -0.590120 -0.091624   \n",
       "3       wagon  manual   petrol          no         -0.789168 -0.490399   \n",
       "4       sedan    auto   petrol         yes         -1.386312  2.322010   \n",
       "\n",
       "    Mileage  Model  Brand  \n",
       "0  0.632179  209.0    9.0  \n",
       "1 -0.976249  126.0   10.0  \n",
       "2  0.632179  134.0   27.0  \n",
       "3  0.632179   40.0   24.0  \n",
       "4  0.632179   17.0    2.0  "
      ]
     },
     "execution_count": 34,
     "metadata": {},
     "output_type": "execute_result"
    }
   ],
   "source": [
    "enc_dfs[1].head()"
   ]
  },
  {
   "cell_type": "code",
   "execution_count": 35,
   "metadata": {},
   "outputs": [
    {
     "data": {
      "text/plain": [
       "((147141, 9), (63061, 9))"
      ]
     },
     "execution_count": 35,
     "metadata": {},
     "output_type": "execute_result"
    }
   ],
   "source": [
    "# Observar que las dimensiones sean correctas\n",
    "enc_dfs[0].shape, enc_dfs[1].shape"
   ]
  },
  {
   "cell_type": "markdown",
   "metadata": {},
   "source": [
    "**Aplicar OHE a las columnas seleccionadas:**"
   ]
  },
  {
   "cell_type": "markdown",
   "metadata": {},
   "source": [
    "En este paso, además de cambiar los datos debemos asegurar que cada característica de cada columna corresponda correctamente con su valor como variable dicotómica. A su vez, eliminamos la primera observación extraida de cada columna por ser redundante."
   ]
  },
  {
   "cell_type": "code",
   "execution_count": 37,
   "metadata": {},
   "outputs": [
    {
     "data": {
      "text/html": [
       "<div>\n",
       "<style scoped>\n",
       "    .dataframe tbody tr th:only-of-type {\n",
       "        vertical-align: middle;\n",
       "    }\n",
       "\n",
       "    .dataframe tbody tr th {\n",
       "        vertical-align: top;\n",
       "    }\n",
       "\n",
       "    .dataframe thead th {\n",
       "        text-align: right;\n",
       "    }\n",
       "</style>\n",
       "<table border=\"1\" class=\"dataframe\">\n",
       "  <thead>\n",
       "    <tr style=\"text-align: right;\">\n",
       "      <th></th>\n",
       "      <th>RegistrationYear</th>\n",
       "      <th>Power</th>\n",
       "      <th>Mileage</th>\n",
       "      <th>Model</th>\n",
       "      <th>Brand</th>\n",
       "      <th>convertible</th>\n",
       "      <th>coupe</th>\n",
       "      <th>othertype</th>\n",
       "      <th>sedan</th>\n",
       "      <th>small</th>\n",
       "      <th>suv</th>\n",
       "      <th>wagon</th>\n",
       "      <th>manual</th>\n",
       "      <th>electric</th>\n",
       "      <th>gasoline</th>\n",
       "      <th>hybrid</th>\n",
       "      <th>lpg</th>\n",
       "      <th>otherfuel</th>\n",
       "      <th>petrol</th>\n",
       "      <th>NotRepaid</th>\n",
       "    </tr>\n",
       "  </thead>\n",
       "  <tbody>\n",
       "    <tr>\n",
       "      <th>0</th>\n",
       "      <td>1.599407</td>\n",
       "      <td>0.957782</td>\n",
       "      <td>0.632179</td>\n",
       "      <td>114.0</td>\n",
       "      <td>36.0</td>\n",
       "      <td>0.0</td>\n",
       "      <td>0.0</td>\n",
       "      <td>0.0</td>\n",
       "      <td>1.0</td>\n",
       "      <td>0.0</td>\n",
       "      <td>0.0</td>\n",
       "      <td>0.0</td>\n",
       "      <td>1.0</td>\n",
       "      <td>0.0</td>\n",
       "      <td>1.0</td>\n",
       "      <td>0.0</td>\n",
       "      <td>0.0</td>\n",
       "      <td>0.0</td>\n",
       "      <td>0.0</td>\n",
       "      <td>0.0</td>\n",
       "    </tr>\n",
       "    <tr>\n",
       "      <th>1</th>\n",
       "      <td>-2.381552</td>\n",
       "      <td>-0.721268</td>\n",
       "      <td>0.632179</td>\n",
       "      <td>168.0</td>\n",
       "      <td>36.0</td>\n",
       "      <td>0.0</td>\n",
       "      <td>0.0</td>\n",
       "      <td>0.0</td>\n",
       "      <td>1.0</td>\n",
       "      <td>0.0</td>\n",
       "      <td>0.0</td>\n",
       "      <td>0.0</td>\n",
       "      <td>1.0</td>\n",
       "      <td>0.0</td>\n",
       "      <td>0.0</td>\n",
       "      <td>0.0</td>\n",
       "      <td>0.0</td>\n",
       "      <td>0.0</td>\n",
       "      <td>1.0</td>\n",
       "      <td>0.0</td>\n",
       "    </tr>\n",
       "    <tr>\n",
       "      <th>2</th>\n",
       "      <td>-1.983456</td>\n",
       "      <td>-1.350912</td>\n",
       "      <td>0.632179</td>\n",
       "      <td>40.0</td>\n",
       "      <td>24.0</td>\n",
       "      <td>0.0</td>\n",
       "      <td>1.0</td>\n",
       "      <td>0.0</td>\n",
       "      <td>0.0</td>\n",
       "      <td>0.0</td>\n",
       "      <td>0.0</td>\n",
       "      <td>0.0</td>\n",
       "      <td>1.0</td>\n",
       "      <td>0.0</td>\n",
       "      <td>0.0</td>\n",
       "      <td>0.0</td>\n",
       "      <td>0.0</td>\n",
       "      <td>0.0</td>\n",
       "      <td>1.0</td>\n",
       "      <td>0.0</td>\n",
       "    </tr>\n",
       "    <tr>\n",
       "      <th>3</th>\n",
       "      <td>-0.789168</td>\n",
       "      <td>0.013316</td>\n",
       "      <td>0.632179</td>\n",
       "      <td>168.0</td>\n",
       "      <td>36.0</td>\n",
       "      <td>0.0</td>\n",
       "      <td>0.0</td>\n",
       "      <td>0.0</td>\n",
       "      <td>0.0</td>\n",
       "      <td>0.0</td>\n",
       "      <td>0.0</td>\n",
       "      <td>1.0</td>\n",
       "      <td>1.0</td>\n",
       "      <td>0.0</td>\n",
       "      <td>0.0</td>\n",
       "      <td>0.0</td>\n",
       "      <td>0.0</td>\n",
       "      <td>0.0</td>\n",
       "      <td>1.0</td>\n",
       "      <td>1.0</td>\n",
       "    </tr>\n",
       "    <tr>\n",
       "      <th>4</th>\n",
       "      <td>0.007024</td>\n",
       "      <td>1.419521</td>\n",
       "      <td>-0.038000</td>\n",
       "      <td>188.0</td>\n",
       "      <td>19.0</td>\n",
       "      <td>0.0</td>\n",
       "      <td>1.0</td>\n",
       "      <td>0.0</td>\n",
       "      <td>0.0</td>\n",
       "      <td>0.0</td>\n",
       "      <td>0.0</td>\n",
       "      <td>0.0</td>\n",
       "      <td>1.0</td>\n",
       "      <td>0.0</td>\n",
       "      <td>0.0</td>\n",
       "      <td>0.0</td>\n",
       "      <td>0.0</td>\n",
       "      <td>0.0</td>\n",
       "      <td>1.0</td>\n",
       "      <td>0.0</td>\n",
       "    </tr>\n",
       "  </tbody>\n",
       "</table>\n",
       "</div>"
      ],
      "text/plain": [
       "   RegistrationYear     Power   Mileage  Model  Brand  convertible  coupe  \\\n",
       "0          1.599407  0.957782  0.632179  114.0   36.0          0.0    0.0   \n",
       "1         -2.381552 -0.721268  0.632179  168.0   36.0          0.0    0.0   \n",
       "2         -1.983456 -1.350912  0.632179   40.0   24.0          0.0    1.0   \n",
       "3         -0.789168  0.013316  0.632179  168.0   36.0          0.0    0.0   \n",
       "4          0.007024  1.419521 -0.038000  188.0   19.0          0.0    1.0   \n",
       "\n",
       "   othertype  sedan  small  suv  wagon  manual  electric  gasoline  hybrid  \\\n",
       "0        0.0    1.0    0.0  0.0    0.0     1.0       0.0       1.0     0.0   \n",
       "1        0.0    1.0    0.0  0.0    0.0     1.0       0.0       0.0     0.0   \n",
       "2        0.0    0.0    0.0  0.0    0.0     1.0       0.0       0.0     0.0   \n",
       "3        0.0    0.0    0.0  0.0    1.0     1.0       0.0       0.0     0.0   \n",
       "4        0.0    0.0    0.0  0.0    0.0     1.0       0.0       0.0     0.0   \n",
       "\n",
       "   lpg  otherfuel  petrol  NotRepaid  \n",
       "0  0.0        0.0     0.0        0.0  \n",
       "1  0.0        0.0     1.0        0.0  \n",
       "2  0.0        0.0     1.0        0.0  \n",
       "3  0.0        0.0     1.0        1.0  \n",
       "4  0.0        0.0     1.0        0.0  "
      ]
     },
     "execution_count": 37,
     "metadata": {},
     "output_type": "execute_result"
    }
   ],
   "source": [
    "#Crear instancia\n",
    "ohe = OneHotEncoder(sparse = False, drop = 'first')\n",
    "#Crear nuevas columnas y nombrarlas\n",
    "ohe_ambas = pd.DataFrame(ohe.fit_transform(enc_dfs[0][['VehicleType', 'Gearbox', 'FuelType', 'NotRepaired']]), columns = ['convertible','coupe','othertype','sedan','small' ,'suv' ,'wagon','manual', 'electric', 'gasoline', 'hybrid', 'lpg', 'otherfuel', 'petrol','NotRepaid'])\n",
    "#Concatenar los resultados\n",
    "x_train = pd.concat([enc_dfs[0].drop(columns = ['VehicleType', 'Gearbox', 'FuelType', 'NotRepaired']).reset_index(drop=True), ohe_ambas], axis = 1)\n",
    "# Mostrar el nuevo DataFrame\n",
    "x_train.head()"
   ]
  },
  {
   "cell_type": "code",
   "execution_count": 38,
   "metadata": {
    "scrolled": true
   },
   "outputs": [
    {
     "data": {
      "text/html": [
       "<div>\n",
       "<style scoped>\n",
       "    .dataframe tbody tr th:only-of-type {\n",
       "        vertical-align: middle;\n",
       "    }\n",
       "\n",
       "    .dataframe tbody tr th {\n",
       "        vertical-align: top;\n",
       "    }\n",
       "\n",
       "    .dataframe thead th {\n",
       "        text-align: right;\n",
       "    }\n",
       "</style>\n",
       "<table border=\"1\" class=\"dataframe\">\n",
       "  <thead>\n",
       "    <tr style=\"text-align: right;\">\n",
       "      <th></th>\n",
       "      <th>RegistrationYear</th>\n",
       "      <th>Power</th>\n",
       "      <th>Mileage</th>\n",
       "      <th>Model</th>\n",
       "      <th>Brand</th>\n",
       "      <th>convertible</th>\n",
       "      <th>coupe</th>\n",
       "      <th>othertype</th>\n",
       "      <th>sedan</th>\n",
       "      <th>small</th>\n",
       "      <th>suv</th>\n",
       "      <th>wagon</th>\n",
       "      <th>manual</th>\n",
       "      <th>electric</th>\n",
       "      <th>gasoline</th>\n",
       "      <th>hybrid</th>\n",
       "      <th>lpg</th>\n",
       "      <th>otherfuel</th>\n",
       "      <th>petrol</th>\n",
       "      <th>NotRepaid</th>\n",
       "    </tr>\n",
       "  </thead>\n",
       "  <tbody>\n",
       "    <tr>\n",
       "      <th>0</th>\n",
       "      <td>-0.192024</td>\n",
       "      <td>-0.448423</td>\n",
       "      <td>0.632179</td>\n",
       "      <td>209.0</td>\n",
       "      <td>9.0</td>\n",
       "      <td>0.0</td>\n",
       "      <td>0.0</td>\n",
       "      <td>0.0</td>\n",
       "      <td>1.0</td>\n",
       "      <td>0.0</td>\n",
       "      <td>0.0</td>\n",
       "      <td>0.0</td>\n",
       "      <td>1.0</td>\n",
       "      <td>0.0</td>\n",
       "      <td>0.0</td>\n",
       "      <td>0.0</td>\n",
       "      <td>0.0</td>\n",
       "      <td>0.0</td>\n",
       "      <td>1.0</td>\n",
       "      <td>0.0</td>\n",
       "    </tr>\n",
       "    <tr>\n",
       "      <th>1</th>\n",
       "      <td>0.405120</td>\n",
       "      <td>-1.350912</td>\n",
       "      <td>-0.976249</td>\n",
       "      <td>126.0</td>\n",
       "      <td>10.0</td>\n",
       "      <td>0.0</td>\n",
       "      <td>0.0</td>\n",
       "      <td>0.0</td>\n",
       "      <td>0.0</td>\n",
       "      <td>1.0</td>\n",
       "      <td>0.0</td>\n",
       "      <td>0.0</td>\n",
       "      <td>1.0</td>\n",
       "      <td>0.0</td>\n",
       "      <td>0.0</td>\n",
       "      <td>0.0</td>\n",
       "      <td>0.0</td>\n",
       "      <td>0.0</td>\n",
       "      <td>1.0</td>\n",
       "      <td>0.0</td>\n",
       "    </tr>\n",
       "    <tr>\n",
       "      <th>2</th>\n",
       "      <td>-0.590120</td>\n",
       "      <td>-0.091624</td>\n",
       "      <td>0.632179</td>\n",
       "      <td>134.0</td>\n",
       "      <td>27.0</td>\n",
       "      <td>0.0</td>\n",
       "      <td>0.0</td>\n",
       "      <td>0.0</td>\n",
       "      <td>0.0</td>\n",
       "      <td>0.0</td>\n",
       "      <td>0.0</td>\n",
       "      <td>1.0</td>\n",
       "      <td>1.0</td>\n",
       "      <td>0.0</td>\n",
       "      <td>0.0</td>\n",
       "      <td>0.0</td>\n",
       "      <td>0.0</td>\n",
       "      <td>0.0</td>\n",
       "      <td>1.0</td>\n",
       "      <td>0.0</td>\n",
       "    </tr>\n",
       "    <tr>\n",
       "      <th>3</th>\n",
       "      <td>-0.789168</td>\n",
       "      <td>-0.490399</td>\n",
       "      <td>0.632179</td>\n",
       "      <td>40.0</td>\n",
       "      <td>24.0</td>\n",
       "      <td>0.0</td>\n",
       "      <td>0.0</td>\n",
       "      <td>0.0</td>\n",
       "      <td>0.0</td>\n",
       "      <td>0.0</td>\n",
       "      <td>0.0</td>\n",
       "      <td>1.0</td>\n",
       "      <td>1.0</td>\n",
       "      <td>0.0</td>\n",
       "      <td>0.0</td>\n",
       "      <td>0.0</td>\n",
       "      <td>0.0</td>\n",
       "      <td>0.0</td>\n",
       "      <td>1.0</td>\n",
       "      <td>0.0</td>\n",
       "    </tr>\n",
       "    <tr>\n",
       "      <th>4</th>\n",
       "      <td>-1.386312</td>\n",
       "      <td>2.322010</td>\n",
       "      <td>0.632179</td>\n",
       "      <td>17.0</td>\n",
       "      <td>2.0</td>\n",
       "      <td>0.0</td>\n",
       "      <td>0.0</td>\n",
       "      <td>0.0</td>\n",
       "      <td>1.0</td>\n",
       "      <td>0.0</td>\n",
       "      <td>0.0</td>\n",
       "      <td>0.0</td>\n",
       "      <td>0.0</td>\n",
       "      <td>0.0</td>\n",
       "      <td>0.0</td>\n",
       "      <td>0.0</td>\n",
       "      <td>0.0</td>\n",
       "      <td>0.0</td>\n",
       "      <td>1.0</td>\n",
       "      <td>1.0</td>\n",
       "    </tr>\n",
       "  </tbody>\n",
       "</table>\n",
       "</div>"
      ],
      "text/plain": [
       "   RegistrationYear     Power   Mileage  Model  Brand  convertible  coupe  \\\n",
       "0         -0.192024 -0.448423  0.632179  209.0    9.0          0.0    0.0   \n",
       "1          0.405120 -1.350912 -0.976249  126.0   10.0          0.0    0.0   \n",
       "2         -0.590120 -0.091624  0.632179  134.0   27.0          0.0    0.0   \n",
       "3         -0.789168 -0.490399  0.632179   40.0   24.0          0.0    0.0   \n",
       "4         -1.386312  2.322010  0.632179   17.0    2.0          0.0    0.0   \n",
       "\n",
       "   othertype  sedan  small  suv  wagon  manual  electric  gasoline  hybrid  \\\n",
       "0        0.0    1.0    0.0  0.0    0.0     1.0       0.0       0.0     0.0   \n",
       "1        0.0    0.0    1.0  0.0    0.0     1.0       0.0       0.0     0.0   \n",
       "2        0.0    0.0    0.0  0.0    1.0     1.0       0.0       0.0     0.0   \n",
       "3        0.0    0.0    0.0  0.0    1.0     1.0       0.0       0.0     0.0   \n",
       "4        0.0    1.0    0.0  0.0    0.0     0.0       0.0       0.0     0.0   \n",
       "\n",
       "   lpg  otherfuel  petrol  NotRepaid  \n",
       "0  0.0        0.0     1.0        0.0  \n",
       "1  0.0        0.0     1.0        0.0  \n",
       "2  0.0        0.0     1.0        0.0  \n",
       "3  0.0        0.0     1.0        0.0  \n",
       "4  0.0        0.0     1.0        1.0  "
      ]
     },
     "execution_count": 38,
     "metadata": {},
     "output_type": "execute_result"
    }
   ],
   "source": [
    "# Aplicar OHE al conjunto de prueba\n",
    "\n",
    "#Crear nuevas columnas y nombrarlas\n",
    "ohe_ambas_test = pd.DataFrame(ohe.transform(enc_dfs[1][['VehicleType', 'Gearbox', 'FuelType', 'NotRepaired']]), columns = ['convertible','coupe','othertype','sedan','small' ,'suv' ,'wagon','manual', 'electric', 'gasoline', 'hybrid', 'lpg', 'otherfuel', 'petrol','NotRepaid'])\n",
    "#Concatenar los resultados\n",
    "x_test = pd.concat([enc_dfs[1].drop(columns = ['VehicleType', 'Gearbox', 'FuelType', 'NotRepaired']).reset_index(drop=True), ohe_ambas_test], axis = 1)\n",
    "# Mostrar el nuevo DataFrame\n",
    "x_test.head()"
   ]
  },
  {
   "cell_type": "code",
   "execution_count": 39,
   "metadata": {},
   "outputs": [
    {
     "data": {
      "text/plain": [
       "((63061, 20), (147141, 20))"
      ]
     },
     "execution_count": 39,
     "metadata": {},
     "output_type": "execute_result"
    }
   ],
   "source": [
    "# Mostrar dimensiones de los nuevos marcos de datos\n",
    "x_test.shape, x_train.shape"
   ]
  },
  {
   "cell_type": "markdown",
   "metadata": {},
   "source": [
    "## Entrenamiento del modelo "
   ]
  },
  {
   "cell_type": "markdown",
   "metadata": {},
   "source": [
    "### Regresión Lineal"
   ]
  },
  {
   "cell_type": "code",
   "execution_count": 40,
   "metadata": {},
   "outputs": [
    {
     "name": "stdout",
     "output_type": "stream",
     "text": [
      "CPU times: user 160 ms, sys: 90.3 ms, total: 250 ms\n",
      "Wall time: 198 ms\n"
     ]
    },
    {
     "data": {
      "text/plain": [
       "2489.5897235982734"
      ]
     },
     "execution_count": 40,
     "metadata": {},
     "output_type": "execute_result"
    }
   ],
   "source": [
    "%%time\n",
    "# Crear instancia\n",
    "linear = LinearRegression()\n",
    "# Entrenar modelo\n",
    "linear.fit(x_train, y_train_dfa)\n",
    "#Predecir\n",
    "linear_omens = linear.predict(x_train)\n",
    "# Evaluar resultado\n",
    "linear_rmse = mean_squared_error(y_train_dfa, linear_omens, squared = False)\n",
    "linear_rmse"
   ]
  },
  {
   "cell_type": "code",
   "execution_count": 41,
   "metadata": {},
   "outputs": [
    {
     "name": "stdout",
     "output_type": "stream",
     "text": [
      "CPU times: user 27.7 ms, sys: 15.7 ms, total: 43.4 ms\n",
      "Wall time: 10.9 ms\n"
     ]
    },
    {
     "data": {
      "text/plain": [
       "2489.834354018167"
      ]
     },
     "execution_count": 41,
     "metadata": {},
     "output_type": "execute_result"
    }
   ],
   "source": [
    "%%time\n",
    "linear_omens_test = linear.predict(x_test)\n",
    "\n",
    "linear_rmse_test = mean_squared_error(y_test_dfa, linear_omens_test, squared=False)\n",
    "linear_rmse_test"
   ]
  },
  {
   "cell_type": "markdown",
   "metadata": {},
   "source": [
    "### Bosque Aleatorio"
   ]
  },
  {
   "cell_type": "code",
   "execution_count": 42,
   "metadata": {},
   "outputs": [
    {
     "name": "stdout",
     "output_type": "stream",
     "text": [
      "CPU times: user 1min 33s, sys: 35.9 ms, total: 1min 33s\n",
      "Wall time: 1min 33s\n"
     ]
    },
    {
     "data": {
      "text/plain": [
       "({'max_depth': 10, 'n_estimators': 10}, -1764.757420759563)"
      ]
     },
     "execution_count": 42,
     "metadata": {},
     "output_type": "execute_result"
    }
   ],
   "source": [
    "%%time\n",
    "# Crear instancias de cada modelo a utilizar\n",
    "bosque = RandomForestRegressor(random_state = 73)\n",
    "# Crear directorio de los valores a combinar\n",
    "hip_bosque = {'n_estimators':[1,2,5,7,10], 'max_depth':[1,2,5,7,10]} # Solicitamos un bosque de 1 árbol\n",
    "#Crear parrilla de elementos\n",
    "gs_bosque = GridSearchCV(bosque, hip_bosque, cv=5, scoring = 'neg_root_mean_squared_error')\n",
    "# Entrenar el modelo con conjunto de entrenamiento\n",
    "best_bosque = gs_bosque.fit(x_train, y_train_dfa)\n",
    "#Mostrar los hiperparámetros del mejor modelo\n",
    "best_bosque.best_params_, best_bosque.best_score_"
   ]
  },
  {
   "cell_type": "code",
   "execution_count": 43,
   "metadata": {},
   "outputs": [
    {
     "name": "stdout",
     "output_type": "stream",
     "text": [
      "CPU times: user 89.6 ms, sys: 15 µs, total: 89.6 ms\n",
      "Wall time: 99.7 ms\n"
     ]
    },
    {
     "data": {
      "text/plain": [
       "1758.0990771730205"
      ]
     },
     "execution_count": 43,
     "metadata": {},
     "output_type": "execute_result"
    }
   ],
   "source": [
    "%%time\n",
    "bosque_omens_test = best_bosque.predict(x_test)\n",
    "\n",
    "bosque_rmse_test = mean_squared_error(y_test_dfa, bosque_omens_test, squared=False)\n",
    "bosque_rmse_test"
   ]
  },
  {
   "cell_type": "markdown",
   "metadata": {},
   "source": [
    "### LightGBM"
   ]
  },
  {
   "cell_type": "code",
   "execution_count": 44,
   "metadata": {},
   "outputs": [
    {
     "name": "stdout",
     "output_type": "stream",
     "text": [
      "[LightGBM] [Warning] Auto-choosing row-wise multi-threading, the overhead of testing was 0.004184 seconds.\n",
      "You can set `force_row_wise=true` to remove the overhead.\n",
      "And if memory is not enough, you can set `force_col_wise=true`.\n",
      "[LightGBM] [Info] Total Bins 577\n",
      "[LightGBM] [Info] Number of data points in the train set: 147141, number of used features: 18\n",
      "[LightGBM] [Info] Start training from score 5535.566769\n",
      "CPU times: user 2.89 s, sys: 35.8 ms, total: 2.93 s\n",
      "Wall time: 2.95 s\n"
     ]
    }
   ],
   "source": [
    "%%time\n",
    "# Convertir los datos a formato lightGBM\n",
    "train_data = lgb.Dataset(x_train, label = y_train_dfa)\n",
    "test_data = lgb.Dataset(x_test, label = y_test_dfa)\n",
    "\n",
    "# Establecer los parámetros\n",
    "params = {\n",
    "    'objective':'regression',\n",
    "    'learning_rate':0.12,\n",
    "    'num_leaves':61,\n",
    "}\n",
    "#Entrenar el modelo\n",
    "gbm = lgb.train(params, train_data, num_boost_round=100)"
   ]
  },
  {
   "cell_type": "code",
   "execution_count": 45,
   "metadata": {},
   "outputs": [
    {
     "name": "stdout",
     "output_type": "stream",
     "text": [
      "CPU times: user 2.4 s, sys: 7.71 ms, total: 2.41 s\n",
      "Wall time: 2.4 s\n"
     ]
    }
   ],
   "source": [
    "%%time\n",
    "#Hacer predicciones\n",
    "omens_gbm = np.round(gbm.predict(x_train))\n",
    "omens_gbm_test = np.round(gbm.predict(x_test))"
   ]
  },
  {
   "cell_type": "code",
   "execution_count": 46,
   "metadata": {},
   "outputs": [
    {
     "data": {
      "text/plain": [
       "1448.714581861209"
      ]
     },
     "execution_count": 46,
     "metadata": {},
     "output_type": "execute_result"
    }
   ],
   "source": [
    "# Evaluar el modelo\n",
    "gbm_rmse = mean_squared_error(y_train_dfa, omens_gbm, squared=False)\n",
    "gbm_rmse"
   ]
  },
  {
   "cell_type": "code",
   "execution_count": 47,
   "metadata": {},
   "outputs": [
    {
     "data": {
      "text/plain": [
       "1502.9195782971067"
      ]
     },
     "execution_count": 47,
     "metadata": {},
     "output_type": "execute_result"
    }
   ],
   "source": [
    "# Evaluar modelo conjunto prueba\n",
    "gbm_rmse_test = mean_squared_error(y_test_dfa, omens_gbm_test, squared=False)\n",
    "gbm_rmse_test"
   ]
  },
  {
   "cell_type": "code",
   "execution_count": 48,
   "metadata": {},
   "outputs": [
    {
     "name": "stdout",
     "output_type": "stream",
     "text": [
      "[LightGBM] [Warning] Auto-choosing row-wise multi-threading, the overhead of testing was 0.006994 seconds.\n",
      "You can set `force_row_wise=true` to remove the overhead.\n",
      "And if memory is not enough, you can set `force_col_wise=true`.\n",
      "[LightGBM] [Info] Total Bins 577\n",
      "[LightGBM] [Info] Number of data points in the train set: 147141, number of used features: 18\n",
      "[LightGBM] [Info] Start training from score 5535.566769\n",
      "CPU times: user 4.25 s, sys: 23.7 ms, total: 4.27 s\n",
      "Wall time: 4.3 s\n"
     ]
    },
    {
     "data": {
      "text/plain": [
       "1398.6273524705432"
      ]
     },
     "execution_count": 48,
     "metadata": {},
     "output_type": "execute_result"
    }
   ],
   "source": [
    "%%time\n",
    "# Evaluar el modelo con otros hiperparámetros\n",
    "params2 = {\n",
    "    'objective':'regression',\n",
    "    'learning_rate':0.15,\n",
    "    'num_leaves':80,\n",
    "}\n",
    "#Entrenar el modelo\n",
    "gbm = lgb.train(params2, train_data, num_boost_round=100)\n",
    "#Hacer predicciones\n",
    "omens_gbm = np.round(gbm.predict(x_train))\n",
    "# Evaluar el modelo\n",
    "gbm_rmse = mean_squared_error(y_train_dfa, omens_gbm, squared=False)\n",
    "gbm_rmse"
   ]
  },
  {
   "cell_type": "code",
   "execution_count": 49,
   "metadata": {},
   "outputs": [
    {
     "data": {
      "text/plain": [
       "1475.6766345339106"
      ]
     },
     "execution_count": 49,
     "metadata": {},
     "output_type": "execute_result"
    }
   ],
   "source": [
    "# Evaluar modelo con conjunto de entrenamiento\n",
    "\n",
    "# Predecir con conjunto entrenamiento\n",
    "omens_gbm_test = np.round(gbm.predict(x_test))\n",
    "# Evaluar predicciones\n",
    "gbm_rmse_test = mean_squared_error(y_test_dfa, omens_gbm_test, squared=False)\n",
    "gbm_rmse_test"
   ]
  },
  {
   "cell_type": "markdown",
   "metadata": {},
   "source": [
    "### Resumen de los resultados de los modelos"
   ]
  },
  {
   "cell_type": "code",
   "execution_count": 53,
   "metadata": {},
   "outputs": [
    {
     "name": "stdout",
     "output_type": "stream",
     "text": [
      "RECM y tiempo de cada modelo y conjunto\n"
     ]
    },
    {
     "data": {
      "text/html": [
       "<div>\n",
       "<style scoped>\n",
       "    .dataframe tbody tr th:only-of-type {\n",
       "        vertical-align: middle;\n",
       "    }\n",
       "\n",
       "    .dataframe tbody tr th {\n",
       "        vertical-align: top;\n",
       "    }\n",
       "\n",
       "    .dataframe thead th {\n",
       "        text-align: right;\n",
       "    }\n",
       "</style>\n",
       "<table border=\"1\" class=\"dataframe\">\n",
       "  <thead>\n",
       "    <tr style=\"text-align: right;\">\n",
       "      <th></th>\n",
       "      <th>Entrenamiento</th>\n",
       "      <th>Prueba</th>\n",
       "      <th>Tiempo en train</th>\n",
       "    </tr>\n",
       "  </thead>\n",
       "  <tbody>\n",
       "    <tr>\n",
       "      <th>Regresión Linear</th>\n",
       "      <td>2489.589724</td>\n",
       "      <td>2489.834354</td>\n",
       "      <td>198 ms</td>\n",
       "    </tr>\n",
       "    <tr>\n",
       "      <th>Bosque Aleatorio</th>\n",
       "      <td>1764.757421</td>\n",
       "      <td>1758.099077</td>\n",
       "      <td>1 min 33 sec</td>\n",
       "    </tr>\n",
       "    <tr>\n",
       "      <th>LightGBM</th>\n",
       "      <td>1398.627352</td>\n",
       "      <td>1475.676635</td>\n",
       "      <td>4.3 s</td>\n",
       "    </tr>\n",
       "  </tbody>\n",
       "</table>\n",
       "</div>"
      ],
      "text/plain": [
       "                  Entrenamiento       Prueba Tiempo en train\n",
       "Regresión Linear    2489.589724  2489.834354          198 ms\n",
       "Bosque Aleatorio    1764.757421  1758.099077    1 min 33 sec\n",
       "LightGBM            1398.627352  1475.676635           4.3 s"
      ]
     },
     "execution_count": 53,
     "metadata": {},
     "output_type": "execute_result"
    }
   ],
   "source": [
    "# Tabla con los resultados y los tiempos\n",
    "marco = ([linear_rmse, linear_rmse_test,'198 ms'],\n",
    "        [abs(best_bosque.best_score_), bosque_rmse_test, '1 min 33 sec'],\n",
    "        [gbm_rmse, gbm_rmse_test, '4.3 s'])\n",
    "etiquetas = ['Entrenamiento', 'Prueba', 'Tiempo en train']\n",
    "\n",
    "\n",
    "resumen = pd.DataFrame(data=marco, columns = etiquetas, index = ['Regresión Linear', 'Bosque Aleatorio','LightGBM'])\n",
    "print('RECM y tiempo de cada modelo y conjunto')\n",
    "resumen"
   ]
  },
  {
   "cell_type": "markdown",
   "metadata": {},
   "source": [
    "El modelo que tuvo los mejores rendimientos es lightGBM. El modelo de regresión lineal es rápido pero no preciso, por su parte, el bosque aleatorio, aunque más preciso, es muy lento. LightGBM es ligeramente más lento que la regresión lineal pero su lentitud se compensa por su mejora en la métrica de RECM."
   ]
  },
  {
   "cell_type": "markdown",
   "metadata": {},
   "source": [
    "## Conclusiones"
   ]
  },
  {
   "cell_type": "markdown",
   "metadata": {},
   "source": [
    "Se exploraron los datos del marco original. Se encontraron inconvenientes con los valores como valores duplicados, valores fuera del rango posible como autos con la potencia de un tren y se trataron los valores ausentes. Posteriormente se le dio tratamiento a las columnas categóricas para que pudisen ser procesadas por los modelos de regresión lineal y bosque aleatorio y se usó este mismo marco de datos para entrenar el modelo basado en el descenso del gradiente. Tomando en cuenta la velocidad y la precisión de los datos, el mejor modelo es lightGBM pues ofrece el mejor ajuste de acuerdo con la métrica de error raíz del error cuadrático medio en un tiempo relativamente corto.  "
   ]
  }
 ],
 "metadata": {
  "kernelspec": {
   "display_name": "Python 3 (ipykernel)",
   "language": "python",
   "name": "python3"
  },
  "language_info": {
   "codemirror_mode": {
    "name": "ipython",
    "version": 3
   },
   "file_extension": ".py",
   "mimetype": "text/x-python",
   "name": "python",
   "nbconvert_exporter": "python",
   "pygments_lexer": "ipython3",
   "version": "3.9.5"
  },
  "toc": {
   "base_numbering": 1,
   "nav_menu": {},
   "number_sections": true,
   "sideBar": true,
   "skip_h1_title": true,
   "title_cell": "Table of Contents",
   "title_sidebar": "Contents",
   "toc_cell": false,
   "toc_position": {
    "height": "calc(100% - 180px)",
    "left": "10px",
    "top": "150px",
    "width": "275px"
   },
   "toc_section_display": true,
   "toc_window_display": false
  }
 },
 "nbformat": 4,
 "nbformat_minor": 2
}
