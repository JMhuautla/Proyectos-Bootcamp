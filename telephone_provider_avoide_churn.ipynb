{
 "cells": [
  {
   "cell_type": "markdown",
   "metadata": {},
   "source": [
    "# Introduction"
   ]
  },
  {
   "cell_type": "markdown",
   "metadata": {},
   "source": [
    "A telephone and internet service company wants to detect clients that could drop out its services to offer a discont as deterrence. That is of paramount importance, given that not offering a discount to someone who is planning to leave implies a cost as much as offering to someone who would not have left. The company suggest the AUC-ROC metric for the evaluation of the model."
   ]
  },
  {
   "cell_type": "markdown",
   "metadata": {},
   "source": [
    "# Objective"
   ]
  },
  {
   "cell_type": "markdown",
   "metadata": {},
   "source": [
    "Detect the clients with a high probability of dropping out the service with the AUC-ROC curve as the core metric."
   ]
  },
  {
   "cell_type": "markdown",
   "metadata": {},
   "source": [
    "## Libraries to use"
   ]
  },
  {
   "cell_type": "code",
   "execution_count": 1,
   "metadata": {},
   "outputs": [],
   "source": [
    "# For exploratory data analysis\n",
    "import pandas as pd\n",
    "import numpy as np\n",
    "import seaborn as sns\n",
    "\n",
    "# Data preprocessing\n",
    "from sklearn.model_selection import train_test_split\n",
    "from sklearn.preprocessing import OneHotEncoder\n",
    "from sklearn.preprocessing import StandardScaler\n",
    "from sklearn.utils import shuffle\n",
    "\n",
    "# For modeling\n",
    "from sklearn.dummy import DummyClassifier\n",
    "from sklearn.linear_model import LogisticRegression\n",
    "from sklearn.tree import DecisionTreeClassifier\n",
    "from sklearn.ensemble import RandomForestClassifier\n",
    "\n",
    "from sklearn.ensemble import GradientBoostingClassifier\n",
    "from sklearn.neighbors import KNeighborsClassifier\n",
    "from lightgbm import LGBMClassifier\n",
    "from catboost import CatBoostClassifier\n",
    "\n",
    "# for best model selection\n",
    "from sklearn.model_selection import GridSearchCV\n",
    "import time\n",
    "\n",
    "# Metric to evaluate the models\n",
    "from sklearn.metrics import roc_auc_score"
   ]
  },
  {
   "cell_type": "markdown",
   "metadata": {},
   "source": [
    "## Databases download"
   ]
  },
  {
   "cell_type": "code",
   "execution_count": 2,
   "metadata": {},
   "outputs": [],
   "source": [
    "# Databases to use\n",
    "df_cont = pd.read_csv('/datasets/final_provider/contract.csv')\n",
    "df_inter = pd.read_csv('/datasets/final_provider/internet.csv')\n",
    "df_personal = pd.read_csv('/datasets/final_provider/personal.csv')\n",
    "df_phone =  pd.read_csv('/datasets/final_provider/phone.csv')"
   ]
  },
  {
   "cell_type": "markdown",
   "metadata": {},
   "source": [
    "## Exploratory Data Analysis"
   ]
  },
  {
   "cell_type": "markdown",
   "metadata": {},
   "source": [
    "In this segment we will prepare an exploratory analisis. We will take into account the dataframe´s structure, integrity and its info utility."
   ]
  },
  {
   "cell_type": "markdown",
   "metadata": {},
   "source": [
    "### Initial description"
   ]
  },
  {
   "cell_type": "markdown",
   "metadata": {},
   "source": [
    "The company has shared some important information with respect to the dataframes´ columns.\n",
    "\n",
    "- `contract.csv` - dataframe about the contract\n",
    "- `personal.csv` - it describes personal data about the clients.\n",
    "- `interet.csv` - whether they have some internet extra servies or not. \n",
    "- `phone.csv` - whether they have one or multiple lines.\n",
    "\n",
    "The company offers two kinds of products at its core:\n",
    "\n",
    "- Phone communication: one or more lines.\n",
    "- Internet connection: Digital Subscriber Line (DSL) or fibre optic. "
   ]
  },
  {
   "cell_type": "markdown",
   "metadata": {},
   "source": [
    "We first start with a visualisation and description for each dataframe to evaluate their completeness. "
   ]
  },
  {
   "cell_type": "code",
   "execution_count": 3,
   "metadata": {},
   "outputs": [
    {
     "data": {
      "text/plain": [
       "((7043, 8), (5517, 8), (7043, 5), (6361, 2))"
      ]
     },
     "execution_count": 3,
     "metadata": {},
     "output_type": "execute_result"
    }
   ],
   "source": [
    "# Dataframes´ dimensions, respectively\n",
    "df_cont.shape, df_inter.shape, df_personal.shape, df_phone.shape"
   ]
  },
  {
   "cell_type": "code",
   "execution_count": 4,
   "metadata": {},
   "outputs": [
    {
     "data": {
      "text/html": [
       "<div>\n",
       "<style scoped>\n",
       "    .dataframe tbody tr th:only-of-type {\n",
       "        vertical-align: middle;\n",
       "    }\n",
       "\n",
       "    .dataframe tbody tr th {\n",
       "        vertical-align: top;\n",
       "    }\n",
       "\n",
       "    .dataframe thead th {\n",
       "        text-align: right;\n",
       "    }\n",
       "</style>\n",
       "<table border=\"1\" class=\"dataframe\">\n",
       "  <thead>\n",
       "    <tr style=\"text-align: right;\">\n",
       "      <th></th>\n",
       "      <th>customerID</th>\n",
       "      <th>BeginDate</th>\n",
       "      <th>EndDate</th>\n",
       "      <th>Type</th>\n",
       "      <th>PaperlessBilling</th>\n",
       "      <th>PaymentMethod</th>\n",
       "      <th>MonthlyCharges</th>\n",
       "      <th>TotalCharges</th>\n",
       "    </tr>\n",
       "  </thead>\n",
       "  <tbody>\n",
       "    <tr>\n",
       "      <th>0</th>\n",
       "      <td>7590-VHVEG</td>\n",
       "      <td>2020-01-01</td>\n",
       "      <td>No</td>\n",
       "      <td>Month-to-month</td>\n",
       "      <td>Yes</td>\n",
       "      <td>Electronic check</td>\n",
       "      <td>29.85</td>\n",
       "      <td>29.85</td>\n",
       "    </tr>\n",
       "    <tr>\n",
       "      <th>1</th>\n",
       "      <td>5575-GNVDE</td>\n",
       "      <td>2017-04-01</td>\n",
       "      <td>No</td>\n",
       "      <td>One year</td>\n",
       "      <td>No</td>\n",
       "      <td>Mailed check</td>\n",
       "      <td>56.95</td>\n",
       "      <td>1889.5</td>\n",
       "    </tr>\n",
       "    <tr>\n",
       "      <th>2</th>\n",
       "      <td>3668-QPYBK</td>\n",
       "      <td>2019-10-01</td>\n",
       "      <td>2019-12-01 00:00:00</td>\n",
       "      <td>Month-to-month</td>\n",
       "      <td>Yes</td>\n",
       "      <td>Mailed check</td>\n",
       "      <td>53.85</td>\n",
       "      <td>108.15</td>\n",
       "    </tr>\n",
       "  </tbody>\n",
       "</table>\n",
       "</div>"
      ],
      "text/plain": [
       "   customerID   BeginDate              EndDate            Type  \\\n",
       "0  7590-VHVEG  2020-01-01                   No  Month-to-month   \n",
       "1  5575-GNVDE  2017-04-01                   No        One year   \n",
       "2  3668-QPYBK  2019-10-01  2019-12-01 00:00:00  Month-to-month   \n",
       "\n",
       "  PaperlessBilling     PaymentMethod  MonthlyCharges TotalCharges  \n",
       "0              Yes  Electronic check           29.85        29.85  \n",
       "1               No      Mailed check           56.95       1889.5  \n",
       "2              Yes      Mailed check           53.85       108.15  "
      ]
     },
     "execution_count": 4,
     "metadata": {},
     "output_type": "execute_result"
    }
   ],
   "source": [
    "# Contract dataframe\n",
    "df_cont.head(3)"
   ]
  },
  {
   "cell_type": "code",
   "execution_count": 5,
   "metadata": {},
   "outputs": [
    {
     "data": {
      "text/html": [
       "<div>\n",
       "<style scoped>\n",
       "    .dataframe tbody tr th:only-of-type {\n",
       "        vertical-align: middle;\n",
       "    }\n",
       "\n",
       "    .dataframe tbody tr th {\n",
       "        vertical-align: top;\n",
       "    }\n",
       "\n",
       "    .dataframe thead th {\n",
       "        text-align: right;\n",
       "    }\n",
       "</style>\n",
       "<table border=\"1\" class=\"dataframe\">\n",
       "  <thead>\n",
       "    <tr style=\"text-align: right;\">\n",
       "      <th></th>\n",
       "      <th>customerID</th>\n",
       "      <th>InternetService</th>\n",
       "      <th>OnlineSecurity</th>\n",
       "      <th>OnlineBackup</th>\n",
       "      <th>DeviceProtection</th>\n",
       "      <th>TechSupport</th>\n",
       "      <th>StreamingTV</th>\n",
       "      <th>StreamingMovies</th>\n",
       "    </tr>\n",
       "  </thead>\n",
       "  <tbody>\n",
       "    <tr>\n",
       "      <th>0</th>\n",
       "      <td>7590-VHVEG</td>\n",
       "      <td>DSL</td>\n",
       "      <td>No</td>\n",
       "      <td>Yes</td>\n",
       "      <td>No</td>\n",
       "      <td>No</td>\n",
       "      <td>No</td>\n",
       "      <td>No</td>\n",
       "    </tr>\n",
       "    <tr>\n",
       "      <th>1</th>\n",
       "      <td>5575-GNVDE</td>\n",
       "      <td>DSL</td>\n",
       "      <td>Yes</td>\n",
       "      <td>No</td>\n",
       "      <td>Yes</td>\n",
       "      <td>No</td>\n",
       "      <td>No</td>\n",
       "      <td>No</td>\n",
       "    </tr>\n",
       "    <tr>\n",
       "      <th>2</th>\n",
       "      <td>3668-QPYBK</td>\n",
       "      <td>DSL</td>\n",
       "      <td>Yes</td>\n",
       "      <td>Yes</td>\n",
       "      <td>No</td>\n",
       "      <td>No</td>\n",
       "      <td>No</td>\n",
       "      <td>No</td>\n",
       "    </tr>\n",
       "  </tbody>\n",
       "</table>\n",
       "</div>"
      ],
      "text/plain": [
       "   customerID InternetService OnlineSecurity OnlineBackup DeviceProtection  \\\n",
       "0  7590-VHVEG             DSL             No          Yes               No   \n",
       "1  5575-GNVDE             DSL            Yes           No              Yes   \n",
       "2  3668-QPYBK             DSL            Yes          Yes               No   \n",
       "\n",
       "  TechSupport StreamingTV StreamingMovies  \n",
       "0          No          No              No  \n",
       "1          No          No              No  \n",
       "2          No          No              No  "
      ]
     },
     "execution_count": 5,
     "metadata": {},
     "output_type": "execute_result"
    }
   ],
   "source": [
    "# Internet DataFrame\n",
    "df_inter.head(3)"
   ]
  },
  {
   "cell_type": "code",
   "execution_count": 6,
   "metadata": {},
   "outputs": [
    {
     "data": {
      "text/html": [
       "<div>\n",
       "<style scoped>\n",
       "    .dataframe tbody tr th:only-of-type {\n",
       "        vertical-align: middle;\n",
       "    }\n",
       "\n",
       "    .dataframe tbody tr th {\n",
       "        vertical-align: top;\n",
       "    }\n",
       "\n",
       "    .dataframe thead th {\n",
       "        text-align: right;\n",
       "    }\n",
       "</style>\n",
       "<table border=\"1\" class=\"dataframe\">\n",
       "  <thead>\n",
       "    <tr style=\"text-align: right;\">\n",
       "      <th></th>\n",
       "      <th>customerID</th>\n",
       "      <th>gender</th>\n",
       "      <th>SeniorCitizen</th>\n",
       "      <th>Partner</th>\n",
       "      <th>Dependents</th>\n",
       "    </tr>\n",
       "  </thead>\n",
       "  <tbody>\n",
       "    <tr>\n",
       "      <th>0</th>\n",
       "      <td>7590-VHVEG</td>\n",
       "      <td>Female</td>\n",
       "      <td>0</td>\n",
       "      <td>Yes</td>\n",
       "      <td>No</td>\n",
       "    </tr>\n",
       "    <tr>\n",
       "      <th>1</th>\n",
       "      <td>5575-GNVDE</td>\n",
       "      <td>Male</td>\n",
       "      <td>0</td>\n",
       "      <td>No</td>\n",
       "      <td>No</td>\n",
       "    </tr>\n",
       "    <tr>\n",
       "      <th>2</th>\n",
       "      <td>3668-QPYBK</td>\n",
       "      <td>Male</td>\n",
       "      <td>0</td>\n",
       "      <td>No</td>\n",
       "      <td>No</td>\n",
       "    </tr>\n",
       "  </tbody>\n",
       "</table>\n",
       "</div>"
      ],
      "text/plain": [
       "   customerID  gender  SeniorCitizen Partner Dependents\n",
       "0  7590-VHVEG  Female              0     Yes         No\n",
       "1  5575-GNVDE    Male              0      No         No\n",
       "2  3668-QPYBK    Male              0      No         No"
      ]
     },
     "execution_count": 6,
     "metadata": {},
     "output_type": "execute_result"
    }
   ],
   "source": [
    "# Personal dataframe\n",
    "df_personal.head(3)"
   ]
  },
  {
   "cell_type": "code",
   "execution_count": 7,
   "metadata": {},
   "outputs": [
    {
     "data": {
      "text/html": [
       "<div>\n",
       "<style scoped>\n",
       "    .dataframe tbody tr th:only-of-type {\n",
       "        vertical-align: middle;\n",
       "    }\n",
       "\n",
       "    .dataframe tbody tr th {\n",
       "        vertical-align: top;\n",
       "    }\n",
       "\n",
       "    .dataframe thead th {\n",
       "        text-align: right;\n",
       "    }\n",
       "</style>\n",
       "<table border=\"1\" class=\"dataframe\">\n",
       "  <thead>\n",
       "    <tr style=\"text-align: right;\">\n",
       "      <th></th>\n",
       "      <th>customerID</th>\n",
       "      <th>MultipleLines</th>\n",
       "    </tr>\n",
       "  </thead>\n",
       "  <tbody>\n",
       "    <tr>\n",
       "      <th>0</th>\n",
       "      <td>5575-GNVDE</td>\n",
       "      <td>No</td>\n",
       "    </tr>\n",
       "    <tr>\n",
       "      <th>1</th>\n",
       "      <td>3668-QPYBK</td>\n",
       "      <td>No</td>\n",
       "    </tr>\n",
       "    <tr>\n",
       "      <th>2</th>\n",
       "      <td>9237-HQITU</td>\n",
       "      <td>No</td>\n",
       "    </tr>\n",
       "  </tbody>\n",
       "</table>\n",
       "</div>"
      ],
      "text/plain": [
       "   customerID MultipleLines\n",
       "0  5575-GNVDE            No\n",
       "1  3668-QPYBK            No\n",
       "2  9237-HQITU            No"
      ]
     },
     "execution_count": 7,
     "metadata": {},
     "output_type": "execute_result"
    }
   ],
   "source": [
    "# Phone dataframe\n",
    "df_phone.head(3)"
   ]
  },
  {
   "cell_type": "code",
   "execution_count": 8,
   "metadata": {},
   "outputs": [],
   "source": [
    "# Create a list of dataframes to iterate\n",
    "df_list = [df_cont, df_inter, df_personal, df_phone]"
   ]
  },
  {
   "cell_type": "code",
   "execution_count": 9,
   "metadata": {},
   "outputs": [
    {
     "name": "stdout",
     "output_type": "stream",
     "text": [
      "<class 'pandas.core.frame.DataFrame'>\n",
      "RangeIndex: 7043 entries, 0 to 7042\n",
      "Data columns (total 8 columns):\n",
      " #   Column            Non-Null Count  Dtype  \n",
      "---  ------            --------------  -----  \n",
      " 0   customerID        7043 non-null   object \n",
      " 1   BeginDate         7043 non-null   object \n",
      " 2   EndDate           7043 non-null   object \n",
      " 3   Type              7043 non-null   object \n",
      " 4   PaperlessBilling  7043 non-null   object \n",
      " 5   PaymentMethod     7043 non-null   object \n",
      " 6   MonthlyCharges    7043 non-null   float64\n",
      " 7   TotalCharges      7043 non-null   object \n",
      "dtypes: float64(1), object(7)\n",
      "memory usage: 440.3+ KB\n",
      "None \n",
      "\n",
      "<class 'pandas.core.frame.DataFrame'>\n",
      "RangeIndex: 5517 entries, 0 to 5516\n",
      "Data columns (total 8 columns):\n",
      " #   Column            Non-Null Count  Dtype \n",
      "---  ------            --------------  ----- \n",
      " 0   customerID        5517 non-null   object\n",
      " 1   InternetService   5517 non-null   object\n",
      " 2   OnlineSecurity    5517 non-null   object\n",
      " 3   OnlineBackup      5517 non-null   object\n",
      " 4   DeviceProtection  5517 non-null   object\n",
      " 5   TechSupport       5517 non-null   object\n",
      " 6   StreamingTV       5517 non-null   object\n",
      " 7   StreamingMovies   5517 non-null   object\n",
      "dtypes: object(8)\n",
      "memory usage: 344.9+ KB\n",
      "None \n",
      "\n",
      "<class 'pandas.core.frame.DataFrame'>\n",
      "RangeIndex: 7043 entries, 0 to 7042\n",
      "Data columns (total 5 columns):\n",
      " #   Column         Non-Null Count  Dtype \n",
      "---  ------         --------------  ----- \n",
      " 0   customerID     7043 non-null   object\n",
      " 1   gender         7043 non-null   object\n",
      " 2   SeniorCitizen  7043 non-null   int64 \n",
      " 3   Partner        7043 non-null   object\n",
      " 4   Dependents     7043 non-null   object\n",
      "dtypes: int64(1), object(4)\n",
      "memory usage: 275.2+ KB\n",
      "None \n",
      "\n",
      "<class 'pandas.core.frame.DataFrame'>\n",
      "RangeIndex: 6361 entries, 0 to 6360\n",
      "Data columns (total 2 columns):\n",
      " #   Column         Non-Null Count  Dtype \n",
      "---  ------         --------------  ----- \n",
      " 0   customerID     6361 non-null   object\n",
      " 1   MultipleLines  6361 non-null   object\n",
      "dtypes: object(2)\n",
      "memory usage: 99.5+ KB\n",
      "None \n",
      "\n"
     ]
    }
   ],
   "source": [
    "# Df´s general info, respectively\n",
    "for df in df_list:\n",
    "    print(df.info(),'\\n')"
   ]
  },
  {
   "cell_type": "code",
   "execution_count": 10,
   "metadata": {},
   "outputs": [
    {
     "name": "stdout",
     "output_type": "stream",
     "text": [
      "0 \n",
      "\n",
      "0 \n",
      "\n",
      "0 \n",
      "\n",
      "0 \n",
      "\n"
     ]
    }
   ],
   "source": [
    "# Number of null values, respectively\n",
    "df_cont.isna().sum(), '', df_inter.isna().sum(),'', df_personal.isna().sum(), '', df_phone.isna().sum()\n",
    "for df in df_list:\n",
    "    print(df.isna().sum().sum(), '\\n')"
   ]
  },
  {
   "cell_type": "code",
   "execution_count": 13,
   "metadata": {},
   "outputs": [
    {
     "data": {
      "text/html": [
       "<div>\n",
       "<style scoped>\n",
       "    .dataframe tbody tr th:only-of-type {\n",
       "        vertical-align: middle;\n",
       "    }\n",
       "\n",
       "    .dataframe tbody tr th {\n",
       "        vertical-align: top;\n",
       "    }\n",
       "\n",
       "    .dataframe thead th {\n",
       "        text-align: right;\n",
       "    }\n",
       "</style>\n",
       "<table border=\"1\" class=\"dataframe\">\n",
       "  <thead>\n",
       "    <tr style=\"text-align: right;\">\n",
       "      <th></th>\n",
       "      <th>MonthlyCharges</th>\n",
       "    </tr>\n",
       "  </thead>\n",
       "  <tbody>\n",
       "    <tr>\n",
       "      <th>count</th>\n",
       "      <td>7043.000000</td>\n",
       "    </tr>\n",
       "    <tr>\n",
       "      <th>mean</th>\n",
       "      <td>64.761692</td>\n",
       "    </tr>\n",
       "    <tr>\n",
       "      <th>std</th>\n",
       "      <td>30.090047</td>\n",
       "    </tr>\n",
       "    <tr>\n",
       "      <th>min</th>\n",
       "      <td>18.250000</td>\n",
       "    </tr>\n",
       "    <tr>\n",
       "      <th>25%</th>\n",
       "      <td>35.500000</td>\n",
       "    </tr>\n",
       "    <tr>\n",
       "      <th>50%</th>\n",
       "      <td>70.350000</td>\n",
       "    </tr>\n",
       "    <tr>\n",
       "      <th>75%</th>\n",
       "      <td>89.850000</td>\n",
       "    </tr>\n",
       "    <tr>\n",
       "      <th>max</th>\n",
       "      <td>118.750000</td>\n",
       "    </tr>\n",
       "  </tbody>\n",
       "</table>\n",
       "</div>"
      ],
      "text/plain": [
       "       MonthlyCharges\n",
       "count     7043.000000\n",
       "mean        64.761692\n",
       "std         30.090047\n",
       "min         18.250000\n",
       "25%         35.500000\n",
       "50%         70.350000\n",
       "75%         89.850000\n",
       "max        118.750000"
      ]
     },
     "execution_count": 13,
     "metadata": {},
     "output_type": "execute_result"
    }
   ],
   "source": [
    "# Basic description of df_cont\n",
    "df_cont.describe()"
   ]
  },
  {
   "cell_type": "code",
   "execution_count": 14,
   "metadata": {},
   "outputs": [
    {
     "data": {
      "text/html": [
       "<div>\n",
       "<style scoped>\n",
       "    .dataframe tbody tr th:only-of-type {\n",
       "        vertical-align: middle;\n",
       "    }\n",
       "\n",
       "    .dataframe tbody tr th {\n",
       "        vertical-align: top;\n",
       "    }\n",
       "\n",
       "    .dataframe thead th {\n",
       "        text-align: right;\n",
       "    }\n",
       "</style>\n",
       "<table border=\"1\" class=\"dataframe\">\n",
       "  <thead>\n",
       "    <tr style=\"text-align: right;\">\n",
       "      <th></th>\n",
       "      <th>customerID</th>\n",
       "      <th>InternetService</th>\n",
       "      <th>OnlineSecurity</th>\n",
       "      <th>OnlineBackup</th>\n",
       "      <th>DeviceProtection</th>\n",
       "      <th>TechSupport</th>\n",
       "      <th>StreamingTV</th>\n",
       "      <th>StreamingMovies</th>\n",
       "    </tr>\n",
       "  </thead>\n",
       "  <tbody>\n",
       "    <tr>\n",
       "      <th>count</th>\n",
       "      <td>5517</td>\n",
       "      <td>5517</td>\n",
       "      <td>5517</td>\n",
       "      <td>5517</td>\n",
       "      <td>5517</td>\n",
       "      <td>5517</td>\n",
       "      <td>5517</td>\n",
       "      <td>5517</td>\n",
       "    </tr>\n",
       "    <tr>\n",
       "      <th>unique</th>\n",
       "      <td>5517</td>\n",
       "      <td>2</td>\n",
       "      <td>2</td>\n",
       "      <td>2</td>\n",
       "      <td>2</td>\n",
       "      <td>2</td>\n",
       "      <td>2</td>\n",
       "      <td>2</td>\n",
       "    </tr>\n",
       "    <tr>\n",
       "      <th>top</th>\n",
       "      <td>2828-SLQPF</td>\n",
       "      <td>Fiber optic</td>\n",
       "      <td>No</td>\n",
       "      <td>No</td>\n",
       "      <td>No</td>\n",
       "      <td>No</td>\n",
       "      <td>No</td>\n",
       "      <td>No</td>\n",
       "    </tr>\n",
       "    <tr>\n",
       "      <th>freq</th>\n",
       "      <td>1</td>\n",
       "      <td>3096</td>\n",
       "      <td>3498</td>\n",
       "      <td>3088</td>\n",
       "      <td>3095</td>\n",
       "      <td>3473</td>\n",
       "      <td>2810</td>\n",
       "      <td>2785</td>\n",
       "    </tr>\n",
       "  </tbody>\n",
       "</table>\n",
       "</div>"
      ],
      "text/plain": [
       "        customerID InternetService OnlineSecurity OnlineBackup  \\\n",
       "count         5517            5517           5517         5517   \n",
       "unique        5517               2              2            2   \n",
       "top     2828-SLQPF     Fiber optic             No           No   \n",
       "freq             1            3096           3498         3088   \n",
       "\n",
       "       DeviceProtection TechSupport StreamingTV StreamingMovies  \n",
       "count              5517        5517        5517            5517  \n",
       "unique                2           2           2               2  \n",
       "top                  No          No          No              No  \n",
       "freq               3095        3473        2810            2785  "
      ]
     },
     "execution_count": 14,
     "metadata": {},
     "output_type": "execute_result"
    }
   ],
   "source": [
    "# Basic description of df_inter\n",
    "df_inter.describe()"
   ]
  },
  {
   "cell_type": "code",
   "execution_count": 15,
   "metadata": {},
   "outputs": [
    {
     "data": {
      "text/html": [
       "<div>\n",
       "<style scoped>\n",
       "    .dataframe tbody tr th:only-of-type {\n",
       "        vertical-align: middle;\n",
       "    }\n",
       "\n",
       "    .dataframe tbody tr th {\n",
       "        vertical-align: top;\n",
       "    }\n",
       "\n",
       "    .dataframe thead th {\n",
       "        text-align: right;\n",
       "    }\n",
       "</style>\n",
       "<table border=\"1\" class=\"dataframe\">\n",
       "  <thead>\n",
       "    <tr style=\"text-align: right;\">\n",
       "      <th></th>\n",
       "      <th>SeniorCitizen</th>\n",
       "    </tr>\n",
       "  </thead>\n",
       "  <tbody>\n",
       "    <tr>\n",
       "      <th>count</th>\n",
       "      <td>7043.000000</td>\n",
       "    </tr>\n",
       "    <tr>\n",
       "      <th>mean</th>\n",
       "      <td>0.162147</td>\n",
       "    </tr>\n",
       "    <tr>\n",
       "      <th>std</th>\n",
       "      <td>0.368612</td>\n",
       "    </tr>\n",
       "    <tr>\n",
       "      <th>min</th>\n",
       "      <td>0.000000</td>\n",
       "    </tr>\n",
       "    <tr>\n",
       "      <th>25%</th>\n",
       "      <td>0.000000</td>\n",
       "    </tr>\n",
       "    <tr>\n",
       "      <th>50%</th>\n",
       "      <td>0.000000</td>\n",
       "    </tr>\n",
       "    <tr>\n",
       "      <th>75%</th>\n",
       "      <td>0.000000</td>\n",
       "    </tr>\n",
       "    <tr>\n",
       "      <th>max</th>\n",
       "      <td>1.000000</td>\n",
       "    </tr>\n",
       "  </tbody>\n",
       "</table>\n",
       "</div>"
      ],
      "text/plain": [
       "       SeniorCitizen\n",
       "count    7043.000000\n",
       "mean        0.162147\n",
       "std         0.368612\n",
       "min         0.000000\n",
       "25%         0.000000\n",
       "50%         0.000000\n",
       "75%         0.000000\n",
       "max         1.000000"
      ]
     },
     "execution_count": 15,
     "metadata": {},
     "output_type": "execute_result"
    }
   ],
   "source": [
    "# Basic description of df_personal\n",
    "df_personal.describe()"
   ]
  },
  {
   "cell_type": "code",
   "execution_count": 16,
   "metadata": {},
   "outputs": [
    {
     "data": {
      "text/html": [
       "<div>\n",
       "<style scoped>\n",
       "    .dataframe tbody tr th:only-of-type {\n",
       "        vertical-align: middle;\n",
       "    }\n",
       "\n",
       "    .dataframe tbody tr th {\n",
       "        vertical-align: top;\n",
       "    }\n",
       "\n",
       "    .dataframe thead th {\n",
       "        text-align: right;\n",
       "    }\n",
       "</style>\n",
       "<table border=\"1\" class=\"dataframe\">\n",
       "  <thead>\n",
       "    <tr style=\"text-align: right;\">\n",
       "      <th></th>\n",
       "      <th>customerID</th>\n",
       "      <th>MultipleLines</th>\n",
       "    </tr>\n",
       "  </thead>\n",
       "  <tbody>\n",
       "    <tr>\n",
       "      <th>count</th>\n",
       "      <td>6361</td>\n",
       "      <td>6361</td>\n",
       "    </tr>\n",
       "    <tr>\n",
       "      <th>unique</th>\n",
       "      <td>6361</td>\n",
       "      <td>2</td>\n",
       "    </tr>\n",
       "    <tr>\n",
       "      <th>top</th>\n",
       "      <td>4274-OWWYO</td>\n",
       "      <td>No</td>\n",
       "    </tr>\n",
       "    <tr>\n",
       "      <th>freq</th>\n",
       "      <td>1</td>\n",
       "      <td>3390</td>\n",
       "    </tr>\n",
       "  </tbody>\n",
       "</table>\n",
       "</div>"
      ],
      "text/plain": [
       "        customerID MultipleLines\n",
       "count         6361          6361\n",
       "unique        6361             2\n",
       "top     4274-OWWYO            No\n",
       "freq             1          3390"
      ]
     },
     "execution_count": 16,
     "metadata": {},
     "output_type": "execute_result"
    }
   ],
   "source": [
    "# basic description of dF_phone\n",
    "df_phone.describe()"
   ]
  },
  {
   "cell_type": "code",
   "execution_count": 12,
   "metadata": {},
   "outputs": [
    {
     "name": "stdout",
     "output_type": "stream",
     "text": [
      "0 \n",
      "\n",
      "0 \n",
      "\n",
      "0 \n",
      "\n",
      "0 \n",
      "\n"
     ]
    }
   ],
   "source": [
    "# Duplicated elements per dataframe, respectively\n",
    "for df in df_list:\n",
    "    print(df.duplicated().sum(),'\\n')"
   ]
  },
  {
   "cell_type": "markdown",
   "metadata": {},
   "source": [
    "Initial observations:\n",
    "\n",
    "- `customerId` is our column key.\n",
    "- The data is complete for each dataframe. We have less rows for `df_inter` and `df_phone` dataframes but it could just be because not everyone has both phone-communication and internet services. However, we need to confirm that.\n",
    "- We can change some datatype in some cases. We suggest to convert binary answers by integers, and to datetime where allowed. In `df_cont` there should be two float columns, but `Total charges` is object type.\n",
    "- Every column, except for `df_cont`, has only dichotomous variables. For `df_inter` and `df_phone` we can confirme there is any typo.\n",
    "- Our label column is `EndDate`. However, it has dates as well as our target. We need to separate them so we can have a classification problem (yes or no) and because the date could show us some important info.\n",
    "\n",
    "Let us continue with some more exploration and corrections."
   ]
  },
  {
   "cell_type": "markdown",
   "metadata": {},
   "source": [
    "Exploration section:"
   ]
  },
  {
   "cell_type": "code",
   "execution_count": 13,
   "metadata": {},
   "outputs": [
    {
     "data": {
      "text/plain": [
       "73.4630129206304"
      ]
     },
     "execution_count": 13,
     "metadata": {},
     "output_type": "execute_result"
    }
   ],
   "source": [
    "# Number of positive values (people who are staying)\n",
    "((df_cont['EndDate'] == 'No').sum()/df_cont.shape[0])*100"
   ]
  },
  {
   "cell_type": "code",
   "execution_count": 14,
   "metadata": {},
   "outputs": [
    {
     "data": {
      "text/plain": [
       "array(['DSL', 'Fiber optic'], dtype=object)"
      ]
     },
     "execution_count": 14,
     "metadata": {},
     "output_type": "execute_result"
    }
   ],
   "source": [
    "# Prove both unique values for df_inter\n",
    "df_inter.InternetService.unique()"
   ]
  },
  {
   "cell_type": "code",
   "execution_count": 15,
   "metadata": {},
   "outputs": [
    {
     "data": {
      "text/plain": [
       "array(['No', 'Yes'], dtype=object)"
      ]
     },
     "execution_count": 15,
     "metadata": {},
     "output_type": "execute_result"
    }
   ],
   "source": [
    "# Prove both unique values for df_phone\n",
    "df_phone.MultipleLines.unique()"
   ]
  },
  {
   "cell_type": "code",
   "execution_count": 16,
   "metadata": {},
   "outputs": [
    {
     "data": {
      "text/plain": [
       "array(['No', '2019-12-01 00:00:00', '2019-11-01 00:00:00',\n",
       "       '2019-10-01 00:00:00', '2020-01-01 00:00:00'], dtype=object)"
      ]
     },
     "execution_count": 16,
     "metadata": {},
     "output_type": "execute_result"
    }
   ],
   "source": [
    "# Unique values in `EndDate` \n",
    "df_cont['EndDate'].unique()"
   ]
  },
  {
   "cell_type": "markdown",
   "metadata": {},
   "source": [
    "To determine that not everyone has both services (internet and phone) let us assume the union between the customers´ ID of `df_phone` and `df_inter` is `df_cont`. This assumption makes sense since every contract must have at least one service. "
   ]
  },
  {
   "cell_type": "markdown",
   "metadata": {},
   "source": [
    "$$\n",
    " C = (P \\cup I)\n",
    "$$\n",
    "Where:\n",
    "- C are the elements in `df_cont`\n",
    "- P are the elements in `df_phone`\n",
    "- I are the elements in `df_internet`\n",
    "\n",
    "And therefore:\n",
    "$$\n",
    "(P \\cup I) = P + I - (P \\cap I)\n",
    "$$\n",
    "\n",
    "Then, we can calcute the intersection as:\n",
    "\n",
    "$$\n",
    " P \\cap I = P + I - (P \\cup I)\n",
    "$$\n"
   ]
  },
  {
   "cell_type": "markdown",
   "metadata": {},
   "source": [
    "Let us substitude:\n",
    "$$\n",
    " P \\cap I = 6361 + 5517 - 7043\n",
    "$$"
   ]
  },
  {
   "cell_type": "code",
   "execution_count": 17,
   "metadata": {},
   "outputs": [
    {
     "data": {
      "text/plain": [
       "4835"
      ]
     },
     "execution_count": 17,
     "metadata": {},
     "output_type": "execute_result"
    }
   ],
   "source": [
    "intersection_PandI = df_phone.shape[0] + df_inter.shape[0] - df_cont.shape[0]\n",
    "intersection_PandI"
   ]
  },
  {
   "cell_type": "markdown",
   "metadata": {},
   "source": [
    "Then we have:\n",
    "\n",
    "$$\n",
    " P \\cap I = 4835\n",
    "$$\n",
    "\n",
    "We also know that the elements present in the **P** set but absent in **I**, plus the elements present in **I** but absent in **P**, plus the intersection of both **P** and **I** elements must be equal to the total of elements in **C**. "
   ]
  },
  {
   "cell_type": "code",
   "execution_count": 18,
   "metadata": {},
   "outputs": [
    {
     "name": "stdout",
     "output_type": "stream",
     "text": [
      "Elemnts present in P but absent in I: 1526\n",
      "Elements present in I but absent in P: 682\n",
      "Elements of intersection between P and I: 4835\n",
      "Elements in C: 7043\n",
      "True\n"
     ]
    }
   ],
   "source": [
    "# Number of elements\n",
    "presentP_absentI = len(set(df_phone['customerID'].unique())-set(df_inter['customerID']))\n",
    "print(\"Elemnts present in P but absent in I:\", presentP_absentI)\n",
    "presentI_absentP = len(set(df_inter['customerID'].unique())-set(df_phone['customerID']))\n",
    "print(\"Elements present in I but absent in P:\", presentI_absentP)\n",
    "print(\"Elements of intersection between P and I:\", intersection_PandI)\n",
    "print('Elements in C:', df_cont.shape[0])\n",
    "if (presentP_absentI + presentI_absentP + intersection_PandI) == df_cont.shape[0]:\n",
    "    print(True)\n",
    "else: print(False)"
   ]
  },
  {
   "cell_type": "markdown",
   "metadata": {},
   "source": [
    "**Observations:** \n",
    "- Our objetive represents more than 70% of the total data but we only have 7,043 observations in total. An imbalance treatment is necesary. \n",
    "- We confirmed there were not typos or similar errors within the unique names on those columns.\n",
    "- The list of `EndDate` has few dates (a range of just 4 months monthly).\n",
    "- We confirmed we can merge information available in `df_inter` and `df_phone` into `df_cont`."
   ]
  },
  {
   "cell_type": "markdown",
   "metadata": {},
   "source": [
    "### First corrections"
   ]
  },
  {
   "cell_type": "markdown",
   "metadata": {},
   "source": [
    "To change the binary answers we can implement a function for every dataframe:"
   ]
  },
  {
   "cell_type": "code",
   "execution_count": 19,
   "metadata": {},
   "outputs": [],
   "source": [
    "def to_integers(df, columns, string):\n",
    "    for column in columns:\n",
    "        df[column] = np.where(df[column] == string, 1, 0)\n",
    "    return df"
   ]
  },
  {
   "cell_type": "markdown",
   "metadata": {},
   "source": [
    "#### Personal dataframe `df_personal`"
   ]
  },
  {
   "cell_type": "markdown",
   "metadata": {},
   "source": [
    "It must be confirmed that there are only two posible answers for each column."
   ]
  },
  {
   "cell_type": "code",
   "execution_count": 20,
   "metadata": {},
   "outputs": [
    {
     "name": "stdout",
     "output_type": "stream",
     "text": [
      "Number of unique elements per column, respectively\n",
      "7043\n",
      "2\n",
      "2\n",
      "2\n",
      "2\n"
     ]
    }
   ],
   "source": [
    "# Confirm that there are only two unique values.\n",
    "print('Number of unique elements per column, respectively')\n",
    "for column in df_personal.columns:\n",
    "    a = df_personal[column].unique()\n",
    "    print(len(a))"
   ]
  },
  {
   "cell_type": "code",
   "execution_count": 21,
   "metadata": {},
   "outputs": [
    {
     "data": {
      "text/html": [
       "<div>\n",
       "<style scoped>\n",
       "    .dataframe tbody tr th:only-of-type {\n",
       "        vertical-align: middle;\n",
       "    }\n",
       "\n",
       "    .dataframe tbody tr th {\n",
       "        vertical-align: top;\n",
       "    }\n",
       "\n",
       "    .dataframe thead th {\n",
       "        text-align: right;\n",
       "    }\n",
       "</style>\n",
       "<table border=\"1\" class=\"dataframe\">\n",
       "  <thead>\n",
       "    <tr style=\"text-align: right;\">\n",
       "      <th></th>\n",
       "      <th>customerID</th>\n",
       "      <th>gender</th>\n",
       "      <th>SeniorCitizen</th>\n",
       "      <th>Partner</th>\n",
       "      <th>Dependents</th>\n",
       "    </tr>\n",
       "  </thead>\n",
       "  <tbody>\n",
       "    <tr>\n",
       "      <th>0</th>\n",
       "      <td>7590-VHVEG</td>\n",
       "      <td>1</td>\n",
       "      <td>0</td>\n",
       "      <td>1</td>\n",
       "      <td>0</td>\n",
       "    </tr>\n",
       "    <tr>\n",
       "      <th>1</th>\n",
       "      <td>5575-GNVDE</td>\n",
       "      <td>0</td>\n",
       "      <td>0</td>\n",
       "      <td>0</td>\n",
       "      <td>0</td>\n",
       "    </tr>\n",
       "    <tr>\n",
       "      <th>2</th>\n",
       "      <td>3668-QPYBK</td>\n",
       "      <td>0</td>\n",
       "      <td>0</td>\n",
       "      <td>0</td>\n",
       "      <td>0</td>\n",
       "    </tr>\n",
       "    <tr>\n",
       "      <th>3</th>\n",
       "      <td>7795-CFOCW</td>\n",
       "      <td>0</td>\n",
       "      <td>0</td>\n",
       "      <td>0</td>\n",
       "      <td>0</td>\n",
       "    </tr>\n",
       "    <tr>\n",
       "      <th>4</th>\n",
       "      <td>9237-HQITU</td>\n",
       "      <td>1</td>\n",
       "      <td>0</td>\n",
       "      <td>0</td>\n",
       "      <td>0</td>\n",
       "    </tr>\n",
       "    <tr>\n",
       "      <th>...</th>\n",
       "      <td>...</td>\n",
       "      <td>...</td>\n",
       "      <td>...</td>\n",
       "      <td>...</td>\n",
       "      <td>...</td>\n",
       "    </tr>\n",
       "    <tr>\n",
       "      <th>7038</th>\n",
       "      <td>6840-RESVB</td>\n",
       "      <td>0</td>\n",
       "      <td>0</td>\n",
       "      <td>1</td>\n",
       "      <td>1</td>\n",
       "    </tr>\n",
       "    <tr>\n",
       "      <th>7039</th>\n",
       "      <td>2234-XADUH</td>\n",
       "      <td>1</td>\n",
       "      <td>0</td>\n",
       "      <td>1</td>\n",
       "      <td>1</td>\n",
       "    </tr>\n",
       "    <tr>\n",
       "      <th>7040</th>\n",
       "      <td>4801-JZAZL</td>\n",
       "      <td>1</td>\n",
       "      <td>0</td>\n",
       "      <td>1</td>\n",
       "      <td>1</td>\n",
       "    </tr>\n",
       "    <tr>\n",
       "      <th>7041</th>\n",
       "      <td>8361-LTMKD</td>\n",
       "      <td>0</td>\n",
       "      <td>1</td>\n",
       "      <td>1</td>\n",
       "      <td>0</td>\n",
       "    </tr>\n",
       "    <tr>\n",
       "      <th>7042</th>\n",
       "      <td>3186-AJIEK</td>\n",
       "      <td>0</td>\n",
       "      <td>0</td>\n",
       "      <td>0</td>\n",
       "      <td>0</td>\n",
       "    </tr>\n",
       "  </tbody>\n",
       "</table>\n",
       "<p>7043 rows × 5 columns</p>\n",
       "</div>"
      ],
      "text/plain": [
       "      customerID  gender  SeniorCitizen  Partner  Dependents\n",
       "0     7590-VHVEG       1              0        1           0\n",
       "1     5575-GNVDE       0              0        0           0\n",
       "2     3668-QPYBK       0              0        0           0\n",
       "3     7795-CFOCW       0              0        0           0\n",
       "4     9237-HQITU       1              0        0           0\n",
       "...          ...     ...            ...      ...         ...\n",
       "7038  6840-RESVB       0              0        1           1\n",
       "7039  2234-XADUH       1              0        1           1\n",
       "7040  4801-JZAZL       1              0        1           1\n",
       "7041  8361-LTMKD       0              1        1           0\n",
       "7042  3186-AJIEK       0              0        0           0\n",
       "\n",
       "[7043 rows x 5 columns]"
      ]
     },
     "execution_count": 21,
     "metadata": {},
     "output_type": "execute_result"
    }
   ],
   "source": [
    "# Applying the function \n",
    "to_integers(df_personal, ['gender'], 'Female')\n",
    "to_integers(df_personal, ['Partner','Dependents'], 'Yes')"
   ]
  },
  {
   "cell_type": "markdown",
   "metadata": {},
   "source": [
    "#### Phone dataframe `df_phone`"
   ]
  },
  {
   "cell_type": "markdown",
   "metadata": {},
   "source": [
    "Note that even when the column is binary we still need to consider if they have the phone service (since not everyone has it). Putting it straight, if they have neither single nor multiple lines, they have no line."
   ]
  },
  {
   "cell_type": "code",
   "execution_count": 22,
   "metadata": {},
   "outputs": [
    {
     "data": {
      "text/html": [
       "<div>\n",
       "<style scoped>\n",
       "    .dataframe tbody tr th:only-of-type {\n",
       "        vertical-align: middle;\n",
       "    }\n",
       "\n",
       "    .dataframe tbody tr th {\n",
       "        vertical-align: top;\n",
       "    }\n",
       "\n",
       "    .dataframe thead th {\n",
       "        text-align: right;\n",
       "    }\n",
       "</style>\n",
       "<table border=\"1\" class=\"dataframe\">\n",
       "  <thead>\n",
       "    <tr style=\"text-align: right;\">\n",
       "      <th></th>\n",
       "      <th>customerID</th>\n",
       "      <th>MultipleLines</th>\n",
       "    </tr>\n",
       "  </thead>\n",
       "  <tbody>\n",
       "    <tr>\n",
       "      <th>0</th>\n",
       "      <td>5575-GNVDE</td>\n",
       "      <td>No</td>\n",
       "    </tr>\n",
       "    <tr>\n",
       "      <th>1</th>\n",
       "      <td>3668-QPYBK</td>\n",
       "      <td>No</td>\n",
       "    </tr>\n",
       "    <tr>\n",
       "      <th>2</th>\n",
       "      <td>9237-HQITU</td>\n",
       "      <td>No</td>\n",
       "    </tr>\n",
       "    <tr>\n",
       "      <th>3</th>\n",
       "      <td>9305-CDSKC</td>\n",
       "      <td>Yes</td>\n",
       "    </tr>\n",
       "    <tr>\n",
       "      <th>4</th>\n",
       "      <td>1452-KIOVK</td>\n",
       "      <td>Yes</td>\n",
       "    </tr>\n",
       "  </tbody>\n",
       "</table>\n",
       "</div>"
      ],
      "text/plain": [
       "   customerID MultipleLines\n",
       "0  5575-GNVDE            No\n",
       "1  3668-QPYBK            No\n",
       "2  9237-HQITU            No\n",
       "3  9305-CDSKC           Yes\n",
       "4  1452-KIOVK           Yes"
      ]
     },
     "execution_count": 22,
     "metadata": {},
     "output_type": "execute_result"
    }
   ],
   "source": [
    "df_phone.head()"
   ]
  },
  {
   "cell_type": "code",
   "execution_count": 23,
   "metadata": {},
   "outputs": [
    {
     "data": {
      "text/html": [
       "<div>\n",
       "<style scoped>\n",
       "    .dataframe tbody tr th:only-of-type {\n",
       "        vertical-align: middle;\n",
       "    }\n",
       "\n",
       "    .dataframe tbody tr th {\n",
       "        vertical-align: top;\n",
       "    }\n",
       "\n",
       "    .dataframe thead th {\n",
       "        text-align: right;\n",
       "    }\n",
       "</style>\n",
       "<table border=\"1\" class=\"dataframe\">\n",
       "  <thead>\n",
       "    <tr style=\"text-align: right;\">\n",
       "      <th></th>\n",
       "      <th>customerID</th>\n",
       "      <th>MultipleLines</th>\n",
       "      <th>SingleLine</th>\n",
       "    </tr>\n",
       "  </thead>\n",
       "  <tbody>\n",
       "    <tr>\n",
       "      <th>0</th>\n",
       "      <td>5575-GNVDE</td>\n",
       "      <td>0</td>\n",
       "      <td>1</td>\n",
       "    </tr>\n",
       "    <tr>\n",
       "      <th>1</th>\n",
       "      <td>3668-QPYBK</td>\n",
       "      <td>0</td>\n",
       "      <td>1</td>\n",
       "    </tr>\n",
       "    <tr>\n",
       "      <th>2</th>\n",
       "      <td>9237-HQITU</td>\n",
       "      <td>0</td>\n",
       "      <td>1</td>\n",
       "    </tr>\n",
       "    <tr>\n",
       "      <th>3</th>\n",
       "      <td>9305-CDSKC</td>\n",
       "      <td>1</td>\n",
       "      <td>0</td>\n",
       "    </tr>\n",
       "    <tr>\n",
       "      <th>4</th>\n",
       "      <td>1452-KIOVK</td>\n",
       "      <td>1</td>\n",
       "      <td>0</td>\n",
       "    </tr>\n",
       "    <tr>\n",
       "      <th>...</th>\n",
       "      <td>...</td>\n",
       "      <td>...</td>\n",
       "      <td>...</td>\n",
       "    </tr>\n",
       "    <tr>\n",
       "      <th>6356</th>\n",
       "      <td>2569-WGERO</td>\n",
       "      <td>0</td>\n",
       "      <td>1</td>\n",
       "    </tr>\n",
       "    <tr>\n",
       "      <th>6357</th>\n",
       "      <td>6840-RESVB</td>\n",
       "      <td>1</td>\n",
       "      <td>0</td>\n",
       "    </tr>\n",
       "    <tr>\n",
       "      <th>6358</th>\n",
       "      <td>2234-XADUH</td>\n",
       "      <td>1</td>\n",
       "      <td>0</td>\n",
       "    </tr>\n",
       "    <tr>\n",
       "      <th>6359</th>\n",
       "      <td>8361-LTMKD</td>\n",
       "      <td>1</td>\n",
       "      <td>0</td>\n",
       "    </tr>\n",
       "    <tr>\n",
       "      <th>6360</th>\n",
       "      <td>3186-AJIEK</td>\n",
       "      <td>0</td>\n",
       "      <td>1</td>\n",
       "    </tr>\n",
       "  </tbody>\n",
       "</table>\n",
       "<p>6361 rows × 3 columns</p>\n",
       "</div>"
      ],
      "text/plain": [
       "      customerID  MultipleLines  SingleLine\n",
       "0     5575-GNVDE              0           1\n",
       "1     3668-QPYBK              0           1\n",
       "2     9237-HQITU              0           1\n",
       "3     9305-CDSKC              1           0\n",
       "4     1452-KIOVK              1           0\n",
       "...          ...            ...         ...\n",
       "6356  2569-WGERO              0           1\n",
       "6357  6840-RESVB              1           0\n",
       "6358  2234-XADUH              1           0\n",
       "6359  8361-LTMKD              1           0\n",
       "6360  3186-AJIEK              0           1\n",
       "\n",
       "[6361 rows x 3 columns]"
      ]
     },
     "execution_count": 23,
     "metadata": {},
     "output_type": "execute_result"
    }
   ],
   "source": [
    "# Where there is a 'No' put 1; zero, otherwise.\n",
    "df_phone['SingleLine'] = np.where(df_phone['MultipleLines'] == 'No', 1,0)\n",
    "# Where there is 'Yes', put 1; zero, otherwise.\n",
    "to_integers(df_phone, ['MultipleLines'], 'Yes')"
   ]
  },
  {
   "cell_type": "markdown",
   "metadata": {},
   "source": [
    "#### Internet dataframe `df_inter`"
   ]
  },
  {
   "cell_type": "markdown",
   "metadata": {},
   "source": [
    "Because of the initial exploration we know there are just two posible answers in each column. However, the treatment for this columns will be mixed. First, we apply our function but just for the sub-services and then we calculate if there is a client with zero of them. If  exists, it would mean we cannot imply the absense of the internet service just by a row full of zeros (as we did earlier in `df_phone`)."
   ]
  },
  {
   "cell_type": "code",
   "execution_count": 24,
   "metadata": {},
   "outputs": [
    {
     "data": {
      "text/html": [
       "<div>\n",
       "<style scoped>\n",
       "    .dataframe tbody tr th:only-of-type {\n",
       "        vertical-align: middle;\n",
       "    }\n",
       "\n",
       "    .dataframe tbody tr th {\n",
       "        vertical-align: top;\n",
       "    }\n",
       "\n",
       "    .dataframe thead th {\n",
       "        text-align: right;\n",
       "    }\n",
       "</style>\n",
       "<table border=\"1\" class=\"dataframe\">\n",
       "  <thead>\n",
       "    <tr style=\"text-align: right;\">\n",
       "      <th></th>\n",
       "      <th>customerID</th>\n",
       "      <th>InternetService</th>\n",
       "      <th>OnlineSecurity</th>\n",
       "      <th>OnlineBackup</th>\n",
       "      <th>DeviceProtection</th>\n",
       "      <th>TechSupport</th>\n",
       "      <th>StreamingTV</th>\n",
       "      <th>StreamingMovies</th>\n",
       "    </tr>\n",
       "  </thead>\n",
       "  <tbody>\n",
       "    <tr>\n",
       "      <th>0</th>\n",
       "      <td>7590-VHVEG</td>\n",
       "      <td>DSL</td>\n",
       "      <td>0</td>\n",
       "      <td>1</td>\n",
       "      <td>0</td>\n",
       "      <td>0</td>\n",
       "      <td>0</td>\n",
       "      <td>0</td>\n",
       "    </tr>\n",
       "    <tr>\n",
       "      <th>1</th>\n",
       "      <td>5575-GNVDE</td>\n",
       "      <td>DSL</td>\n",
       "      <td>1</td>\n",
       "      <td>0</td>\n",
       "      <td>1</td>\n",
       "      <td>0</td>\n",
       "      <td>0</td>\n",
       "      <td>0</td>\n",
       "    </tr>\n",
       "    <tr>\n",
       "      <th>2</th>\n",
       "      <td>3668-QPYBK</td>\n",
       "      <td>DSL</td>\n",
       "      <td>1</td>\n",
       "      <td>1</td>\n",
       "      <td>0</td>\n",
       "      <td>0</td>\n",
       "      <td>0</td>\n",
       "      <td>0</td>\n",
       "    </tr>\n",
       "    <tr>\n",
       "      <th>3</th>\n",
       "      <td>7795-CFOCW</td>\n",
       "      <td>DSL</td>\n",
       "      <td>1</td>\n",
       "      <td>0</td>\n",
       "      <td>1</td>\n",
       "      <td>1</td>\n",
       "      <td>0</td>\n",
       "      <td>0</td>\n",
       "    </tr>\n",
       "    <tr>\n",
       "      <th>4</th>\n",
       "      <td>9237-HQITU</td>\n",
       "      <td>Fiber optic</td>\n",
       "      <td>0</td>\n",
       "      <td>0</td>\n",
       "      <td>0</td>\n",
       "      <td>0</td>\n",
       "      <td>0</td>\n",
       "      <td>0</td>\n",
       "    </tr>\n",
       "    <tr>\n",
       "      <th>...</th>\n",
       "      <td>...</td>\n",
       "      <td>...</td>\n",
       "      <td>...</td>\n",
       "      <td>...</td>\n",
       "      <td>...</td>\n",
       "      <td>...</td>\n",
       "      <td>...</td>\n",
       "      <td>...</td>\n",
       "    </tr>\n",
       "    <tr>\n",
       "      <th>5512</th>\n",
       "      <td>6840-RESVB</td>\n",
       "      <td>DSL</td>\n",
       "      <td>1</td>\n",
       "      <td>0</td>\n",
       "      <td>1</td>\n",
       "      <td>1</td>\n",
       "      <td>1</td>\n",
       "      <td>1</td>\n",
       "    </tr>\n",
       "    <tr>\n",
       "      <th>5513</th>\n",
       "      <td>2234-XADUH</td>\n",
       "      <td>Fiber optic</td>\n",
       "      <td>0</td>\n",
       "      <td>1</td>\n",
       "      <td>1</td>\n",
       "      <td>0</td>\n",
       "      <td>1</td>\n",
       "      <td>1</td>\n",
       "    </tr>\n",
       "    <tr>\n",
       "      <th>5514</th>\n",
       "      <td>4801-JZAZL</td>\n",
       "      <td>DSL</td>\n",
       "      <td>1</td>\n",
       "      <td>0</td>\n",
       "      <td>0</td>\n",
       "      <td>0</td>\n",
       "      <td>0</td>\n",
       "      <td>0</td>\n",
       "    </tr>\n",
       "    <tr>\n",
       "      <th>5515</th>\n",
       "      <td>8361-LTMKD</td>\n",
       "      <td>Fiber optic</td>\n",
       "      <td>0</td>\n",
       "      <td>0</td>\n",
       "      <td>0</td>\n",
       "      <td>0</td>\n",
       "      <td>0</td>\n",
       "      <td>0</td>\n",
       "    </tr>\n",
       "    <tr>\n",
       "      <th>5516</th>\n",
       "      <td>3186-AJIEK</td>\n",
       "      <td>Fiber optic</td>\n",
       "      <td>1</td>\n",
       "      <td>0</td>\n",
       "      <td>1</td>\n",
       "      <td>1</td>\n",
       "      <td>1</td>\n",
       "      <td>1</td>\n",
       "    </tr>\n",
       "  </tbody>\n",
       "</table>\n",
       "<p>5517 rows × 8 columns</p>\n",
       "</div>"
      ],
      "text/plain": [
       "      customerID InternetService  OnlineSecurity  OnlineBackup  \\\n",
       "0     7590-VHVEG             DSL               0             1   \n",
       "1     5575-GNVDE             DSL               1             0   \n",
       "2     3668-QPYBK             DSL               1             1   \n",
       "3     7795-CFOCW             DSL               1             0   \n",
       "4     9237-HQITU     Fiber optic               0             0   \n",
       "...          ...             ...             ...           ...   \n",
       "5512  6840-RESVB             DSL               1             0   \n",
       "5513  2234-XADUH     Fiber optic               0             1   \n",
       "5514  4801-JZAZL             DSL               1             0   \n",
       "5515  8361-LTMKD     Fiber optic               0             0   \n",
       "5516  3186-AJIEK     Fiber optic               1             0   \n",
       "\n",
       "      DeviceProtection  TechSupport  StreamingTV  StreamingMovies  \n",
       "0                    0            0            0                0  \n",
       "1                    1            0            0                0  \n",
       "2                    0            0            0                0  \n",
       "3                    1            1            0                0  \n",
       "4                    0            0            0                0  \n",
       "...                ...          ...          ...              ...  \n",
       "5512                 1            1            1                1  \n",
       "5513                 1            0            1                1  \n",
       "5514                 0            0            0                0  \n",
       "5515                 0            0            0                0  \n",
       "5516                 1            1            1                1  \n",
       "\n",
       "[5517 rows x 8 columns]"
      ]
     },
     "execution_count": 24,
     "metadata": {},
     "output_type": "execute_result"
    }
   ],
   "source": [
    "# Convert yes-no columns to 0-1 columns\n",
    "to_integers(df_inter, ['OnlineSecurity', 'OnlineBackup', 'DeviceProtection', 'TechSupport', 'StreamingTV', 'StreamingMovies'], 'Yes')"
   ]
  },
  {
   "cell_type": "code",
   "execution_count": 25,
   "metadata": {},
   "outputs": [
    {
     "data": {
      "text/plain": [
       "3    1118\n",
       "2    1033\n",
       "1     966\n",
       "4     852\n",
       "0     693\n",
       "5     571\n",
       "6     284\n",
       "Name: Sum, dtype: int64"
      ]
     },
     "execution_count": 25,
     "metadata": {},
     "output_type": "execute_result"
    }
   ],
   "source": [
    "# The sum of all of the sub services.\n",
    "df_inter['Sum'] = df_inter['OnlineSecurity'] + df_inter['OnlineBackup'] + df_inter['DeviceProtection'] + df_inter['TechSupport'] + df_inter['StreamingTV'] + df_inter['StreamingMovies']\n",
    "# We will only have a maximum of 6 services.\n",
    "df_inter['Sum'].value_counts(sort=True)"
   ]
  },
  {
   "cell_type": "markdown",
   "metadata": {},
   "source": [
    "The presence of rows that add up to zero indicates a client can still have access to DSL or Fiber optic whether they have any internet subservice or not. Therefore, it is still necessary to give the models a way to recognise among people with no internet service."
   ]
  },
  {
   "cell_type": "code",
   "execution_count": 26,
   "metadata": {},
   "outputs": [],
   "source": [
    "# Creat a DSL column.\n",
    "df_inter['DSL'] = np.where(df_inter['InternetService'] =='DSL', 1,0)\n",
    "# Create a Fiber optic column\n",
    "df_inter['Fiber optic'] = np.where(df_inter['InternetService'] =='Fiber optic', 1, 0)\n",
    "# eliminate inecesarry columns\n",
    "df_inter = df_inter.drop(['InternetService','Sum'], axis = 1)"
   ]
  },
  {
   "cell_type": "code",
   "execution_count": 27,
   "metadata": {},
   "outputs": [
    {
     "data": {
      "text/html": [
       "<div>\n",
       "<style scoped>\n",
       "    .dataframe tbody tr th:only-of-type {\n",
       "        vertical-align: middle;\n",
       "    }\n",
       "\n",
       "    .dataframe tbody tr th {\n",
       "        vertical-align: top;\n",
       "    }\n",
       "\n",
       "    .dataframe thead th {\n",
       "        text-align: right;\n",
       "    }\n",
       "</style>\n",
       "<table border=\"1\" class=\"dataframe\">\n",
       "  <thead>\n",
       "    <tr style=\"text-align: right;\">\n",
       "      <th></th>\n",
       "      <th>customerID</th>\n",
       "      <th>OnlineSecurity</th>\n",
       "      <th>OnlineBackup</th>\n",
       "      <th>DeviceProtection</th>\n",
       "      <th>TechSupport</th>\n",
       "      <th>StreamingTV</th>\n",
       "      <th>StreamingMovies</th>\n",
       "      <th>DSL</th>\n",
       "      <th>Fiber optic</th>\n",
       "    </tr>\n",
       "  </thead>\n",
       "  <tbody>\n",
       "    <tr>\n",
       "      <th>0</th>\n",
       "      <td>7590-VHVEG</td>\n",
       "      <td>0</td>\n",
       "      <td>1</td>\n",
       "      <td>0</td>\n",
       "      <td>0</td>\n",
       "      <td>0</td>\n",
       "      <td>0</td>\n",
       "      <td>1</td>\n",
       "      <td>0</td>\n",
       "    </tr>\n",
       "    <tr>\n",
       "      <th>1</th>\n",
       "      <td>5575-GNVDE</td>\n",
       "      <td>1</td>\n",
       "      <td>0</td>\n",
       "      <td>1</td>\n",
       "      <td>0</td>\n",
       "      <td>0</td>\n",
       "      <td>0</td>\n",
       "      <td>1</td>\n",
       "      <td>0</td>\n",
       "    </tr>\n",
       "    <tr>\n",
       "      <th>2</th>\n",
       "      <td>3668-QPYBK</td>\n",
       "      <td>1</td>\n",
       "      <td>1</td>\n",
       "      <td>0</td>\n",
       "      <td>0</td>\n",
       "      <td>0</td>\n",
       "      <td>0</td>\n",
       "      <td>1</td>\n",
       "      <td>0</td>\n",
       "    </tr>\n",
       "    <tr>\n",
       "      <th>3</th>\n",
       "      <td>7795-CFOCW</td>\n",
       "      <td>1</td>\n",
       "      <td>0</td>\n",
       "      <td>1</td>\n",
       "      <td>1</td>\n",
       "      <td>0</td>\n",
       "      <td>0</td>\n",
       "      <td>1</td>\n",
       "      <td>0</td>\n",
       "    </tr>\n",
       "    <tr>\n",
       "      <th>4</th>\n",
       "      <td>9237-HQITU</td>\n",
       "      <td>0</td>\n",
       "      <td>0</td>\n",
       "      <td>0</td>\n",
       "      <td>0</td>\n",
       "      <td>0</td>\n",
       "      <td>0</td>\n",
       "      <td>0</td>\n",
       "      <td>1</td>\n",
       "    </tr>\n",
       "  </tbody>\n",
       "</table>\n",
       "</div>"
      ],
      "text/plain": [
       "   customerID  OnlineSecurity  OnlineBackup  DeviceProtection  TechSupport  \\\n",
       "0  7590-VHVEG               0             1                 0            0   \n",
       "1  5575-GNVDE               1             0                 1            0   \n",
       "2  3668-QPYBK               1             1                 0            0   \n",
       "3  7795-CFOCW               1             0                 1            1   \n",
       "4  9237-HQITU               0             0                 0            0   \n",
       "\n",
       "   StreamingTV  StreamingMovies  DSL  Fiber optic  \n",
       "0            0                0    1            0  \n",
       "1            0                0    1            0  \n",
       "2            0                0    1            0  \n",
       "3            0                0    1            0  \n",
       "4            0                0    0            1  "
      ]
     },
     "execution_count": 27,
     "metadata": {},
     "output_type": "execute_result"
    }
   ],
   "source": [
    "df_inter.head()"
   ]
  },
  {
   "cell_type": "markdown",
   "metadata": {},
   "source": [
    "#### Contract dataframe `df_cont`"
   ]
  },
  {
   "cell_type": "code",
   "execution_count": 28,
   "metadata": {},
   "outputs": [],
   "source": [
    "# Change 'PaperlessBilling' to integers\n",
    "to_integers(df_cont, ['PaperlessBilling'], 'Yes')\n",
    "# Change `BeginDate` to datetime object.\n",
    "df_cont['BeginDate'] = pd.to_datetime(df_cont['BeginDate'], format='%Y-%m-%d')"
   ]
  },
  {
   "cell_type": "code",
   "execution_count": 29,
   "metadata": {},
   "outputs": [
    {
     "data": {
      "text/html": [
       "<div>\n",
       "<style scoped>\n",
       "    .dataframe tbody tr th:only-of-type {\n",
       "        vertical-align: middle;\n",
       "    }\n",
       "\n",
       "    .dataframe tbody tr th {\n",
       "        vertical-align: top;\n",
       "    }\n",
       "\n",
       "    .dataframe thead th {\n",
       "        text-align: right;\n",
       "    }\n",
       "</style>\n",
       "<table border=\"1\" class=\"dataframe\">\n",
       "  <thead>\n",
       "    <tr style=\"text-align: right;\">\n",
       "      <th></th>\n",
       "      <th>customerID</th>\n",
       "      <th>BeginDate</th>\n",
       "      <th>EndDate</th>\n",
       "      <th>Type</th>\n",
       "      <th>PaperlessBilling</th>\n",
       "      <th>PaymentMethod</th>\n",
       "      <th>MonthlyCharges</th>\n",
       "      <th>TotalCharges</th>\n",
       "    </tr>\n",
       "  </thead>\n",
       "  <tbody>\n",
       "    <tr>\n",
       "      <th>488</th>\n",
       "      <td>4472-LVYGI</td>\n",
       "      <td>2020-02-01</td>\n",
       "      <td>No</td>\n",
       "      <td>Two year</td>\n",
       "      <td>1</td>\n",
       "      <td>Bank transfer (automatic)</td>\n",
       "      <td>52.55</td>\n",
       "      <td></td>\n",
       "    </tr>\n",
       "    <tr>\n",
       "      <th>753</th>\n",
       "      <td>3115-CZMZD</td>\n",
       "      <td>2020-02-01</td>\n",
       "      <td>No</td>\n",
       "      <td>Two year</td>\n",
       "      <td>0</td>\n",
       "      <td>Mailed check</td>\n",
       "      <td>20.25</td>\n",
       "      <td></td>\n",
       "    </tr>\n",
       "    <tr>\n",
       "      <th>936</th>\n",
       "      <td>5709-LVOEQ</td>\n",
       "      <td>2020-02-01</td>\n",
       "      <td>No</td>\n",
       "      <td>Two year</td>\n",
       "      <td>0</td>\n",
       "      <td>Mailed check</td>\n",
       "      <td>80.85</td>\n",
       "      <td></td>\n",
       "    </tr>\n",
       "    <tr>\n",
       "      <th>1082</th>\n",
       "      <td>4367-NUYAO</td>\n",
       "      <td>2020-02-01</td>\n",
       "      <td>No</td>\n",
       "      <td>Two year</td>\n",
       "      <td>0</td>\n",
       "      <td>Mailed check</td>\n",
       "      <td>25.75</td>\n",
       "      <td></td>\n",
       "    </tr>\n",
       "    <tr>\n",
       "      <th>1340</th>\n",
       "      <td>1371-DWPAZ</td>\n",
       "      <td>2020-02-01</td>\n",
       "      <td>No</td>\n",
       "      <td>Two year</td>\n",
       "      <td>0</td>\n",
       "      <td>Credit card (automatic)</td>\n",
       "      <td>56.05</td>\n",
       "      <td></td>\n",
       "    </tr>\n",
       "    <tr>\n",
       "      <th>3331</th>\n",
       "      <td>7644-OMVMY</td>\n",
       "      <td>2020-02-01</td>\n",
       "      <td>No</td>\n",
       "      <td>Two year</td>\n",
       "      <td>0</td>\n",
       "      <td>Mailed check</td>\n",
       "      <td>19.85</td>\n",
       "      <td></td>\n",
       "    </tr>\n",
       "    <tr>\n",
       "      <th>3826</th>\n",
       "      <td>3213-VVOLG</td>\n",
       "      <td>2020-02-01</td>\n",
       "      <td>No</td>\n",
       "      <td>Two year</td>\n",
       "      <td>0</td>\n",
       "      <td>Mailed check</td>\n",
       "      <td>25.35</td>\n",
       "      <td></td>\n",
       "    </tr>\n",
       "    <tr>\n",
       "      <th>4380</th>\n",
       "      <td>2520-SGTTA</td>\n",
       "      <td>2020-02-01</td>\n",
       "      <td>No</td>\n",
       "      <td>Two year</td>\n",
       "      <td>0</td>\n",
       "      <td>Mailed check</td>\n",
       "      <td>20.00</td>\n",
       "      <td></td>\n",
       "    </tr>\n",
       "    <tr>\n",
       "      <th>5218</th>\n",
       "      <td>2923-ARZLG</td>\n",
       "      <td>2020-02-01</td>\n",
       "      <td>No</td>\n",
       "      <td>One year</td>\n",
       "      <td>1</td>\n",
       "      <td>Mailed check</td>\n",
       "      <td>19.70</td>\n",
       "      <td></td>\n",
       "    </tr>\n",
       "    <tr>\n",
       "      <th>6670</th>\n",
       "      <td>4075-WKNIU</td>\n",
       "      <td>2020-02-01</td>\n",
       "      <td>No</td>\n",
       "      <td>Two year</td>\n",
       "      <td>0</td>\n",
       "      <td>Mailed check</td>\n",
       "      <td>73.35</td>\n",
       "      <td></td>\n",
       "    </tr>\n",
       "    <tr>\n",
       "      <th>6754</th>\n",
       "      <td>2775-SEFEE</td>\n",
       "      <td>2020-02-01</td>\n",
       "      <td>No</td>\n",
       "      <td>Two year</td>\n",
       "      <td>1</td>\n",
       "      <td>Bank transfer (automatic)</td>\n",
       "      <td>61.90</td>\n",
       "      <td></td>\n",
       "    </tr>\n",
       "  </tbody>\n",
       "</table>\n",
       "</div>"
      ],
      "text/plain": [
       "      customerID  BeginDate EndDate      Type  PaperlessBilling  \\\n",
       "488   4472-LVYGI 2020-02-01      No  Two year                 1   \n",
       "753   3115-CZMZD 2020-02-01      No  Two year                 0   \n",
       "936   5709-LVOEQ 2020-02-01      No  Two year                 0   \n",
       "1082  4367-NUYAO 2020-02-01      No  Two year                 0   \n",
       "1340  1371-DWPAZ 2020-02-01      No  Two year                 0   \n",
       "3331  7644-OMVMY 2020-02-01      No  Two year                 0   \n",
       "3826  3213-VVOLG 2020-02-01      No  Two year                 0   \n",
       "4380  2520-SGTTA 2020-02-01      No  Two year                 0   \n",
       "5218  2923-ARZLG 2020-02-01      No  One year                 1   \n",
       "6670  4075-WKNIU 2020-02-01      No  Two year                 0   \n",
       "6754  2775-SEFEE 2020-02-01      No  Two year                 1   \n",
       "\n",
       "                  PaymentMethod  MonthlyCharges TotalCharges  \n",
       "488   Bank transfer (automatic)           52.55               \n",
       "753                Mailed check           20.25               \n",
       "936                Mailed check           80.85               \n",
       "1082               Mailed check           25.75               \n",
       "1340    Credit card (automatic)           56.05               \n",
       "3331               Mailed check           19.85               \n",
       "3826               Mailed check           25.35               \n",
       "4380               Mailed check           20.00               \n",
       "5218               Mailed check           19.70               \n",
       "6670               Mailed check           73.35               \n",
       "6754  Bank transfer (automatic)           61.90               "
      ]
     },
     "execution_count": 29,
     "metadata": {},
     "output_type": "execute_result"
    }
   ],
   "source": [
    "# Because of a previous error, we detected the presence of empty strings in TotalCharges\n",
    "df_cont[df_cont['TotalCharges'] == ' ']"
   ]
  },
  {
   "cell_type": "markdown",
   "metadata": {},
   "source": [
    "We can see they share the same `BeginDate`. It is possible it is the last date and therefore they do not have `TotalCharges` yet."
   ]
  },
  {
   "cell_type": "code",
   "execution_count": 30,
   "metadata": {},
   "outputs": [
    {
     "data": {
      "text/plain": [
       "Timestamp('2020-02-01 00:00:00')"
      ]
     },
     "execution_count": 30,
     "metadata": {},
     "output_type": "execute_result"
    }
   ],
   "source": [
    "# Most recent date\n",
    "df_cont.BeginDate.max()"
   ]
  },
  {
   "cell_type": "code",
   "execution_count": 31,
   "metadata": {},
   "outputs": [
    {
     "data": {
      "text/plain": [
       "'2020-01-01 00:00:00'"
      ]
     },
     "execution_count": 31,
     "metadata": {},
     "output_type": "execute_result"
    }
   ],
   "source": [
    "# Most recent drop out date\n",
    "df_cont.query('EndDate != \"No\"')['EndDate'].max()"
   ]
  },
  {
   "cell_type": "code",
   "execution_count": 32,
   "metadata": {},
   "outputs": [
    {
     "data": {
      "text/html": [
       "<div>\n",
       "<style scoped>\n",
       "    .dataframe tbody tr th:only-of-type {\n",
       "        vertical-align: middle;\n",
       "    }\n",
       "\n",
       "    .dataframe tbody tr th {\n",
       "        vertical-align: top;\n",
       "    }\n",
       "\n",
       "    .dataframe thead th {\n",
       "        text-align: right;\n",
       "    }\n",
       "</style>\n",
       "<table border=\"1\" class=\"dataframe\">\n",
       "  <thead>\n",
       "    <tr style=\"text-align: right;\">\n",
       "      <th></th>\n",
       "      <th>customerID</th>\n",
       "      <th>BeginDate</th>\n",
       "      <th>EndDate</th>\n",
       "      <th>Type</th>\n",
       "      <th>PaperlessBilling</th>\n",
       "      <th>PaymentMethod</th>\n",
       "      <th>MonthlyCharges</th>\n",
       "      <th>TotalCharges</th>\n",
       "    </tr>\n",
       "  </thead>\n",
       "  <tbody>\n",
       "    <tr>\n",
       "      <th>1</th>\n",
       "      <td>5575-GNVDE</td>\n",
       "      <td>2017-04-01</td>\n",
       "      <td>No</td>\n",
       "      <td>One year</td>\n",
       "      <td>0</td>\n",
       "      <td>Mailed check</td>\n",
       "      <td>56.95</td>\n",
       "      <td>1889.5</td>\n",
       "    </tr>\n",
       "    <tr>\n",
       "      <th>3</th>\n",
       "      <td>7795-CFOCW</td>\n",
       "      <td>2016-05-01</td>\n",
       "      <td>No</td>\n",
       "      <td>One year</td>\n",
       "      <td>0</td>\n",
       "      <td>Bank transfer (automatic)</td>\n",
       "      <td>42.30</td>\n",
       "      <td>1840.75</td>\n",
       "    </tr>\n",
       "    <tr>\n",
       "      <th>9</th>\n",
       "      <td>6388-TABGU</td>\n",
       "      <td>2014-12-01</td>\n",
       "      <td>No</td>\n",
       "      <td>One year</td>\n",
       "      <td>0</td>\n",
       "      <td>Bank transfer (automatic)</td>\n",
       "      <td>56.15</td>\n",
       "      <td>3487.95</td>\n",
       "    </tr>\n",
       "    <tr>\n",
       "      <th>12</th>\n",
       "      <td>8091-TTVAX</td>\n",
       "      <td>2015-04-01</td>\n",
       "      <td>No</td>\n",
       "      <td>One year</td>\n",
       "      <td>0</td>\n",
       "      <td>Credit card (automatic)</td>\n",
       "      <td>100.35</td>\n",
       "      <td>5681.1</td>\n",
       "    </tr>\n",
       "    <tr>\n",
       "      <th>16</th>\n",
       "      <td>8191-XWSZG</td>\n",
       "      <td>2015-10-01</td>\n",
       "      <td>No</td>\n",
       "      <td>One year</td>\n",
       "      <td>0</td>\n",
       "      <td>Mailed check</td>\n",
       "      <td>20.65</td>\n",
       "      <td>1022.95</td>\n",
       "    </tr>\n",
       "    <tr>\n",
       "      <th>21</th>\n",
       "      <td>1680-VDCWW</td>\n",
       "      <td>2019-02-01</td>\n",
       "      <td>No</td>\n",
       "      <td>One year</td>\n",
       "      <td>0</td>\n",
       "      <td>Bank transfer (automatic)</td>\n",
       "      <td>19.80</td>\n",
       "      <td>202.25</td>\n",
       "    </tr>\n",
       "    <tr>\n",
       "      <th>32</th>\n",
       "      <td>6827-IEAUQ</td>\n",
       "      <td>2017-11-01</td>\n",
       "      <td>No</td>\n",
       "      <td>One year</td>\n",
       "      <td>0</td>\n",
       "      <td>Mailed check</td>\n",
       "      <td>66.15</td>\n",
       "      <td>1874.45</td>\n",
       "    </tr>\n",
       "    <tr>\n",
       "      <th>40</th>\n",
       "      <td>8865-TNMNX</td>\n",
       "      <td>2019-04-01</td>\n",
       "      <td>No</td>\n",
       "      <td>One year</td>\n",
       "      <td>0</td>\n",
       "      <td>Mailed check</td>\n",
       "      <td>49.55</td>\n",
       "      <td>475.7</td>\n",
       "    </tr>\n",
       "    <tr>\n",
       "      <th>42</th>\n",
       "      <td>9867-JCZSP</td>\n",
       "      <td>2018-09-01</td>\n",
       "      <td>No</td>\n",
       "      <td>One year</td>\n",
       "      <td>0</td>\n",
       "      <td>Mailed check</td>\n",
       "      <td>20.75</td>\n",
       "      <td>418.25</td>\n",
       "    </tr>\n",
       "    <tr>\n",
       "      <th>54</th>\n",
       "      <td>4667-QONEA</td>\n",
       "      <td>2015-02-01</td>\n",
       "      <td>No</td>\n",
       "      <td>One year</td>\n",
       "      <td>1</td>\n",
       "      <td>Credit card (automatic)</td>\n",
       "      <td>74.85</td>\n",
       "      <td>4456.35</td>\n",
       "    </tr>\n",
       "  </tbody>\n",
       "</table>\n",
       "</div>"
      ],
      "text/plain": [
       "    customerID  BeginDate EndDate      Type  PaperlessBilling  \\\n",
       "1   5575-GNVDE 2017-04-01      No  One year                 0   \n",
       "3   7795-CFOCW 2016-05-01      No  One year                 0   \n",
       "9   6388-TABGU 2014-12-01      No  One year                 0   \n",
       "12  8091-TTVAX 2015-04-01      No  One year                 0   \n",
       "16  8191-XWSZG 2015-10-01      No  One year                 0   \n",
       "21  1680-VDCWW 2019-02-01      No  One year                 0   \n",
       "32  6827-IEAUQ 2017-11-01      No  One year                 0   \n",
       "40  8865-TNMNX 2019-04-01      No  One year                 0   \n",
       "42  9867-JCZSP 2018-09-01      No  One year                 0   \n",
       "54  4667-QONEA 2015-02-01      No  One year                 1   \n",
       "\n",
       "                PaymentMethod  MonthlyCharges TotalCharges  \n",
       "1                Mailed check           56.95       1889.5  \n",
       "3   Bank transfer (automatic)           42.30      1840.75  \n",
       "9   Bank transfer (automatic)           56.15      3487.95  \n",
       "12    Credit card (automatic)          100.35       5681.1  \n",
       "16               Mailed check           20.65      1022.95  \n",
       "21  Bank transfer (automatic)           19.80       202.25  \n",
       "32               Mailed check           66.15      1874.45  \n",
       "40               Mailed check           49.55        475.7  \n",
       "42               Mailed check           20.75       418.25  \n",
       "54    Credit card (automatic)           74.85      4456.35  "
      ]
     },
     "execution_count": 32,
     "metadata": {},
     "output_type": "execute_result"
    }
   ],
   "source": [
    "# Looking for a total charge value as a multiple (different than 12) of the monthly charge.\n",
    "df_cont.query('Type == \"One year\"').head(10)"
   ]
  },
  {
   "cell_type": "markdown",
   "metadata": {},
   "source": [
    "We then know the absent values are just not-yet updated values. It seems reasonable that the `TotalCharges` are calculated by the product of the monthly payment and the past months. To prove it true, let us analyse the people who has left (because we can estimate its spread more easily)"
   ]
  },
  {
   "cell_type": "code",
   "execution_count": 33,
   "metadata": {},
   "outputs": [],
   "source": [
    "# Dataframe copy of people who left\n",
    "df_disloyal = df_cont.query(\"EndDate != 'No'\").copy()\n",
    "# Convert `EndDate` to datetime\n",
    "df_disloyal['EndDate'] = pd.to_datetime(df_disloyal['EndDate'], format='%Y-%m-%d')\n",
    "# Convert `TotalCharges` to float\n",
    "df_disloyal['TotalCharges'] = df_disloyal['TotalCharges'].astype(float)\n",
    "# Time spread between dates in months\n",
    "df_disloyal['spread'] = ((df_disloyal['EndDate']-df_disloyal['BeginDate'])/pd.Timedelta(days=30)).round()"
   ]
  },
  {
   "cell_type": "code",
   "execution_count": 34,
   "metadata": {},
   "outputs": [
    {
     "data": {
      "text/plain": [
       "Timestamp('2020-02-01 00:00:00')"
      ]
     },
     "execution_count": 34,
     "metadata": {},
     "output_type": "execute_result"
    }
   ],
   "source": [
    "# Most recent sign up date\n",
    "df_cont['BeginDate'].max()"
   ]
  },
  {
   "cell_type": "code",
   "execution_count": 35,
   "metadata": {},
   "outputs": [
    {
     "data": {
      "image/png": "[encoded data removed]",
      "text/plain": [
       "<Figure size 432x288 with 1 Axes>"
      ]
     },
     "metadata": {
      "needs_background": "light"
     },
     "output_type": "display_data"
    }
   ],
   "source": [
    "# Compare dsitribution between monthly charges and Totalcharges/months\n",
    "df_disloyal['MonthlyCharges'].plot(kind='hist', bins=25);"
   ]
  },
  {
   "cell_type": "code",
   "execution_count": 36,
   "metadata": {},
   "outputs": [
    {
     "data": {
      "image/png": "[encoded data removed]",
      "text/plain": [
       "<Figure size 432x288 with 1 Axes>"
      ]
     },
     "metadata": {
      "needs_background": "light"
     },
     "output_type": "display_data"
    }
   ],
   "source": [
    "(df_disloyal['TotalCharges']/df_disloyal['spread']).plot(kind='hist', bins=25);"
   ]
  },
  {
   "cell_type": "markdown",
   "metadata": {},
   "source": [
    "This shows similar graphs for regular installments, no matter if they are month to month or year to year payments. We then can say that we can fill the missing values given that the next total charge the next month will be _almost_ the same as the current monthly charge."
   ]
  },
  {
   "cell_type": "code",
   "execution_count": 37,
   "metadata": {},
   "outputs": [],
   "source": [
    "# Fill the missing values\n",
    "df_cont['TotalCharges'] = np.where(df_cont['TotalCharges'] == \" \", df_cont['MonthlyCharges'], df_cont['TotalCharges'] )"
   ]
  },
  {
   "cell_type": "code",
   "execution_count": 38,
   "metadata": {},
   "outputs": [
    {
     "data": {
      "text/html": [
       "<div>\n",
       "<style scoped>\n",
       "    .dataframe tbody tr th:only-of-type {\n",
       "        vertical-align: middle;\n",
       "    }\n",
       "\n",
       "    .dataframe tbody tr th {\n",
       "        vertical-align: top;\n",
       "    }\n",
       "\n",
       "    .dataframe thead th {\n",
       "        text-align: right;\n",
       "    }\n",
       "</style>\n",
       "<table border=\"1\" class=\"dataframe\">\n",
       "  <thead>\n",
       "    <tr style=\"text-align: right;\">\n",
       "      <th></th>\n",
       "      <th>customerID</th>\n",
       "      <th>BeginDate</th>\n",
       "      <th>EndDate</th>\n",
       "      <th>Type</th>\n",
       "      <th>PaperlessBilling</th>\n",
       "      <th>PaymentMethod</th>\n",
       "      <th>MonthlyCharges</th>\n",
       "      <th>TotalCharges</th>\n",
       "    </tr>\n",
       "  </thead>\n",
       "  <tbody>\n",
       "    <tr>\n",
       "      <th>488</th>\n",
       "      <td>4472-LVYGI</td>\n",
       "      <td>2020-02-01</td>\n",
       "      <td>No</td>\n",
       "      <td>Two year</td>\n",
       "      <td>1</td>\n",
       "      <td>Bank transfer (automatic)</td>\n",
       "      <td>52.55</td>\n",
       "      <td>52.55</td>\n",
       "    </tr>\n",
       "    <tr>\n",
       "      <th>753</th>\n",
       "      <td>3115-CZMZD</td>\n",
       "      <td>2020-02-01</td>\n",
       "      <td>No</td>\n",
       "      <td>Two year</td>\n",
       "      <td>0</td>\n",
       "      <td>Mailed check</td>\n",
       "      <td>20.25</td>\n",
       "      <td>20.25</td>\n",
       "    </tr>\n",
       "    <tr>\n",
       "      <th>936</th>\n",
       "      <td>5709-LVOEQ</td>\n",
       "      <td>2020-02-01</td>\n",
       "      <td>No</td>\n",
       "      <td>Two year</td>\n",
       "      <td>0</td>\n",
       "      <td>Mailed check</td>\n",
       "      <td>80.85</td>\n",
       "      <td>80.85</td>\n",
       "    </tr>\n",
       "    <tr>\n",
       "      <th>1082</th>\n",
       "      <td>4367-NUYAO</td>\n",
       "      <td>2020-02-01</td>\n",
       "      <td>No</td>\n",
       "      <td>Two year</td>\n",
       "      <td>0</td>\n",
       "      <td>Mailed check</td>\n",
       "      <td>25.75</td>\n",
       "      <td>25.75</td>\n",
       "    </tr>\n",
       "    <tr>\n",
       "      <th>1340</th>\n",
       "      <td>1371-DWPAZ</td>\n",
       "      <td>2020-02-01</td>\n",
       "      <td>No</td>\n",
       "      <td>Two year</td>\n",
       "      <td>0</td>\n",
       "      <td>Credit card (automatic)</td>\n",
       "      <td>56.05</td>\n",
       "      <td>56.05</td>\n",
       "    </tr>\n",
       "    <tr>\n",
       "      <th>3331</th>\n",
       "      <td>7644-OMVMY</td>\n",
       "      <td>2020-02-01</td>\n",
       "      <td>No</td>\n",
       "      <td>Two year</td>\n",
       "      <td>0</td>\n",
       "      <td>Mailed check</td>\n",
       "      <td>19.85</td>\n",
       "      <td>19.85</td>\n",
       "    </tr>\n",
       "    <tr>\n",
       "      <th>3826</th>\n",
       "      <td>3213-VVOLG</td>\n",
       "      <td>2020-02-01</td>\n",
       "      <td>No</td>\n",
       "      <td>Two year</td>\n",
       "      <td>0</td>\n",
       "      <td>Mailed check</td>\n",
       "      <td>25.35</td>\n",
       "      <td>25.35</td>\n",
       "    </tr>\n",
       "    <tr>\n",
       "      <th>4380</th>\n",
       "      <td>2520-SGTTA</td>\n",
       "      <td>2020-02-01</td>\n",
       "      <td>No</td>\n",
       "      <td>Two year</td>\n",
       "      <td>0</td>\n",
       "      <td>Mailed check</td>\n",
       "      <td>20.00</td>\n",
       "      <td>20.0</td>\n",
       "    </tr>\n",
       "    <tr>\n",
       "      <th>5218</th>\n",
       "      <td>2923-ARZLG</td>\n",
       "      <td>2020-02-01</td>\n",
       "      <td>No</td>\n",
       "      <td>One year</td>\n",
       "      <td>1</td>\n",
       "      <td>Mailed check</td>\n",
       "      <td>19.70</td>\n",
       "      <td>19.7</td>\n",
       "    </tr>\n",
       "    <tr>\n",
       "      <th>6670</th>\n",
       "      <td>4075-WKNIU</td>\n",
       "      <td>2020-02-01</td>\n",
       "      <td>No</td>\n",
       "      <td>Two year</td>\n",
       "      <td>0</td>\n",
       "      <td>Mailed check</td>\n",
       "      <td>73.35</td>\n",
       "      <td>73.35</td>\n",
       "    </tr>\n",
       "    <tr>\n",
       "      <th>6754</th>\n",
       "      <td>2775-SEFEE</td>\n",
       "      <td>2020-02-01</td>\n",
       "      <td>No</td>\n",
       "      <td>Two year</td>\n",
       "      <td>1</td>\n",
       "      <td>Bank transfer (automatic)</td>\n",
       "      <td>61.90</td>\n",
       "      <td>61.9</td>\n",
       "    </tr>\n",
       "  </tbody>\n",
       "</table>\n",
       "</div>"
      ],
      "text/plain": [
       "      customerID  BeginDate EndDate      Type  PaperlessBilling  \\\n",
       "488   4472-LVYGI 2020-02-01      No  Two year                 1   \n",
       "753   3115-CZMZD 2020-02-01      No  Two year                 0   \n",
       "936   5709-LVOEQ 2020-02-01      No  Two year                 0   \n",
       "1082  4367-NUYAO 2020-02-01      No  Two year                 0   \n",
       "1340  1371-DWPAZ 2020-02-01      No  Two year                 0   \n",
       "3331  7644-OMVMY 2020-02-01      No  Two year                 0   \n",
       "3826  3213-VVOLG 2020-02-01      No  Two year                 0   \n",
       "4380  2520-SGTTA 2020-02-01      No  Two year                 0   \n",
       "5218  2923-ARZLG 2020-02-01      No  One year                 1   \n",
       "6670  4075-WKNIU 2020-02-01      No  Two year                 0   \n",
       "6754  2775-SEFEE 2020-02-01      No  Two year                 1   \n",
       "\n",
       "                  PaymentMethod  MonthlyCharges TotalCharges  \n",
       "488   Bank transfer (automatic)           52.55        52.55  \n",
       "753                Mailed check           20.25        20.25  \n",
       "936                Mailed check           80.85        80.85  \n",
       "1082               Mailed check           25.75        25.75  \n",
       "1340    Credit card (automatic)           56.05        56.05  \n",
       "3331               Mailed check           19.85        19.85  \n",
       "3826               Mailed check           25.35        25.35  \n",
       "4380               Mailed check           20.00         20.0  \n",
       "5218               Mailed check           19.70         19.7  \n",
       "6670               Mailed check           73.35        73.35  \n",
       "6754  Bank transfer (automatic)           61.90         61.9  "
      ]
     },
     "execution_count": 38,
     "metadata": {},
     "output_type": "execute_result"
    }
   ],
   "source": [
    "# Result\n",
    "df_cont.query('BeginDate == \"2020-02-01\"')"
   ]
  },
  {
   "cell_type": "markdown",
   "metadata": {},
   "source": [
    "We no longer have missing values."
   ]
  },
  {
   "cell_type": "code",
   "execution_count": 39,
   "metadata": {},
   "outputs": [],
   "source": [
    "# Convert `TotalCharges` as float type\n",
    "df_cont['TotalCharges'] = df_cont['TotalCharges'].astype(float)"
   ]
  },
  {
   "cell_type": "markdown",
   "metadata": {},
   "source": [
    "Given that our model objective is to detect clients before leaving, we assign the people who already left a 1; 0 otherwise. "
   ]
  },
  {
   "cell_type": "code",
   "execution_count": 40,
   "metadata": {},
   "outputs": [
    {
     "data": {
      "text/html": [
       "<div>\n",
       "<style scoped>\n",
       "    .dataframe tbody tr th:only-of-type {\n",
       "        vertical-align: middle;\n",
       "    }\n",
       "\n",
       "    .dataframe tbody tr th {\n",
       "        vertical-align: top;\n",
       "    }\n",
       "\n",
       "    .dataframe thead th {\n",
       "        text-align: right;\n",
       "    }\n",
       "</style>\n",
       "<table border=\"1\" class=\"dataframe\">\n",
       "  <thead>\n",
       "    <tr style=\"text-align: right;\">\n",
       "      <th></th>\n",
       "      <th>customerID</th>\n",
       "      <th>BeginDate</th>\n",
       "      <th>EndDate</th>\n",
       "      <th>Type</th>\n",
       "      <th>PaperlessBilling</th>\n",
       "      <th>PaymentMethod</th>\n",
       "      <th>MonthlyCharges</th>\n",
       "      <th>TotalCharges</th>\n",
       "      <th>label</th>\n",
       "    </tr>\n",
       "  </thead>\n",
       "  <tbody>\n",
       "    <tr>\n",
       "      <th>0</th>\n",
       "      <td>7590-VHVEG</td>\n",
       "      <td>2020-01-01</td>\n",
       "      <td>No</td>\n",
       "      <td>Month-to-month</td>\n",
       "      <td>1</td>\n",
       "      <td>Electronic check</td>\n",
       "      <td>29.85</td>\n",
       "      <td>29.85</td>\n",
       "      <td>0</td>\n",
       "    </tr>\n",
       "    <tr>\n",
       "      <th>1</th>\n",
       "      <td>5575-GNVDE</td>\n",
       "      <td>2017-04-01</td>\n",
       "      <td>No</td>\n",
       "      <td>One year</td>\n",
       "      <td>0</td>\n",
       "      <td>Mailed check</td>\n",
       "      <td>56.95</td>\n",
       "      <td>1889.50</td>\n",
       "      <td>0</td>\n",
       "    </tr>\n",
       "    <tr>\n",
       "      <th>2</th>\n",
       "      <td>3668-QPYBK</td>\n",
       "      <td>2019-10-01</td>\n",
       "      <td>2019-12-01 00:00:00</td>\n",
       "      <td>Month-to-month</td>\n",
       "      <td>1</td>\n",
       "      <td>Mailed check</td>\n",
       "      <td>53.85</td>\n",
       "      <td>108.15</td>\n",
       "      <td>1</td>\n",
       "    </tr>\n",
       "    <tr>\n",
       "      <th>3</th>\n",
       "      <td>7795-CFOCW</td>\n",
       "      <td>2016-05-01</td>\n",
       "      <td>No</td>\n",
       "      <td>One year</td>\n",
       "      <td>0</td>\n",
       "      <td>Bank transfer (automatic)</td>\n",
       "      <td>42.30</td>\n",
       "      <td>1840.75</td>\n",
       "      <td>0</td>\n",
       "    </tr>\n",
       "    <tr>\n",
       "      <th>4</th>\n",
       "      <td>9237-HQITU</td>\n",
       "      <td>2019-09-01</td>\n",
       "      <td>2019-11-01 00:00:00</td>\n",
       "      <td>Month-to-month</td>\n",
       "      <td>1</td>\n",
       "      <td>Electronic check</td>\n",
       "      <td>70.70</td>\n",
       "      <td>151.65</td>\n",
       "      <td>1</td>\n",
       "    </tr>\n",
       "  </tbody>\n",
       "</table>\n",
       "</div>"
      ],
      "text/plain": [
       "   customerID  BeginDate              EndDate            Type  \\\n",
       "0  7590-VHVEG 2020-01-01                   No  Month-to-month   \n",
       "1  5575-GNVDE 2017-04-01                   No        One year   \n",
       "2  3668-QPYBK 2019-10-01  2019-12-01 00:00:00  Month-to-month   \n",
       "3  7795-CFOCW 2016-05-01                   No        One year   \n",
       "4  9237-HQITU 2019-09-01  2019-11-01 00:00:00  Month-to-month   \n",
       "\n",
       "   PaperlessBilling              PaymentMethod  MonthlyCharges  TotalCharges  \\\n",
       "0                 1           Electronic check           29.85         29.85   \n",
       "1                 0               Mailed check           56.95       1889.50   \n",
       "2                 1               Mailed check           53.85        108.15   \n",
       "3                 0  Bank transfer (automatic)           42.30       1840.75   \n",
       "4                 1           Electronic check           70.70        151.65   \n",
       "\n",
       "   label  \n",
       "0      0  \n",
       "1      0  \n",
       "2      1  \n",
       "3      0  \n",
       "4      1  "
      ]
     },
     "execution_count": 40,
     "metadata": {},
     "output_type": "execute_result"
    }
   ],
   "source": [
    "# Create a label column with `EndDate`\n",
    "df_cont['label'] = np.where(df_cont['EndDate'] == 'No', 0, 1)\n",
    "df_cont.head()"
   ]
  },
  {
   "cell_type": "markdown",
   "metadata": {},
   "source": [
    "Now we have our principal dataframe completed, we can start diving in more deeply. We can change the type data for the date columns. Then we can calculate the difference between dates. Also, we can estimate the total charges with the number of months and the monthly charge and compare its value with the `totalCharges` variable."
   ]
  },
  {
   "cell_type": "code",
   "execution_count": 41,
   "metadata": {},
   "outputs": [],
   "source": [
    "# Change 'No' by last date one month before the last calculus of total charge -01 00:00:00'\n",
    "df_cont['EndDate'] = np.where(df_cont['EndDate'] == 'No', '2020-02-01 00:00:00', df_cont['EndDate'])\n",
    "# Change `EndDate` to datetime type\n",
    "df_cont['EndDate'] = pd.to_datetime(df_cont['EndDate'], format='%Y-%m-%d')\n",
    "# Calculate the spread between dates in motnths\n",
    "df_cont['spread'] = (((df_cont['EndDate'] - df_cont['BeginDate'])) / np.timedelta64(1, 'M')).round()\n",
    "# Calculate baseTotalCharges\n",
    "df_cont['baseTotalCharges'] = df_cont['MonthlyCharges']*df_cont['spread']\n",
    "# Calculate the differnece in the TotalCharge\n",
    "df_cont['increment'] = df_cont['TotalCharges']-df_cont['baseTotalCharges']\n",
    "# Efective payment per month\n",
    "df_cont['baseMonthlyCharges'] = df_cont['TotalCharges']/df_cont['spread']"
   ]
  },
  {
   "cell_type": "code",
   "execution_count": 42,
   "metadata": {},
   "outputs": [
    {
     "data": {
      "text/html": [
       "<div>\n",
       "<style scoped>\n",
       "    .dataframe tbody tr th:only-of-type {\n",
       "        vertical-align: middle;\n",
       "    }\n",
       "\n",
       "    .dataframe tbody tr th {\n",
       "        vertical-align: top;\n",
       "    }\n",
       "\n",
       "    .dataframe thead th {\n",
       "        text-align: right;\n",
       "    }\n",
       "</style>\n",
       "<table border=\"1\" class=\"dataframe\">\n",
       "  <thead>\n",
       "    <tr style=\"text-align: right;\">\n",
       "      <th></th>\n",
       "      <th>customerID</th>\n",
       "      <th>BeginDate</th>\n",
       "      <th>EndDate</th>\n",
       "      <th>Type</th>\n",
       "      <th>PaperlessBilling</th>\n",
       "      <th>PaymentMethod</th>\n",
       "      <th>MonthlyCharges</th>\n",
       "      <th>TotalCharges</th>\n",
       "      <th>label</th>\n",
       "      <th>spread</th>\n",
       "      <th>baseTotalCharges</th>\n",
       "      <th>increment</th>\n",
       "      <th>baseMonthlyCharges</th>\n",
       "    </tr>\n",
       "  </thead>\n",
       "  <tbody>\n",
       "    <tr>\n",
       "      <th>0</th>\n",
       "      <td>7590-VHVEG</td>\n",
       "      <td>2020-01-01</td>\n",
       "      <td>2020-02-01</td>\n",
       "      <td>Month-to-month</td>\n",
       "      <td>1</td>\n",
       "      <td>Electronic check</td>\n",
       "      <td>29.85</td>\n",
       "      <td>29.85</td>\n",
       "      <td>0</td>\n",
       "      <td>1.0</td>\n",
       "      <td>29.85</td>\n",
       "      <td>0.00</td>\n",
       "      <td>29.850000</td>\n",
       "    </tr>\n",
       "    <tr>\n",
       "      <th>1</th>\n",
       "      <td>5575-GNVDE</td>\n",
       "      <td>2017-04-01</td>\n",
       "      <td>2020-02-01</td>\n",
       "      <td>One year</td>\n",
       "      <td>0</td>\n",
       "      <td>Mailed check</td>\n",
       "      <td>56.95</td>\n",
       "      <td>1889.50</td>\n",
       "      <td>0</td>\n",
       "      <td>34.0</td>\n",
       "      <td>1936.30</td>\n",
       "      <td>-46.80</td>\n",
       "      <td>55.573529</td>\n",
       "    </tr>\n",
       "    <tr>\n",
       "      <th>2</th>\n",
       "      <td>3668-QPYBK</td>\n",
       "      <td>2019-10-01</td>\n",
       "      <td>2019-12-01</td>\n",
       "      <td>Month-to-month</td>\n",
       "      <td>1</td>\n",
       "      <td>Mailed check</td>\n",
       "      <td>53.85</td>\n",
       "      <td>108.15</td>\n",
       "      <td>1</td>\n",
       "      <td>2.0</td>\n",
       "      <td>107.70</td>\n",
       "      <td>0.45</td>\n",
       "      <td>54.075000</td>\n",
       "    </tr>\n",
       "  </tbody>\n",
       "</table>\n",
       "</div>"
      ],
      "text/plain": [
       "   customerID  BeginDate    EndDate            Type  PaperlessBilling  \\\n",
       "0  7590-VHVEG 2020-01-01 2020-02-01  Month-to-month                 1   \n",
       "1  5575-GNVDE 2017-04-01 2020-02-01        One year                 0   \n",
       "2  3668-QPYBK 2019-10-01 2019-12-01  Month-to-month                 1   \n",
       "\n",
       "      PaymentMethod  MonthlyCharges  TotalCharges  label  spread  \\\n",
       "0  Electronic check           29.85         29.85      0     1.0   \n",
       "1      Mailed check           56.95       1889.50      0    34.0   \n",
       "2      Mailed check           53.85        108.15      1     2.0   \n",
       "\n",
       "   baseTotalCharges  increment  baseMonthlyCharges  \n",
       "0             29.85       0.00           29.850000  \n",
       "1           1936.30     -46.80           55.573529  \n",
       "2            107.70       0.45           54.075000  "
      ]
     },
     "execution_count": 42,
     "metadata": {},
     "output_type": "execute_result"
    }
   ],
   "source": [
    "df_cont.head(3)"
   ]
  },
  {
   "cell_type": "markdown",
   "metadata": {},
   "source": [
    "### Effective monthly payment rates"
   ]
  },
  {
   "cell_type": "markdown",
   "metadata": {},
   "source": [
    "We are going to estimate rates among the people who has left and those who remain. By dividing the mean income per type of those who remain by the mean income of those who left, we can have an idea of how much the company earn per average client. Remember, in this case zero means \"loyal\". "
   ]
  },
  {
   "cell_type": "code",
   "execution_count": 43,
   "metadata": {},
   "outputs": [
    {
     "data": {
      "text/plain": [
       "Type\n",
       "Month-to-month    0.841357\n",
       "One year          0.735713\n",
       "Two year          0.693623\n",
       "Name: baseMonthlyCharges, dtype: float64"
      ]
     },
     "execution_count": 43,
     "metadata": {},
     "output_type": "execute_result"
    }
   ],
   "source": [
    "# Rate on Type payments\n",
    "df_cont.query('label == 0 and spread > 0').groupby(['Type'])['baseMonthlyCharges'].mean()/df_cont.query('label == 1 and spread > 0').groupby(['Type'])['baseMonthlyCharges'].mean()"
   ]
  },
  {
   "cell_type": "code",
   "execution_count": 44,
   "metadata": {
    "scrolled": true
   },
   "outputs": [
    {
     "data": {
      "text/plain": [
       "PaymentMethod\n",
       "Bank transfer (automatic)    0.836581\n",
       "Credit card (automatic)      0.836567\n",
       "Electronic check             0.942945\n",
       "Mailed check                 0.758381\n",
       "Name: baseMonthlyCharges, dtype: float64"
      ]
     },
     "execution_count": 44,
     "metadata": {},
     "output_type": "execute_result"
    }
   ],
   "source": [
    "# Rate by PaymenthMethod\n",
    "df_cont.query('label == 0 and spread > 0').groupby(['PaymentMethod'])['baseMonthlyCharges'].mean()/df_cont.query('label == 1 and spread > 0').groupby(['PaymentMethod'])['baseMonthlyCharges'].mean()"
   ]
  },
  {
   "cell_type": "markdown",
   "metadata": {},
   "source": [
    "**Observations:**\n",
    "\n",
    "- In general, we charge less to the people who remain.\n",
    "- In general, we charge less the longer the term."
   ]
  },
  {
   "cell_type": "markdown",
   "metadata": {},
   "source": [
    "### Months before leaving"
   ]
  },
  {
   "cell_type": "markdown",
   "metadata": {},
   "source": [
    " Additionaly, we show the distribution of the spread before leaving. "
   ]
  },
  {
   "cell_type": "code",
   "execution_count": 45,
   "metadata": {},
   "outputs": [
    {
     "data": {
      "image/png": "[encoded data removed]",
      "text/plain": [
       "<Figure size 432x288 with 1 Axes>"
      ]
     },
     "metadata": {
      "needs_background": "light"
     },
     "output_type": "display_data"
    }
   ],
   "source": [
    "df_cont.query('label == 1 and spread > 0')['spread'].plot(kind='hist', bins=70, grid=True);"
   ]
  },
  {
   "cell_type": "code",
   "execution_count": 46,
   "metadata": {},
   "outputs": [
    {
     "data": {
      "text/plain": [
       "1.0    0.203317\n",
       "2.0    0.065811\n",
       "3.0    0.050294\n",
       "4.0    0.044409\n",
       "5.0    0.034243\n",
       "Name: spread, dtype: float64"
      ]
     },
     "execution_count": 46,
     "metadata": {},
     "output_type": "execute_result"
    }
   ],
   "source": [
    "df_cont.query('label == 1 and spread > 0')['spread'].value_counts(normalize=True).head()"
   ]
  },
  {
   "cell_type": "markdown",
   "metadata": {},
   "source": [
    "More than 20% percent of the people who left just lasted one month and the next 20 in the next 4 months, moreover, we know we have clients since the year 2013 but they have been leaving just in the last 4 months (from October 2019 to January 2020 )."
   ]
  },
  {
   "cell_type": "markdown",
   "metadata": {},
   "source": [
    "### Analysing the discrepancy in Total Charges"
   ]
  },
  {
   "cell_type": "code",
   "execution_count": 47,
   "metadata": {},
   "outputs": [
    {
     "data": {
      "image/png": "[encoded data removed]",
      "text/plain": [
       "<Figure size 432x288 with 1 Axes>"
      ]
     },
     "metadata": {
      "needs_background": "light"
     },
     "output_type": "display_data"
    }
   ],
   "source": [
    "df_cont.query('label == 0 and spread > 0 ').groupby(['spread'])['increment'].mean().plot(\n",
    "    kind='line', xticks=range(0,80,5), grid=True, ylabel='Charges - Charges estimated', title='Difference in total charges(loyals)');"
   ]
  },
  {
   "cell_type": "code",
   "execution_count": 48,
   "metadata": {},
   "outputs": [
    {
     "data": {
      "image/png": "[encoded data removed]",
      "text/plain": [
       "<Figure size 432x288 with 1 Axes>"
      ]
     },
     "metadata": {
      "needs_background": "light"
     },
     "output_type": "display_data"
    }
   ],
   "source": [
    "df_cont.query('label == 1 and spread > 0').groupby(['spread'])['increment'].mean().plot(\n",
    "    kind='line', xticks=range(0,80,5), grid=True,  ylabel='Charges - Charges estimated', title='Difference in total charges(disloyals)');"
   ]
  },
  {
   "cell_type": "code",
   "execution_count": 49,
   "metadata": {},
   "outputs": [
    {
     "data": {
      "text/plain": [
       "Type\n",
       "Month-to-month   -1.479144\n",
       "One year          2.507542\n",
       "Two year          0.449664\n",
       "Name: increment, dtype: float64"
      ]
     },
     "execution_count": 49,
     "metadata": {},
     "output_type": "execute_result"
    }
   ],
   "source": [
    "# Mean difference by type of contract (loyals)\n",
    "df_cont.query('label ==0 and spread > 0').groupby(['Type'])['increment'].mean()"
   ]
  },
  {
   "cell_type": "code",
   "execution_count": 50,
   "metadata": {},
   "outputs": [
    {
     "data": {
      "text/plain": [
       "Type\n",
       "Month-to-month   -0.030544\n",
       "One year          5.063855\n",
       "Two year         -9.167708\n",
       "Name: increment, dtype: float64"
      ]
     },
     "execution_count": 50,
     "metadata": {},
     "output_type": "execute_result"
    }
   ],
   "source": [
    "# Mean difference by type of contract (disloyals)\n",
    "df_cont.query('label ==1 and spread > 0').groupby(['Type'])['increment'].mean()"
   ]
  },
  {
   "cell_type": "markdown",
   "metadata": {},
   "source": [
    "**Observations:**\n",
    "\n",
    "- The increments gravitate around zero.\n",
    "- The domain with \"loyals\" is approximately (-18, 21); with \"disloylas\" is (-62.5, 125)\n",
    "- The increments variance grow along with time. This is clearer for the \"disloyals\"  but more erratic for the 'loyals'.\n",
    "- We are charging even more in the One year tipe in both cases."
   ]
  },
  {
   "cell_type": "markdown",
   "metadata": {},
   "source": [
    "## Questions.\n",
    "\n",
    "- Why is there a difference between the monthly payments and the total charge divided by the number of months?\n",
    "- Why are the clients leaving in this narrow window of time?\n",
    "- How to add a variable of \"Time in the company before leaving\" for people who have not left. "
   ]
  },
  {
   "cell_type": "markdown",
   "metadata": {},
   "source": [
    "## Following steps.\n",
    "\n",
    "- To apply OHE where necessary: We have converted some columns into binary numbers but there are some columns that still need the treatment.\n",
    "- We will incorporate data from `df_inter`, `df_phone`, and `df_personal` into `df_cont`. In some cases we are going to preserve both columns to differenciate among clients with one or both services. However, `df_personal` already has every client, so this process will not be needed here.\n",
    "- To divide datasets: It is always important to have a training and validation dataset.\n",
    "- To try different models: By trying different models with different parameters we could select the best result. We will change the threshold in some models for its improvement."
   ]
  },
  {
   "cell_type": "markdown",
   "metadata": {},
   "source": [
    "# Modeling"
   ]
  },
  {
   "cell_type": "markdown",
   "metadata": {},
   "source": [
    "## Preparations"
   ]
  },
  {
   "cell_type": "markdown",
   "metadata": {},
   "source": [
    "First, we merge the dataframes and then apply an econding method for the remaining categorical columns. Second, we divide our dataset between two sets (training and validation set) and separate our label column. Subsequently, we will train different models and make adjustments on them if necessary."
   ]
  },
  {
   "cell_type": "markdown",
   "metadata": {},
   "source": [
    "### Merge dataframes and fill absent values."
   ]
  },
  {
   "cell_type": "code",
   "execution_count": 51,
   "metadata": {},
   "outputs": [],
   "source": [
    "# Merge all dataframes\n",
    "df = df_cont.merge(df_personal, how='inner', on='customerID').merge(df_inter, how='left', on='customerID').merge(df_phone, how='left', on = 'customerID')"
   ]
  },
  {
   "cell_type": "code",
   "execution_count": 52,
   "metadata": {},
   "outputs": [
    {
     "data": {
      "text/plain": [
       "customerID               0\n",
       "BeginDate                0\n",
       "EndDate                  0\n",
       "Type                     0\n",
       "PaperlessBilling         0\n",
       "PaymentMethod            0\n",
       "MonthlyCharges           0\n",
       "TotalCharges             0\n",
       "label                    0\n",
       "spread                   0\n",
       "baseTotalCharges         0\n",
       "increment                0\n",
       "baseMonthlyCharges       0\n",
       "gender                   0\n",
       "SeniorCitizen            0\n",
       "Partner                  0\n",
       "Dependents               0\n",
       "OnlineSecurity        1526\n",
       "OnlineBackup          1526\n",
       "DeviceProtection      1526\n",
       "TechSupport           1526\n",
       "StreamingTV           1526\n",
       "StreamingMovies       1526\n",
       "DSL                   1526\n",
       "Fiber optic           1526\n",
       "MultipleLines          682\n",
       "SingleLine             682\n",
       "dtype: int64"
      ]
     },
     "execution_count": 52,
     "metadata": {},
     "output_type": "execute_result"
    }
   ],
   "source": [
    "# Count nan values.\n",
    "df.isna().sum()"
   ]
  },
  {
   "cell_type": "markdown",
   "metadata": {},
   "source": [
    "Now we have the expected missing values from merging the datasets. Observe how the values are the same that the ones we calculated earlier with set theory. It is necessary to fill them with zero because it adds relevant information."
   ]
  },
  {
   "cell_type": "code",
   "execution_count": 53,
   "metadata": {},
   "outputs": [],
   "source": [
    "# Filling the values wtih zero.\n",
    "df = df.fillna(0)"
   ]
  },
  {
   "cell_type": "markdown",
   "metadata": {},
   "source": [
    "### Eliminate innecessary columns and create train and test set."
   ]
  },
  {
   "cell_type": "code",
   "execution_count": 54,
   "metadata": {},
   "outputs": [],
   "source": [
    "# Eliminate columns we no longer need\n",
    "eliminated = ['customerID', 'BeginDate', 'EndDate', 'baseTotalCharges', 'baseMonthlyCharges', 'SeniorCitizen', 'gender',]\n",
    "df = df.drop(eliminated, axis=1)\n",
    "# Divide our datasets\n",
    "df_train, df_test = train_test_split(df, test_size=0.25, random_state=24601)\n",
    "# Obtain the objective for train dataset\n",
    "x_train = df_train.drop(['label'], axis=1)\n",
    "y_train = df_train['label']\n",
    "# Obtain the objective for test dataset\n",
    "x_test = df_test.drop(['label'], axis=1)\n",
    "y_test = df_test['label']"
   ]
  },
  {
   "cell_type": "code",
   "execution_count": 55,
   "metadata": {},
   "outputs": [
    {
     "data": {
      "text/plain": [
       "((5282, 19), (1761, 19), (5282,), (1761,))"
      ]
     },
     "execution_count": 55,
     "metadata": {},
     "output_type": "execute_result"
    }
   ],
   "source": [
    "# Showing dimensions of our datatset\n",
    "x_train.shape, x_test.shape, y_train.shape, y_test.shape"
   ]
  },
  {
   "cell_type": "code",
   "execution_count": 56,
   "metadata": {},
   "outputs": [
    {
     "data": {
      "text/html": [
       "<div>\n",
       "<style scoped>\n",
       "    .dataframe tbody tr th:only-of-type {\n",
       "        vertical-align: middle;\n",
       "    }\n",
       "\n",
       "    .dataframe tbody tr th {\n",
       "        vertical-align: top;\n",
       "    }\n",
       "\n",
       "    .dataframe thead th {\n",
       "        text-align: right;\n",
       "    }\n",
       "</style>\n",
       "<table border=\"1\" class=\"dataframe\">\n",
       "  <thead>\n",
       "    <tr style=\"text-align: right;\">\n",
       "      <th></th>\n",
       "      <th>Type</th>\n",
       "      <th>PaperlessBilling</th>\n",
       "      <th>PaymentMethod</th>\n",
       "      <th>MonthlyCharges</th>\n",
       "      <th>TotalCharges</th>\n",
       "      <th>spread</th>\n",
       "      <th>increment</th>\n",
       "      <th>Partner</th>\n",
       "      <th>Dependents</th>\n",
       "      <th>OnlineSecurity</th>\n",
       "      <th>OnlineBackup</th>\n",
       "      <th>DeviceProtection</th>\n",
       "      <th>TechSupport</th>\n",
       "      <th>StreamingTV</th>\n",
       "      <th>StreamingMovies</th>\n",
       "      <th>DSL</th>\n",
       "      <th>Fiber optic</th>\n",
       "      <th>MultipleLines</th>\n",
       "      <th>SingleLine</th>\n",
       "    </tr>\n",
       "  </thead>\n",
       "  <tbody>\n",
       "    <tr>\n",
       "      <th>583</th>\n",
       "      <td>Month-to-month</td>\n",
       "      <td>1</td>\n",
       "      <td>Mailed check</td>\n",
       "      <td>19.00</td>\n",
       "      <td>19.00</td>\n",
       "      <td>1.0</td>\n",
       "      <td>0.00</td>\n",
       "      <td>1</td>\n",
       "      <td>1</td>\n",
       "      <td>0.0</td>\n",
       "      <td>0.0</td>\n",
       "      <td>0.0</td>\n",
       "      <td>0.0</td>\n",
       "      <td>0.0</td>\n",
       "      <td>0.0</td>\n",
       "      <td>0.0</td>\n",
       "      <td>0.0</td>\n",
       "      <td>0.0</td>\n",
       "      <td>1.0</td>\n",
       "    </tr>\n",
       "    <tr>\n",
       "      <th>2030</th>\n",
       "      <td>Month-to-month</td>\n",
       "      <td>0</td>\n",
       "      <td>Bank transfer (automatic)</td>\n",
       "      <td>60.95</td>\n",
       "      <td>134.60</td>\n",
       "      <td>2.0</td>\n",
       "      <td>12.70</td>\n",
       "      <td>0</td>\n",
       "      <td>1</td>\n",
       "      <td>1.0</td>\n",
       "      <td>1.0</td>\n",
       "      <td>0.0</td>\n",
       "      <td>0.0</td>\n",
       "      <td>0.0</td>\n",
       "      <td>0.0</td>\n",
       "      <td>1.0</td>\n",
       "      <td>0.0</td>\n",
       "      <td>1.0</td>\n",
       "      <td>0.0</td>\n",
       "    </tr>\n",
       "    <tr>\n",
       "      <th>28</th>\n",
       "      <td>Two year</td>\n",
       "      <td>1</td>\n",
       "      <td>Credit card (automatic)</td>\n",
       "      <td>90.25</td>\n",
       "      <td>6369.45</td>\n",
       "      <td>72.0</td>\n",
       "      <td>-128.55</td>\n",
       "      <td>1</td>\n",
       "      <td>0</td>\n",
       "      <td>1.0</td>\n",
       "      <td>1.0</td>\n",
       "      <td>1.0</td>\n",
       "      <td>1.0</td>\n",
       "      <td>1.0</td>\n",
       "      <td>1.0</td>\n",
       "      <td>1.0</td>\n",
       "      <td>0.0</td>\n",
       "      <td>1.0</td>\n",
       "      <td>0.0</td>\n",
       "    </tr>\n",
       "  </tbody>\n",
       "</table>\n",
       "</div>"
      ],
      "text/plain": [
       "                Type  PaperlessBilling              PaymentMethod  \\\n",
       "583   Month-to-month                 1               Mailed check   \n",
       "2030  Month-to-month                 0  Bank transfer (automatic)   \n",
       "28          Two year                 1    Credit card (automatic)   \n",
       "\n",
       "      MonthlyCharges  TotalCharges  spread  increment  Partner  Dependents  \\\n",
       "583            19.00         19.00     1.0       0.00        1           1   \n",
       "2030           60.95        134.60     2.0      12.70        0           1   \n",
       "28             90.25       6369.45    72.0    -128.55        1           0   \n",
       "\n",
       "      OnlineSecurity  OnlineBackup  DeviceProtection  TechSupport  \\\n",
       "583              0.0           0.0               0.0          0.0   \n",
       "2030             1.0           1.0               0.0          0.0   \n",
       "28               1.0           1.0               1.0          1.0   \n",
       "\n",
       "      StreamingTV  StreamingMovies  DSL  Fiber optic  MultipleLines  \\\n",
       "583           0.0              0.0  0.0          0.0            0.0   \n",
       "2030          0.0              0.0  1.0          0.0            1.0   \n",
       "28            1.0              1.0  1.0          0.0            1.0   \n",
       "\n",
       "      SingleLine  \n",
       "583          1.0  \n",
       "2030         0.0  \n",
       "28           0.0  "
      ]
     },
     "execution_count": 56,
     "metadata": {},
     "output_type": "execute_result"
    }
   ],
   "source": [
    "# Showing the results for the dx_train dataset.\n",
    "x_train.head(3)"
   ]
  },
  {
   "cell_type": "markdown",
   "metadata": {},
   "source": [
    "### Apply OHE where necessary"
   ]
  },
  {
   "cell_type": "code",
   "execution_count": 57,
   "metadata": {},
   "outputs": [
    {
     "data": {
      "text/html": [
       "<div>\n",
       "<style scoped>\n",
       "    .dataframe tbody tr th:only-of-type {\n",
       "        vertical-align: middle;\n",
       "    }\n",
       "\n",
       "    .dataframe tbody tr th {\n",
       "        vertical-align: top;\n",
       "    }\n",
       "\n",
       "    .dataframe thead th {\n",
       "        text-align: right;\n",
       "    }\n",
       "</style>\n",
       "<table border=\"1\" class=\"dataframe\">\n",
       "  <thead>\n",
       "    <tr style=\"text-align: right;\">\n",
       "      <th></th>\n",
       "      <th>PaperlessBilling</th>\n",
       "      <th>MonthlyCharges</th>\n",
       "      <th>TotalCharges</th>\n",
       "      <th>spread</th>\n",
       "      <th>increment</th>\n",
       "      <th>Partner</th>\n",
       "      <th>Dependents</th>\n",
       "      <th>OnlineSecurity</th>\n",
       "      <th>OnlineBackup</th>\n",
       "      <th>DeviceProtection</th>\n",
       "      <th>...</th>\n",
       "      <th>StreamingMovies</th>\n",
       "      <th>DSL</th>\n",
       "      <th>Fiber optic</th>\n",
       "      <th>MultipleLines</th>\n",
       "      <th>SingleLine</th>\n",
       "      <th>One Year</th>\n",
       "      <th>Two Year</th>\n",
       "      <th>Credit card</th>\n",
       "      <th>Electronic check</th>\n",
       "      <th>Mailed check</th>\n",
       "    </tr>\n",
       "    <tr>\n",
       "      <th>index</th>\n",
       "      <th></th>\n",
       "      <th></th>\n",
       "      <th></th>\n",
       "      <th></th>\n",
       "      <th></th>\n",
       "      <th></th>\n",
       "      <th></th>\n",
       "      <th></th>\n",
       "      <th></th>\n",
       "      <th></th>\n",
       "      <th></th>\n",
       "      <th></th>\n",
       "      <th></th>\n",
       "      <th></th>\n",
       "      <th></th>\n",
       "      <th></th>\n",
       "      <th></th>\n",
       "      <th></th>\n",
       "      <th></th>\n",
       "      <th></th>\n",
       "      <th></th>\n",
       "    </tr>\n",
       "  </thead>\n",
       "  <tbody>\n",
       "    <tr>\n",
       "      <th>583</th>\n",
       "      <td>1</td>\n",
       "      <td>19.00</td>\n",
       "      <td>19.00</td>\n",
       "      <td>1.0</td>\n",
       "      <td>0.00</td>\n",
       "      <td>1</td>\n",
       "      <td>1</td>\n",
       "      <td>0.0</td>\n",
       "      <td>0.0</td>\n",
       "      <td>0.0</td>\n",
       "      <td>...</td>\n",
       "      <td>0.0</td>\n",
       "      <td>0.0</td>\n",
       "      <td>0.0</td>\n",
       "      <td>0.0</td>\n",
       "      <td>1.0</td>\n",
       "      <td>0.0</td>\n",
       "      <td>0.0</td>\n",
       "      <td>0.0</td>\n",
       "      <td>0.0</td>\n",
       "      <td>1.0</td>\n",
       "    </tr>\n",
       "    <tr>\n",
       "      <th>2030</th>\n",
       "      <td>0</td>\n",
       "      <td>60.95</td>\n",
       "      <td>134.60</td>\n",
       "      <td>2.0</td>\n",
       "      <td>12.70</td>\n",
       "      <td>0</td>\n",
       "      <td>1</td>\n",
       "      <td>1.0</td>\n",
       "      <td>1.0</td>\n",
       "      <td>0.0</td>\n",
       "      <td>...</td>\n",
       "      <td>0.0</td>\n",
       "      <td>1.0</td>\n",
       "      <td>0.0</td>\n",
       "      <td>1.0</td>\n",
       "      <td>0.0</td>\n",
       "      <td>0.0</td>\n",
       "      <td>0.0</td>\n",
       "      <td>0.0</td>\n",
       "      <td>0.0</td>\n",
       "      <td>0.0</td>\n",
       "    </tr>\n",
       "    <tr>\n",
       "      <th>28</th>\n",
       "      <td>1</td>\n",
       "      <td>90.25</td>\n",
       "      <td>6369.45</td>\n",
       "      <td>72.0</td>\n",
       "      <td>-128.55</td>\n",
       "      <td>1</td>\n",
       "      <td>0</td>\n",
       "      <td>1.0</td>\n",
       "      <td>1.0</td>\n",
       "      <td>1.0</td>\n",
       "      <td>...</td>\n",
       "      <td>1.0</td>\n",
       "      <td>1.0</td>\n",
       "      <td>0.0</td>\n",
       "      <td>1.0</td>\n",
       "      <td>0.0</td>\n",
       "      <td>0.0</td>\n",
       "      <td>1.0</td>\n",
       "      <td>1.0</td>\n",
       "      <td>0.0</td>\n",
       "      <td>0.0</td>\n",
       "    </tr>\n",
       "  </tbody>\n",
       "</table>\n",
       "<p>3 rows × 22 columns</p>\n",
       "</div>"
      ],
      "text/plain": [
       "       PaperlessBilling  MonthlyCharges  TotalCharges  spread  increment  \\\n",
       "index                                                                      \n",
       "583                   1           19.00         19.00     1.0       0.00   \n",
       "2030                  0           60.95        134.60     2.0      12.70   \n",
       "28                    1           90.25       6369.45    72.0    -128.55   \n",
       "\n",
       "       Partner  Dependents  OnlineSecurity  OnlineBackup  DeviceProtection  \\\n",
       "index                                                                        \n",
       "583          1           1             0.0           0.0               0.0   \n",
       "2030         0           1             1.0           1.0               0.0   \n",
       "28           1           0             1.0           1.0               1.0   \n",
       "\n",
       "       ...  StreamingMovies  DSL  Fiber optic  MultipleLines  SingleLine  \\\n",
       "index  ...                                                                 \n",
       "583    ...              0.0  0.0          0.0            0.0         1.0   \n",
       "2030   ...              0.0  1.0          0.0            1.0         0.0   \n",
       "28     ...              1.0  1.0          0.0            1.0         0.0   \n",
       "\n",
       "       One Year  Two Year  Credit card  Electronic check  Mailed check  \n",
       "index                                                                   \n",
       "583         0.0       0.0          0.0               0.0           1.0  \n",
       "2030        0.0       0.0          0.0               0.0           0.0  \n",
       "28          0.0       1.0          1.0               0.0           0.0  \n",
       "\n",
       "[3 rows x 22 columns]"
      ]
     },
     "execution_count": 57,
     "metadata": {},
     "output_type": "execute_result"
    }
   ],
   "source": [
    "# Create an OHE instance \n",
    "ohe = OneHotEncoder(sparse=False, drop='first')\n",
    "\n",
    "# List of columns to change\n",
    "ohe_columns = ['Type', 'PaymentMethod']\n",
    "\n",
    "# New list of names to insert\n",
    "new_columns = ['One Year', 'Two Year', 'Credit card', 'Electronic check', 'Mailed check']\n",
    "\n",
    "#Create a dataframe to concat\n",
    "condition_ohe_train = pd.DataFrame(ohe.fit_transform(x_train[ohe_columns]), columns=new_columns)\n",
    "# Create our dataframe with ohe columns\n",
    "xtrain = pd.concat([x_train.drop(columns= ohe_columns).reset_index(drop=False), condition_ohe_train], axis=1)\n",
    "xtrain = xtrain.set_index('index')\n",
    "# Show it\n",
    "xtrain.head(3)\n"
   ]
  },
  {
   "cell_type": "code",
   "execution_count": 58,
   "metadata": {},
   "outputs": [
    {
     "data": {
      "text/html": [
       "<div>\n",
       "<style scoped>\n",
       "    .dataframe tbody tr th:only-of-type {\n",
       "        vertical-align: middle;\n",
       "    }\n",
       "\n",
       "    .dataframe tbody tr th {\n",
       "        vertical-align: top;\n",
       "    }\n",
       "\n",
       "    .dataframe thead th {\n",
       "        text-align: right;\n",
       "    }\n",
       "</style>\n",
       "<table border=\"1\" class=\"dataframe\">\n",
       "  <thead>\n",
       "    <tr style=\"text-align: right;\">\n",
       "      <th></th>\n",
       "      <th>PaperlessBilling</th>\n",
       "      <th>MonthlyCharges</th>\n",
       "      <th>TotalCharges</th>\n",
       "      <th>spread</th>\n",
       "      <th>increment</th>\n",
       "      <th>Partner</th>\n",
       "      <th>Dependents</th>\n",
       "      <th>OnlineSecurity</th>\n",
       "      <th>OnlineBackup</th>\n",
       "      <th>DeviceProtection</th>\n",
       "      <th>...</th>\n",
       "      <th>StreamingMovies</th>\n",
       "      <th>DSL</th>\n",
       "      <th>Fiber optic</th>\n",
       "      <th>MultipleLines</th>\n",
       "      <th>SingleLine</th>\n",
       "      <th>One Year</th>\n",
       "      <th>Two Year</th>\n",
       "      <th>Credit card</th>\n",
       "      <th>Electronic check</th>\n",
       "      <th>Mailed check</th>\n",
       "    </tr>\n",
       "    <tr>\n",
       "      <th>index</th>\n",
       "      <th></th>\n",
       "      <th></th>\n",
       "      <th></th>\n",
       "      <th></th>\n",
       "      <th></th>\n",
       "      <th></th>\n",
       "      <th></th>\n",
       "      <th></th>\n",
       "      <th></th>\n",
       "      <th></th>\n",
       "      <th></th>\n",
       "      <th></th>\n",
       "      <th></th>\n",
       "      <th></th>\n",
       "      <th></th>\n",
       "      <th></th>\n",
       "      <th></th>\n",
       "      <th></th>\n",
       "      <th></th>\n",
       "      <th></th>\n",
       "      <th></th>\n",
       "    </tr>\n",
       "  </thead>\n",
       "  <tbody>\n",
       "    <tr>\n",
       "      <th>2704</th>\n",
       "      <td>0</td>\n",
       "      <td>60.60</td>\n",
       "      <td>3297.00</td>\n",
       "      <td>53.0</td>\n",
       "      <td>85.20</td>\n",
       "      <td>1</td>\n",
       "      <td>1</td>\n",
       "      <td>0.0</td>\n",
       "      <td>0.0</td>\n",
       "      <td>1.0</td>\n",
       "      <td>...</td>\n",
       "      <td>1.0</td>\n",
       "      <td>1.0</td>\n",
       "      <td>0.0</td>\n",
       "      <td>0.0</td>\n",
       "      <td>1.0</td>\n",
       "      <td>1.0</td>\n",
       "      <td>0.0</td>\n",
       "      <td>1.0</td>\n",
       "      <td>0.0</td>\n",
       "      <td>0.0</td>\n",
       "    </tr>\n",
       "    <tr>\n",
       "      <th>5165</th>\n",
       "      <td>1</td>\n",
       "      <td>69.65</td>\n",
       "      <td>69.65</td>\n",
       "      <td>1.0</td>\n",
       "      <td>0.00</td>\n",
       "      <td>0</td>\n",
       "      <td>0</td>\n",
       "      <td>0.0</td>\n",
       "      <td>0.0</td>\n",
       "      <td>0.0</td>\n",
       "      <td>...</td>\n",
       "      <td>0.0</td>\n",
       "      <td>0.0</td>\n",
       "      <td>1.0</td>\n",
       "      <td>0.0</td>\n",
       "      <td>1.0</td>\n",
       "      <td>0.0</td>\n",
       "      <td>0.0</td>\n",
       "      <td>0.0</td>\n",
       "      <td>1.0</td>\n",
       "      <td>0.0</td>\n",
       "    </tr>\n",
       "    <tr>\n",
       "      <th>5257</th>\n",
       "      <td>1</td>\n",
       "      <td>101.10</td>\n",
       "      <td>3744.05</td>\n",
       "      <td>37.0</td>\n",
       "      <td>3.35</td>\n",
       "      <td>0</td>\n",
       "      <td>0</td>\n",
       "      <td>0.0</td>\n",
       "      <td>0.0</td>\n",
       "      <td>1.0</td>\n",
       "      <td>...</td>\n",
       "      <td>1.0</td>\n",
       "      <td>0.0</td>\n",
       "      <td>1.0</td>\n",
       "      <td>1.0</td>\n",
       "      <td>0.0</td>\n",
       "      <td>0.0</td>\n",
       "      <td>0.0</td>\n",
       "      <td>0.0</td>\n",
       "      <td>1.0</td>\n",
       "      <td>0.0</td>\n",
       "    </tr>\n",
       "  </tbody>\n",
       "</table>\n",
       "<p>3 rows × 22 columns</p>\n",
       "</div>"
      ],
      "text/plain": [
       "       PaperlessBilling  MonthlyCharges  TotalCharges  spread  increment  \\\n",
       "index                                                                      \n",
       "2704                  0           60.60       3297.00    53.0      85.20   \n",
       "5165                  1           69.65         69.65     1.0       0.00   \n",
       "5257                  1          101.10       3744.05    37.0       3.35   \n",
       "\n",
       "       Partner  Dependents  OnlineSecurity  OnlineBackup  DeviceProtection  \\\n",
       "index                                                                        \n",
       "2704         1           1             0.0           0.0               1.0   \n",
       "5165         0           0             0.0           0.0               0.0   \n",
       "5257         0           0             0.0           0.0               1.0   \n",
       "\n",
       "       ...  StreamingMovies  DSL  Fiber optic  MultipleLines  SingleLine  \\\n",
       "index  ...                                                                 \n",
       "2704   ...              1.0  1.0          0.0            0.0         1.0   \n",
       "5165   ...              0.0  0.0          1.0            0.0         1.0   \n",
       "5257   ...              1.0  0.0          1.0            1.0         0.0   \n",
       "\n",
       "       One Year  Two Year  Credit card  Electronic check  Mailed check  \n",
       "index                                                                   \n",
       "2704        1.0       0.0          1.0               0.0           0.0  \n",
       "5165        0.0       0.0          0.0               1.0           0.0  \n",
       "5257        0.0       0.0          0.0               1.0           0.0  \n",
       "\n",
       "[3 rows x 22 columns]"
      ]
     },
     "execution_count": 58,
     "metadata": {},
     "output_type": "execute_result"
    }
   ],
   "source": [
    "\n",
    "#Apply the same for the test set.\n",
    "condition_ohe_test = pd.DataFrame(ohe.transform(x_test[ohe_columns]), columns=new_columns)\n",
    "xtest = pd.concat([x_test.drop(columns= ohe_columns).reset_index(drop=False), condition_ohe_test], axis=1)\n",
    "xtest = xtest.set_index('index') \n",
    "xtest.head(3)\n"
   ]
  },
  {
   "cell_type": "markdown",
   "metadata": {},
   "source": [
    "### Apply Standard Scaler"
   ]
  },
  {
   "cell_type": "code",
   "execution_count": 59,
   "metadata": {},
   "outputs": [],
   "source": [
    "#Create an instancia\n",
    "ss = StandardScaler()\n",
    "# list of numeric varibales\n",
    "numericas = ['MonthlyCharges','TotalCharges','spread', 'increment']\n",
    "# Transforming the values in the train set\n",
    "xtrain[numericas] = ss.fit_transform(xtrain[numericas])\n",
    "#Transforming the values in the test set\n",
    "xtest[numericas] = ss.transform(xtest[numericas])"
   ]
  },
  {
   "cell_type": "code",
   "execution_count": 60,
   "metadata": {},
   "outputs": [
    {
     "data": {
      "text/html": [
       "<div>\n",
       "<style scoped>\n",
       "    .dataframe tbody tr th:only-of-type {\n",
       "        vertical-align: middle;\n",
       "    }\n",
       "\n",
       "    .dataframe tbody tr th {\n",
       "        vertical-align: top;\n",
       "    }\n",
       "\n",
       "    .dataframe thead th {\n",
       "        text-align: right;\n",
       "    }\n",
       "</style>\n",
       "<table border=\"1\" class=\"dataframe\">\n",
       "  <thead>\n",
       "    <tr style=\"text-align: right;\">\n",
       "      <th></th>\n",
       "      <th>PaperlessBilling</th>\n",
       "      <th>MonthlyCharges</th>\n",
       "      <th>TotalCharges</th>\n",
       "      <th>spread</th>\n",
       "      <th>increment</th>\n",
       "      <th>Partner</th>\n",
       "      <th>Dependents</th>\n",
       "      <th>OnlineSecurity</th>\n",
       "      <th>OnlineBackup</th>\n",
       "      <th>DeviceProtection</th>\n",
       "      <th>...</th>\n",
       "      <th>StreamingMovies</th>\n",
       "      <th>DSL</th>\n",
       "      <th>Fiber optic</th>\n",
       "      <th>MultipleLines</th>\n",
       "      <th>SingleLine</th>\n",
       "      <th>One Year</th>\n",
       "      <th>Two Year</th>\n",
       "      <th>Credit card</th>\n",
       "      <th>Electronic check</th>\n",
       "      <th>Mailed check</th>\n",
       "    </tr>\n",
       "    <tr>\n",
       "      <th>index</th>\n",
       "      <th></th>\n",
       "      <th></th>\n",
       "      <th></th>\n",
       "      <th></th>\n",
       "      <th></th>\n",
       "      <th></th>\n",
       "      <th></th>\n",
       "      <th></th>\n",
       "      <th></th>\n",
       "      <th></th>\n",
       "      <th></th>\n",
       "      <th></th>\n",
       "      <th></th>\n",
       "      <th></th>\n",
       "      <th></th>\n",
       "      <th></th>\n",
       "      <th></th>\n",
       "      <th></th>\n",
       "      <th></th>\n",
       "      <th></th>\n",
       "      <th></th>\n",
       "    </tr>\n",
       "  </thead>\n",
       "  <tbody>\n",
       "    <tr>\n",
       "      <th>2704</th>\n",
       "      <td>0</td>\n",
       "      <td>-0.134987</td>\n",
       "      <td>0.447955</td>\n",
       "      <td>0.837920</td>\n",
       "      <td>1.260778</td>\n",
       "      <td>1</td>\n",
       "      <td>1</td>\n",
       "      <td>0.0</td>\n",
       "      <td>0.0</td>\n",
       "      <td>1.0</td>\n",
       "      <td>...</td>\n",
       "      <td>1.0</td>\n",
       "      <td>1.0</td>\n",
       "      <td>0.0</td>\n",
       "      <td>0.0</td>\n",
       "      <td>1.0</td>\n",
       "      <td>1.0</td>\n",
       "      <td>0.0</td>\n",
       "      <td>1.0</td>\n",
       "      <td>0.0</td>\n",
       "      <td>0.0</td>\n",
       "    </tr>\n",
       "    <tr>\n",
       "      <th>5165</th>\n",
       "      <td>1</td>\n",
       "      <td>0.167447</td>\n",
       "      <td>-0.974514</td>\n",
       "      <td>-1.278194</td>\n",
       "      <td>-0.005353</td>\n",
       "      <td>0</td>\n",
       "      <td>0</td>\n",
       "      <td>0.0</td>\n",
       "      <td>0.0</td>\n",
       "      <td>0.0</td>\n",
       "      <td>...</td>\n",
       "      <td>0.0</td>\n",
       "      <td>0.0</td>\n",
       "      <td>1.0</td>\n",
       "      <td>0.0</td>\n",
       "      <td>1.0</td>\n",
       "      <td>0.0</td>\n",
       "      <td>0.0</td>\n",
       "      <td>0.0</td>\n",
       "      <td>1.0</td>\n",
       "      <td>0.0</td>\n",
       "    </tr>\n",
       "    <tr>\n",
       "      <th>5257</th>\n",
       "      <td>1</td>\n",
       "      <td>1.218445</td>\n",
       "      <td>0.644994</td>\n",
       "      <td>0.186808</td>\n",
       "      <td>0.044431</td>\n",
       "      <td>0</td>\n",
       "      <td>0</td>\n",
       "      <td>0.0</td>\n",
       "      <td>0.0</td>\n",
       "      <td>1.0</td>\n",
       "      <td>...</td>\n",
       "      <td>1.0</td>\n",
       "      <td>0.0</td>\n",
       "      <td>1.0</td>\n",
       "      <td>1.0</td>\n",
       "      <td>0.0</td>\n",
       "      <td>0.0</td>\n",
       "      <td>0.0</td>\n",
       "      <td>0.0</td>\n",
       "      <td>1.0</td>\n",
       "      <td>0.0</td>\n",
       "    </tr>\n",
       "  </tbody>\n",
       "</table>\n",
       "<p>3 rows × 22 columns</p>\n",
       "</div>"
      ],
      "text/plain": [
       "       PaperlessBilling  MonthlyCharges  TotalCharges    spread  increment  \\\n",
       "index                                                                        \n",
       "2704                  0       -0.134987      0.447955  0.837920   1.260778   \n",
       "5165                  1        0.167447     -0.974514 -1.278194  -0.005353   \n",
       "5257                  1        1.218445      0.644994  0.186808   0.044431   \n",
       "\n",
       "       Partner  Dependents  OnlineSecurity  OnlineBackup  DeviceProtection  \\\n",
       "index                                                                        \n",
       "2704         1           1             0.0           0.0               1.0   \n",
       "5165         0           0             0.0           0.0               0.0   \n",
       "5257         0           0             0.0           0.0               1.0   \n",
       "\n",
       "       ...  StreamingMovies  DSL  Fiber optic  MultipleLines  SingleLine  \\\n",
       "index  ...                                                                 \n",
       "2704   ...              1.0  1.0          0.0            0.0         1.0   \n",
       "5165   ...              0.0  0.0          1.0            0.0         1.0   \n",
       "5257   ...              1.0  0.0          1.0            1.0         0.0   \n",
       "\n",
       "       One Year  Two Year  Credit card  Electronic check  Mailed check  \n",
       "index                                                                   \n",
       "2704        1.0       0.0          1.0               0.0           0.0  \n",
       "5165        0.0       0.0          0.0               1.0           0.0  \n",
       "5257        0.0       0.0          0.0               1.0           0.0  \n",
       "\n",
       "[3 rows x 22 columns]"
      ]
     },
     "execution_count": 60,
     "metadata": {},
     "output_type": "execute_result"
    }
   ],
   "source": [
    "xtest.head(3)"
   ]
  },
  {
   "cell_type": "code",
   "execution_count": 61,
   "metadata": {},
   "outputs": [
    {
     "data": {
      "text/html": [
       "<div>\n",
       "<style scoped>\n",
       "    .dataframe tbody tr th:only-of-type {\n",
       "        vertical-align: middle;\n",
       "    }\n",
       "\n",
       "    .dataframe tbody tr th {\n",
       "        vertical-align: top;\n",
       "    }\n",
       "\n",
       "    .dataframe thead th {\n",
       "        text-align: right;\n",
       "    }\n",
       "</style>\n",
       "<table border=\"1\" class=\"dataframe\">\n",
       "  <thead>\n",
       "    <tr style=\"text-align: right;\">\n",
       "      <th></th>\n",
       "      <th>PaperlessBilling</th>\n",
       "      <th>MonthlyCharges</th>\n",
       "      <th>TotalCharges</th>\n",
       "      <th>spread</th>\n",
       "      <th>increment</th>\n",
       "      <th>Partner</th>\n",
       "      <th>Dependents</th>\n",
       "      <th>OnlineSecurity</th>\n",
       "      <th>OnlineBackup</th>\n",
       "      <th>DeviceProtection</th>\n",
       "      <th>...</th>\n",
       "      <th>StreamingMovies</th>\n",
       "      <th>DSL</th>\n",
       "      <th>Fiber optic</th>\n",
       "      <th>MultipleLines</th>\n",
       "      <th>SingleLine</th>\n",
       "      <th>One Year</th>\n",
       "      <th>Two Year</th>\n",
       "      <th>Credit card</th>\n",
       "      <th>Electronic check</th>\n",
       "      <th>Mailed check</th>\n",
       "    </tr>\n",
       "    <tr>\n",
       "      <th>index</th>\n",
       "      <th></th>\n",
       "      <th></th>\n",
       "      <th></th>\n",
       "      <th></th>\n",
       "      <th></th>\n",
       "      <th></th>\n",
       "      <th></th>\n",
       "      <th></th>\n",
       "      <th></th>\n",
       "      <th></th>\n",
       "      <th></th>\n",
       "      <th></th>\n",
       "      <th></th>\n",
       "      <th></th>\n",
       "      <th></th>\n",
       "      <th></th>\n",
       "      <th></th>\n",
       "      <th></th>\n",
       "      <th></th>\n",
       "      <th></th>\n",
       "      <th></th>\n",
       "    </tr>\n",
       "  </thead>\n",
       "  <tbody>\n",
       "    <tr>\n",
       "      <th>583</th>\n",
       "      <td>1</td>\n",
       "      <td>-1.525178</td>\n",
       "      <td>-0.996839</td>\n",
       "      <td>-1.278194</td>\n",
       "      <td>-0.005353</td>\n",
       "      <td>1</td>\n",
       "      <td>1</td>\n",
       "      <td>0.0</td>\n",
       "      <td>0.0</td>\n",
       "      <td>0.0</td>\n",
       "      <td>...</td>\n",
       "      <td>0.0</td>\n",
       "      <td>0.0</td>\n",
       "      <td>0.0</td>\n",
       "      <td>0.0</td>\n",
       "      <td>1.0</td>\n",
       "      <td>0.0</td>\n",
       "      <td>0.0</td>\n",
       "      <td>0.0</td>\n",
       "      <td>0.0</td>\n",
       "      <td>1.0</td>\n",
       "    </tr>\n",
       "    <tr>\n",
       "      <th>2030</th>\n",
       "      <td>0</td>\n",
       "      <td>-0.123290</td>\n",
       "      <td>-0.945887</td>\n",
       "      <td>-1.237499</td>\n",
       "      <td>0.183378</td>\n",
       "      <td>0</td>\n",
       "      <td>1</td>\n",
       "      <td>1.0</td>\n",
       "      <td>1.0</td>\n",
       "      <td>0.0</td>\n",
       "      <td>...</td>\n",
       "      <td>0.0</td>\n",
       "      <td>1.0</td>\n",
       "      <td>0.0</td>\n",
       "      <td>1.0</td>\n",
       "      <td>0.0</td>\n",
       "      <td>0.0</td>\n",
       "      <td>0.0</td>\n",
       "      <td>0.0</td>\n",
       "      <td>0.0</td>\n",
       "      <td>0.0</td>\n",
       "    </tr>\n",
       "    <tr>\n",
       "      <th>28</th>\n",
       "      <td>1</td>\n",
       "      <td>0.855859</td>\n",
       "      <td>1.802151</td>\n",
       "      <td>1.611115</td>\n",
       "      <td>-1.915694</td>\n",
       "      <td>1</td>\n",
       "      <td>0</td>\n",
       "      <td>1.0</td>\n",
       "      <td>1.0</td>\n",
       "      <td>1.0</td>\n",
       "      <td>...</td>\n",
       "      <td>1.0</td>\n",
       "      <td>1.0</td>\n",
       "      <td>0.0</td>\n",
       "      <td>1.0</td>\n",
       "      <td>0.0</td>\n",
       "      <td>0.0</td>\n",
       "      <td>1.0</td>\n",
       "      <td>1.0</td>\n",
       "      <td>0.0</td>\n",
       "      <td>0.0</td>\n",
       "    </tr>\n",
       "  </tbody>\n",
       "</table>\n",
       "<p>3 rows × 22 columns</p>\n",
       "</div>"
      ],
      "text/plain": [
       "       PaperlessBilling  MonthlyCharges  TotalCharges    spread  increment  \\\n",
       "index                                                                        \n",
       "583                   1       -1.525178     -0.996839 -1.278194  -0.005353   \n",
       "2030                  0       -0.123290     -0.945887 -1.237499   0.183378   \n",
       "28                    1        0.855859      1.802151  1.611115  -1.915694   \n",
       "\n",
       "       Partner  Dependents  OnlineSecurity  OnlineBackup  DeviceProtection  \\\n",
       "index                                                                        \n",
       "583          1           1             0.0           0.0               0.0   \n",
       "2030         0           1             1.0           1.0               0.0   \n",
       "28           1           0             1.0           1.0               1.0   \n",
       "\n",
       "       ...  StreamingMovies  DSL  Fiber optic  MultipleLines  SingleLine  \\\n",
       "index  ...                                                                 \n",
       "583    ...              0.0  0.0          0.0            0.0         1.0   \n",
       "2030   ...              0.0  1.0          0.0            1.0         0.0   \n",
       "28     ...              1.0  1.0          0.0            1.0         0.0   \n",
       "\n",
       "       One Year  Two Year  Credit card  Electronic check  Mailed check  \n",
       "index                                                                   \n",
       "583         0.0       0.0          0.0               0.0           1.0  \n",
       "2030        0.0       0.0          0.0               0.0           0.0  \n",
       "28          0.0       1.0          1.0               0.0           0.0  \n",
       "\n",
       "[3 rows x 22 columns]"
      ]
     },
     "execution_count": 61,
     "metadata": {},
     "output_type": "execute_result"
    }
   ],
   "source": [
    "xtrain.head(3)"
   ]
  },
  {
   "cell_type": "markdown",
   "metadata": {},
   "source": [
    "### Imbalance treatment"
   ]
  },
  {
   "cell_type": "code",
   "execution_count": 62,
   "metadata": {},
   "outputs": [],
   "source": [
    "def imb_treatment(x_train, y_train, times):\n",
    "    #Separate df\n",
    "    x_train_zeros = x_train[y_train==0]\n",
    "    x_train_ones = x_train[y_train==1]\n",
    "    y_train_zeros = y_train[y_train==0]\n",
    "    y_train_ones = y_train[y_train==1]\n",
    "    # Concatenate tables \n",
    "    x_train_up = pd.concat([x_train_zeros]+[x_train_ones]*times)\n",
    "    y_train_up = pd.concat([y_train_zeros]+[y_train_ones]*times)\n",
    "    # Shuffle data\n",
    "    xtrain_up, y_train_up = shuffle(x_train_up, y_train_up, random_state=72)\n",
    "    \n",
    "    return xtrain_up, y_train_up"
   ]
  },
  {
   "cell_type": "code",
   "execution_count": 63,
   "metadata": {},
   "outputs": [],
   "source": [
    "# With an upsample\n",
    "xtrain_up, y_train_up = imb_treatment(xtrain, y_train, 3)"
   ]
  },
  {
   "cell_type": "code",
   "execution_count": 64,
   "metadata": {},
   "outputs": [
    {
     "data": {
      "text/html": [
       "<div>\n",
       "<style scoped>\n",
       "    .dataframe tbody tr th:only-of-type {\n",
       "        vertical-align: middle;\n",
       "    }\n",
       "\n",
       "    .dataframe tbody tr th {\n",
       "        vertical-align: top;\n",
       "    }\n",
       "\n",
       "    .dataframe thead th {\n",
       "        text-align: right;\n",
       "    }\n",
       "</style>\n",
       "<table border=\"1\" class=\"dataframe\">\n",
       "  <thead>\n",
       "    <tr style=\"text-align: right;\">\n",
       "      <th></th>\n",
       "      <th>PaperlessBilling</th>\n",
       "      <th>MonthlyCharges</th>\n",
       "      <th>TotalCharges</th>\n",
       "      <th>spread</th>\n",
       "      <th>increment</th>\n",
       "      <th>Partner</th>\n",
       "      <th>Dependents</th>\n",
       "      <th>OnlineSecurity</th>\n",
       "      <th>OnlineBackup</th>\n",
       "      <th>DeviceProtection</th>\n",
       "      <th>...</th>\n",
       "      <th>StreamingMovies</th>\n",
       "      <th>DSL</th>\n",
       "      <th>Fiber optic</th>\n",
       "      <th>MultipleLines</th>\n",
       "      <th>SingleLine</th>\n",
       "      <th>One Year</th>\n",
       "      <th>Two Year</th>\n",
       "      <th>Credit card</th>\n",
       "      <th>Electronic check</th>\n",
       "      <th>Mailed check</th>\n",
       "    </tr>\n",
       "    <tr>\n",
       "      <th>index</th>\n",
       "      <th></th>\n",
       "      <th></th>\n",
       "      <th></th>\n",
       "      <th></th>\n",
       "      <th></th>\n",
       "      <th></th>\n",
       "      <th></th>\n",
       "      <th></th>\n",
       "      <th></th>\n",
       "      <th></th>\n",
       "      <th></th>\n",
       "      <th></th>\n",
       "      <th></th>\n",
       "      <th></th>\n",
       "      <th></th>\n",
       "      <th></th>\n",
       "      <th></th>\n",
       "      <th></th>\n",
       "      <th></th>\n",
       "      <th></th>\n",
       "      <th></th>\n",
       "    </tr>\n",
       "  </thead>\n",
       "  <tbody>\n",
       "    <tr>\n",
       "      <th>4322</th>\n",
       "      <td>1</td>\n",
       "      <td>0.184156</td>\n",
       "      <td>-0.950647</td>\n",
       "      <td>-1.237499</td>\n",
       "      <td>-0.250554</td>\n",
       "      <td>0</td>\n",
       "      <td>0</td>\n",
       "      <td>0.0</td>\n",
       "      <td>0.0</td>\n",
       "      <td>0.0</td>\n",
       "      <td>...</td>\n",
       "      <td>0.0</td>\n",
       "      <td>0.0</td>\n",
       "      <td>1.0</td>\n",
       "      <td>0.0</td>\n",
       "      <td>1.0</td>\n",
       "      <td>0.0</td>\n",
       "      <td>0.0</td>\n",
       "      <td>0.0</td>\n",
       "      <td>1.0</td>\n",
       "      <td>0.0</td>\n",
       "    </tr>\n",
       "    <tr>\n",
       "      <th>6967</th>\n",
       "      <td>1</td>\n",
       "      <td>0.830795</td>\n",
       "      <td>-0.037250</td>\n",
       "      <td>-0.301526</td>\n",
       "      <td>-0.619842</td>\n",
       "      <td>0</td>\n",
       "      <td>0</td>\n",
       "      <td>0.0</td>\n",
       "      <td>1.0</td>\n",
       "      <td>0.0</td>\n",
       "      <td>...</td>\n",
       "      <td>0.0</td>\n",
       "      <td>0.0</td>\n",
       "      <td>1.0</td>\n",
       "      <td>1.0</td>\n",
       "      <td>0.0</td>\n",
       "      <td>0.0</td>\n",
       "      <td>0.0</td>\n",
       "      <td>0.0</td>\n",
       "      <td>1.0</td>\n",
       "      <td>0.0</td>\n",
       "    </tr>\n",
       "    <tr>\n",
       "      <th>3522</th>\n",
       "      <td>0</td>\n",
       "      <td>-1.498443</td>\n",
       "      <td>-0.706800</td>\n",
       "      <td>0.186808</td>\n",
       "      <td>-0.830864</td>\n",
       "      <td>1</td>\n",
       "      <td>1</td>\n",
       "      <td>0.0</td>\n",
       "      <td>0.0</td>\n",
       "      <td>0.0</td>\n",
       "      <td>...</td>\n",
       "      <td>0.0</td>\n",
       "      <td>0.0</td>\n",
       "      <td>0.0</td>\n",
       "      <td>0.0</td>\n",
       "      <td>1.0</td>\n",
       "      <td>1.0</td>\n",
       "      <td>0.0</td>\n",
       "      <td>1.0</td>\n",
       "      <td>0.0</td>\n",
       "      <td>0.0</td>\n",
       "    </tr>\n",
       "    <tr>\n",
       "      <th>581</th>\n",
       "      <td>0</td>\n",
       "      <td>0.356259</td>\n",
       "      <td>-0.972024</td>\n",
       "      <td>-1.278194</td>\n",
       "      <td>-0.005353</td>\n",
       "      <td>0</td>\n",
       "      <td>0</td>\n",
       "      <td>1.0</td>\n",
       "      <td>0.0</td>\n",
       "      <td>0.0</td>\n",
       "      <td>...</td>\n",
       "      <td>0.0</td>\n",
       "      <td>0.0</td>\n",
       "      <td>1.0</td>\n",
       "      <td>0.0</td>\n",
       "      <td>1.0</td>\n",
       "      <td>0.0</td>\n",
       "      <td>0.0</td>\n",
       "      <td>0.0</td>\n",
       "      <td>0.0</td>\n",
       "      <td>1.0</td>\n",
       "    </tr>\n",
       "    <tr>\n",
       "      <th>5246</th>\n",
       "      <td>1</td>\n",
       "      <td>0.504969</td>\n",
       "      <td>-0.932709</td>\n",
       "      <td>-1.237499</td>\n",
       "      <td>0.068951</td>\n",
       "      <td>0</td>\n",
       "      <td>0</td>\n",
       "      <td>0.0</td>\n",
       "      <td>0.0</td>\n",
       "      <td>0.0</td>\n",
       "      <td>...</td>\n",
       "      <td>0.0</td>\n",
       "      <td>0.0</td>\n",
       "      <td>1.0</td>\n",
       "      <td>0.0</td>\n",
       "      <td>1.0</td>\n",
       "      <td>0.0</td>\n",
       "      <td>0.0</td>\n",
       "      <td>0.0</td>\n",
       "      <td>1.0</td>\n",
       "      <td>0.0</td>\n",
       "    </tr>\n",
       "  </tbody>\n",
       "</table>\n",
       "<p>5 rows × 22 columns</p>\n",
       "</div>"
      ],
      "text/plain": [
       "       PaperlessBilling  MonthlyCharges  TotalCharges    spread  increment  \\\n",
       "index                                                                        \n",
       "4322                  1        0.184156     -0.950647 -1.237499  -0.250554   \n",
       "6967                  1        0.830795     -0.037250 -0.301526  -0.619842   \n",
       "3522                  0       -1.498443     -0.706800  0.186808  -0.830864   \n",
       "581                   0        0.356259     -0.972024 -1.278194  -0.005353   \n",
       "5246                  1        0.504969     -0.932709 -1.237499   0.068951   \n",
       "\n",
       "       Partner  Dependents  OnlineSecurity  OnlineBackup  DeviceProtection  \\\n",
       "index                                                                        \n",
       "4322         0           0             0.0           0.0               0.0   \n",
       "6967         0           0             0.0           1.0               0.0   \n",
       "3522         1           1             0.0           0.0               0.0   \n",
       "581          0           0             1.0           0.0               0.0   \n",
       "5246         0           0             0.0           0.0               0.0   \n",
       "\n",
       "       ...  StreamingMovies  DSL  Fiber optic  MultipleLines  SingleLine  \\\n",
       "index  ...                                                                 \n",
       "4322   ...              0.0  0.0          1.0            0.0         1.0   \n",
       "6967   ...              0.0  0.0          1.0            1.0         0.0   \n",
       "3522   ...              0.0  0.0          0.0            0.0         1.0   \n",
       "581    ...              0.0  0.0          1.0            0.0         1.0   \n",
       "5246   ...              0.0  0.0          1.0            0.0         1.0   \n",
       "\n",
       "       One Year  Two Year  Credit card  Electronic check  Mailed check  \n",
       "index                                                                   \n",
       "4322        0.0       0.0          0.0               1.0           0.0  \n",
       "6967        0.0       0.0          0.0               1.0           0.0  \n",
       "3522        1.0       0.0          1.0               0.0           0.0  \n",
       "581         0.0       0.0          0.0               0.0           1.0  \n",
       "5246        0.0       0.0          0.0               1.0           0.0  \n",
       "\n",
       "[5 rows x 22 columns]"
      ]
     },
     "execution_count": 64,
     "metadata": {},
     "output_type": "execute_result"
    }
   ],
   "source": [
    "xtrain_up.head()"
   ]
  },
  {
   "cell_type": "code",
   "execution_count": 65,
   "metadata": {},
   "outputs": [],
   "source": [
    "# Create a function to standardise column names\n",
    "import re\n",
    "\n",
    "def to_under(col):\n",
    "    col = col.replace(' ', '_')\n",
    "    p = re.sub('(.)([A-Z][a-z]+)', r'\\1_\\2', col)\n",
    "    return re.sub('([a-z0-9])(A-Z)', r'\\1_\\2', p).lower()\n",
    "\n",
    "# Applying the function\n",
    "\n",
    "xtrain.columns = [to_under(col) for col in xtrain.columns]\n",
    "xtest.columns = [to_under(col) for col in xtest.columns]\n",
    "xtrain_up.columns = [to_under(col) for col in xtrain_up.columns]"
   ]
  },
  {
   "cell_type": "markdown",
   "metadata": {},
   "source": [
    "## Training and prediction with different models"
   ]
  },
  {
   "cell_type": "markdown",
   "metadata": {},
   "source": [
    "We have prepared the data for every model. However, given that some models could perform well even with imbalanced data we can run every model with both datasets.\n",
    "\n",
    "We have selected the following classification models:\n",
    "\n",
    "- Dummy classifier as a sanity test.\n",
    "- Logistic Regression\n",
    "- Decision Tree\n",
    "- Random Forest \n",
    "- KNeighbors \n",
    "- Gradient Boosting \n",
    "- LightGBM \n",
    "- CatBoost "
   ]
  },
  {
   "cell_type": "markdown",
   "metadata": {},
   "source": [
    "We can create a function for training our models and show results since we are using the same structure for each model."
   ]
  },
  {
   "cell_type": "code",
   "execution_count": 66,
   "metadata": {},
   "outputs": [],
   "source": [
    "def modeling(instance, params, x_train, y_train, x_test, y_test):\n",
    "    #Eliminate warnings if present\n",
    "    import warnings\n",
    "    warnings.filterwarnings(\"ignore\")\n",
    "    # Grid for to implement\n",
    "    model_grid = GridSearchCV(instance, params, cv=5, scoring='roc_auc')\n",
    "    # Training\n",
    "    start = time.time()\n",
    "    model_grid.fit(x_train, y_train)\n",
    "    end = time.time()\n",
    "    # Results from training\n",
    "    print('Best AUC-ROC score in training set:', model_grid.best_score_)\n",
    "    print('')\n",
    "    print('Best Params:', model_grid.best_params_)\n",
    "    print('')\n",
    "    model_omens = model_grid.predict_proba(x_test)[:,1]\n",
    "    \n",
    "    spread = (end-start)\n",
    "    \n",
    "    model_roc = roc_auc_score(y_test, model_omens)\n",
    "    \n",
    "    print('AUC-ROC score in test set:', model_roc, '\\n' ,'Time for training: {:.3}s'.format(spread))\n",
    "    \n",
    "    return model_grid.best_score_, model_roc, spread"
   ]
  },
  {
   "cell_type": "markdown",
   "metadata": {},
   "source": [
    "### Dummy classifier"
   ]
  },
  {
   "cell_type": "code",
   "execution_count": 67,
   "metadata": {},
   "outputs": [
    {
     "name": "stdout",
     "output_type": "stream",
     "text": [
      "Best AUC-ROC score in training set: 0.5039307389008088\n",
      "\n",
      "Best Params: {'strategy': 'stratified'}\n",
      "\n",
      "AUC-ROC score in test set: 0.47944502049079146 \n",
      " Time for training: 0.0817s\n"
     ]
    }
   ],
   "source": [
    "dummy_a0, dummy_b0, dummy_c0 = modeling(DummyClassifier(),\n",
    "        {'strategy':['prior','stratified', 'most_frequent']},\n",
    "        xtrain, y_train, xtest, y_test)"
   ]
  },
  {
   "cell_type": "code",
   "execution_count": 68,
   "metadata": {},
   "outputs": [
    {
     "name": "stdout",
     "output_type": "stream",
     "text": [
      "Best AUC-ROC score in training set: 0.501276046449453\n",
      "\n",
      "Best Params: {'strategy': 'stratified'}\n",
      "\n",
      "AUC-ROC score in test set: 0.48121759739297887 \n",
      " Time for training: 0.0698s\n"
     ]
    }
   ],
   "source": [
    "dummy_a, dummy_b, dummy_c = modeling(DummyClassifier(),\n",
    "        {'strategy':['prior','stratified', 'most_frequent']},\n",
    "        xtrain_up, y_train_up, xtest, y_test)"
   ]
  },
  {
   "cell_type": "code",
   "execution_count": 69,
   "metadata": {},
   "outputs": [
    {
     "data": {
      "text/plain": [
       "((5282, 22), (5282,), (1761, 22), (1761,))"
      ]
     },
     "execution_count": 69,
     "metadata": {},
     "output_type": "execute_result"
    }
   ],
   "source": [
    "xtrain.shape, y_train.shape, xtest.shape, y_test.shape"
   ]
  },
  {
   "cell_type": "markdown",
   "metadata": {},
   "source": [
    "### LogisticRegression"
   ]
  },
  {
   "cell_type": "code",
   "execution_count": 70,
   "metadata": {},
   "outputs": [
    {
     "name": "stdout",
     "output_type": "stream",
     "text": [
      "Best AUC-ROC score in training set: 0.8425347073716652\n",
      "\n",
      "Best Params: {'C': 8, 'class_weight': None, 'max_iter': 200, 'penalty': 'l2', 'solver': 'saga', 'tol': 0.0001}\n",
      "\n",
      "AUC-ROC score in test set: 0.8512055827120262 \n",
      " Time for training: 1.88e+02s\n"
     ]
    }
   ],
   "source": [
    "log_params = {'penalty':['l2', 'l1'], \n",
    "          'solver': ['liblinear', 'saga', 'newton-cholesky'],\n",
    "             'C': [1,6,8],\n",
    "             'tol':[.0001,.0003],\n",
    "             'class_weight':['balanced', None],\n",
    "             'max_iter':[100,200]}\n",
    "\n",
    "log_a0, log_b0, log_c0 = modeling(LogisticRegression(random_state=24601),\n",
    "         log_params, \n",
    "         xtrain, y_train, xtest, y_test)"
   ]
  },
  {
   "cell_type": "code",
   "execution_count": 71,
   "metadata": {},
   "outputs": [
    {
     "name": "stdout",
     "output_type": "stream",
     "text": [
      "Best AUC-ROC score in training set: 0.843244281534718\n",
      "\n",
      "Best Params: {'C': 1, 'class_weight': 'balanced', 'max_iter': 200, 'penalty': 'l1', 'solver': 'saga', 'tol': 0.0003}\n",
      "\n",
      "AUC-ROC score in test set: 0.8510097269540315 \n",
      " Time for training: 2.54e+02s\n"
     ]
    }
   ],
   "source": [
    "log_a, log_b, log_c = modeling(LogisticRegression(random_state=24601),\n",
    "         log_params, \n",
    "         xtrain_up, y_train_up, xtest, y_test)"
   ]
  },
  {
   "cell_type": "markdown",
   "metadata": {},
   "source": [
    "### DecisionTreeClassifier"
   ]
  },
  {
   "cell_type": "code",
   "execution_count": 72,
   "metadata": {},
   "outputs": [
    {
     "name": "stdout",
     "output_type": "stream",
     "text": [
      "Best AUC-ROC score in training set: 0.8263757231195857\n",
      "\n",
      "Best Params: {'class_weight': 'balanced', 'criterion': 'gini', 'max_depth': 5, 'splitter': 'random'}\n",
      "\n",
      "AUC-ROC score in test set: 0.8441695880445695 \n",
      " Time for training: 6.43s\n"
     ]
    }
   ],
   "source": [
    "tree_params = {'criterion': ['entropy', 'gini'],\n",
    "               'class_weight': ['balanced', None],\n",
    "               'splitter':['best', 'random'],\n",
    "               'max_depth': [2,4,5,6,10,None,20]}\n",
    "\n",
    "tree_a0, tree_b0, tree_c0 = modeling(DecisionTreeClassifier(random_state=24601), \n",
    "         tree_params, \n",
    "         xtrain, y_train, xtest, y_test)"
   ]
  },
  {
   "cell_type": "code",
   "execution_count": 73,
   "metadata": {},
   "outputs": [
    {
     "name": "stdout",
     "output_type": "stream",
     "text": [
      "Best AUC-ROC score in training set: 0.8908906611135523\n",
      "\n",
      "Best Params: {'class_weight': 'balanced', 'criterion': 'gini', 'max_depth': None, 'splitter': 'best'}\n",
      "\n",
      "AUC-ROC score in test set: 0.667150545598183 \n",
      " Time for training: 8.37s\n"
     ]
    }
   ],
   "source": [
    "tree_a, tree_b, tree_c = modeling(DecisionTreeClassifier(random_state=24601), \n",
    "         tree_params, \n",
    "         xtrain_up, y_train_up, xtest, y_test)"
   ]
  },
  {
   "cell_type": "markdown",
   "metadata": {},
   "source": [
    "### RandomForestClassifier"
   ]
  },
  {
   "cell_type": "code",
   "execution_count": 74,
   "metadata": {},
   "outputs": [
    {
     "name": "stdout",
     "output_type": "stream",
     "text": [
      "Best AUC-ROC score in training set: 0.8230834476637277\n",
      "\n",
      "Best Params: {'class_weight': None, 'criterion': 'entropy', 'n_estimators': 110}\n",
      "\n",
      "AUC-ROC score in test set: 0.8390139732385328 \n",
      " Time for training: 43.5s\n"
     ]
    }
   ],
   "source": [
    "forest_params = {'n_estimators':[100, 110, 90],\n",
    "                 'criterion':['gini', 'entropy'],\n",
    "                 'class_weight':['balanced', None]}\n",
    "\n",
    "forest_a0, forest_b0, forest_c0 = modeling(RandomForestClassifier(random_state=24601), \n",
    "         forest_params, \n",
    "         xtrain, y_train, xtest, y_test)"
   ]
  },
  {
   "cell_type": "code",
   "execution_count": 75,
   "metadata": {},
   "outputs": [
    {
     "name": "stdout",
     "output_type": "stream",
     "text": [
      "Best AUC-ROC score in training set: 0.9736739728032664\n",
      "\n",
      "Best Params: {'class_weight': 'balanced', 'criterion': 'gini', 'n_estimators': 100}\n",
      "\n",
      "AUC-ROC score in test set: 0.8324165967181817 \n",
      " Time for training: 60.3s\n"
     ]
    }
   ],
   "source": [
    "forest_a, forest_b, forest_c = modeling(RandomForestClassifier(random_state=24601), \n",
    "         forest_params, \n",
    "         xtrain_up, y_train_up, xtest, y_test)"
   ]
  },
  {
   "cell_type": "markdown",
   "metadata": {},
   "source": [
    "### GradientBoostingClassifier"
   ]
  },
  {
   "cell_type": "code",
   "execution_count": 78,
   "metadata": {},
   "outputs": [
    {
     "name": "stdout",
     "output_type": "stream",
     "text": [
      "Best AUC-ROC score in training set: 0.844584604553754\n",
      "\n",
      "Best Params: {'learning_rate': 0.1, 'loss': 'exponential', 'n_estimators': 50, 'subsample': 1}\n",
      "\n",
      "AUC-ROC score in test set: 0.8554946592274395 \n",
      " Time for training: 3.79e+02s\n"
     ]
    }
   ],
   "source": [
    "boost_params = {'learning_rate':[float(i) for i in list(np.linspace(.1,.9,4))], \n",
    "                'subsample':[0.9,1,3], \n",
    "                'loss':['exponential', 'log_loss'],\n",
    "                'n_estimators' : [int(x) for x in np.linspace(50,300,6)] }\n",
    "\n",
    "boost_a0, boost_b0, boost_c0 = modeling(GradientBoostingClassifier(random_state=24601),\n",
    "        boost_params,\n",
    "        xtrain, y_train, xtest, y_test)"
   ]
  },
  {
   "cell_type": "code",
   "execution_count": 79,
   "metadata": {},
   "outputs": [
    {
     "name": "stdout",
     "output_type": "stream",
     "text": [
      "Best AUC-ROC score in training set: 0.9200168729615251\n",
      "\n",
      "Best Params: {'learning_rate': 0.9, 'loss': 'exponential', 'n_estimators': 300, 'subsample': 1}\n",
      "\n",
      "AUC-ROC score in test set: 0.8066780230089369 \n",
      " Time for training: 5.4e+02s\n"
     ]
    }
   ],
   "source": [
    "boost_a, boost_b, boost_c = modeling(GradientBoostingClassifier(random_state=24601),\n",
    "        boost_params,\n",
    "        xtrain_up, y_train_up, xtest, y_test)"
   ]
  },
  {
   "cell_type": "markdown",
   "metadata": {},
   "source": [
    "### KNeighborsClassifier"
   ]
  },
  {
   "cell_type": "code",
   "execution_count": 80,
   "metadata": {},
   "outputs": [
    {
     "name": "stdout",
     "output_type": "stream",
     "text": [
      "Best AUC-ROC score in training set: 0.8354194397274235\n",
      "\n",
      "Best Params: {'algorithm': 'ball_tree', 'leaf_size': 2, 'n_neighbors': 70, 'p': 1, 'weights': 'uniform'}\n",
      "\n",
      "AUC-ROC score in test set: 0.8466021494757978 \n",
      " Time for training: 4.36e+02s\n"
     ]
    }
   ],
   "source": [
    "kneigh_params = {'n_neighbors':[2,5,10, 30, 70,100,300],\n",
    "                'weights':['uniform','distance'],\n",
    "                'leaf_size':[2,4,8],\n",
    "                'algorithm':['ball_tree','kd_tree','brute'],\n",
    "                'p':[1,2]}\n",
    "\n",
    "neig_a0, neig_b0, neig_c0 = modeling(KNeighborsClassifier(), \n",
    "        kneigh_params,\n",
    "        xtrain, y_train, xtest, y_test)"
   ]
  },
  {
   "cell_type": "code",
   "execution_count": 81,
   "metadata": {},
   "outputs": [
    {
     "name": "stdout",
     "output_type": "stream",
     "text": [
      "Best AUC-ROC score in training set: 0.9891917702843813\n",
      "\n",
      "Best Params: {'algorithm': 'brute', 'leaf_size': 2, 'n_neighbors': 300, 'p': 2, 'weights': 'distance'}\n",
      "\n",
      "AUC-ROC score in test set: 0.8330955084843397 \n",
      " Time for training: 7.22e+02s\n"
     ]
    }
   ],
   "source": [
    "neig_a, neig_b, neig_c = modeling(KNeighborsClassifier(), \n",
    "        kneigh_params,\n",
    "        xtrain_up, y_train_up, xtest, y_test)"
   ]
  },
  {
   "cell_type": "markdown",
   "metadata": {},
   "source": [
    "### LightGBM"
   ]
  },
  {
   "cell_type": "code",
   "execution_count": null,
   "metadata": {},
   "outputs": [],
   "source": [
    "lgbm_params = {'learning_rate':[float(i) for i in list(np.linspace(.03,.125,4))],\n",
    "               'class_weight':['balanced','is_unbalanced', 'scale_pos_weight'],\n",
    "               'n_estimators':[100,200],\n",
    "               'num_leaves':[int(x) for x in np.linspace(31,39,4)]}\n",
    "\n",
    "gbm_a0, gbm_b0, gbm_c0 = modeling(LGBMClassifier(verbose=0, objective='binary', force_row_wise=True),\n",
    "        lgbm_params,\n",
    "        xtrain, y_train, xtest, y_test)"
   ]
  },
  {
   "cell_type": "code",
   "execution_count": null,
   "metadata": {},
   "outputs": [],
   "source": [
    "gbm_a, gbm_b, gbm_c = modeling(LGBMClassifier(verbose=2),\n",
    "        lgbm_params,\n",
    "        xtrain_up, y_train_up, xtest, y_test)"
   ]
  },
  {
   "cell_type": "markdown",
   "metadata": {},
   "source": [
    "### CATBoostClassifier"
   ]
  },
  {
   "cell_type": "code",
   "execution_count": 103,
   "metadata": {},
   "outputs": [
    {
     "name": "stdout",
     "output_type": "stream",
     "text": [
      "Best AUC-ROC score in training set: 0.8442771345786039\n",
      "\n",
      "Best Params: {'depth': 4, 'iterations': 50, 'learning_rate': 0.15, 'scale_pos_weight': 3}\n",
      "\n",
      "AUC-ROC score in test set: 0.8582736713902467 \n",
      " Time for training: 6.84e+02s\n"
     ]
    }
   ],
   "source": [
    "catb_params = {'depth':[4,5,12],\n",
    "              'iterations':[20,50,100,],\n",
    "              'learning_rate':[.15, .2, .25],\n",
    "               'scale_pos_weight': [.3,3]\n",
    "              }\n",
    "\n",
    "catb_a0, catb_b0, catb_c0 = modeling(CatBoostClassifier(verbose=False, loss_function='Logloss'),\n",
    "        catb_params, \n",
    "        xtrain, y_train, xtest, y_test)\n"
   ]
  },
  {
   "cell_type": "code",
   "execution_count": 102,
   "metadata": {},
   "outputs": [
    {
     "name": "stdout",
     "output_type": "stream",
     "text": [
      "Best AUC-ROC score in training set: 0.957543775281329\n",
      "\n",
      "Best Params: {'learning_rate': 0.25, 'scale_pos_weight': 3}\n",
      "\n",
      "AUC-ROC score in test set: 0.8156100330815188 \n",
      " Time for training: 1.4e+02s\n"
     ]
    }
   ],
   "source": [
    "catb_a, catb_b, catb_c = modeling(CatBoostClassifier(verbose=False, loss_function='Logloss'),\n",
    "        catb_params, \n",
    "        xtrain_up, y_train_up, xtest, y_test)\n"
   ]
  },
  {
   "cell_type": "markdown",
   "metadata": {},
   "source": [
    "## Summary\n"
   ]
  },
  {
   "cell_type": "markdown",
   "metadata": {},
   "source": [
    "### Results with dataset without imbalance adjustment"
   ]
  },
  {
   "cell_type": "code",
   "execution_count": 93,
   "metadata": {},
   "outputs": [],
   "source": [
    "values0 = np.array([ \n",
    "    [dummy_a0, dummy_b0, dummy_c0], \n",
    "    [log_a0, log_b0, log_c0],\n",
    "    [tree_a0, tree_b0, tree_c0],\n",
    "    [forest_a0, forest_b0, forest_c0],\n",
    "    [neig_a0, neig_b0, neig_c0],\n",
    "    [boost_a0, boost_b0, boost_c0],\n",
    "    [gbm_a0, gbm_b0, gbm_c0],\n",
    "    [catb_a0, catb_b0, catb_c0]\n",
    "]\n",
    ")\n",
    "\n",
    "index0 = ['Dummy', 'Logit', 'DTree', 'RForest', 'Kneighbor', 'GradientBoost', 'LGBM', 'Catboost']\n",
    "\n",
    "column_names0=['AUC-ROC validation set', 'AUC-ROC test set', 'Time predicting (s)']\n",
    "\n",
    "summary0 = pd.DataFrame(values0, index0, column_names0)"
   ]
  },
  {
   "cell_type": "code",
   "execution_count": 94,
   "metadata": {},
   "outputs": [
    {
     "data": {
      "text/html": [
       "<div>\n",
       "<style scoped>\n",
       "    .dataframe tbody tr th:only-of-type {\n",
       "        vertical-align: middle;\n",
       "    }\n",
       "\n",
       "    .dataframe tbody tr th {\n",
       "        vertical-align: top;\n",
       "    }\n",
       "\n",
       "    .dataframe thead th {\n",
       "        text-align: right;\n",
       "    }\n",
       "</style>\n",
       "<table border=\"1\" class=\"dataframe\">\n",
       "  <thead>\n",
       "    <tr style=\"text-align: right;\">\n",
       "      <th></th>\n",
       "      <th>AUC-ROC validation set</th>\n",
       "      <th>AUC-ROC test set</th>\n",
       "      <th>Time predicting</th>\n",
       "    </tr>\n",
       "  </thead>\n",
       "  <tbody>\n",
       "    <tr>\n",
       "      <th>Dummy</th>\n",
       "      <td>0.503931</td>\n",
       "      <td>0.479445</td>\n",
       "      <td>0.081743</td>\n",
       "    </tr>\n",
       "    <tr>\n",
       "      <th>Logit</th>\n",
       "      <td>0.842535</td>\n",
       "      <td>0.851206</td>\n",
       "      <td>0.851206</td>\n",
       "    </tr>\n",
       "    <tr>\n",
       "      <th>DTree</th>\n",
       "      <td>0.826376</td>\n",
       "      <td>0.844170</td>\n",
       "      <td>6.431003</td>\n",
       "    </tr>\n",
       "    <tr>\n",
       "      <th>RForest</th>\n",
       "      <td>0.823083</td>\n",
       "      <td>0.839014</td>\n",
       "      <td>43.542270</td>\n",
       "    </tr>\n",
       "    <tr>\n",
       "      <th>Kneighbor</th>\n",
       "      <td>0.835419</td>\n",
       "      <td>0.846602</td>\n",
       "      <td>436.320176</td>\n",
       "    </tr>\n",
       "    <tr>\n",
       "      <th>GradientBoost</th>\n",
       "      <td>0.844585</td>\n",
       "      <td>0.855495</td>\n",
       "      <td>379.058202</td>\n",
       "    </tr>\n",
       "    <tr>\n",
       "      <th>LGBM</th>\n",
       "      <td>0.834781</td>\n",
       "      <td>0.849303</td>\n",
       "      <td>2561.171145</td>\n",
       "    </tr>\n",
       "    <tr>\n",
       "      <th>Catboost</th>\n",
       "      <td>0.813894</td>\n",
       "      <td>0.826284</td>\n",
       "      <td>795.978539</td>\n",
       "    </tr>\n",
       "  </tbody>\n",
       "</table>\n",
       "</div>"
      ],
      "text/plain": [
       "               AUC-ROC validation set  AUC-ROC test set  Time predicting\n",
       "Dummy                        0.503931          0.479445         0.081743\n",
       "Logit                        0.842535          0.851206         0.851206\n",
       "DTree                        0.826376          0.844170         6.431003\n",
       "RForest                      0.823083          0.839014        43.542270\n",
       "Kneighbor                    0.835419          0.846602       436.320176\n",
       "GradientBoost                0.844585          0.855495       379.058202\n",
       "LGBM                         0.834781          0.849303      2561.171145\n",
       "Catboost                     0.813894          0.826284       795.978539"
      ]
     },
     "execution_count": 94,
     "metadata": {},
     "output_type": "execute_result"
    }
   ],
   "source": [
    "summary0"
   ]
  },
  {
   "cell_type": "markdown",
   "metadata": {},
   "source": [
    "### Results with dataset with imbalance adjustment"
   ]
  },
  {
   "cell_type": "code",
   "execution_count": 95,
   "metadata": {},
   "outputs": [],
   "source": [
    "values = np.array([ \n",
    "    [dummy_a0, dummy_b0, dummy_c0], \n",
    "    [log_a, log_b, log_c],\n",
    "    [tree_a, tree_b, tree_c],\n",
    "    [forest_a, forest_b, forest_c],\n",
    "    [neig_a, neig_b, neig_c],\n",
    "    [boost_a, boost_b, boost_c],\n",
    "    [gbm_a, gbm_b, gbm_c],\n",
    "    [catb_a, catb_b, catb_c]\n",
    "]\n",
    ")\n",
    "\n",
    "index = ['Dummy', 'Logit', 'DTree', 'RForest', 'Kneighbor', 'GradientBoost', 'LGBM', 'Catboost']\n",
    "\n",
    "column_names=['AUC-ROC validation set', 'AUC-ROC test set', 'Time predicting (s)']\n",
    "\n",
    "summary = pd.DataFrame(values, index, column_names)"
   ]
  },
  {
   "cell_type": "code",
   "execution_count": 96,
   "metadata": {},
   "outputs": [
    {
     "data": {
      "text/html": [
       "<div>\n",
       "<style scoped>\n",
       "    .dataframe tbody tr th:only-of-type {\n",
       "        vertical-align: middle;\n",
       "    }\n",
       "\n",
       "    .dataframe tbody tr th {\n",
       "        vertical-align: top;\n",
       "    }\n",
       "\n",
       "    .dataframe thead th {\n",
       "        text-align: right;\n",
       "    }\n",
       "</style>\n",
       "<table border=\"1\" class=\"dataframe\">\n",
       "  <thead>\n",
       "    <tr style=\"text-align: right;\">\n",
       "      <th></th>\n",
       "      <th>AUC-ROC validation set</th>\n",
       "      <th>AUC-ROC test set</th>\n",
       "      <th>Time predicting</th>\n",
       "    </tr>\n",
       "  </thead>\n",
       "  <tbody>\n",
       "    <tr>\n",
       "      <th>Dummy</th>\n",
       "      <td>0.503931</td>\n",
       "      <td>0.479445</td>\n",
       "      <td>0.081743</td>\n",
       "    </tr>\n",
       "    <tr>\n",
       "      <th>Logit</th>\n",
       "      <td>0.843244</td>\n",
       "      <td>0.851010</td>\n",
       "      <td>0.851010</td>\n",
       "    </tr>\n",
       "    <tr>\n",
       "      <th>DTree</th>\n",
       "      <td>0.890891</td>\n",
       "      <td>0.667151</td>\n",
       "      <td>8.366128</td>\n",
       "    </tr>\n",
       "    <tr>\n",
       "      <th>RForest</th>\n",
       "      <td>0.973674</td>\n",
       "      <td>0.832417</td>\n",
       "      <td>60.297551</td>\n",
       "    </tr>\n",
       "    <tr>\n",
       "      <th>Kneighbor</th>\n",
       "      <td>0.989192</td>\n",
       "      <td>0.833096</td>\n",
       "      <td>722.302928</td>\n",
       "    </tr>\n",
       "    <tr>\n",
       "      <th>GradientBoost</th>\n",
       "      <td>0.920017</td>\n",
       "      <td>0.806678</td>\n",
       "      <td>539.832982</td>\n",
       "    </tr>\n",
       "    <tr>\n",
       "      <th>LGBM</th>\n",
       "      <td>0.972045</td>\n",
       "      <td>0.812917</td>\n",
       "      <td>3418.696120</td>\n",
       "    </tr>\n",
       "    <tr>\n",
       "      <th>Catboost</th>\n",
       "      <td>0.968318</td>\n",
       "      <td>0.832859</td>\n",
       "      <td>817.816219</td>\n",
       "    </tr>\n",
       "  </tbody>\n",
       "</table>\n",
       "</div>"
      ],
      "text/plain": [
       "               AUC-ROC validation set  AUC-ROC test set  Time predicting\n",
       "Dummy                        0.503931          0.479445         0.081743\n",
       "Logit                        0.843244          0.851010         0.851010\n",
       "DTree                        0.890891          0.667151         8.366128\n",
       "RForest                      0.973674          0.832417        60.297551\n",
       "Kneighbor                    0.989192          0.833096       722.302928\n",
       "GradientBoost                0.920017          0.806678       539.832982\n",
       "LGBM                         0.972045          0.812917      3418.696120\n",
       "Catboost                     0.968318          0.832859       817.816219"
      ]
     },
     "execution_count": 96,
     "metadata": {},
     "output_type": "execute_result"
    }
   ],
   "source": [
    "summary"
   ]
  },
  {
   "cell_type": "markdown",
   "metadata": {},
   "source": [
    "## Conclusion"
   ]
  },
  {
   "cell_type": "markdown",
   "metadata": {},
   "source": [
    "We started by downloading the info and importing the necessesary libraries. We visualise the dimensions, characteristics, and distribution for each dataframe. Since our objective was to detect people who left and who stayed our models were all classifiers and our label binary.  \n",
    "\n",
    "The datasets were mostly correct and complete and few adjustments were necessary. We found neither typos, duplicated values, nor outstanding outliers. However, it was necessary to prove we had complete data and that missing values in `df_phone` and `df_inter` were due to the structure of the dataframes and not missing at random values. We then change yes-no variables into integer answers so they could be interpreted by the models. We just had eleven rows with missing values but they were even filled successfully through analysis. \n",
    "\n",
    "We created more variables and analysed the contract-dataframe for a deeper understanding of the data. We found we charged, in general, less to the people who stay, that our clients were leaving in this very recent 4 months and that the differences between the total charges registered and the total charges we calculated were broader for the people who left.\n",
    "\n",
    "We then merge all dataframes and fill the missing values with zeros since that implied that some clients simply did not have those services (which was important information by itself). We divided the complete dataframe into training and testing sets and separated our label column. Since we still had some categorical variables with few categories we used One Hot Encoder. Then, we had a complete dataframe with zeros and ones. The remaining numeric columns were scaled using Standard Scaler for correct training. We had imbalanced data so we applied a simple way to upsample it. Finally, since some models perform better with snake case columns, we applied regular expressions to transform column names where needed.  \n",
    "\n",
    "For the modeling section we created a function that allow us to select different paramteres among models (including imbalance treatment parameters) while avoiding code repetition. The models implemented here were: Dummy, Logit, Decision Tree, Random Forest, Kneighbor, Gradient Boost, LightGBM, and CatBoost. The Dummy model was implemented as a sanity test. With these 8 classifiers we model for the upsampled and for the not-upsmapled dataset. Therefore, we ran 16 models. The metric used was AUC-ROC. The models with the not-upsampled data proved to perform better. They reached higher results, between 0.839 and 0.855, compared to the upsample dataset, 0.801 - 0.851 (excluding the even worse Decision Tree model performance). Moreover, the signs of overfitting were clear in the upsampled dataset.\n",
    "\n",
    "The best model, considering the AUC-ROC metric reached and the time for training, was the Logistic Regression model with an AUC-ROC score of 0.851."
   ]
  },
  {
   "cell_type": "markdown",
   "metadata": {},
   "source": [
    "## Further discussions"
   ]
  },
  {
   "cell_type": "markdown",
   "metadata": {},
   "source": [
    "We still can change our threshold in order to minimise the costs of a false positive and a false negative error. More information is required to determine the direction and magnitude of the change. In other words, is it more expensive giving a discount to a person who would have not left or not giving it to a person who is planning to leave? How can we determine a person stayed just because of the discount and exclude other reasons (after all, she might not have left)? Since all the people who have abandoned left in a really narrow window of time, it suggests that it is more important to give discounts to deter them from leaving. However, this is a short run solution and the underlying answer could be different and therefore more reseach is strongly advisable. Lastly, given that the AUC-ROC metric represents the magnitude of the area but ignores its form, this means we need to plot the curves of each model to select the best. "
   ]
  }
 ],
 "metadata": {
  "kernelspec": {
   "display_name": "Python 3 (ipykernel)",
   "language": "python",
   "name": "python3"
  },
  "language_info": {
   "codemirror_mode": {
    "name": "ipython",
    "version": 3
   },
   "file_extension": ".py",
   "mimetype": "text/x-python",
   "name": "python",
   "nbconvert_exporter": "python",
   "pygments_lexer": "ipython3",
   "version": "3.9.5"
  },
  "toc": {
   "base_numbering": 1,
   "nav_menu": {},
   "number_sections": true,
   "sideBar": true,
   "skip_h1_title": true,
   "title_cell": "Table of Contents",
   "title_sidebar": "Contents",
   "toc_cell": false,
   "toc_position": {},
   "toc_section_display": true,
   "toc_window_display": false
  }
 },
 "nbformat": 4,
 "nbformat_minor": 2
}
