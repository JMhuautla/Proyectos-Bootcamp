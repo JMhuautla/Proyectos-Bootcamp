{
 "cells": [
  {
   "cell_type": "markdown",
   "metadata": {},
   "source": [
    "# Introducción\n",
    "Un banco comercial ha solicitado un modelo que pueda prever la salida de sus clientes. El banco ha informado que es más costoso atraer nuevos clientes que conservar a los nuevos, por lo que ha solicitado un modelo de la mayor calidad posible, conforme a la métrica F1, para poder identificar a los clientes que podrían abandonar sus servicios."
   ]
  },
  {
   "cell_type": "markdown",
   "metadata": {},
   "source": [
    "# Objetivo\n",
    "\n",
    "Obtener al menos un valor F1 igual a 0.59 y compararlo con la métrica AUC-ROC para el conjunto de datos presente con ayuda de herramientas de machine learning en el lenguaje Phyton."
   ]
  },
  {
   "cell_type": "markdown",
   "metadata": {},
   "source": [
    "# Índice"
   ]
  },
  {
   "cell_type": "markdown",
   "metadata": {},
   "source": [
    "\n",
    "- [1. Carga de los recursos necesarios](#1)\n",
    "     - [1.1 Carga de librerías](#1.1)\n",
    "     - [1.2 Carga de los datos](#1.2)\n",
    "- [2. Análisis exploratorio](#2)\n",
    "    - [2.1 Presetación preliminar](#2.1)\n",
    "    - [2.2 Evaluación y corrección de la integridad y calidad de los datos](#2.2)\n",
    "- [3. Segmentación, tratamiento y preparación del marco de datos para el modelo](#3)\n",
    "    - [3.1 Segmentación de los datos entre características y objetivo](#3.1)\n",
    "    - [3.2 Segmentación de los datos en conjuntos de entrenamiento, validación y prueba](#3.2)\n",
    "    - [3.3 Tratamiento del desequilibrio de clases](#3.3)\n",
    "    - [3.4 Apliación de One Hot Encoder a columnas `Gender` & `Geography`](#3.4)\n",
    "    - [3.5 Escalar características numéricas](#3.5)\n",
    "- [4. Aplicación de los modelos](#4)\n",
    "    - [4.1 Bosque Aleatorio](#4.1)\n",
    "    - [4.2 Regresión Logística](#4.2)\n",
    "    - [4.3 Resumen de resultados](#4.3)\n",
    "- [5. Conclusiones](#5)"
   ]
  },
  {
   "cell_type": "markdown",
   "metadata": {},
   "source": [
    "# Cuerpo"
   ]
  },
  {
   "cell_type": "markdown",
   "metadata": {},
   "source": [
    "## Carga de los recursos necesarios"
   ]
  },
  {
   "cell_type": "markdown",
   "metadata": {},
   "source": [
    "### Carga de las librerías"
   ]
  },
  {
   "cell_type": "code",
   "execution_count": null,
   "metadata": {},
   "outputs": [],
   "source": [
    "import pandas as pd\n",
    "import numpy as np\n",
    "from sklearn.model_selection import train_test_split # Para la segmentación de datos.\n",
    "from sklearn.preprocessing import OneHotEncoder # Para la codificación de etiquetas.\n",
    "from sklearn.utils import shuffle #Para barajear nuestro conjunto de datos.\n",
    "from sklearn.preprocessing import StandardScaler # Para estandarizar las columnas numéricas.\n",
    "from sklearn.model_selection import GridSearchCV # Para hacer modelos con distintos hiperparámetros.\n",
    "from sklearn.ensemble import RandomForestClassifier # Modelo bosque aleatorio\n",
    "from sklearn.linear_model import LogisticRegression #Modelo regresión Logística\n",
    "from sklearn.linear_model import Ridge # Modelo Regresión Lineal con regularización l2\n",
    "from sklearn.metrics import f1_score, confusion_matrix #Calculador del f1 y matriz de confusión\n",
    "from sklearn.metrics import recall_score # Caclular valor de recall\n",
    "from sklearn.metrics import roc_auc_score # Calculador del AUC_ROC\n",
    "from sklearn.metrics import roc_curve # Obtener valores para cruva Roc\n",
    "import matplotlib.pyplot as plt # Para poder trazar la curva. "
   ]
  },
  {
   "cell_type": "markdown",
   "metadata": {},
   "source": [
    "### Carga de los datos"
   ]
  },
  {
   "cell_type": "code",
   "execution_count": 2,
   "metadata": {},
   "outputs": [],
   "source": [
    "df = pd.read_csv('/datasets/Churn.csv')"
   ]
  },
  {
   "cell_type": "markdown",
   "metadata": {},
   "source": [
    "## Análisis exploratorio\n",
    "\n",
    "### Presentación preliminar"
   ]
  },
  {
   "cell_type": "markdown",
   "metadata": {},
   "source": [
    "La empresa compartido las características de cada una de las columnas de los datos:\n",
    "\n",
    "**Características:**\n",
    "\n",
    "- `RowNumber`: índice de cadenas de datos\n",
    "- `CustomerId`: identificador de cliente único\n",
    "- `Surname`: apellido\n",
    "- `CreditScore`: valor de crédito\n",
    "- `Geography`:país de residencia\n",
    "- `Gender`: sexo\n",
    "- `Age`: edad\n",
    "- `Tenure`: periododurante el cual ha madurado el depósito a plazo fijo de un cliente (años).\n",
    "- `Balance`: Saldo de la cuenta\n",
    "- `numOfProducts`: número de productos bancarios utilizados.\n",
    "- `HasCrCard`: el cliente tiene una tarjeta de crédito (1 - sí: 0 - no)\n",
    "- `IsActiveMember`: activida del cliente (1 - sí; 0 - no)\n",
    "- `EstimatedSalary`: salario estimado\n",
    "\n",
    "**Objetivo:**\n",
    "\n",
    "- `Exited`:el cliente se ha ido (1 - sí; 0 - no)\n"
   ]
  },
  {
   "cell_type": "markdown",
   "metadata": {},
   "source": [
    "### Evaualción de la integridad y calidad de los datos"
   ]
  },
  {
   "cell_type": "code",
   "execution_count": 3,
   "metadata": {},
   "outputs": [
    {
     "name": "stdout",
     "output_type": "stream",
     "text": [
      "<class 'pandas.core.frame.DataFrame'>\n",
      "RangeIndex: 10000 entries, 0 to 9999\n",
      "Data columns (total 14 columns):\n",
      " #   Column           Non-Null Count  Dtype  \n",
      "---  ------           --------------  -----  \n",
      " 0   RowNumber        10000 non-null  int64  \n",
      " 1   CustomerId       10000 non-null  int64  \n",
      " 2   Surname          10000 non-null  object \n",
      " 3   CreditScore      10000 non-null  int64  \n",
      " 4   Geography        10000 non-null  object \n",
      " 5   Gender           10000 non-null  object \n",
      " 6   Age              10000 non-null  int64  \n",
      " 7   Tenure           9091 non-null   float64\n",
      " 8   Balance          10000 non-null  float64\n",
      " 9   NumOfProducts    10000 non-null  int64  \n",
      " 10  HasCrCard        10000 non-null  int64  \n",
      " 11  IsActiveMember   10000 non-null  int64  \n",
      " 12  EstimatedSalary  10000 non-null  float64\n",
      " 13  Exited           10000 non-null  int64  \n",
      "dtypes: float64(3), int64(8), object(3)\n",
      "memory usage: 1.1+ MB\n"
     ]
    }
   ],
   "source": [
    "# Descripción general\n",
    "df.info()"
   ]
  },
  {
   "cell_type": "code",
   "execution_count": 4,
   "metadata": {},
   "outputs": [
    {
     "data": {
      "text/plain": [
       "RowNumber            0\n",
       "CustomerId           0\n",
       "Surname              0\n",
       "CreditScore          0\n",
       "Geography            0\n",
       "Gender               0\n",
       "Age                  0\n",
       "Tenure             909\n",
       "Balance              0\n",
       "NumOfProducts        0\n",
       "HasCrCard            0\n",
       "IsActiveMember       0\n",
       "EstimatedSalary      0\n",
       "Exited               0\n",
       "dtype: int64"
      ]
     },
     "execution_count": 4,
     "metadata": {},
     "output_type": "execute_result"
    }
   ],
   "source": [
    "# Presencia de datos nulos\n",
    "df.isna().sum()"
   ]
  },
  {
   "cell_type": "code",
   "execution_count": 5,
   "metadata": {},
   "outputs": [
    {
     "data": {
      "text/plain": [
       "0"
      ]
     },
     "execution_count": 5,
     "metadata": {},
     "output_type": "execute_result"
    }
   ],
   "source": [
    "# Presencia de duplicados\n",
    "df.duplicated().sum()"
   ]
  },
  {
   "cell_type": "code",
   "execution_count": 6,
   "metadata": {
    "scrolled": true
   },
   "outputs": [
    {
     "data": {
      "text/html": [
       "<div>\n",
       "<style scoped>\n",
       "    .dataframe tbody tr th:only-of-type {\n",
       "        vertical-align: middle;\n",
       "    }\n",
       "\n",
       "    .dataframe tbody tr th {\n",
       "        vertical-align: top;\n",
       "    }\n",
       "\n",
       "    .dataframe thead th {\n",
       "        text-align: right;\n",
       "    }\n",
       "</style>\n",
       "<table border=\"1\" class=\"dataframe\">\n",
       "  <thead>\n",
       "    <tr style=\"text-align: right;\">\n",
       "      <th></th>\n",
       "      <th>RowNumber</th>\n",
       "      <th>CustomerId</th>\n",
       "      <th>CreditScore</th>\n",
       "      <th>Age</th>\n",
       "      <th>Tenure</th>\n",
       "      <th>Balance</th>\n",
       "      <th>NumOfProducts</th>\n",
       "      <th>HasCrCard</th>\n",
       "      <th>IsActiveMember</th>\n",
       "      <th>EstimatedSalary</th>\n",
       "      <th>Exited</th>\n",
       "    </tr>\n",
       "  </thead>\n",
       "  <tbody>\n",
       "    <tr>\n",
       "      <th>count</th>\n",
       "      <td>10000.00000</td>\n",
       "      <td>1.000000e+04</td>\n",
       "      <td>10000.000000</td>\n",
       "      <td>10000.000000</td>\n",
       "      <td>9091.000000</td>\n",
       "      <td>10000.000000</td>\n",
       "      <td>10000.000000</td>\n",
       "      <td>10000.00000</td>\n",
       "      <td>10000.000000</td>\n",
       "      <td>10000.000000</td>\n",
       "      <td>10000.000000</td>\n",
       "    </tr>\n",
       "    <tr>\n",
       "      <th>mean</th>\n",
       "      <td>5000.50000</td>\n",
       "      <td>1.569094e+07</td>\n",
       "      <td>650.528800</td>\n",
       "      <td>38.921800</td>\n",
       "      <td>4.997690</td>\n",
       "      <td>76485.889288</td>\n",
       "      <td>1.530200</td>\n",
       "      <td>0.70550</td>\n",
       "      <td>0.515100</td>\n",
       "      <td>100090.239881</td>\n",
       "      <td>0.203700</td>\n",
       "    </tr>\n",
       "    <tr>\n",
       "      <th>std</th>\n",
       "      <td>2886.89568</td>\n",
       "      <td>7.193619e+04</td>\n",
       "      <td>96.653299</td>\n",
       "      <td>10.487806</td>\n",
       "      <td>2.894723</td>\n",
       "      <td>62397.405202</td>\n",
       "      <td>0.581654</td>\n",
       "      <td>0.45584</td>\n",
       "      <td>0.499797</td>\n",
       "      <td>57510.492818</td>\n",
       "      <td>0.402769</td>\n",
       "    </tr>\n",
       "    <tr>\n",
       "      <th>min</th>\n",
       "      <td>1.00000</td>\n",
       "      <td>1.556570e+07</td>\n",
       "      <td>350.000000</td>\n",
       "      <td>18.000000</td>\n",
       "      <td>0.000000</td>\n",
       "      <td>0.000000</td>\n",
       "      <td>1.000000</td>\n",
       "      <td>0.00000</td>\n",
       "      <td>0.000000</td>\n",
       "      <td>11.580000</td>\n",
       "      <td>0.000000</td>\n",
       "    </tr>\n",
       "    <tr>\n",
       "      <th>25%</th>\n",
       "      <td>2500.75000</td>\n",
       "      <td>1.562853e+07</td>\n",
       "      <td>584.000000</td>\n",
       "      <td>32.000000</td>\n",
       "      <td>2.000000</td>\n",
       "      <td>0.000000</td>\n",
       "      <td>1.000000</td>\n",
       "      <td>0.00000</td>\n",
       "      <td>0.000000</td>\n",
       "      <td>51002.110000</td>\n",
       "      <td>0.000000</td>\n",
       "    </tr>\n",
       "    <tr>\n",
       "      <th>50%</th>\n",
       "      <td>5000.50000</td>\n",
       "      <td>1.569074e+07</td>\n",
       "      <td>652.000000</td>\n",
       "      <td>37.000000</td>\n",
       "      <td>5.000000</td>\n",
       "      <td>97198.540000</td>\n",
       "      <td>1.000000</td>\n",
       "      <td>1.00000</td>\n",
       "      <td>1.000000</td>\n",
       "      <td>100193.915000</td>\n",
       "      <td>0.000000</td>\n",
       "    </tr>\n",
       "    <tr>\n",
       "      <th>75%</th>\n",
       "      <td>7500.25000</td>\n",
       "      <td>1.575323e+07</td>\n",
       "      <td>718.000000</td>\n",
       "      <td>44.000000</td>\n",
       "      <td>7.000000</td>\n",
       "      <td>127644.240000</td>\n",
       "      <td>2.000000</td>\n",
       "      <td>1.00000</td>\n",
       "      <td>1.000000</td>\n",
       "      <td>149388.247500</td>\n",
       "      <td>0.000000</td>\n",
       "    </tr>\n",
       "    <tr>\n",
       "      <th>max</th>\n",
       "      <td>10000.00000</td>\n",
       "      <td>1.581569e+07</td>\n",
       "      <td>850.000000</td>\n",
       "      <td>92.000000</td>\n",
       "      <td>10.000000</td>\n",
       "      <td>250898.090000</td>\n",
       "      <td>4.000000</td>\n",
       "      <td>1.00000</td>\n",
       "      <td>1.000000</td>\n",
       "      <td>199992.480000</td>\n",
       "      <td>1.000000</td>\n",
       "    </tr>\n",
       "  </tbody>\n",
       "</table>\n",
       "</div>"
      ],
      "text/plain": [
       "         RowNumber    CustomerId   CreditScore           Age       Tenure  \\\n",
       "count  10000.00000  1.000000e+04  10000.000000  10000.000000  9091.000000   \n",
       "mean    5000.50000  1.569094e+07    650.528800     38.921800     4.997690   \n",
       "std     2886.89568  7.193619e+04     96.653299     10.487806     2.894723   \n",
       "min        1.00000  1.556570e+07    350.000000     18.000000     0.000000   \n",
       "25%     2500.75000  1.562853e+07    584.000000     32.000000     2.000000   \n",
       "50%     5000.50000  1.569074e+07    652.000000     37.000000     5.000000   \n",
       "75%     7500.25000  1.575323e+07    718.000000     44.000000     7.000000   \n",
       "max    10000.00000  1.581569e+07    850.000000     92.000000    10.000000   \n",
       "\n",
       "             Balance  NumOfProducts    HasCrCard  IsActiveMember  \\\n",
       "count   10000.000000   10000.000000  10000.00000    10000.000000   \n",
       "mean    76485.889288       1.530200      0.70550        0.515100   \n",
       "std     62397.405202       0.581654      0.45584        0.499797   \n",
       "min         0.000000       1.000000      0.00000        0.000000   \n",
       "25%         0.000000       1.000000      0.00000        0.000000   \n",
       "50%     97198.540000       1.000000      1.00000        1.000000   \n",
       "75%    127644.240000       2.000000      1.00000        1.000000   \n",
       "max    250898.090000       4.000000      1.00000        1.000000   \n",
       "\n",
       "       EstimatedSalary        Exited  \n",
       "count     10000.000000  10000.000000  \n",
       "mean     100090.239881      0.203700  \n",
       "std       57510.492818      0.402769  \n",
       "min          11.580000      0.000000  \n",
       "25%       51002.110000      0.000000  \n",
       "50%      100193.915000      0.000000  \n",
       "75%      149388.247500      0.000000  \n",
       "max      199992.480000      1.000000  "
      ]
     },
     "execution_count": 6,
     "metadata": {},
     "output_type": "execute_result"
    }
   ],
   "source": [
    "# Evaluar integridad de los datos.\n",
    "df.describe()"
   ]
  },
  {
   "cell_type": "markdown",
   "metadata": {},
   "source": [
    "**Observaciones generales:**\n",
    "- Las columnas parecen tener el tipo de datos correcto o funcional.\n",
    "- No hay presencia de datos duplicados.\n",
    "- No hay datos cuyos valores sean imposibles como ingresos negativos, edades de 150 años, o más de tres tipos de valores en las características dicotómicas.\n",
    "\n",
    "**Observación particular:**\n",
    "- La variable objetivo con valor de 1 sólo representa el 20.37% del total. Dado que se nos solicita aprender de las características de las personas que han habandonado los servicios de Beta Bank y dado que sólo contamos con 10.000 datos totales, tratamientos de balanceo serán recomendables. De no hacerlo, el valor F1 obtenido para el conjunto de entrenamiento podría ser muy bueno pero en los demás conjuntos caería drásticamente.\n",
    "\n",
    "**Correcciones y recomendaciones:**\n",
    "- La columna `Tenure` no está completa. Le falta un 9.09% de valores con respecto a las demás tablas. En este caso, la pérdida de datos no es demasiada por lo que puede ser fácilmente completada por su media o, en dado caso de que esta esté demasiado alejada a causa de valores atípicos, por su mediana."
   ]
  },
  {
   "cell_type": "code",
   "execution_count": 7,
   "metadata": {},
   "outputs": [
    {
     "data": {
      "text/plain": [
       "(4.997690023099769, 5.0)"
      ]
     },
     "execution_count": 7,
     "metadata": {},
     "output_type": "execute_result"
    }
   ],
   "source": [
    "# Observar la media y la mediana de mi distribución.\n",
    "df['Tenure'].mean(), df['Tenure'].median()"
   ]
  },
  {
   "cell_type": "markdown",
   "metadata": {},
   "source": [
    "Ambas son muy similares por lo que, en pos de conservar el número entero, podemos imputar fácilmente por su mediana de 5. "
   ]
  },
  {
   "cell_type": "code",
   "execution_count": 8,
   "metadata": {},
   "outputs": [],
   "source": [
    "# Imputar datos con base en la mediana.\n",
    "df.loc[df['Tenure'].isna(), 'Tenure'] = 5"
   ]
  },
  {
   "cell_type": "code",
   "execution_count": 9,
   "metadata": {},
   "outputs": [
    {
     "name": "stdout",
     "output_type": "stream",
     "text": [
      "<class 'pandas.core.frame.DataFrame'>\n",
      "RangeIndex: 10000 entries, 0 to 9999\n",
      "Data columns (total 14 columns):\n",
      " #   Column           Non-Null Count  Dtype  \n",
      "---  ------           --------------  -----  \n",
      " 0   RowNumber        10000 non-null  int64  \n",
      " 1   CustomerId       10000 non-null  int64  \n",
      " 2   Surname          10000 non-null  object \n",
      " 3   CreditScore      10000 non-null  int64  \n",
      " 4   Geography        10000 non-null  object \n",
      " 5   Gender           10000 non-null  object \n",
      " 6   Age              10000 non-null  int64  \n",
      " 7   Tenure           10000 non-null  float64\n",
      " 8   Balance          10000 non-null  float64\n",
      " 9   NumOfProducts    10000 non-null  int64  \n",
      " 10  HasCrCard        10000 non-null  int64  \n",
      " 11  IsActiveMember   10000 non-null  int64  \n",
      " 12  EstimatedSalary  10000 non-null  float64\n",
      " 13  Exited           10000 non-null  int64  \n",
      "dtypes: float64(3), int64(8), object(3)\n",
      "memory usage: 1.1+ MB\n"
     ]
    }
   ],
   "source": [
    "df.info()"
   ]
  },
  {
   "cell_type": "markdown",
   "metadata": {},
   "source": [
    "## Segmentación de los datos y tratamiento del desbalance de clases"
   ]
  },
  {
   "cell_type": "markdown",
   "metadata": {},
   "source": [
    "### Segmentación de los datos entre características y objetivo. "
   ]
  },
  {
   "cell_type": "markdown",
   "metadata": {},
   "source": [
    "Para preparar el modelo debemos separar nuestro objetivo del resto de las columnas. Sin embargo, previamente se puede decidir qué características formarán parte del modelo y cómo será procesada cada columna.\n",
    "\n",
    "**Columnas que no se integrarán para el entrenamiento del modelo:**\n",
    "\n",
    "`RowNumber` se descartará pues no es necesaria para el modelo.\n",
    "`CustomerId` tampoco será necesario para el modelo, pero podemos conservarlo (al menos hasta antes de entrenar el modelo) para corroborar que las modificaciones se apliquen correctamente en cada fila.\n",
    "`Surname` se descartará puesto que, en términos prácticos, no buscamos determinar si el apellido está relacionado de alguna forma con las salidas de los clientes.\n",
    "\n",
    "**Columnas numéricas:**\n",
    "\n",
    "`Age`, `Tenure`, `Balance`, `NumOfProducts`, `EstimatedSalary`. Es necesario escalar estas variables.\n",
    "\n",
    "**Columnas categóricas:**\n",
    "\n",
    "`Geography`, `Gender`. Dado que la librería de sklearn no acepta variables categóricas sin procesar, serán necearios ciertos pasos previos. Para modelos no basados en árboles y en dado caso que no tengamos demasiadas categorías por columna, el mejor método será One Hot Encoder. Para modelos basados en árboles, también podemos probar este método pero si no alcanza el objetivo mínimo, tal vez sea necesario compararlo con el método alternativo de codificación de etiquetas. \n",
    "\n",
    "**Características dicotómicas:**\n",
    "\n",
    "`HasCrCard`, `IsActiveMember`. Las conservaremos en su forma entera, sin escalar. "
   ]
  },
  {
   "cell_type": "code",
   "execution_count": 10,
   "metadata": {},
   "outputs": [],
   "source": [
    "# Segmentar nuestro conjunto de datos en características y en variable objetivo.\n",
    "x = df.drop(['RowNumber','Surname','Exited'], axis = 1)\n",
    "y = df['Exited']"
   ]
  },
  {
   "cell_type": "markdown",
   "metadata": {},
   "source": [
    "Por un lado, podemos usar el método One Hot Encoder en `Gender` y en `Geography` ya que no se trata de variables ordinales. Por otro, es necesario saber si las categorías de cada columna son pocas. Si son demasiadas, podría ser que aplicar codificación de etiquetas sea más viable."
   ]
  },
  {
   "cell_type": "code",
   "execution_count": 11,
   "metadata": {},
   "outputs": [
    {
     "data": {
      "text/plain": [
       "array(['Female', 'Male'], dtype=object)"
      ]
     },
     "execution_count": 11,
     "metadata": {},
     "output_type": "execute_result"
    }
   ],
   "source": [
    "# Analizar la factibilidad de usar OneHotEncoder con variable\n",
    "x.Gender.unique()"
   ]
  },
  {
   "cell_type": "code",
   "execution_count": 12,
   "metadata": {},
   "outputs": [
    {
     "data": {
      "text/plain": [
       "array(['France', 'Spain', 'Germany'], dtype=object)"
      ]
     },
     "execution_count": 12,
     "metadata": {},
     "output_type": "execute_result"
    }
   ],
   "source": [
    "# Analizar la factibilidad de usar OneHotEncoder con columna `Geography`\n",
    "x.Geography.unique()\n"
   ]
  },
  {
   "cell_type": "markdown",
   "metadata": {},
   "source": [
    "Los géneros y los países son relativamente pocos por lo que no se esperan problemas de multidimensionalidad al usar el método One Hot Encoder. "
   ]
  },
  {
   "cell_type": "markdown",
   "metadata": {},
   "source": [
    "### Segmentación de datos en conjunto de entrenamiento(train), validación(valid), y prueba(test).\n",
    "\n",
    "Dado que se considera que no habrá un posterior conjunto de prueba, se dividirá el marco de datos en una proporcion de 3:1:1. Es decir, 60% para el conjunto de entrenamiento, 20% para el conjunto de validación y 20% para el conjunto de prueba final sobre el cual intentaremos maximizar F1. "
   ]
  },
  {
   "cell_type": "code",
   "execution_count": 13,
   "metadata": {},
   "outputs": [],
   "source": [
    "# Crear los conjuntos de datos\n",
    "##Conjunto de entrenamiento y el 40% restante del marco\n",
    "x_train, x_40, y_train, y_40 = train_test_split(x, y, random_state = 73, test_size =.40, shuffle = True) \n",
    "##Conjunto de validación y de prueba.\n",
    "x_valid, x_test, y_valid, y_test = train_test_split(x_40, y_40, random_state = 73, test_size = .50, shuffle = True)"
   ]
  },
  {
   "cell_type": "code",
   "execution_count": 14,
   "metadata": {},
   "outputs": [
    {
     "data": {
      "text/plain": [
       "((6000, 11),\n",
       " (4000, 11),\n",
       " (6000,),\n",
       " (4000,),\n",
       " (2000, 11),\n",
       " (2000, 11),\n",
       " (2000,),\n",
       " (2000,))"
      ]
     },
     "execution_count": 14,
     "metadata": {},
     "output_type": "execute_result"
    }
   ],
   "source": [
    "x_train.shape, x_40.shape, y_train.shape, y_40.shape, x_valid.shape, x_test.shape, y_valid.shape, y_test.shape"
   ]
  },
  {
   "cell_type": "markdown",
   "metadata": {},
   "source": [
    "### Tratamiento del desequilibrio de clases."
   ]
  },
  {
   "cell_type": "markdown",
   "metadata": {},
   "source": [
    "Se mencionó que nuestra variable objetivo sólo representaba alrededor del 20% del total. Ello podría causar que nuestro modelo no aprenda lo suficiente de los casos de abandono que se intentan explicar. Para remediar esto, y tomando en cuenta que nuestro conjunto de entrenamiento sólo contiene 6.000 instancias, se recurre a la técnica de sobremuestreo. Si se duplica el número de observaciones positivas a (aproximadamente) 2.400, tendremos una proporción de 1:2 con 4.800 instancias negativas. Podemos terminar de resolver el desbalance ajustando un hiperparámetro en cada modelo. En caso de que el objetivo mínimo no sea alcanzado se recurrirá a modificar el umbral de los modelos."
   ]
  },
  {
   "cell_type": "code",
   "execution_count": 15,
   "metadata": {},
   "outputs": [],
   "source": [
    "# Dividir el conjunto de entrenamiento en clases positivas y negativas (objetivos de cero y uno)\n",
    "x_train_ceros = x_train[y_train == 0]\n",
    "x_train_unos = x_train[y_train == 1]\n",
    "y_train_ceros = y_train[y_train == 0]\n",
    "y_train_unos = y_train[y_train == 1]"
   ]
  },
  {
   "cell_type": "code",
   "execution_count": 16,
   "metadata": {},
   "outputs": [],
   "source": [
    "# Concatenar las tablas para tener nuestro nuevo conjunto de entrenamiento.\n",
    "x_train_up = pd.concat([x_train_ceros] + [x_train_unos] * 2)\n",
    "y_train_up = pd.concat([y_train_ceros] + [y_train_unos] * 2)"
   ]
  },
  {
   "cell_type": "code",
   "execution_count": 17,
   "metadata": {},
   "outputs": [
    {
     "data": {
      "text/plain": [
       "((7217, 11), (7217,))"
      ]
     },
     "execution_count": 17,
     "metadata": {},
     "output_type": "execute_result"
    }
   ],
   "source": [
    "# Comprobar que tienen mismo número de filas.\n",
    "x_train_up.shape, y_train_up.shape"
   ]
  },
  {
   "cell_type": "code",
   "execution_count": 18,
   "metadata": {},
   "outputs": [
    {
     "data": {
      "text/html": [
       "<div>\n",
       "<style scoped>\n",
       "    .dataframe tbody tr th:only-of-type {\n",
       "        vertical-align: middle;\n",
       "    }\n",
       "\n",
       "    .dataframe tbody tr th {\n",
       "        vertical-align: top;\n",
       "    }\n",
       "\n",
       "    .dataframe thead th {\n",
       "        text-align: right;\n",
       "    }\n",
       "</style>\n",
       "<table border=\"1\" class=\"dataframe\">\n",
       "  <thead>\n",
       "    <tr style=\"text-align: right;\">\n",
       "      <th></th>\n",
       "      <th>CustomerId</th>\n",
       "      <th>CreditScore</th>\n",
       "      <th>Geography</th>\n",
       "      <th>Gender</th>\n",
       "      <th>Age</th>\n",
       "      <th>Tenure</th>\n",
       "      <th>Balance</th>\n",
       "      <th>NumOfProducts</th>\n",
       "      <th>HasCrCard</th>\n",
       "      <th>IsActiveMember</th>\n",
       "      <th>EstimatedSalary</th>\n",
       "    </tr>\n",
       "  </thead>\n",
       "  <tbody>\n",
       "    <tr>\n",
       "      <th>1558</th>\n",
       "      <td>15618018</td>\n",
       "      <td>571</td>\n",
       "      <td>France</td>\n",
       "      <td>Female</td>\n",
       "      <td>35</td>\n",
       "      <td>1.0</td>\n",
       "      <td>104783.81</td>\n",
       "      <td>2</td>\n",
       "      <td>0</td>\n",
       "      <td>1</td>\n",
       "      <td>178512.52</td>\n",
       "    </tr>\n",
       "    <tr>\n",
       "      <th>7934</th>\n",
       "      <td>15803886</td>\n",
       "      <td>629</td>\n",
       "      <td>Spain</td>\n",
       "      <td>Male</td>\n",
       "      <td>31</td>\n",
       "      <td>6.0</td>\n",
       "      <td>132876.55</td>\n",
       "      <td>1</td>\n",
       "      <td>1</td>\n",
       "      <td>1</td>\n",
       "      <td>130862.11</td>\n",
       "    </tr>\n",
       "    <tr>\n",
       "      <th>5951</th>\n",
       "      <td>15590637</td>\n",
       "      <td>721</td>\n",
       "      <td>France</td>\n",
       "      <td>Male</td>\n",
       "      <td>41</td>\n",
       "      <td>7.0</td>\n",
       "      <td>0.00</td>\n",
       "      <td>2</td>\n",
       "      <td>0</td>\n",
       "      <td>1</td>\n",
       "      <td>61018.85</td>\n",
       "    </tr>\n",
       "  </tbody>\n",
       "</table>\n",
       "</div>"
      ],
      "text/plain": [
       "      CustomerId  CreditScore Geography  Gender  Age  Tenure    Balance  \\\n",
       "1558    15618018          571    France  Female   35     1.0  104783.81   \n",
       "7934    15803886          629     Spain    Male   31     6.0  132876.55   \n",
       "5951    15590637          721    France    Male   41     7.0       0.00   \n",
       "\n",
       "      NumOfProducts  HasCrCard  IsActiveMember  EstimatedSalary  \n",
       "1558              2          0               1        178512.52  \n",
       "7934              1          1               1        130862.11  \n",
       "5951              2          0               1         61018.85  "
      ]
     },
     "execution_count": 18,
     "metadata": {},
     "output_type": "execute_result"
    }
   ],
   "source": [
    "x_train_up.head(3)"
   ]
  },
  {
   "cell_type": "markdown",
   "metadata": {},
   "source": [
    "Sin embargo, es necesario barajear las columnas para que el modelo aprenda correctamente."
   ]
  },
  {
   "cell_type": "code",
   "execution_count": 19,
   "metadata": {},
   "outputs": [],
   "source": [
    "# Barajear los conjuntos\n",
    "x_train_up, y_train_up = shuffle(x_train_up, y_train_up, random_state = 73) "
   ]
  },
  {
   "cell_type": "code",
   "execution_count": 20,
   "metadata": {},
   "outputs": [
    {
     "data": {
      "text/html": [
       "<div>\n",
       "<style scoped>\n",
       "    .dataframe tbody tr th:only-of-type {\n",
       "        vertical-align: middle;\n",
       "    }\n",
       "\n",
       "    .dataframe tbody tr th {\n",
       "        vertical-align: top;\n",
       "    }\n",
       "\n",
       "    .dataframe thead th {\n",
       "        text-align: right;\n",
       "    }\n",
       "</style>\n",
       "<table border=\"1\" class=\"dataframe\">\n",
       "  <thead>\n",
       "    <tr style=\"text-align: right;\">\n",
       "      <th></th>\n",
       "      <th>CustomerId</th>\n",
       "      <th>CreditScore</th>\n",
       "      <th>Geography</th>\n",
       "      <th>Gender</th>\n",
       "      <th>Age</th>\n",
       "      <th>Tenure</th>\n",
       "      <th>Balance</th>\n",
       "      <th>NumOfProducts</th>\n",
       "      <th>HasCrCard</th>\n",
       "      <th>IsActiveMember</th>\n",
       "      <th>EstimatedSalary</th>\n",
       "    </tr>\n",
       "  </thead>\n",
       "  <tbody>\n",
       "    <tr>\n",
       "      <th>2885</th>\n",
       "      <td>15716024</td>\n",
       "      <td>660</td>\n",
       "      <td>Spain</td>\n",
       "      <td>Male</td>\n",
       "      <td>42</td>\n",
       "      <td>5.0</td>\n",
       "      <td>0.0</td>\n",
       "      <td>2</td>\n",
       "      <td>1</td>\n",
       "      <td>0</td>\n",
       "      <td>115509.59</td>\n",
       "    </tr>\n",
       "    <tr>\n",
       "      <th>6836</th>\n",
       "      <td>15591344</td>\n",
       "      <td>715</td>\n",
       "      <td>Spain</td>\n",
       "      <td>Male</td>\n",
       "      <td>42</td>\n",
       "      <td>6.0</td>\n",
       "      <td>0.0</td>\n",
       "      <td>2</td>\n",
       "      <td>1</td>\n",
       "      <td>1</td>\n",
       "      <td>128745.69</td>\n",
       "    </tr>\n",
       "    <tr>\n",
       "      <th>3619</th>\n",
       "      <td>15715939</td>\n",
       "      <td>730</td>\n",
       "      <td>France</td>\n",
       "      <td>Male</td>\n",
       "      <td>33</td>\n",
       "      <td>0.0</td>\n",
       "      <td>0.0</td>\n",
       "      <td>2</td>\n",
       "      <td>1</td>\n",
       "      <td>0</td>\n",
       "      <td>1474.79</td>\n",
       "    </tr>\n",
       "  </tbody>\n",
       "</table>\n",
       "</div>"
      ],
      "text/plain": [
       "      CustomerId  CreditScore Geography Gender  Age  Tenure  Balance  \\\n",
       "2885    15716024          660     Spain   Male   42     5.0      0.0   \n",
       "6836    15591344          715     Spain   Male   42     6.0      0.0   \n",
       "3619    15715939          730    France   Male   33     0.0      0.0   \n",
       "\n",
       "      NumOfProducts  HasCrCard  IsActiveMember  EstimatedSalary  \n",
       "2885              2          1               0        115509.59  \n",
       "6836              2          1               1        128745.69  \n",
       "3619              2          1               0          1474.79  "
      ]
     },
     "execution_count": 20,
     "metadata": {},
     "output_type": "execute_result"
    }
   ],
   "source": [
    "x_train_up.head(3)"
   ]
  },
  {
   "cell_type": "markdown",
   "metadata": {},
   "source": [
    "### Aplicación de One Hot Encoder a columnas `Gender` & `Geography`."
   ]
  },
  {
   "cell_type": "markdown",
   "metadata": {},
   "source": [
    "Para estas dos columnas podemos aplicar el método de One Hot Encoder."
   ]
  },
  {
   "cell_type": "code",
   "execution_count": 21,
   "metadata": {},
   "outputs": [
    {
     "data": {
      "text/html": [
       "<div>\n",
       "<style scoped>\n",
       "    .dataframe tbody tr th:only-of-type {\n",
       "        vertical-align: middle;\n",
       "    }\n",
       "\n",
       "    .dataframe tbody tr th {\n",
       "        vertical-align: top;\n",
       "    }\n",
       "\n",
       "    .dataframe thead th {\n",
       "        text-align: right;\n",
       "    }\n",
       "</style>\n",
       "<table border=\"1\" class=\"dataframe\">\n",
       "  <thead>\n",
       "    <tr style=\"text-align: right;\">\n",
       "      <th></th>\n",
       "      <th>CustomerId</th>\n",
       "      <th>CreditScore</th>\n",
       "      <th>Age</th>\n",
       "      <th>Tenure</th>\n",
       "      <th>Balance</th>\n",
       "      <th>NumOfProducts</th>\n",
       "      <th>HasCrCard</th>\n",
       "      <th>IsActiveMember</th>\n",
       "      <th>EstimatedSalary</th>\n",
       "      <th>Male</th>\n",
       "      <th>Germany</th>\n",
       "      <th>Spain</th>\n",
       "    </tr>\n",
       "  </thead>\n",
       "  <tbody>\n",
       "    <tr>\n",
       "      <th>0</th>\n",
       "      <td>15716024</td>\n",
       "      <td>660</td>\n",
       "      <td>42</td>\n",
       "      <td>5.0</td>\n",
       "      <td>0.0</td>\n",
       "      <td>2</td>\n",
       "      <td>1</td>\n",
       "      <td>0</td>\n",
       "      <td>115509.59</td>\n",
       "      <td>1.0</td>\n",
       "      <td>0.0</td>\n",
       "      <td>1.0</td>\n",
       "    </tr>\n",
       "    <tr>\n",
       "      <th>1</th>\n",
       "      <td>15591344</td>\n",
       "      <td>715</td>\n",
       "      <td>42</td>\n",
       "      <td>6.0</td>\n",
       "      <td>0.0</td>\n",
       "      <td>2</td>\n",
       "      <td>1</td>\n",
       "      <td>1</td>\n",
       "      <td>128745.69</td>\n",
       "      <td>1.0</td>\n",
       "      <td>0.0</td>\n",
       "      <td>1.0</td>\n",
       "    </tr>\n",
       "    <tr>\n",
       "      <th>2</th>\n",
       "      <td>15715939</td>\n",
       "      <td>730</td>\n",
       "      <td>33</td>\n",
       "      <td>0.0</td>\n",
       "      <td>0.0</td>\n",
       "      <td>2</td>\n",
       "      <td>1</td>\n",
       "      <td>0</td>\n",
       "      <td>1474.79</td>\n",
       "      <td>1.0</td>\n",
       "      <td>0.0</td>\n",
       "      <td>0.0</td>\n",
       "    </tr>\n",
       "  </tbody>\n",
       "</table>\n",
       "</div>"
      ],
      "text/plain": [
       "   CustomerId  CreditScore  Age  Tenure  Balance  NumOfProducts  HasCrCard  \\\n",
       "0    15716024          660   42     5.0      0.0              2          1   \n",
       "1    15591344          715   42     6.0      0.0              2          1   \n",
       "2    15715939          730   33     0.0      0.0              2          1   \n",
       "\n",
       "   IsActiveMember  EstimatedSalary  Male  Germany  Spain  \n",
       "0               0        115509.59   1.0      0.0    1.0  \n",
       "1               1        128745.69   1.0      0.0    1.0  \n",
       "2               0          1474.79   1.0      0.0    0.0  "
      ]
     },
     "execution_count": 21,
     "metadata": {},
     "output_type": "execute_result"
    }
   ],
   "source": [
    "#Crear instancia\n",
    "ohe = OneHotEncoder(sparse = False, drop = 'first')\n",
    "#Crear nuevas columnas y nombrarlas\n",
    "ohe_ambas = pd.DataFrame(ohe.fit_transform(x_train_up[['Gender', 'Geography']]), columns = ['Male', 'Germany', 'Spain'])\n",
    "#Concatenar los resultados\n",
    "x_train_ohe = pd.concat([x_train_up.drop(columns = ['Gender','Geography']).reset_index(drop=True), ohe_ambas], axis = 1)\n",
    "# Mostrar el nuevo DataFrame\n",
    "x_train_ohe.head(3)"
   ]
  },
  {
   "cell_type": "markdown",
   "metadata": {},
   "source": [
    "Aplicamos el mismo método a el conjunto de prueba y de validación"
   ]
  },
  {
   "cell_type": "code",
   "execution_count": 22,
   "metadata": {
    "scrolled": true
   },
   "outputs": [
    {
     "data": {
      "text/html": [
       "<div>\n",
       "<style scoped>\n",
       "    .dataframe tbody tr th:only-of-type {\n",
       "        vertical-align: middle;\n",
       "    }\n",
       "\n",
       "    .dataframe tbody tr th {\n",
       "        vertical-align: top;\n",
       "    }\n",
       "\n",
       "    .dataframe thead th {\n",
       "        text-align: right;\n",
       "    }\n",
       "</style>\n",
       "<table border=\"1\" class=\"dataframe\">\n",
       "  <thead>\n",
       "    <tr style=\"text-align: right;\">\n",
       "      <th></th>\n",
       "      <th>CustomerId</th>\n",
       "      <th>CreditScore</th>\n",
       "      <th>Age</th>\n",
       "      <th>Tenure</th>\n",
       "      <th>Balance</th>\n",
       "      <th>NumOfProducts</th>\n",
       "      <th>HasCrCard</th>\n",
       "      <th>IsActiveMember</th>\n",
       "      <th>EstimatedSalary</th>\n",
       "      <th>Male</th>\n",
       "      <th>Germany</th>\n",
       "      <th>Spain</th>\n",
       "    </tr>\n",
       "  </thead>\n",
       "  <tbody>\n",
       "    <tr>\n",
       "      <th>0</th>\n",
       "      <td>15667602</td>\n",
       "      <td>704</td>\n",
       "      <td>33</td>\n",
       "      <td>3.0</td>\n",
       "      <td>0.0</td>\n",
       "      <td>2</td>\n",
       "      <td>1</td>\n",
       "      <td>0</td>\n",
       "      <td>73018.74</td>\n",
       "      <td>1.0</td>\n",
       "      <td>0.0</td>\n",
       "      <td>1.0</td>\n",
       "    </tr>\n",
       "    <tr>\n",
       "      <th>1</th>\n",
       "      <td>15811877</td>\n",
       "      <td>700</td>\n",
       "      <td>36</td>\n",
       "      <td>4.0</td>\n",
       "      <td>0.0</td>\n",
       "      <td>2</td>\n",
       "      <td>1</td>\n",
       "      <td>0</td>\n",
       "      <td>130789.15</td>\n",
       "      <td>0.0</td>\n",
       "      <td>0.0</td>\n",
       "      <td>0.0</td>\n",
       "    </tr>\n",
       "    <tr>\n",
       "      <th>2</th>\n",
       "      <td>15575486</td>\n",
       "      <td>529</td>\n",
       "      <td>27</td>\n",
       "      <td>1.0</td>\n",
       "      <td>0.0</td>\n",
       "      <td>2</td>\n",
       "      <td>1</td>\n",
       "      <td>1</td>\n",
       "      <td>37769.98</td>\n",
       "      <td>0.0</td>\n",
       "      <td>0.0</td>\n",
       "      <td>0.0</td>\n",
       "    </tr>\n",
       "  </tbody>\n",
       "</table>\n",
       "</div>"
      ],
      "text/plain": [
       "   CustomerId  CreditScore  Age  Tenure  Balance  NumOfProducts  HasCrCard  \\\n",
       "0    15667602          704   33     3.0      0.0              2          1   \n",
       "1    15811877          700   36     4.0      0.0              2          1   \n",
       "2    15575486          529   27     1.0      0.0              2          1   \n",
       "\n",
       "   IsActiveMember  EstimatedSalary  Male  Germany  Spain  \n",
       "0               0         73018.74   1.0      0.0    1.0  \n",
       "1               0        130789.15   0.0      0.0    0.0  \n",
       "2               1         37769.98   0.0      0.0    0.0  "
      ]
     },
     "execution_count": 22,
     "metadata": {},
     "output_type": "execute_result"
    }
   ],
   "source": [
    "#Para el conjunto de validación\n",
    "nombres = ['Male', 'Germany', 'Spain']\n",
    "ohe_ambas_valid = pd.DataFrame(ohe.transform(x_valid[['Gender', 'Geography']]), columns = ['Male', 'Germany', 'Spain'])\n",
    "\n",
    "x_valid_ohe = pd.concat([x_valid.drop(columns = ['Gender', 'Geography']).reset_index(drop=True), ohe_ambas_valid], axis = 1)\n",
    "\n",
    "x_valid_ohe.head(3)"
   ]
  },
  {
   "cell_type": "code",
   "execution_count": 23,
   "metadata": {},
   "outputs": [
    {
     "data": {
      "text/html": [
       "<div>\n",
       "<style scoped>\n",
       "    .dataframe tbody tr th:only-of-type {\n",
       "        vertical-align: middle;\n",
       "    }\n",
       "\n",
       "    .dataframe tbody tr th {\n",
       "        vertical-align: top;\n",
       "    }\n",
       "\n",
       "    .dataframe thead th {\n",
       "        text-align: right;\n",
       "    }\n",
       "</style>\n",
       "<table border=\"1\" class=\"dataframe\">\n",
       "  <thead>\n",
       "    <tr style=\"text-align: right;\">\n",
       "      <th></th>\n",
       "      <th>CustomerId</th>\n",
       "      <th>CreditScore</th>\n",
       "      <th>Age</th>\n",
       "      <th>Tenure</th>\n",
       "      <th>Balance</th>\n",
       "      <th>NumOfProducts</th>\n",
       "      <th>HasCrCard</th>\n",
       "      <th>IsActiveMember</th>\n",
       "      <th>EstimatedSalary</th>\n",
       "      <th>Male</th>\n",
       "      <th>Germany</th>\n",
       "      <th>Spain</th>\n",
       "    </tr>\n",
       "  </thead>\n",
       "  <tbody>\n",
       "    <tr>\n",
       "      <th>0</th>\n",
       "      <td>15647266</td>\n",
       "      <td>651</td>\n",
       "      <td>45</td>\n",
       "      <td>5.0</td>\n",
       "      <td>135923.16</td>\n",
       "      <td>1</td>\n",
       "      <td>1</td>\n",
       "      <td>0</td>\n",
       "      <td>18732.84</td>\n",
       "      <td>0.0</td>\n",
       "      <td>0.0</td>\n",
       "      <td>1.0</td>\n",
       "    </tr>\n",
       "    <tr>\n",
       "      <th>1</th>\n",
       "      <td>15722731</td>\n",
       "      <td>653</td>\n",
       "      <td>46</td>\n",
       "      <td>0.0</td>\n",
       "      <td>119556.10</td>\n",
       "      <td>1</td>\n",
       "      <td>1</td>\n",
       "      <td>0</td>\n",
       "      <td>78250.13</td>\n",
       "      <td>1.0</td>\n",
       "      <td>0.0</td>\n",
       "      <td>0.0</td>\n",
       "    </tr>\n",
       "    <tr>\n",
       "      <th>2</th>\n",
       "      <td>15598157</td>\n",
       "      <td>728</td>\n",
       "      <td>34</td>\n",
       "      <td>4.0</td>\n",
       "      <td>106328.08</td>\n",
       "      <td>1</td>\n",
       "      <td>1</td>\n",
       "      <td>0</td>\n",
       "      <td>88680.65</td>\n",
       "      <td>1.0</td>\n",
       "      <td>0.0</td>\n",
       "      <td>0.0</td>\n",
       "    </tr>\n",
       "  </tbody>\n",
       "</table>\n",
       "</div>"
      ],
      "text/plain": [
       "   CustomerId  CreditScore  Age  Tenure    Balance  NumOfProducts  HasCrCard  \\\n",
       "0    15647266          651   45     5.0  135923.16              1          1   \n",
       "1    15722731          653   46     0.0  119556.10              1          1   \n",
       "2    15598157          728   34     4.0  106328.08              1          1   \n",
       "\n",
       "   IsActiveMember  EstimatedSalary  Male  Germany  Spain  \n",
       "0               0         18732.84   0.0      0.0    1.0  \n",
       "1               0         78250.13   1.0      0.0    0.0  \n",
       "2               0         88680.65   1.0      0.0    0.0  "
      ]
     },
     "execution_count": 23,
     "metadata": {},
     "output_type": "execute_result"
    }
   ],
   "source": [
    "#Para el conjunto de prueba\n",
    "ohe_ambas_test = pd.DataFrame(ohe.transform(x_test[['Gender', 'Geography']]), columns = ['Male', 'Germany', 'Spain'])\n",
    "\n",
    "x_test_ohe = pd.concat([x_test.drop(columns = ['Gender', 'Geography']).reset_index(drop=True), ohe_ambas_test], axis = 1)\n",
    "\n",
    "x_test_ohe.head(3)"
   ]
  },
  {
   "cell_type": "markdown",
   "metadata": {},
   "source": [
    "### Escalar características numéricas."
   ]
  },
  {
   "cell_type": "code",
   "execution_count": 24,
   "metadata": {},
   "outputs": [],
   "source": [
    "#Crear instancia\n",
    "ss = StandardScaler()\n",
    "numericas = ['CreditScore','Age','Tenure','Balance','NumOfProducts','EstimatedSalary']\n",
    "x_train_ohe[numericas] = ss.fit_transform(x_train_ohe[numericas])"
   ]
  },
  {
   "cell_type": "code",
   "execution_count": 25,
   "metadata": {},
   "outputs": [
    {
     "data": {
      "text/html": [
       "<div>\n",
       "<style scoped>\n",
       "    .dataframe tbody tr th:only-of-type {\n",
       "        vertical-align: middle;\n",
       "    }\n",
       "\n",
       "    .dataframe tbody tr th {\n",
       "        vertical-align: top;\n",
       "    }\n",
       "\n",
       "    .dataframe thead th {\n",
       "        text-align: right;\n",
       "    }\n",
       "</style>\n",
       "<table border=\"1\" class=\"dataframe\">\n",
       "  <thead>\n",
       "    <tr style=\"text-align: right;\">\n",
       "      <th></th>\n",
       "      <th>CustomerId</th>\n",
       "      <th>CreditScore</th>\n",
       "      <th>Age</th>\n",
       "      <th>Tenure</th>\n",
       "      <th>Balance</th>\n",
       "      <th>NumOfProducts</th>\n",
       "      <th>HasCrCard</th>\n",
       "      <th>IsActiveMember</th>\n",
       "      <th>EstimatedSalary</th>\n",
       "      <th>Male</th>\n",
       "      <th>Germany</th>\n",
       "      <th>Spain</th>\n",
       "    </tr>\n",
       "  </thead>\n",
       "  <tbody>\n",
       "    <tr>\n",
       "      <th>0</th>\n",
       "      <td>15716024</td>\n",
       "      <td>0.097934</td>\n",
       "      <td>0.192222</td>\n",
       "      <td>0.018805</td>\n",
       "      <td>-1.278235</td>\n",
       "      <td>0.754808</td>\n",
       "      <td>1</td>\n",
       "      <td>0</td>\n",
       "      <td>0.273355</td>\n",
       "      <td>1.0</td>\n",
       "      <td>0.0</td>\n",
       "      <td>1.0</td>\n",
       "    </tr>\n",
       "    <tr>\n",
       "      <th>1</th>\n",
       "      <td>15591344</td>\n",
       "      <td>0.666016</td>\n",
       "      <td>0.192222</td>\n",
       "      <td>0.380712</td>\n",
       "      <td>-1.278235</td>\n",
       "      <td>0.754808</td>\n",
       "      <td>1</td>\n",
       "      <td>1</td>\n",
       "      <td>0.501802</td>\n",
       "      <td>1.0</td>\n",
       "      <td>0.0</td>\n",
       "      <td>1.0</td>\n",
       "    </tr>\n",
       "    <tr>\n",
       "      <th>2</th>\n",
       "      <td>15715939</td>\n",
       "      <td>0.820948</td>\n",
       "      <td>-0.658747</td>\n",
       "      <td>-1.790728</td>\n",
       "      <td>-1.278235</td>\n",
       "      <td>0.754808</td>\n",
       "      <td>1</td>\n",
       "      <td>0</td>\n",
       "      <td>-1.694821</td>\n",
       "      <td>1.0</td>\n",
       "      <td>0.0</td>\n",
       "      <td>0.0</td>\n",
       "    </tr>\n",
       "  </tbody>\n",
       "</table>\n",
       "</div>"
      ],
      "text/plain": [
       "   CustomerId  CreditScore       Age    Tenure   Balance  NumOfProducts  \\\n",
       "0    15716024     0.097934  0.192222  0.018805 -1.278235       0.754808   \n",
       "1    15591344     0.666016  0.192222  0.380712 -1.278235       0.754808   \n",
       "2    15715939     0.820948 -0.658747 -1.790728 -1.278235       0.754808   \n",
       "\n",
       "   HasCrCard  IsActiveMember  EstimatedSalary  Male  Germany  Spain  \n",
       "0          1               0         0.273355   1.0      0.0    1.0  \n",
       "1          1               1         0.501802   1.0      0.0    1.0  \n",
       "2          1               0        -1.694821   1.0      0.0    0.0  "
      ]
     },
     "execution_count": 25,
     "metadata": {},
     "output_type": "execute_result"
    }
   ],
   "source": [
    "x_train_ohe.head(3)"
   ]
  },
  {
   "cell_type": "code",
   "execution_count": 26,
   "metadata": {},
   "outputs": [
    {
     "data": {
      "text/html": [
       "<div>\n",
       "<style scoped>\n",
       "    .dataframe tbody tr th:only-of-type {\n",
       "        vertical-align: middle;\n",
       "    }\n",
       "\n",
       "    .dataframe tbody tr th {\n",
       "        vertical-align: top;\n",
       "    }\n",
       "\n",
       "    .dataframe thead th {\n",
       "        text-align: right;\n",
       "    }\n",
       "</style>\n",
       "<table border=\"1\" class=\"dataframe\">\n",
       "  <thead>\n",
       "    <tr style=\"text-align: right;\">\n",
       "      <th></th>\n",
       "      <th>CustomerId</th>\n",
       "      <th>CreditScore</th>\n",
       "      <th>Age</th>\n",
       "      <th>Tenure</th>\n",
       "      <th>Balance</th>\n",
       "      <th>NumOfProducts</th>\n",
       "      <th>HasCrCard</th>\n",
       "      <th>IsActiveMember</th>\n",
       "      <th>EstimatedSalary</th>\n",
       "      <th>Male</th>\n",
       "      <th>Germany</th>\n",
       "      <th>Spain</th>\n",
       "    </tr>\n",
       "  </thead>\n",
       "  <tbody>\n",
       "    <tr>\n",
       "      <th>0</th>\n",
       "      <td>15667602</td>\n",
       "      <td>0.552400</td>\n",
       "      <td>-0.658747</td>\n",
       "      <td>-0.705008</td>\n",
       "      <td>-1.278235</td>\n",
       "      <td>0.754808</td>\n",
       "      <td>1</td>\n",
       "      <td>0</td>\n",
       "      <td>-0.460013</td>\n",
       "      <td>1.0</td>\n",
       "      <td>0.0</td>\n",
       "      <td>1.0</td>\n",
       "    </tr>\n",
       "    <tr>\n",
       "      <th>1</th>\n",
       "      <td>15811877</td>\n",
       "      <td>0.511085</td>\n",
       "      <td>-0.375091</td>\n",
       "      <td>-0.343102</td>\n",
       "      <td>-1.278235</td>\n",
       "      <td>0.754808</td>\n",
       "      <td>1</td>\n",
       "      <td>0</td>\n",
       "      <td>0.537071</td>\n",
       "      <td>0.0</td>\n",
       "      <td>0.0</td>\n",
       "      <td>0.0</td>\n",
       "    </tr>\n",
       "    <tr>\n",
       "      <th>2</th>\n",
       "      <td>15575486</td>\n",
       "      <td>-1.255136</td>\n",
       "      <td>-1.226060</td>\n",
       "      <td>-1.428822</td>\n",
       "      <td>-1.278235</td>\n",
       "      <td>0.754808</td>\n",
       "      <td>1</td>\n",
       "      <td>1</td>\n",
       "      <td>-1.068386</td>\n",
       "      <td>0.0</td>\n",
       "      <td>0.0</td>\n",
       "      <td>0.0</td>\n",
       "    </tr>\n",
       "  </tbody>\n",
       "</table>\n",
       "</div>"
      ],
      "text/plain": [
       "   CustomerId  CreditScore       Age    Tenure   Balance  NumOfProducts  \\\n",
       "0    15667602     0.552400 -0.658747 -0.705008 -1.278235       0.754808   \n",
       "1    15811877     0.511085 -0.375091 -0.343102 -1.278235       0.754808   \n",
       "2    15575486    -1.255136 -1.226060 -1.428822 -1.278235       0.754808   \n",
       "\n",
       "   HasCrCard  IsActiveMember  EstimatedSalary  Male  Germany  Spain  \n",
       "0          1               0        -0.460013   1.0      0.0    1.0  \n",
       "1          1               0         0.537071   0.0      0.0    0.0  \n",
       "2          1               1        -1.068386   0.0      0.0    0.0  "
      ]
     },
     "execution_count": 26,
     "metadata": {},
     "output_type": "execute_result"
    }
   ],
   "source": [
    "# Aplicar transform a conjunto de validación\n",
    "x_valid_ohe[numericas] = ss.transform(x_valid_ohe[numericas])\n",
    "x_valid_ohe.head(3)"
   ]
  },
  {
   "cell_type": "code",
   "execution_count": 27,
   "metadata": {
    "scrolled": true
   },
   "outputs": [
    {
     "data": {
      "text/html": [
       "<div>\n",
       "<style scoped>\n",
       "    .dataframe tbody tr th:only-of-type {\n",
       "        vertical-align: middle;\n",
       "    }\n",
       "\n",
       "    .dataframe tbody tr th {\n",
       "        vertical-align: top;\n",
       "    }\n",
       "\n",
       "    .dataframe thead th {\n",
       "        text-align: right;\n",
       "    }\n",
       "</style>\n",
       "<table border=\"1\" class=\"dataframe\">\n",
       "  <thead>\n",
       "    <tr style=\"text-align: right;\">\n",
       "      <th></th>\n",
       "      <th>CustomerId</th>\n",
       "      <th>CreditScore</th>\n",
       "      <th>Age</th>\n",
       "      <th>Tenure</th>\n",
       "      <th>Balance</th>\n",
       "      <th>NumOfProducts</th>\n",
       "      <th>HasCrCard</th>\n",
       "      <th>IsActiveMember</th>\n",
       "      <th>EstimatedSalary</th>\n",
       "      <th>Male</th>\n",
       "      <th>Germany</th>\n",
       "      <th>Spain</th>\n",
       "    </tr>\n",
       "  </thead>\n",
       "  <tbody>\n",
       "    <tr>\n",
       "      <th>0</th>\n",
       "      <td>15647266</td>\n",
       "      <td>0.004975</td>\n",
       "      <td>0.475879</td>\n",
       "      <td>0.018805</td>\n",
       "      <td>0.920051</td>\n",
       "      <td>-0.845971</td>\n",
       "      <td>1</td>\n",
       "      <td>0</td>\n",
       "      <td>-1.396957</td>\n",
       "      <td>0.0</td>\n",
       "      <td>0.0</td>\n",
       "      <td>1.0</td>\n",
       "    </tr>\n",
       "    <tr>\n",
       "      <th>1</th>\n",
       "      <td>15722731</td>\n",
       "      <td>0.025632</td>\n",
       "      <td>0.570431</td>\n",
       "      <td>-1.790728</td>\n",
       "      <td>0.655346</td>\n",
       "      <td>-0.845971</td>\n",
       "      <td>1</td>\n",
       "      <td>0</td>\n",
       "      <td>-0.369722</td>\n",
       "      <td>1.0</td>\n",
       "      <td>0.0</td>\n",
       "      <td>0.0</td>\n",
       "    </tr>\n",
       "    <tr>\n",
       "      <th>2</th>\n",
       "      <td>15598157</td>\n",
       "      <td>0.800290</td>\n",
       "      <td>-0.564195</td>\n",
       "      <td>-0.343102</td>\n",
       "      <td>0.441410</td>\n",
       "      <td>-0.845971</td>\n",
       "      <td>1</td>\n",
       "      <td>0</td>\n",
       "      <td>-0.189697</td>\n",
       "      <td>1.0</td>\n",
       "      <td>0.0</td>\n",
       "      <td>0.0</td>\n",
       "    </tr>\n",
       "  </tbody>\n",
       "</table>\n",
       "</div>"
      ],
      "text/plain": [
       "   CustomerId  CreditScore       Age    Tenure   Balance  NumOfProducts  \\\n",
       "0    15647266     0.004975  0.475879  0.018805  0.920051      -0.845971   \n",
       "1    15722731     0.025632  0.570431 -1.790728  0.655346      -0.845971   \n",
       "2    15598157     0.800290 -0.564195 -0.343102  0.441410      -0.845971   \n",
       "\n",
       "   HasCrCard  IsActiveMember  EstimatedSalary  Male  Germany  Spain  \n",
       "0          1               0        -1.396957   0.0      0.0    1.0  \n",
       "1          1               0        -0.369722   1.0      0.0    0.0  \n",
       "2          1               0        -0.189697   1.0      0.0    0.0  "
      ]
     },
     "execution_count": 27,
     "metadata": {},
     "output_type": "execute_result"
    }
   ],
   "source": [
    "#Aplicar transform a conjunto prueba\n",
    "x_test_ohe[numericas] = ss.transform(x_test_ohe[numericas])\n",
    "x_test_ohe.head(3)"
   ]
  },
  {
   "cell_type": "markdown",
   "metadata": {},
   "source": [
    "Por último, ya que hemos garantizado que los valores corresponden correctamente con su ID, debemos eliminar esta columna categórica para que los modelos no tengan problemas."
   ]
  },
  {
   "cell_type": "code",
   "execution_count": 28,
   "metadata": {},
   "outputs": [
    {
     "data": {
      "text/plain": [
       "((7217, 11), (2000, 11), (2000, 11))"
      ]
     },
     "execution_count": 28,
     "metadata": {},
     "output_type": "execute_result"
    }
   ],
   "source": [
    "# Eliminar CustomerID de todos nuestros conjuntos de características\n",
    "X_train = x_train_ohe.drop('CustomerId', axis = 1)\n",
    "X_valid = x_valid_ohe.drop('CustomerId', axis = 1)\n",
    "X_test = x_test_ohe.drop('CustomerId', axis = 1)\n",
    "X_train.shape, X_valid.shape, X_test.shape"
   ]
  },
  {
   "cell_type": "markdown",
   "metadata": {},
   "source": [
    "## Aplicación de los modelos"
   ]
  },
  {
   "cell_type": "markdown",
   "metadata": {},
   "source": [
    "Nos centraremos en los siguientes tres modelos: Árbol de Decisión, Regresión Logísica y Regresión Lineal."
   ]
  },
  {
   "cell_type": "markdown",
   "metadata": {},
   "source": [
    "### Bosque Aleatorio"
   ]
  },
  {
   "cell_type": "code",
   "execution_count": 29,
   "metadata": {},
   "outputs": [
    {
     "data": {
      "text/plain": [
       "({'class_weight': None, 'max_depth': 35, 'n_estimators': 80},\n",
       " 0.8924867243961219)"
      ]
     },
     "execution_count": 29,
     "metadata": {},
     "output_type": "execute_result"
    }
   ],
   "source": [
    "# Crear instancias de cada modelo a utilizar\n",
    "bosque = RandomForestClassifier(random_state = 73)\n",
    "# Crear directorio de los valores a combinar\n",
    "hip_bosque = {'n_estimators':[1,2,5,10,40,60,80], 'max_depth':[35,45,55], 'class_weight': ['balanced', None]} # Solicitamos un bosque de 1 árbol\n",
    "#Crear parrilla de elementos\n",
    "gs_bosque = GridSearchCV(bosque, hip_bosque, cv=5, scoring = 'f1')\n",
    "# Entrenar el modelo con conjunto de entrenamiento\n",
    "best_bosque = gs_bosque.fit(X_train, y_train_up)\n",
    "#Mostrar los hiperparámetros del mejor modelo\n",
    "best_bosque.best_params_, best_bosque.best_score_"
   ]
  },
  {
   "cell_type": "markdown",
   "metadata": {},
   "source": [
    "Nótese que, a pesar de que se esperaba que el parámetro `class_weight` resultase balanceado, GridSearchCV encontró que funciona mucho mejor cuando es None. "
   ]
  },
  {
   "cell_type": "code",
   "execution_count": 30,
   "metadata": {},
   "outputs": [
    {
     "data": {
      "text/plain": [
       "0.6065573770491803"
      ]
     },
     "execution_count": 30,
     "metadata": {},
     "output_type": "execute_result"
    }
   ],
   "source": [
    "# Evaluar F1 en conjunto de validación\n",
    "valid_bosque = best_bosque.predict(X_valid)\n",
    "f1_bv = f1_score(y_valid, valid_bosque)\n",
    "f1_bv"
   ]
  },
  {
   "cell_type": "code",
   "execution_count": 31,
   "metadata": {},
   "outputs": [
    {
     "data": {
      "text/plain": [
       "0.6130374479889044"
      ]
     },
     "execution_count": 31,
     "metadata": {},
     "output_type": "execute_result"
    }
   ],
   "source": [
    "#Evaluar en conjunto de prueba\n",
    "test_bosque = best_bosque.predict(X_test)\n",
    "f1_bt = f1_score(y_test, test_bosque)\n",
    "f1_bt"
   ]
  },
  {
   "cell_type": "code",
   "execution_count": 32,
   "metadata": {},
   "outputs": [],
   "source": [
    "# Calculo AUC_ROC bosque con conjunto de validación.\n",
    "ar_bv = roc_auc_score(y_valid, best_bosque.predict_proba(X_valid)[:,1])\n",
    "# Calculo AUC ROC bosque con conjunto de prueba.\n",
    "ar_bt = roc_auc_score(y_test, best_bosque.predict_proba(X_test)[:,1])"
   ]
  },
  {
   "cell_type": "code",
   "execution_count": 33,
   "metadata": {},
   "outputs": [
    {
     "data": {
      "text/plain": [
       "array([[1490,  102],\n",
       "       [ 186,  222]])"
      ]
     },
     "execution_count": 33,
     "metadata": {},
     "output_type": "execute_result"
    }
   ],
   "source": [
    "#Matriz de confusión conjutno de validación\n",
    "confusion_matrix(y_valid, valid_bosque)"
   ]
  },
  {
   "cell_type": "code",
   "execution_count": 34,
   "metadata": {},
   "outputs": [
    {
     "data": {
      "text/plain": [
       "array([[1500,   88],\n",
       "       [ 191,  221]])"
      ]
     },
     "execution_count": 34,
     "metadata": {},
     "output_type": "execute_result"
    }
   ],
   "source": [
    "#Matriz de confusión conjunto de prueba\n",
    "confusion_matrix(y_test, test_bosque)"
   ]
  },
  {
   "cell_type": "markdown",
   "metadata": {},
   "source": [
    "Los valores obtenidos con el bosque aleatorio cumplen, para cada conjunto, con un F1 superio a 0.59. A su vez, ya que se solicitó un Bosque Aleatorio de un árbol, se descarta que un modelo de Árbol de Decisión haya superado los valores actuales. "
   ]
  },
  {
   "cell_type": "markdown",
   "metadata": {},
   "source": [
    "### Regresión Logística"
   ]
  },
  {
   "cell_type": "code",
   "execution_count": 35,
   "metadata": {},
   "outputs": [
    {
     "data": {
      "text/plain": [
       "({'class_weight': 'balanced',\n",
       "  'fit_intercept': True,\n",
       "  'penalty': 'l1',\n",
       "  'warm_start': False},\n",
       " 0.6174897620846215)"
      ]
     },
     "execution_count": 35,
     "metadata": {},
     "output_type": "execute_result"
    }
   ],
   "source": [
    "reglos = LogisticRegression(random_state = 73, solver = 'liblinear', multi_class = 'auto')\n",
    "hip_reglos = {'penalty': ['l1','l2'], 'fit_intercept': [True, False], 'class_weight': ['balanced', None], 'warm_start':[False,True]}\n",
    "gs_reglos = GridSearchCV(reglos, hip_reglos, cv=5, scoring = 'f1')\n",
    "best_reglos = gs_reglos.fit(X_train, y_train_up)\n",
    "best_reglos.best_params_, best_reglos.best_score_"
   ]
  },
  {
   "cell_type": "code",
   "execution_count": 36,
   "metadata": {},
   "outputs": [
    {
     "data": {
      "text/plain": [
       "0.49380530973451325"
      ]
     },
     "execution_count": 36,
     "metadata": {},
     "output_type": "execute_result"
    }
   ],
   "source": [
    "#Evaluar f1 en conjunto de valdiación\n",
    "valid_reglos = best_reglos.predict(X_valid)\n",
    "f1_lv = f1_score(y_valid, valid_reglos)\n",
    "f1_lv"
   ]
  },
  {
   "cell_type": "code",
   "execution_count": 37,
   "metadata": {},
   "outputs": [],
   "source": [
    "# Cálculo AUC ROC Regresión Logística conjunto de valdiación\n",
    "ar_lv = roc_auc_score(y_valid, best_reglos.predict_proba(X_valid)[:,1]).round(3)"
   ]
  },
  {
   "cell_type": "code",
   "execution_count": 38,
   "metadata": {},
   "outputs": [
    {
     "data": {
      "text/plain": [
       "0.4905008635578584"
      ]
     },
     "execution_count": 38,
     "metadata": {},
     "output_type": "execute_result"
    }
   ],
   "source": [
    "#Evaluar f1 en conjunto de prueba\n",
    "test_reglos = best_reglos.predict(X_test)\n",
    "f1_lt = f1_score(y_test, test_reglos)\n",
    "f1_lt"
   ]
  },
  {
   "cell_type": "code",
   "execution_count": 39,
   "metadata": {},
   "outputs": [],
   "source": [
    "ar_lt = roc_auc_score(y_test, best_reglos.predict_proba(X_test)[:,1]).round(3)"
   ]
  },
  {
   "cell_type": "markdown",
   "metadata": {},
   "source": [
    "El valor F1 para el conjunto de prueba alcanzó el F1 mínimo, sin embargo, al aplicarlo a los demás conjuntos, los valores son muy bajos (incluso con el hiperparámetro \"balanced\"). Para intetar mejorar su predicción, se puede modificar el umbral de decisión. "
   ]
  },
  {
   "cell_type": "markdown",
   "metadata": {},
   "source": [
    "#### Cambio del umbral de clasificación"
   ]
  },
  {
   "cell_type": "markdown",
   "metadata": {},
   "source": [
    "Para encontrar el valor que maximice el valor F1, modificando el umbral de decisión, podemos recurrir a un proceso iterativo para nuestros datos de validación y de prueba. A su vez, podemos calcular la curva ROC (del inglés característica operativa del receptor) que coloca la Tasa de Falsos Positivos en el eje \"x\" y la Tasa de Verdaderos Positivos en \"y\"."
   ]
  },
  {
   "cell_type": "code",
   "execution_count": 40,
   "metadata": {},
   "outputs": [
    {
     "name": "stdout",
     "output_type": "stream",
     "text": [
      "Umbral = 0.50 || f1 = 0.494 || TVP =0.684\n",
      "Umbral = 0.51 || f1 = 0.495 || TVP =0.672\n",
      "Umbral = 0.52 || f1 = 0.496 || TVP =0.657\n",
      "Umbral = 0.53 || f1 = 0.493 || TVP =0.640\n",
      "Umbral = 0.54 || f1 = 0.497 || TVP =0.637\n",
      "Umbral = 0.55 || f1 = 0.495 || TVP =0.618\n",
      "Umbral = 0.56 || f1 = 0.491 || TVP =0.596\n",
      "Umbral = 0.57 || f1 = 0.486 || TVP =0.578\n",
      "Umbral = 0.58 || f1 = 0.480 || TVP =0.559\n",
      "Umbral = 0.59 || f1 = 0.477 || TVP =0.544\n"
     ]
    }
   ],
   "source": [
    "# Umbral modificado para el conjunto de validación\n",
    "valid_reglos_proba = best_reglos.predict_proba(X_valid)\n",
    "reglos_one_valid = valid_reglos_proba[:,1]\n",
    "\n",
    "for umbral in np.arange(.5, .6, 0.01):\n",
    "    predicted_valid = reglos_one_valid > umbral\n",
    "    f1_umbral_valid = f1_score(y_valid, predicted_valid)\n",
    "    recall_valid = recall_score(y_valid, predicted_valid)\n",
    "    \n",
    "    print('Umbral = {:.2f} || f1 = {:.3f} || TVP ={:.3f}'.format(umbral, f1_umbral_valid, recall_valid))"
   ]
  },
  {
   "cell_type": "code",
   "execution_count": 41,
   "metadata": {},
   "outputs": [
    {
     "data": {
      "image/png": "[encoded data removed]",
      "text/plain": [
       "<Figure size 432x288 with 1 Axes>"
      ]
     },
     "metadata": {
      "needs_background": "light"
     },
     "output_type": "display_data"
    }
   ],
   "source": [
    "# Calcular curva ROC con el conjunto de validación\n",
    "\n",
    "#Obtener los valores para trazar la curva.\n",
    "fpr_valid, tpr_valid, threshold_valid = roc_curve(y_valid, reglos_one_valid)\n",
    "# Comandos para el trazo\n",
    "plt.figure()\n",
    "plt.plot(fpr_valid, tpr_valid)\n",
    "plt.plot([0,1], [0,1], linestyle = '--')\n",
    "plt.xlim([0.0, 1.0])\n",
    "plt.ylim([0.0, 1.0])\n",
    "plt.scatter(.24,.637)\n",
    "plt.text(.24, .57, 'Punto donde se maximiza f1', alpha = 0.7)\n",
    "plt.text(.1,.9, f'Área bajo la curva {ar_lv}', alpha = 0.7)\n",
    "plt.xlabel('Tasa de falsos positivos')\n",
    "plt.ylabel('Tasa de verdaderos positivos')\n",
    "plt.title('Curva Roc')\n",
    "plt.show()\n"
   ]
  },
  {
   "cell_type": "code",
   "execution_count": 42,
   "metadata": {},
   "outputs": [
    {
     "name": "stdout",
     "output_type": "stream",
     "text": [
      "Umbral = 0.50 || f1 = 0.491 || TVP = 0.689\n",
      "Umbral = 0.51 || f1 = 0.495 || TVP = 0.680\n",
      "Umbral = 0.52 || f1 = 0.495 || TVP = 0.663\n",
      "Umbral = 0.53 || f1 = 0.497 || TVP = 0.648\n",
      "Umbral = 0.54 || f1 = 0.501 || TVP = 0.636\n",
      "Umbral = 0.55 || f1 = 0.493 || TVP = 0.612\n",
      "Umbral = 0.56 || f1 = 0.499 || TVP = 0.602\n",
      "Umbral = 0.57 || f1 = 0.502 || TVP = 0.592\n",
      "Umbral = 0.58 || f1 = 0.499 || TVP = 0.580\n",
      "Umbral = 0.59 || f1 = 0.496 || TVP = 0.561\n"
     ]
    }
   ],
   "source": [
    "# Umbral modificado para el conjunto de prueba.\n",
    "test_reglos_proba = best_reglos.predict_proba(X_test)\n",
    "reglos_one_test = test_reglos_proba[:,1]\n",
    "\n",
    "for umbral in np.arange(.5, .6, 0.01):\n",
    "    predicted_test = reglos_one_test > umbral\n",
    "    f1_umbral_test = f1_score(y_test, predicted_test)\n",
    "    recall_test = recall_score(y_test, predicted_test)\n",
    "    print('Umbral = {:.2f} || f1 = {:.3f} || TVP = {:.3f}'.format(umbral, f1_umbral_test, recall_test))"
   ]
  },
  {
   "cell_type": "code",
   "execution_count": 43,
   "metadata": {},
   "outputs": [
    {
     "data": {
      "image/png": "[encoded data removed]",
      "text/plain": [
       "<Figure size 432x288 with 1 Axes>"
      ]
     },
     "metadata": {
      "needs_background": "light"
     },
     "output_type": "display_data"
    }
   ],
   "source": [
    "#Obtener los valores para trazar la curva ROC con conjunto de prueba.\n",
    "fpr_test, tpr_test, threshold_test = roc_curve(y_test, reglos_one_test)\n",
    "# Comandos para el trazo\n",
    "plt.figure()\n",
    "plt.plot(fpr_test, tpr_test)\n",
    "plt.plot([0,1], [0,1], linestyle = '--')\n",
    "plt.xlim([0.0, 1.0])\n",
    "plt.ylim([0.0, 1.0])\n",
    "plt.scatter(.2,.592)\n",
    "plt.text(.2, .53, 'Punto donde se maximiza f1', alpha = 0.7)\n",
    "plt.text(.1,.9, f'Área bajo la curva {ar_lv}', alpha = 0.7)\n",
    "plt.ylabel('Sensibilidad ó TVP')\n",
    "plt.xlabel('(1 - Especificidad) ó TFP')\n",
    "plt.title('Curva Roc')\n",
    "plt.show()\n"
   ]
  },
  {
   "cell_type": "markdown",
   "metadata": {},
   "source": [
    "Como se observa, incluso al modificar el umbral y maximizar f1 en ambos conjuntos de datos, se está muy lejos de alcanzar el valor mínimo aceptable. Sin embargo, se realizan otras observaciones interesantes para ambos conjuntos:\n",
    "\n",
    "- La curva ROC tiene valores marginales decrecientes: recordemos que los valores TFP altos son indeseables en comparación con valores más grandes de TVP que sí buscamos aumentar. No es casualdiad que el valor f1 máximo se alcance cerca de donde parezca obtenerse una pendiente unitaria de la línea tangente a ese punto. \n",
    "\n",
    "- El mayor problema del modelo radica en el gran número de Falsos Positivos: es por esto que f1 mejoró con un umbral por sobre 0.5, pues ello implica que está disminuyendo la cantidad de valores 1 en el modelo. En términos relativos, el alto valor de recall permite, sin mayor problema, una caída de los Verdaderos Positivos en pos de rescatar el valor de precisión que tanto adolece y que tanto desangra a f1. Lo anterior se puede observar mejor revisando sus respectivas matrices de confusión."
   ]
  },
  {
   "cell_type": "code",
   "execution_count": 44,
   "metadata": {},
   "outputs": [
    {
     "data": {
      "text/plain": [
       "array([[1149,  443],\n",
       "       [ 129,  279]])"
      ]
     },
     "execution_count": 44,
     "metadata": {},
     "output_type": "execute_result"
    }
   ],
   "source": [
    "#Matriz confusión conjunto validación\n",
    "confusion_matrix(y_valid, valid_reglos)"
   ]
  },
  {
   "cell_type": "code",
   "execution_count": 45,
   "metadata": {},
   "outputs": [
    {
     "data": {
      "text/plain": [
       "array([[1126,  462],\n",
       "       [ 128,  284]])"
      ]
     },
     "execution_count": 45,
     "metadata": {},
     "output_type": "execute_result"
    }
   ],
   "source": [
    "#Matriz de confusión conjunto de prueba\n",
    "confusion_matrix(y_test, test_reglos)"
   ]
  },
  {
   "cell_type": "markdown",
   "metadata": {},
   "source": [
    "Como se observa, los Falsos Positivos representan alrededor del 77.5% de los errores para cada modelo. Sin embargo, es necesario advertir que en términos matemáticos f1 se reduce por un valor relativamente bajo de precisión en comparación con su valor de sensibilidad, pero ello no implica que para la empresa sea mejor concentrar sus esfuerzos en mejorar aquél por sobre éste.  "
   ]
  },
  {
   "cell_type": "markdown",
   "metadata": {},
   "source": [
    "### Resumen de resultados"
   ]
  },
  {
   "cell_type": "markdown",
   "metadata": {},
   "source": [
    "He aquí lo encontrado:"
   ]
  },
  {
   "cell_type": "code",
   "execution_count": 46,
   "metadata": {},
   "outputs": [],
   "source": [
    "# DataFrame con los resultados\n",
    "marco = ([best_bosque.best_score_, f1_bv,ar_bv,f1_bt,ar_bt],\n",
    "        [best_reglos.best_score_, f1_lv,ar_lv,f1_lt,ar_lt])\n",
    "columnas = ['F1 train', 'F1 valid','AUC ROC', 'F1 test', 'AUC ROC']\n",
    "\n",
    "resumen = pd.DataFrame(marco, columns = columnas, index = ['Bosque Aleatorio', 'Regresión Logística']).round(3)"
   ]
  },
  {
   "cell_type": "code",
   "execution_count": 47,
   "metadata": {
    "scrolled": true
   },
   "outputs": [
    {
     "data": {
      "text/html": [
       "<div>\n",
       "<style scoped>\n",
       "    .dataframe tbody tr th:only-of-type {\n",
       "        vertical-align: middle;\n",
       "    }\n",
       "\n",
       "    .dataframe tbody tr th {\n",
       "        vertical-align: top;\n",
       "    }\n",
       "\n",
       "    .dataframe thead th {\n",
       "        text-align: right;\n",
       "    }\n",
       "</style>\n",
       "<table border=\"1\" class=\"dataframe\">\n",
       "  <thead>\n",
       "    <tr style=\"text-align: right;\">\n",
       "      <th></th>\n",
       "      <th>F1 train</th>\n",
       "      <th>F1 valid</th>\n",
       "      <th>AUC ROC</th>\n",
       "      <th>F1 test</th>\n",
       "      <th>AUC ROC</th>\n",
       "    </tr>\n",
       "  </thead>\n",
       "  <tbody>\n",
       "    <tr>\n",
       "      <th>Bosque Aleatorio</th>\n",
       "      <td>0.892</td>\n",
       "      <td>0.607</td>\n",
       "      <td>0.836</td>\n",
       "      <td>0.613</td>\n",
       "      <td>0.837</td>\n",
       "    </tr>\n",
       "    <tr>\n",
       "      <th>Regresión Logística</th>\n",
       "      <td>0.617</td>\n",
       "      <td>0.494</td>\n",
       "      <td>0.764</td>\n",
       "      <td>0.491</td>\n",
       "      <td>0.764</td>\n",
       "    </tr>\n",
       "  </tbody>\n",
       "</table>\n",
       "</div>"
      ],
      "text/plain": [
       "                     F1 train  F1 valid  AUC ROC  F1 test  AUC ROC\n",
       "Bosque Aleatorio        0.892     0.607    0.836    0.613    0.837\n",
       "Regresión Logística     0.617     0.494    0.764    0.491    0.764"
      ]
     },
     "execution_count": 47,
     "metadata": {},
     "output_type": "execute_result"
    }
   ],
   "source": [
    "resumen"
   ]
  },
  {
   "cell_type": "markdown",
   "metadata": {},
   "source": [
    "En definitiva, el modelo que se recomienda en este caso es el de Bosque Aleatorio pues cumple con nuestro objetivo mínimo de un valor F1 de 0.59. Sin embargo, debe señalarse que es apenas mayor al objetivo y que el modelo inicial tiende a hacer sobreajuste. El modelo de Regresión Logística también tuvo cierto grado de sobreajuste pero no cumplió con los requerimientos para ningún conjunto de datos.\n",
    "\n",
    "Los valores del área bajo la curva de la Característica Operativa del Receptor (en tabla como AUC ROC) también son mayores para el modelo de Bosque Aleatorio. Este valor, cuyo rango va de 0 a 1, ayuda a comparar la calidad del modelo contra una simple asiganción aleatoria (en cuyo caso AUC ROC sería 0.5), de tal forma que su calidad es mejor cuanto más se acerque a la unidad.\n"
   ]
  },
  {
   "cell_type": "markdown",
   "metadata": {},
   "source": [
    "## Conclusiones"
   ]
  },
  {
   "cell_type": "markdown",
   "metadata": {},
   "source": [
    "Se analizaron los datos compartidos por la banca privada Beta Bank con respecto a las características de sus clientes con el fin de determinar un modelo mediante Machine Learning que previere la salida de los mismos. El marco de datos, aunque relativamente pequeño estaba completo casi en su totalidad. Sin embargo, nuestra clase positiva representaba sólo alrededor del 20% de nuestras observaciones por lo que fue necesario balancear las clases. A su vez, se utilizó la metodología de codificaciíon de etiquetas (One Hot Encoder) para las variables categóricas y se estandarizaron las varariables numéricas. Si bien, OHE no es muy recomendable para los modelos basados en árboles, en este caso funcionó mejor el modelo de Bosque Aleatorio que el modelo de Regresión Logística. Se consideró realizado el modelo de Árbol de Decisión cuando se especificó un Bosque Aleatorio de 1 árbol.\n",
    "\n",
    "El modelo de Bosque Aleatorio superó, para cada conjunto de datos, el valor mínimo objetivo de 0.59. Si bien lo hizo ligeramente, la métrica de AUC ROC también fue muy suprior para este modelo que para el modelo de Regresión lineal. "
   ]
  }
 ],
 "metadata": {
  "kernelspec": {
   "display_name": "Python 3 (ipykernel)",
   "language": "python",
   "name": "python3"
  },
  "language_info": {
   "codemirror_mode": {
    "name": "ipython",
    "version": 3
   },
   "file_extension": ".py",
   "mimetype": "text/x-python",
   "name": "python",
   "nbconvert_exporter": "python",
   "pygments_lexer": "ipython3",
   "version": "3.12.1"
  },
  "toc": {
   "base_numbering": 1,
   "nav_menu": {},
   "number_sections": true,
   "sideBar": true,
   "skip_h1_title": true,
   "title_cell": "Table of Contents",
   "title_sidebar": "Contents",
   "toc_cell": false,
   "toc_position": {
    "height": "calc(100% - 180px)",
    "left": "10px",
    "top": "150px",
    "width": "291px"
   },
   "toc_section_display": true,
   "toc_window_display": false
  }
 },
 "nbformat": 4,
 "nbformat_minor": 2
}
