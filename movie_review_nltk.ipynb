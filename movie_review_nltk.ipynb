{
 "cells": [
  {
   "cell_type": "markdown",
   "metadata": {},
   "source": [
    "# Introducción"
   ]
  },
  {
   "cell_type": "markdown",
   "metadata": {},
   "source": [
    "Una nueva comunidad vanguardista para los aficionados de las películas clásicas está desarrollando un sistema para filtrar y categorizar reseñas de películas en positivas y negativas de manera automática."
   ]
  },
  {
   "cell_type": "markdown",
   "metadata": {},
   "source": [
    "# Objetivo del proyecto\n",
    "\n",
    "Mediante las reseñas de películas y de otros productos similares se debe crear un modelo para detectar las críticas negativas y positivas de forma automática con una métrica f1 de al menos 0.85."
   ]
  },
  {
   "cell_type": "markdown",
   "metadata": {},
   "source": [
    "## Inicialización"
   ]
  },
  {
   "cell_type": "markdown",
   "metadata": {},
   "source": [
    "Cargar las librerías necesarias para la ejecución del proyecto."
   ]
  },
  {
   "cell_type": "code",
   "execution_count": 13,
   "metadata": {},
   "outputs": [
    {
     "name": "stderr",
     "output_type": "stream",
     "text": [
      "[nltk_data] Downloading package stopwords to /home/jovyan/nltk_data...\n",
      "[nltk_data]   Package stopwords is already up-to-date!\n",
      "[nltk_data] Downloading package stopwords to /home/jovyan/nltk_data...\n",
      "[nltk_data]   Package stopwords is already up-to-date!\n"
     ]
    }
   ],
   "source": [
    "import math\n",
    "\n",
    "import numpy as np\n",
    "import pandas as pd\n",
    "\n",
    "import matplotlib\n",
    "import matplotlib.pyplot as plt\n",
    "import matplotlib.dates as mdates\n",
    "import seaborn as sns\n",
    "import spacy\n",
    "from lightgbm import LGBMClassifier\n",
    "\n",
    "\n",
    "from tqdm.auto import tqdm\n",
    "\n",
    "# Métrica de evaluación f1\n",
    "\n",
    "from sklearn.metrics import f1_score\n",
    "\n",
    "# Eliminar todos los caracteres exepto letras, apostrofos y espacios\n",
    "import re\n",
    "\n",
    "# Para crear una bolsa de palabras\n",
    "from collections import Counter\n",
    "\n",
    "# Vecotorizar mediante nltk\n",
    "from nltk.tokenize import word_tokenize\n",
    "from nltk.stem import WordNetLemmatizer\n",
    "\n",
    "# Librería para el Modelo 0\n",
    "from sklearn.dummy import DummyClassifier\n",
    "\n",
    "# Importar las librerías necesarias para Modelo1\n",
    "import nltk\n",
    "from nltk.tokenize import word_tokenize\n",
    "from nltk.stem import WordNetLemmatizer\n",
    "\n",
    "# Librería de vectorización\n",
    "from sklearn.feature_extraction.text import TfidfVectorizer\n",
    "\n",
    "# Importador de las palabras vacías.\n",
    "from nltk.corpus import stopwords\n",
    "import nltk\n",
    "nltk.download(\"stopwords\")\n",
    "\n",
    "#Librería para la regresión logística\n",
    "from sklearn.linear_model import LogisticRegression\n",
    "\n",
    "\n",
    "# Para eliminar las palabras vacías al momento de hacer una bolsa de palabras\n",
    "from nltk.corpus import stopwords\n",
    "import nltk\n",
    "nltk.download(\"stopwords\") # importar correctamente la función de palabras vacías.\n",
    "# Para hacer una bolsa de palabras con n-gramas\n",
    "from sklearn.feature_extraction.text import CountVectorizer\n"
   ]
  },
  {
   "cell_type": "code",
   "execution_count": 14,
   "metadata": {},
   "outputs": [],
   "source": [
    "%matplotlib inline\n",
    "%config InlineBackend.figure_format = 'png'\n",
    "# la siguiente línea proporciona gráficos de mejor calidad en pantallas HiDPI\n",
    "# %config InlineBackend.figure_format = 'retina'\n",
    "plt.style.use('seaborn')"
   ]
  },
  {
   "cell_type": "code",
   "execution_count": 15,
   "metadata": {},
   "outputs": [],
   "source": [
    "# esto es para usar progress_apply\n",
    "tqdm.pandas()"
   ]
  },
  {
   "cell_type": "markdown",
   "metadata": {},
   "source": [
    "## Cargar datos"
   ]
  },
  {
   "cell_type": "code",
   "execution_count": 16,
   "metadata": {},
   "outputs": [],
   "source": [
    "# Cargar los datos necesarios\n",
    "df_reviews = pd.read_csv('/datasets/imdb_reviews.tsv', sep='\\t', dtype={'votes': 'Int64'})"
   ]
  },
  {
   "cell_type": "markdown",
   "metadata": {},
   "source": [
    "## Descripción general de los datos"
   ]
  },
  {
   "cell_type": "code",
   "execution_count": 17,
   "metadata": {
    "scrolled": true
   },
   "outputs": [
    {
     "data": {
      "text/html": [
       "<div>\n",
       "<style scoped>\n",
       "    .dataframe tbody tr th:only-of-type {\n",
       "        vertical-align: middle;\n",
       "    }\n",
       "\n",
       "    .dataframe tbody tr th {\n",
       "        vertical-align: top;\n",
       "    }\n",
       "\n",
       "    .dataframe thead th {\n",
       "        text-align: right;\n",
       "    }\n",
       "</style>\n",
       "<table border=\"1\" class=\"dataframe\">\n",
       "  <thead>\n",
       "    <tr style=\"text-align: right;\">\n",
       "      <th></th>\n",
       "      <th>tconst</th>\n",
       "      <th>title_type</th>\n",
       "      <th>primary_title</th>\n",
       "      <th>original_title</th>\n",
       "      <th>start_year</th>\n",
       "      <th>end_year</th>\n",
       "      <th>runtime_minutes</th>\n",
       "      <th>is_adult</th>\n",
       "      <th>genres</th>\n",
       "      <th>average_rating</th>\n",
       "      <th>votes</th>\n",
       "      <th>review</th>\n",
       "      <th>rating</th>\n",
       "      <th>sp</th>\n",
       "      <th>pos</th>\n",
       "      <th>ds_part</th>\n",
       "      <th>idx</th>\n",
       "    </tr>\n",
       "  </thead>\n",
       "  <tbody>\n",
       "    <tr>\n",
       "      <th>0</th>\n",
       "      <td>tt0068152</td>\n",
       "      <td>movie</td>\n",
       "      <td>$</td>\n",
       "      <td>$</td>\n",
       "      <td>1971</td>\n",
       "      <td>\\N</td>\n",
       "      <td>121</td>\n",
       "      <td>0</td>\n",
       "      <td>Comedy,Crime,Drama</td>\n",
       "      <td>6.3</td>\n",
       "      <td>2218</td>\n",
       "      <td>The pakage implies that Warren Beatty and Gold...</td>\n",
       "      <td>1</td>\n",
       "      <td>neg</td>\n",
       "      <td>0</td>\n",
       "      <td>train</td>\n",
       "      <td>8335</td>\n",
       "    </tr>\n",
       "    <tr>\n",
       "      <th>1</th>\n",
       "      <td>tt0068152</td>\n",
       "      <td>movie</td>\n",
       "      <td>$</td>\n",
       "      <td>$</td>\n",
       "      <td>1971</td>\n",
       "      <td>\\N</td>\n",
       "      <td>121</td>\n",
       "      <td>0</td>\n",
       "      <td>Comedy,Crime,Drama</td>\n",
       "      <td>6.3</td>\n",
       "      <td>2218</td>\n",
       "      <td>How the hell did they get this made?! Presenti...</td>\n",
       "      <td>1</td>\n",
       "      <td>neg</td>\n",
       "      <td>0</td>\n",
       "      <td>train</td>\n",
       "      <td>8336</td>\n",
       "    </tr>\n",
       "    <tr>\n",
       "      <th>2</th>\n",
       "      <td>tt0313150</td>\n",
       "      <td>short</td>\n",
       "      <td>'15'</td>\n",
       "      <td>'15'</td>\n",
       "      <td>2002</td>\n",
       "      <td>\\N</td>\n",
       "      <td>25</td>\n",
       "      <td>0</td>\n",
       "      <td>Comedy,Drama,Short</td>\n",
       "      <td>6.3</td>\n",
       "      <td>184</td>\n",
       "      <td>There is no real story the film seems more lik...</td>\n",
       "      <td>3</td>\n",
       "      <td>neg</td>\n",
       "      <td>0</td>\n",
       "      <td>test</td>\n",
       "      <td>2489</td>\n",
       "    </tr>\n",
       "  </tbody>\n",
       "</table>\n",
       "</div>"
      ],
      "text/plain": [
       "      tconst title_type primary_title original_title  start_year end_year  \\\n",
       "0  tt0068152      movie             $              $        1971       \\N   \n",
       "1  tt0068152      movie             $              $        1971       \\N   \n",
       "2  tt0313150      short          '15'           '15'        2002       \\N   \n",
       "\n",
       "  runtime_minutes  is_adult              genres  average_rating  votes  \\\n",
       "0             121         0  Comedy,Crime,Drama             6.3   2218   \n",
       "1             121         0  Comedy,Crime,Drama             6.3   2218   \n",
       "2              25         0  Comedy,Drama,Short             6.3    184   \n",
       "\n",
       "                                              review  rating   sp  pos  \\\n",
       "0  The pakage implies that Warren Beatty and Gold...       1  neg    0   \n",
       "1  How the hell did they get this made?! Presenti...       1  neg    0   \n",
       "2  There is no real story the film seems more lik...       3  neg    0   \n",
       "\n",
       "  ds_part   idx  \n",
       "0   train  8335  \n",
       "1   train  8336  \n",
       "2    test  2489  "
      ]
     },
     "execution_count": 17,
     "metadata": {},
     "output_type": "execute_result"
    }
   ],
   "source": [
    "# Primeras filas\n",
    "df_reviews.head(3)"
   ]
  },
  {
   "cell_type": "code",
   "execution_count": 18,
   "metadata": {},
   "outputs": [
    {
     "data": {
      "text/plain": [
       "array(['movie', 'short', 'tvEpisode', 'video', 'tvMovie', 'tvSpecial',\n",
       "       'tvSeries', 'tvMiniSeries', 'videoGame', 'tvShort'], dtype=object)"
      ]
     },
     "execution_count": 18,
     "metadata": {},
     "output_type": "execute_result"
    }
   ],
   "source": [
    "# Valores únicos de columnas title_type\n",
    "df_reviews['title_type'].unique()"
   ]
  },
  {
   "cell_type": "code",
   "execution_count": 19,
   "metadata": {},
   "outputs": [
    {
     "name": "stdout",
     "output_type": "stream",
     "text": [
      "<class 'pandas.core.frame.DataFrame'>\n",
      "RangeIndex: 47331 entries, 0 to 47330\n",
      "Data columns (total 17 columns):\n",
      " #   Column           Non-Null Count  Dtype  \n",
      "---  ------           --------------  -----  \n",
      " 0   tconst           47331 non-null  object \n",
      " 1   title_type       47331 non-null  object \n",
      " 2   primary_title    47331 non-null  object \n",
      " 3   original_title   47331 non-null  object \n",
      " 4   start_year       47331 non-null  int64  \n",
      " 5   end_year         47331 non-null  object \n",
      " 6   runtime_minutes  47331 non-null  object \n",
      " 7   is_adult         47331 non-null  int64  \n",
      " 8   genres           47331 non-null  object \n",
      " 9   average_rating   47329 non-null  float64\n",
      " 10  votes            47329 non-null  Int64  \n",
      " 11  review           47331 non-null  object \n",
      " 12  rating           47331 non-null  int64  \n",
      " 13  sp               47331 non-null  object \n",
      " 14  pos              47331 non-null  int64  \n",
      " 15  ds_part          47331 non-null  object \n",
      " 16  idx              47331 non-null  int64  \n",
      "dtypes: Int64(1), float64(1), int64(5), object(10)\n",
      "memory usage: 6.2+ MB\n"
     ]
    }
   ],
   "source": [
    "# Características de las filas\n",
    "df_reviews.info()"
   ]
  },
  {
   "cell_type": "code",
   "execution_count": 20,
   "metadata": {},
   "outputs": [
    {
     "data": {
      "text/html": [
       "<div>\n",
       "<style scoped>\n",
       "    .dataframe tbody tr th:only-of-type {\n",
       "        vertical-align: middle;\n",
       "    }\n",
       "\n",
       "    .dataframe tbody tr th {\n",
       "        vertical-align: top;\n",
       "    }\n",
       "\n",
       "    .dataframe thead th {\n",
       "        text-align: right;\n",
       "    }\n",
       "</style>\n",
       "<table border=\"1\" class=\"dataframe\">\n",
       "  <thead>\n",
       "    <tr style=\"text-align: right;\">\n",
       "      <th></th>\n",
       "      <th>start_year</th>\n",
       "      <th>is_adult</th>\n",
       "      <th>average_rating</th>\n",
       "      <th>votes</th>\n",
       "      <th>rating</th>\n",
       "      <th>pos</th>\n",
       "      <th>idx</th>\n",
       "    </tr>\n",
       "  </thead>\n",
       "  <tbody>\n",
       "    <tr>\n",
       "      <th>count</th>\n",
       "      <td>47331.000000</td>\n",
       "      <td>47331.000000</td>\n",
       "      <td>47329.000000</td>\n",
       "      <td>4.732900e+04</td>\n",
       "      <td>47331.000000</td>\n",
       "      <td>47331.000000</td>\n",
       "      <td>47331.000000</td>\n",
       "    </tr>\n",
       "    <tr>\n",
       "      <th>mean</th>\n",
       "      <td>1989.631235</td>\n",
       "      <td>0.001732</td>\n",
       "      <td>5.998278</td>\n",
       "      <td>2.556292e+04</td>\n",
       "      <td>5.484608</td>\n",
       "      <td>0.498954</td>\n",
       "      <td>6279.697999</td>\n",
       "    </tr>\n",
       "    <tr>\n",
       "      <th>std</th>\n",
       "      <td>19.600364</td>\n",
       "      <td>0.041587</td>\n",
       "      <td>1.494289</td>\n",
       "      <td>8.367004e+04</td>\n",
       "      <td>3.473109</td>\n",
       "      <td>0.500004</td>\n",
       "      <td>3605.702545</td>\n",
       "    </tr>\n",
       "    <tr>\n",
       "      <th>min</th>\n",
       "      <td>1894.000000</td>\n",
       "      <td>0.000000</td>\n",
       "      <td>1.400000</td>\n",
       "      <td>9.000000e+00</td>\n",
       "      <td>1.000000</td>\n",
       "      <td>0.000000</td>\n",
       "      <td>0.000000</td>\n",
       "    </tr>\n",
       "    <tr>\n",
       "      <th>25%</th>\n",
       "      <td>1982.000000</td>\n",
       "      <td>0.000000</td>\n",
       "      <td>5.100000</td>\n",
       "      <td>8.270000e+02</td>\n",
       "      <td>2.000000</td>\n",
       "      <td>0.000000</td>\n",
       "      <td>3162.000000</td>\n",
       "    </tr>\n",
       "    <tr>\n",
       "      <th>50%</th>\n",
       "      <td>1998.000000</td>\n",
       "      <td>0.000000</td>\n",
       "      <td>6.300000</td>\n",
       "      <td>3.197000e+03</td>\n",
       "      <td>4.000000</td>\n",
       "      <td>0.000000</td>\n",
       "      <td>6299.000000</td>\n",
       "    </tr>\n",
       "    <tr>\n",
       "      <th>75%</th>\n",
       "      <td>2004.000000</td>\n",
       "      <td>0.000000</td>\n",
       "      <td>7.100000</td>\n",
       "      <td>1.397400e+04</td>\n",
       "      <td>9.000000</td>\n",
       "      <td>1.000000</td>\n",
       "      <td>9412.000000</td>\n",
       "    </tr>\n",
       "    <tr>\n",
       "      <th>max</th>\n",
       "      <td>2010.000000</td>\n",
       "      <td>1.000000</td>\n",
       "      <td>9.700000</td>\n",
       "      <td>1.739448e+06</td>\n",
       "      <td>10.000000</td>\n",
       "      <td>1.000000</td>\n",
       "      <td>12499.000000</td>\n",
       "    </tr>\n",
       "  </tbody>\n",
       "</table>\n",
       "</div>"
      ],
      "text/plain": [
       "         start_year      is_adult  average_rating         votes        rating  \\\n",
       "count  47331.000000  47331.000000    47329.000000  4.732900e+04  47331.000000   \n",
       "mean    1989.631235      0.001732        5.998278  2.556292e+04      5.484608   \n",
       "std       19.600364      0.041587        1.494289  8.367004e+04      3.473109   \n",
       "min     1894.000000      0.000000        1.400000  9.000000e+00      1.000000   \n",
       "25%     1982.000000      0.000000        5.100000  8.270000e+02      2.000000   \n",
       "50%     1998.000000      0.000000        6.300000  3.197000e+03      4.000000   \n",
       "75%     2004.000000      0.000000        7.100000  1.397400e+04      9.000000   \n",
       "max     2010.000000      1.000000        9.700000  1.739448e+06     10.000000   \n",
       "\n",
       "                pos           idx  \n",
       "count  47331.000000  47331.000000  \n",
       "mean       0.498954   6279.697999  \n",
       "std        0.500004   3605.702545  \n",
       "min        0.000000      0.000000  \n",
       "25%        0.000000   3162.000000  \n",
       "50%        0.000000   6299.000000  \n",
       "75%        1.000000   9412.000000  \n",
       "max        1.000000  12499.000000  "
      ]
     },
     "execution_count": 20,
     "metadata": {},
     "output_type": "execute_result"
    }
   ],
   "source": [
    "# Distribución de los valores numéricos.\n",
    "df_reviews.describe()"
   ]
  },
  {
   "cell_type": "code",
   "execution_count": 21,
   "metadata": {},
   "outputs": [
    {
     "data": {
      "text/plain": [
       "0"
      ]
     },
     "execution_count": 21,
     "metadata": {},
     "output_type": "execute_result"
    }
   ],
   "source": [
    "# Presencia de duplicados\n",
    "df_reviews.duplicated().sum()"
   ]
  },
  {
   "cell_type": "code",
   "execution_count": 22,
   "metadata": {},
   "outputs": [
    {
     "data": {
      "text/plain": [
       "tconst             0\n",
       "title_type         0\n",
       "primary_title      0\n",
       "original_title     0\n",
       "start_year         0\n",
       "end_year           0\n",
       "runtime_minutes    0\n",
       "is_adult           0\n",
       "genres             0\n",
       "average_rating     2\n",
       "votes              2\n",
       "review             0\n",
       "rating             0\n",
       "sp                 0\n",
       "pos                0\n",
       "ds_part            0\n",
       "idx                0\n",
       "dtype: int64"
      ]
     },
     "execution_count": 22,
     "metadata": {},
     "output_type": "execute_result"
    }
   ],
   "source": [
    "# Presencia de valores ausentes\n",
    "df_reviews.isnull().sum()"
   ]
  },
  {
   "cell_type": "markdown",
   "metadata": {},
   "source": [
    "La compañía no ofrece una descripción previa de las columnas, pero por lo observado previamente pueden intuirse los siguientes significados:\n",
    "\n",
    "- `tconst`: identificador único de la grabación. Puede haber diversas reseñas por una misma pieza.\n",
    "- `title_type`: tipo de grabación. Incluye películas, cortos, series, miniseries y videojuegos en distintos formatos.\n",
    "- `primary_title`: podría ser el nombre comercial de la pieza.\n",
    "- `original_title`: nombre original de la pieza.\n",
    "- `start_year`: se presume, es el día en que se estrenó la película.\n",
    "- `end_year`: podría ser el año en que se dejaron de emitir reseñas.\n",
    "- `runtime_minutes`: tiempo que dura la grabación.\n",
    "- `is_adult`:\n",
    "- `genres`: género(s).\n",
    "- `average_rating`: puntaje de evaluación promedio.\n",
    "- `votes`: número de votos recibidos por la pieza.\n",
    "- `review`: una de las reseñas.\n",
    "- `rating`: puntaje dado por la eprsona que creó la reseña.\n",
    "- `sp`: si la reseña fue positiva o negativa, en letras.\n",
    "- `pos`: si la reseña fue positiva [1] o negativa [0].\n",
    "- `ds_part`: si esta fila será parte del conjunto de entrenameinto o del conjunto de prueba.\n",
    "- `idx`: identificador único de la reseña."
   ]
  },
  {
   "cell_type": "markdown",
   "metadata": {},
   "source": [
    "**Observaciones:**\n",
    "\n",
    "- Dado que no sólo tenemos datos de películas sino de cortos y hasta videojuegos, nos referiremos a todos los materiales con el término genérico de grabaciones o de piezas.\n",
    "- Cada fila representa una reseña distinta, no obtsante, puede haber varias reseñas de una misma grabación. En ese caso, todos los valores se repiten, exeptuando, por supuesto, `review`, además de el valor de la columna `rating`, `idx` y posiblemente `ds_part`. \n",
    "- La mayoría de las columnas no son necesarias para el objetivo del proyecto pero pueden ser exploradas para observar algunas de las características de la base de datos además de dar contexto a las reseñas.\n",
    "- Los datos estan completos (excepto por una cantidad despreciable de valores ausentes), sin valores duplicados, algunos tipos de valores podrían tener un tipo más adecuado pero no será necesario modificarlos puesto que sus filas serán eliminadas.\n",
    "- La columna `review` es definitivamente la más útil. Cabe la posibilidad de utilizar `rating` como imput pues es de esperarse que entre mayor sea su puntaje, la reseña ha de tener una mayor probabilidad de ser positiva. No obstante, queda fuera del objetivo por lo que deberá descartarse finalmente."
   ]
  },
  {
   "cell_type": "markdown",
   "metadata": {},
   "source": [
    "## EDA"
   ]
  },
  {
   "cell_type": "markdown",
   "metadata": {},
   "source": [
    "Primero, podemos revisar el número de reseñas tanto positivas como negativas de las grabaciones. "
   ]
  },
  {
   "cell_type": "code",
   "execution_count": 23,
   "metadata": {},
   "outputs": [
    {
     "data": {
      "text/plain": [
       "start_year\n",
       "1894       6.0\n",
       "1895       NaN\n",
       "1897       NaN\n",
       "1902       NaN\n",
       "1903      10.0\n",
       "         ...  \n",
       "2006    3275.0\n",
       "2007    2106.0\n",
       "2008     991.0\n",
       "2009     386.0\n",
       "2010       NaN\n",
       "Length: 107, dtype: float64"
      ]
     },
     "execution_count": 23,
     "metadata": {},
     "output_type": "execute_result"
    }
   ],
   "source": [
    "df_reviews.groupby(['start_year', 'pos'])['pos'].count().unstack()[0] + df_reviews.groupby(['start_year', 'pos'])['pos'].count().unstack()[1]"
   ]
  },
  {
   "cell_type": "code",
   "execution_count": 24,
   "metadata": {
    "scrolled": true
   },
   "outputs": [
    {
     "data": {
      "image/png": "[encoded data removed]",
      "text/plain": [
       "<Figure size 936x360 with 2 Axes>"
      ]
     },
     "metadata": {},
     "output_type": "display_data"
    }
   ],
   "source": [
    "fig, axs = plt.subplots()\n",
    "\n",
    "#Econntrar el número de grabaciones únicas por año.\n",
    "dft1 = df_reviews[['tconst', 'start_year']].drop_duplicates()['start_year'].value_counts().sort_index()\n",
    "# Recoloar un índice con valores desde el primer año en que se hizo una película hasta 2021 y rellenar los ausentes con 0\n",
    "dft1 = dft1.reindex(index=np.arange(dft1.index.min(), dft1.index.max()+1)).fillna(0)\n",
    "# Obtener una tabla de cuántas reseñas positivas y negativas ha habido por año.\n",
    "#dft2 = df_reviews.groupby(['start_year', 'pos'])['pos'].count().unstack()\n",
    "dft2 = df_reviews.groupby(['start_year', 'pos'])['pos'].count().unstack()[0] + df_reviews.groupby(['start_year', 'pos'])['pos'].count().unstack()[1]\n",
    "\n",
    "# Reindexar con todos los años y colocar cero en los valores ausentes.\n",
    "dft2 = dft2.reindex(index=np.arange(dft2.index.min(), dft2.index.max()+1)).fillna(0)\n",
    "\n",
    "#Graficar\n",
    "dft2.plot(kind='bar', stacked=True, ax=axs, figsize=(13,5))\n",
    "\n",
    "# Obtener el total de reseñas por año y rellenar sus valores ausentes con cero.\n",
    "dft2 = df_reviews['start_year'].value_counts().sort_index()\n",
    "dft2 = dft2.reindex(index=np.arange(dft2.index.min(), dft2.index.max()+1)).fillna(0)\n",
    "\n",
    "# Dividir el total de reseñas entre el número de grabaciones. Eso resulta en las reseñas por grabación.\n",
    "dft3 = (dft2/dft1).fillna(0)\n",
    "axt = axs.twinx()\n",
    "dft3.reset_index(drop=True).rolling(5).mean().plot(color='orange', label='reviews per movie (avg over 5 years)', ax=axt)\n",
    "\n",
    "lines, labels = axt.get_legend_handles_labels()\n",
    "axs.legend(lines, labels, loc='upper center')\n",
    "\n",
    "axs.set_title('Total de reseñas a lo largo de los años y promedio de reseñas por grabación')\n",
    "\n",
    "fig.tight_layout()"
   ]
  },
  {
   "cell_type": "markdown",
   "metadata": {},
   "source": [
    "**Observaciones:**\n",
    "\n",
    "- Antes de 1969, el número de reseñas era muy reducido. Multiples causas podrían explicar esto. Pudo haber sido por un bajo número de productos y un bajo número de personas conectadas a foros de discusión o que simplemente no se hayan tomado en cuenta todas las reseñas de los valores más antiguos.\n",
    "- A pesar de lo anterior, el número promedio de reseñas por grabación no es tan bajo. Ello se debe al reducido número de grabaciones para el mismo periodo.\n",
    "- A partir de la década de 1990 el registro de reseñas en términos absolutos comienza a crecer rápidamente con una posterior caída en el 2008."
   ]
  },
  {
   "cell_type": "markdown",
   "metadata": {},
   "source": [
    "Veamos la distribución del número de reseñas por película con el conteo exacto y KDE (solo para saber cómo puede diferir del conteo exacto)"
   ]
  },
  {
   "cell_type": "code",
   "execution_count": 25,
   "metadata": {},
   "outputs": [
    {
     "data": {
      "image/png": "[encoded data removed]",
      "text/plain": [
       "<Figure size 1152x360 with 2 Axes>"
      ]
     },
     "metadata": {},
     "output_type": "display_data"
    }
   ],
   "source": [
    "fig, axs = plt.subplots(1, 2, figsize=(16, 5))\n",
    "\n",
    "\n",
    "dft = df_reviews.groupby('tconst')['review'].count() \\\n",
    "    .value_counts() \\\n",
    "    .sort_index()\n",
    "dft.plot.bar(ax=axs[0])\n",
    "axs[0].set_title('Gráfico de barras de # de reseñas por película')\n",
    "\n",
    "\n",
    "dft = df_reviews.groupby('tconst')['review'].count()\n",
    "sns.kdeplot(dft, ax=axs[1])\n",
    "axs[1].set_title('Gráfico KDE de # de reseñas por película')\n",
    "\n",
    "fig.tight_layout()"
   ]
  },
  {
   "cell_type": "markdown",
   "metadata": {},
   "source": [
    "**Observaciones:**\n",
    "\n",
    "- El número de películas con una sola reseña es muy elevado. Hay pocas grabaciones con más de 10 reseñas en nuestra base de datos. Sin embargo, y contrario a lo que se esperaría observando el patrón del gráfico, hay un considerable número de gravaciones con treinta reseñas. "
   ]
  },
  {
   "cell_type": "code",
   "execution_count": 26,
   "metadata": {},
   "outputs": [
    {
     "data": {
      "text/plain": [
       "0    0.501046\n",
       "1    0.498954\n",
       "Name: pos, dtype: float64"
      ]
     },
     "execution_count": 26,
     "metadata": {},
     "output_type": "execute_result"
    }
   ],
   "source": [
    "df_reviews['pos'].value_counts(normalize=True)"
   ]
  },
  {
   "cell_type": "markdown",
   "metadata": {},
   "source": [
    "**Observación:**\n",
    "\n",
    "- El número de reseñas positivas es ligeramente menor al número de reseñas negativas. Por lo tanto, no hay desequilibrio de clases.\n",
    "\n",
    "A continuación, se visualizan las distirbuciones de las calificaciones por cada reseña realizada dividida entre conjunto de entrenamiento y conjunto de prueba."
   ]
  },
  {
   "cell_type": "code",
   "execution_count": 27,
   "metadata": {},
   "outputs": [
    {
     "data": {
      "image/png": "[encoded data removed]",
      "text/plain": [
       "<Figure size 864x288 with 2 Axes>"
      ]
     },
     "metadata": {},
     "output_type": "display_data"
    }
   ],
   "source": [
    "fig, axs = plt.subplots(1, 2, figsize=(12, 4))\n",
    "\n",
    "ax = axs[0]\n",
    "dft = df_reviews.query('ds_part == \"train\"')['rating'].value_counts().sort_index()\n",
    "dft = dft.reindex(index=np.arange(min(dft.index.min(), 1), max(dft.index.max(), 11))).fillna(0)\n",
    "dft.plot.bar(ax=ax)\n",
    "ax.set_ylim([0, 5000])\n",
    "ax.set_title('El conjunto de entrenamiento: distribución de puntuaciones')\n",
    "\n",
    "ax = axs[1]\n",
    "dft = df_reviews.query('ds_part == \"test\"')['rating'].value_counts().sort_index()\n",
    "dft = dft.reindex(index=np.arange(min(dft.index.min(), 1), max(dft.index.max(), 11))).fillna(0)\n",
    "dft.plot.bar(ax=ax)\n",
    "ax.set_ylim([0, 5000])\n",
    "ax.set_title('El conjunto de prueba: distribución de puntuaciones')\n",
    "\n",
    "fig.tight_layout()"
   ]
  },
  {
   "cell_type": "markdown",
   "metadata": {},
   "source": [
    "**Observaciones:**\n",
    "\n",
    "- La distribución de ambos tipos de reseñas es extremadamente similar.\n",
    "- Dado que no hay puntuaciones entre 5 y 6 es muy tentador establecer esta brecha como un diferenciador claro entre lo que se considera como una buena reseña (menor a 5) y lo que se considera como una buena reseña (mayor a 6)."
   ]
  },
  {
   "cell_type": "code",
   "execution_count": 28,
   "metadata": {},
   "outputs": [
    {
     "data": {
      "text/plain": [
       "0    23715\n",
       "Name: pos, dtype: int64"
      ]
     },
     "execution_count": 28,
     "metadata": {},
     "output_type": "execute_result"
    }
   ],
   "source": [
    "# Número de reseñas positivas y negativas por debajo de una calificación de 5\n",
    "df_reviews.query(\"rating < 5\")['pos'].value_counts()"
   ]
  },
  {
   "cell_type": "code",
   "execution_count": 29,
   "metadata": {},
   "outputs": [
    {
     "data": {
      "text/plain": [
       "1    23616\n",
       "Name: pos, dtype: int64"
      ]
     },
     "execution_count": 29,
     "metadata": {},
     "output_type": "execute_result"
    }
   ],
   "source": [
    "# Número de reseñas positivas y negativas por encima de una calificación de 6.\n",
    "df_reviews.query(\"rating > 6\")['pos'].value_counts()"
   ]
  },
  {
   "cell_type": "code",
   "execution_count": 30,
   "metadata": {},
   "outputs": [
    {
     "data": {
      "text/plain": [
       "(47331, 17)"
      ]
     },
     "execution_count": 30,
     "metadata": {},
     "output_type": "execute_result"
    }
   ],
   "source": [
    "# Reseñas totales\n",
    "df_reviews.shape"
   ]
  },
  {
   "cell_type": "code",
   "execution_count": 31,
   "metadata": {},
   "outputs": [
    {
     "data": {
      "text/plain": [
       "47331"
      ]
     },
     "execution_count": 31,
     "metadata": {},
     "output_type": "execute_result"
    }
   ],
   "source": [
    "# Suma de las reseñas positivas y negativas.\n",
    "23715 + 23616"
   ]
  },
  {
   "cell_type": "markdown",
   "metadata": {},
   "source": [
    "**Observaciones:**\n",
    "\n",
    "- Claramente, todas las calificaciones con valores menores a 5 corresponen a reseñas negativas; las calificaciones mayores a 6, a positivas. Esta podría ser una variable decisiva en el modelo que mejore ampliamente sus métricas. No obstante, como el objetivo es realizar una interpretación de reseñas, no se integrará en los modelos posteriores pero debe dejarse como un indicador que podría ser clave si se integrase."
   ]
  },
  {
   "cell_type": "markdown",
   "metadata": {},
   "source": [
    "A continuación, se deben visualizar las distribuciones de las reseñas positivas y negativas en cada conjunto de datos con el fin de ver su similaridad y su proporción."
   ]
  },
  {
   "cell_type": "code",
   "execution_count": 32,
   "metadata": {},
   "outputs": [
    {
     "name": "stderr",
     "output_type": "stream",
     "text": [
      "/opt/conda/lib/python3.9/site-packages/seaborn/distributions.py:1666: UserWarning: Support for alternate kernels has been removed. Using Gaussian kernel.\n",
      "  warnings.warn(msg, UserWarning)\n",
      "/opt/conda/lib/python3.9/site-packages/seaborn/distributions.py:1666: UserWarning: Support for alternate kernels has been removed. Using Gaussian kernel.\n",
      "  warnings.warn(msg, UserWarning)\n",
      "/opt/conda/lib/python3.9/site-packages/seaborn/distributions.py:1666: UserWarning: Support for alternate kernels has been removed. Using Gaussian kernel.\n",
      "  warnings.warn(msg, UserWarning)\n"
     ]
    },
    {
     "data": {
      "image/png": "[encoded data removed]",
      "text/plain": [
       "<Figure size 1152x576 with 4 Axes>"
      ]
     },
     "metadata": {},
     "output_type": "display_data"
    }
   ],
   "source": [
    "fig, axs = plt.subplots(2, 2, figsize=(16, 8), gridspec_kw=dict(width_ratios=(2, 1), height_ratios=(1, 1)))\n",
    "\n",
    "ax = axs[0][0]\n",
    "\n",
    "dft = df_reviews.query('ds_part == \"train\"').groupby(['start_year', 'pos'])['pos'].count().unstack()\n",
    "dft.index = dft.index.astype('int')\n",
    "dft = dft.reindex(index=np.arange(dft.index.min(), max(dft.index.max(), 2020))).fillna(0)\n",
    "dft.plot(kind='bar', stacked=True, ax=ax)\n",
    "ax.set_title('El conjunto de entrenamiento: número de reseñas de diferentes polaridades por año')\n",
    "\n",
    "ax = axs[0][1]\n",
    "\n",
    "dft = df_reviews.query('ds_part == \"train\"').groupby(['tconst', 'pos'])['pos'].count().unstack()\n",
    "sns.kdeplot(dft[0], color='blue', label='negative',  ax=ax)\n",
    "sns.kdeplot(dft[1], color='green', label='positive', kernel='epa', ax=ax)\n",
    "ax.legend()\n",
    "ax.set_title('El conjunto de entrenamiento: distribución de diferentes polaridades por película')\n",
    "\n",
    "ax = axs[1][0]\n",
    "\n",
    "dft = df_reviews.query('ds_part == \"test\"').groupby(['start_year', 'pos'])['pos'].count().unstack()\n",
    "dft.index = dft.index.astype('int')\n",
    "dft = dft.reindex(index=np.arange(dft.index.min(), max(dft.index.max(), 2020))).fillna(0)\n",
    "dft.plot(kind='bar', stacked=True, ax=ax)\n",
    "ax.set_title('El conjunto de prueba: número de reseñas de diferentes polaridades por año')\n",
    "\n",
    "ax = axs[1][1]\n",
    "\n",
    "dft = df_reviews.query('ds_part == \"test\"').groupby(['tconst', 'pos'])['pos'].count().unstack()\n",
    "sns.kdeplot(dft[0], color='blue', label='negative', kernel='epa', ax=ax)\n",
    "sns.kdeplot(dft[1], color='green', label='positive', kernel='epa', ax=ax)\n",
    "ax.legend()\n",
    "ax.set_title('El conjunto de prueba: distribución de diferentes polaridades por película')\n",
    "\n",
    "fig.tight_layout()"
   ]
  },
  {
   "cell_type": "markdown",
   "metadata": {},
   "source": [
    "**Observaciones:**\n",
    "\n",
    "- Como sugerían las gráficas anteriores, las distribuciones del conjunto de entrenamiento y prueba son muy similares. Tanto a lo largo de los años como entre reseñas positivas y negativas.\n",
    "- Los gráficos de KDE sugieren que hay pocas grabaciones con muchas reseñas. Esto indica que las reseñas se concentran en pocas grabaciones \"famosas\" mientras que hay muchos productos que terminan con pocos comentarios."
   ]
  },
  {
   "cell_type": "markdown",
   "metadata": {},
   "source": [
    "## Normalización"
   ]
  },
  {
   "cell_type": "markdown",
   "metadata": {},
   "source": [
    "Suponemos que todos los modelos a continuación aceptan textos en minúsculas y sin dígitos, signos de puntuación, etc. Para ello se urarán expresiones regulares."
   ]
  },
  {
   "cell_type": "code",
   "execution_count": 33,
   "metadata": {},
   "outputs": [],
   "source": [
    "# eliminar todos los carcateres excepto letras, apostrofos y espacios.\n",
    "clean_text = []\n",
    "\n",
    "for texto in df_reviews[\"review\"]:\n",
    "    pattern = r\"[^a-zA-Z']\"\n",
    "    # Sustituir cada texto por otra versión\n",
    "    texto = re.sub(pattern, \" \", texto)\n",
    "    # Dividirá el texto tomando los espacios como separación y creará una lista\n",
    "    texto = texto.split()\n",
    "    #Unirá los elementos de la lista mediante un espacio creando un solo texto\n",
    "    texto = \" \".join(texto)\n",
    "    # Poner el texto todo en minúsculas\n",
    "    texto = texto.lower()\n",
    "    # Devolver el texto a una lista\n",
    "    clean_text.append(texto)\n",
    "    \n",
    "#Agregar la lista a la base de datos\n",
    "df_reviews['cleaned_review'] = pd.Series(clean_text)"
   ]
  },
  {
   "cell_type": "code",
   "execution_count": 34,
   "metadata": {},
   "outputs": [
    {
     "data": {
      "text/html": [
       "<div>\n",
       "<style scoped>\n",
       "    .dataframe tbody tr th:only-of-type {\n",
       "        vertical-align: middle;\n",
       "    }\n",
       "\n",
       "    .dataframe tbody tr th {\n",
       "        vertical-align: top;\n",
       "    }\n",
       "\n",
       "    .dataframe thead th {\n",
       "        text-align: right;\n",
       "    }\n",
       "</style>\n",
       "<table border=\"1\" class=\"dataframe\">\n",
       "  <thead>\n",
       "    <tr style=\"text-align: right;\">\n",
       "      <th></th>\n",
       "      <th>tconst</th>\n",
       "      <th>title_type</th>\n",
       "      <th>primary_title</th>\n",
       "      <th>original_title</th>\n",
       "      <th>start_year</th>\n",
       "      <th>end_year</th>\n",
       "      <th>runtime_minutes</th>\n",
       "      <th>is_adult</th>\n",
       "      <th>genres</th>\n",
       "      <th>average_rating</th>\n",
       "      <th>votes</th>\n",
       "      <th>review</th>\n",
       "      <th>rating</th>\n",
       "      <th>sp</th>\n",
       "      <th>pos</th>\n",
       "      <th>ds_part</th>\n",
       "      <th>idx</th>\n",
       "      <th>cleaned_review</th>\n",
       "    </tr>\n",
       "  </thead>\n",
       "  <tbody>\n",
       "    <tr>\n",
       "      <th>0</th>\n",
       "      <td>tt0068152</td>\n",
       "      <td>movie</td>\n",
       "      <td>$</td>\n",
       "      <td>$</td>\n",
       "      <td>1971</td>\n",
       "      <td>\\N</td>\n",
       "      <td>121</td>\n",
       "      <td>0</td>\n",
       "      <td>Comedy,Crime,Drama</td>\n",
       "      <td>6.3</td>\n",
       "      <td>2218</td>\n",
       "      <td>The pakage implies that Warren Beatty and Gold...</td>\n",
       "      <td>1</td>\n",
       "      <td>neg</td>\n",
       "      <td>0</td>\n",
       "      <td>train</td>\n",
       "      <td>8335</td>\n",
       "      <td>the pakage implies that warren beatty and gold...</td>\n",
       "    </tr>\n",
       "    <tr>\n",
       "      <th>1</th>\n",
       "      <td>tt0068152</td>\n",
       "      <td>movie</td>\n",
       "      <td>$</td>\n",
       "      <td>$</td>\n",
       "      <td>1971</td>\n",
       "      <td>\\N</td>\n",
       "      <td>121</td>\n",
       "      <td>0</td>\n",
       "      <td>Comedy,Crime,Drama</td>\n",
       "      <td>6.3</td>\n",
       "      <td>2218</td>\n",
       "      <td>How the hell did they get this made?! Presenti...</td>\n",
       "      <td>1</td>\n",
       "      <td>neg</td>\n",
       "      <td>0</td>\n",
       "      <td>train</td>\n",
       "      <td>8336</td>\n",
       "      <td>how the hell did they get this made presenting...</td>\n",
       "    </tr>\n",
       "  </tbody>\n",
       "</table>\n",
       "</div>"
      ],
      "text/plain": [
       "      tconst title_type primary_title original_title  start_year end_year  \\\n",
       "0  tt0068152      movie             $              $        1971       \\N   \n",
       "1  tt0068152      movie             $              $        1971       \\N   \n",
       "\n",
       "  runtime_minutes  is_adult              genres  average_rating  votes  \\\n",
       "0             121         0  Comedy,Crime,Drama             6.3   2218   \n",
       "1             121         0  Comedy,Crime,Drama             6.3   2218   \n",
       "\n",
       "                                              review  rating   sp  pos  \\\n",
       "0  The pakage implies that Warren Beatty and Gold...       1  neg    0   \n",
       "1  How the hell did they get this made?! Presenti...       1  neg    0   \n",
       "\n",
       "  ds_part   idx                                     cleaned_review  \n",
       "0   train  8335  the pakage implies that warren beatty and gold...  \n",
       "1   train  8336  how the hell did they get this made presenting...  "
      ]
     },
     "execution_count": 34,
     "metadata": {},
     "output_type": "execute_result"
    }
   ],
   "source": [
    "df_reviews.head(2)"
   ]
  },
  {
   "cell_type": "markdown",
   "metadata": {},
   "source": [
    "## División entrenamiento / prueba"
   ]
  },
  {
   "cell_type": "markdown",
   "metadata": {},
   "source": [
    "La columna `ds_part` sugiere una forma de dividir los conjuntos de datos de entrenamiento y prueba. Es aceptable ya que, como se ha visto, las distribuciones de ambos conjuntos son muy similares. Siguiendo el tenor del objetivo, seleccionaremos sólo la columna `cleaned_review`."
   ]
  },
  {
   "cell_type": "code",
   "execution_count": 35,
   "metadata": {},
   "outputs": [
    {
     "name": "stdout",
     "output_type": "stream",
     "text": [
      "(23796,)\n",
      "(23535,)\n",
      "(23796,)\n",
      "(23535,)\n"
     ]
    }
   ],
   "source": [
    "# Características para el conjunto de prueba y entrenamiento \n",
    "x_train = df_reviews.query('ds_part == \"train\"')[\"cleaned_review\"].copy()\n",
    "x_test = df_reviews.query('ds_part == \"test\"')[\"cleaned_review\"].copy()\n",
    "\n",
    "# Objetivos para el conjunto de prueba y entrenamiento\n",
    "y_train = df_reviews.query('ds_part == \"train\"')['pos'].copy()\n",
    "y_test = df_reviews.query('ds_part == \"test\"')['pos'].copy()\n",
    "\n",
    "# Dimensiones de cada conjunto de datos\n",
    "print(x_train.shape)\n",
    "print(x_test.shape)\n",
    "print(y_train.shape)\n",
    "print(y_test.shape)\n"
   ]
  },
  {
   "cell_type": "code",
   "execution_count": 36,
   "metadata": {},
   "outputs": [
    {
     "data": {
      "text/plain": [
       "0    0\n",
       "1    0\n",
       "7    0\n",
       "8    0\n",
       "9    0\n",
       "Name: pos, dtype: int64"
      ]
     },
     "execution_count": 36,
     "metadata": {},
     "output_type": "execute_result"
    }
   ],
   "source": [
    "# Comprobar valores de los objetivos del conjunto de entrenamiento.\n",
    "y_train.head()"
   ]
  },
  {
   "cell_type": "code",
   "execution_count": 37,
   "metadata": {},
   "outputs": [
    {
     "data": {
      "text/plain": [
       "0    the pakage implies that warren beatty and gold...\n",
       "1    how the hell did they get this made presenting...\n",
       "7    this true story of carlson's raiders is more o...\n",
       "8    should have been titled 'balderdash ' little i...\n",
       "9    the movie 'gung ho ' the story of carlson's ma...\n",
       "Name: cleaned_review, dtype: object"
      ]
     },
     "execution_count": 37,
     "metadata": {},
     "output_type": "execute_result"
    }
   ],
   "source": [
    "# Comprobar valores de las características del conjunto de entrenamiento.\n",
    "x_train.head()"
   ]
  },
  {
   "cell_type": "markdown",
   "metadata": {},
   "source": [
    "## Trabajar con modelos"
   ]
  },
  {
   "cell_type": "markdown",
   "metadata": {},
   "source": [
    "Se probarán cuatro modelos distintos para realizar las predicciones:\n",
    "\n",
    "- Modelo 0: un modelo dummy que servirá como prueba de cordura o base mínima de rendimiento de los demás modelos.\n",
    "- Modelo 1: el preprocesamiento de los textos se realizará con NLTK, la vectorización con td_idf y un modelo de regresión logística para las predicciones.\n",
    "- Modelo 2: preprocesamiento con Spacy, vectorización con tf_idf y predicciones con regresión logística.\n",
    "- Modelo 3: preprocesamiento con Spacy, vecotrización con tf_idf y predicciones con LGBM. "
   ]
  },
  {
   "cell_type": "markdown",
   "metadata": {},
   "source": [
    "### Modelo 0 - Constante"
   ]
  },
  {
   "cell_type": "code",
   "execution_count": 38,
   "metadata": {},
   "outputs": [
    {
     "data": {
      "text/plain": [
       "0.4988255391842836"
      ]
     },
     "execution_count": 38,
     "metadata": {},
     "output_type": "execute_result"
    }
   ],
   "source": [
    "# Crear instancias del modelo\n",
    "dummy = DummyClassifier(strategy=\"uniform\", random_state=24601)\n",
    "# Entrenar el modelo\n",
    "dummy.fit(x_train, y_train)\n",
    "# Predicciones\n",
    "dummy_omens = dummy.predict(x_test)\n",
    "# Evaluación del modelo\n",
    "dummy_f1 = f1_score(y_test, dummy_omens)\n",
    "#Resultado de evaluación\n",
    "dummy_f1"
   ]
  },
  {
   "cell_type": "markdown",
   "metadata": {},
   "source": [
    "### Modelo 1 - NLTK, TF-IDF y LR"
   ]
  },
  {
   "cell_type": "markdown",
   "metadata": {},
   "source": [
    "Crear una lista de palabras vacías"
   ]
  },
  {
   "cell_type": "code",
   "execution_count": 39,
   "metadata": {},
   "outputs": [],
   "source": [
    "# Crear una lista de palabras vacías del inglés.\n",
    "stop_words = set(stopwords.words('english'))\n",
    "\n",
    "# Crear instancia para lematizar\n",
    "lemmatizer = WordNetLemmatizer()\n",
    "\n",
    "# Función para de preprocesamiento para cada texto del conjunto de datos\n",
    "\n",
    "def text_preprocessing_2(df):\n",
    "    preprocesado = []\n",
    "    \n",
    "    for text in df:\n",
    "        # Obtener los tokens del texto\n",
    "        tokens = word_tokenize(text.lower())\n",
    "        # Por cada lista de tokens devolverá una lista lematizada\n",
    "        lemmas = [lemmatizer.lemmatize(token) for token in tokens]\n",
    "        # El proceso anterior devuelve una lista de lemmas y necesitamos un solo lema, lo unimos con lo siguiente\n",
    "        lista = \" \".join(lemmas)\n",
    "        # Agregamos el resultado a una lista para después convertirlo en un objeto series\n",
    "        preprocesado.append(lista)\n",
    "        \n",
    "    preprocesado = pd.Series(preprocesado)    \n",
    "    \n",
    "    return preprocesado "
   ]
  },
  {
   "cell_type": "code",
   "execution_count": 40,
   "metadata": {},
   "outputs": [
    {
     "data": {
      "text/plain": [
       "0        the pakage implies that warren beatty and gold...\n",
       "1        how the hell did they get this made presenting...\n",
       "2        this true story of carlson 's raider is more o...\n",
       "3        should have been titled 'balderdash ' little i...\n",
       "4        the movie 'gung ho ' the story of carlson 's m...\n",
       "                               ...                        \n",
       "23791    o my gosh just give me a minute to breath this...\n",
       "23792    i ca n't tell you all how much i love this mov...\n",
       "23793    legend of zu is possibly the most exciting mov...\n",
       "23794    this movie is well done on so many level that ...\n",
       "23795    a a history nut who is particularly interested...\n",
       "Length: 23796, dtype: object"
      ]
     },
     "execution_count": 40,
     "metadata": {},
     "output_type": "execute_result"
    }
   ],
   "source": [
    "# Tokenizar y lematizar conjutno de entrenamiento y prueba. M1 es para modelo 1, m2 para modelo 2 y así sucesivamente \n",
    "m1x_train = text_preprocessing_2(x_train) # textos preprocesados del conjunto de entrenamiento\n",
    "m1x_test = text_preprocessing_2(x_test) # textos preprocesados del conjunto de prueba\n",
    "m1x_train # Visualizar"
   ]
  },
  {
   "cell_type": "markdown",
   "metadata": {},
   "source": [
    "Vectorización de los textos preprocesados con TF-IDF"
   ]
  },
  {
   "cell_type": "code",
   "execution_count": 41,
   "metadata": {},
   "outputs": [],
   "source": [
    "# Crear un modelo con tf-idf\n",
    "count_tf_idf = TfidfVectorizer(stop_words = stop_words, ngram_range=(1,1))\n",
    "# Ajustar y transformar conjunto de entrenamiento para obtener características conjunto de entrenamiento \n",
    "tf_idf = count_tf_idf.fit_transform(m1x_train)\n",
    "# Características conjunto de prueba\n",
    "tf_idf_test = count_tf_idf.transform(m1x_test)"
   ]
  },
  {
   "cell_type": "markdown",
   "metadata": {},
   "source": [
    "Implementación de la regresión logística."
   ]
  },
  {
   "cell_type": "code",
   "execution_count": 42,
   "metadata": {},
   "outputs": [
    {
     "data": {
      "text/plain": [
       "0.8794132696571721"
      ]
     },
     "execution_count": 42,
     "metadata": {},
     "output_type": "execute_result"
    }
   ],
   "source": [
    "# Crear instacia del modelo de regresión logística\n",
    "m1_logistic = LogisticRegression(random_state = 24601, max_iter=200, penalty = \"l2\")\n",
    "# Entrenar el modelo con el conjunto de entrenamiento\n",
    "m1_logistic.fit(tf_idf, y_train)\n",
    "# Predicciones\n",
    "m1_omens = m1_logistic.predict(tf_idf_test)\n",
    "# Evaluar el modelo\n",
    "m1_f1 = f1_score(y_test, m1_omens)\n",
    "# Resultados\n",
    "m1_f1"
   ]
  },
  {
   "cell_type": "markdown",
   "metadata": {},
   "source": [
    "### Modelo 3 - spaCy, TF-IDF y LR"
   ]
  },
  {
   "cell_type": "code",
   "execution_count": 43,
   "metadata": {},
   "outputs": [],
   "source": [
    "#Cargar la instancia desde spacy\n",
    "nlp = spacy.load('en_core_web_sm', disable=['parser', 'ner'])"
   ]
  },
  {
   "cell_type": "markdown",
   "metadata": {},
   "source": [
    "Preprocesamiento de los textos con spaCy:"
   ]
  },
  {
   "cell_type": "code",
   "execution_count": 44,
   "metadata": {},
   "outputs": [],
   "source": [
    "# Definir función de preprocesamiento\n",
    "def text_preprocessing_3(df):\n",
    "    \n",
    "    preprocesado = []\n",
    "    for text in df:\n",
    "        \n",
    "        doc = nlp(text)\n",
    "        \n",
    "        lemmas = [token.lemma_ for token in doc] #tokens = [token.lemma_ for token in doc if not token.is_stop]\n",
    "        \n",
    "        lemmas = \" \".join(lemmas)\n",
    "        \n",
    "        preprocesado.append(lemmas)\n",
    "        \n",
    "    preprocesado = pd.Series(preprocesado)\n",
    "    \n",
    "    return preprocesado"
   ]
  },
  {
   "cell_type": "code",
   "execution_count": 45,
   "metadata": {},
   "outputs": [
    {
     "name": "stdout",
     "output_type": "stream",
     "text": [
      "CPU times: user 8min 40s, sys: 179 ms, total: 8min 40s\n",
      "Wall time: 8min 49s\n"
     ]
    },
    {
     "data": {
      "text/plain": [
       "0        the pakage imply that warren beatty and goldie...\n",
       "1        how the hell do they get this make present its...\n",
       "2        this true story of carlson 's raider be more o...\n",
       "3        should have be title ' balderdash ' little in ...\n",
       "4        the movie ' gung ho ' the story of carlson 's ...\n",
       "                               ...                        \n",
       "23791    o my gosh just give I a minute to breath this ...\n",
       "23792    I can not tell you all how much I love this mo...\n",
       "23793    legend of zu be possibly the most exciting mov...\n",
       "23794    this movie be well do on so many level that I ...\n",
       "23795    as a history nut who be particularly intereste...\n",
       "Length: 23796, dtype: object"
      ]
     },
     "execution_count": 45,
     "metadata": {},
     "output_type": "execute_result"
    }
   ],
   "source": [
    "%%time\n",
    "# Aplicación de la función\n",
    "m2x_train = text_preprocessing_3(x_train)\n",
    "m2x_train"
   ]
  },
  {
   "cell_type": "code",
   "execution_count": 46,
   "metadata": {},
   "outputs": [
    {
     "data": {
      "text/plain": [
       "0        the pakage imply that warren beatty and goldie...\n",
       "1        how the hell do they get this make present its...\n",
       "2        this true story of carlson 's raider be more o...\n",
       "3        should have be title ' balderdash ' little in ...\n",
       "4        the movie ' gung ho ' the story of carlson 's ...\n",
       "                               ...                        \n",
       "23791    o my gosh just give I a minute to breath this ...\n",
       "23792    I can not tell you all how much I love this mo...\n",
       "23793    legend of zu be possibly the most exciting mov...\n",
       "23794    this movie be well do on so many level that I ...\n",
       "23795    as a history nut who be particularly intereste...\n",
       "Length: 23796, dtype: object"
      ]
     },
     "execution_count": 46,
     "metadata": {},
     "output_type": "execute_result"
    }
   ],
   "source": [
    "m2x_test = text_preprocessing_3(x_test)\n",
    "m2x_train"
   ]
  },
  {
   "cell_type": "markdown",
   "metadata": {},
   "source": [
    "Vectorización de los textos con TF-IDF:"
   ]
  },
  {
   "cell_type": "code",
   "execution_count": 47,
   "metadata": {},
   "outputs": [],
   "source": [
    "# Crear segundo modelo con tf-idf \n",
    "count_tf_idf_2 = TfidfVectorizer(stop_words = stop_words, ngram_range=(1,1))\n",
    "# Ajustar y transformar conjunto de entrenamiento para obtener características conjunto de entrenamiento \n",
    "tf_idf_2 = count_tf_idf_2.fit_transform(m2x_train)\n",
    "# Vectorización del conjutno de entrenamiento.\n",
    "tf_idf_test_2 = count_tf_idf_2.transform(m2x_test) # Características del conjunto de entrenamiento."
   ]
  },
  {
   "cell_type": "markdown",
   "metadata": {},
   "source": [
    "Implementación del modelo de regresión logística:"
   ]
  },
  {
   "cell_type": "code",
   "execution_count": 48,
   "metadata": {},
   "outputs": [
    {
     "data": {
      "text/plain": [
       "0.8788380685437636"
      ]
     },
     "execution_count": 48,
     "metadata": {},
     "output_type": "execute_result"
    }
   ],
   "source": [
    "# Crear instacia del modelo de regresión logística\n",
    "m2_logistic = LogisticRegression(random_state = 24601)\n",
    "# Entrenar el modelo con el conjunto de entrenamiento\n",
    "m2_logistic.fit(tf_idf_2, y_train)\n",
    "# Hacer predicciones\n",
    "m2_omens = m2_logistic.predict(tf_idf_test_2)\n",
    "# Calcular la métrica f1\n",
    "m2_f1 = f1_score(y_test, m2_omens)\n",
    "#Resultados\n",
    "m2_f1"
   ]
  },
  {
   "cell_type": "markdown",
   "metadata": {},
   "source": [
    "### Modelo 4 - spaCy, TF-IDF y LGBMClassifier"
   ]
  },
  {
   "cell_type": "markdown",
   "metadata": {},
   "source": [
    "Tanto el preprocesamiento como la vecotrización ya fueron realizadas dentro del modelo anterior, por lo que aquí simplemente se aplica un modelo disntinto para las predicciones."
   ]
  },
  {
   "cell_type": "code",
   "execution_count": 49,
   "metadata": {},
   "outputs": [
    {
     "data": {
      "text/plain": [
       "0.844273062417899"
      ]
     },
     "execution_count": 49,
     "metadata": {},
     "output_type": "execute_result"
    }
   ],
   "source": [
    "# Instancia\n",
    "m3_lgbm = LGBMClassifier(random_state=24601, learning_rate = 0.05, n_estimators = 100, objective = \"binary\", num_leaves = 60)\n",
    "# Entrenamiento\n",
    "m3_lgbm.fit(tf_idf_2, y_train)\n",
    "# Predicciones\n",
    "m3_omens = m3_lgbm.predict(tf_idf_test_2)\n",
    "# Evaluación\n",
    "m3_f1 = f1_score(y_test, m3_omens)\n",
    "#Resultado\n",
    "m3_f1"
   ]
  },
  {
   "cell_type": "markdown",
   "metadata": {},
   "source": [
    "## Mis reseñas"
   ]
  },
  {
   "cell_type": "markdown",
   "metadata": {},
   "source": [
    "Para comparar los distintos valores de clasificación que arrojan nuestros modelos podemos pasarle las siguientes reseñas y comparar sus resultados."
   ]
  },
  {
   "cell_type": "code",
   "execution_count": 50,
   "metadata": {},
   "outputs": [
    {
     "data": {
      "text/html": [
       "<div>\n",
       "<style scoped>\n",
       "    .dataframe tbody tr th:only-of-type {\n",
       "        vertical-align: middle;\n",
       "    }\n",
       "\n",
       "    .dataframe tbody tr th {\n",
       "        vertical-align: top;\n",
       "    }\n",
       "\n",
       "    .dataframe thead th {\n",
       "        text-align: right;\n",
       "    }\n",
       "</style>\n",
       "<table border=\"1\" class=\"dataframe\">\n",
       "  <thead>\n",
       "    <tr style=\"text-align: right;\">\n",
       "      <th></th>\n",
       "      <th>review</th>\n",
       "      <th>review_norm</th>\n",
       "    </tr>\n",
       "  </thead>\n",
       "  <tbody>\n",
       "    <tr>\n",
       "      <th>0</th>\n",
       "      <td>I did not simply like it, not my kind of movie.</td>\n",
       "      <td>i did not simply like it not my kind of movie</td>\n",
       "    </tr>\n",
       "    <tr>\n",
       "      <th>1</th>\n",
       "      <td>Well, I was bored and felt asleep in the middl...</td>\n",
       "      <td>well i was bored and felt asleep in the middle...</td>\n",
       "    </tr>\n",
       "    <tr>\n",
       "      <th>2</th>\n",
       "      <td>I was really fascinated with the movie</td>\n",
       "      <td>i was really fascinated with the movie</td>\n",
       "    </tr>\n",
       "    <tr>\n",
       "      <th>3</th>\n",
       "      <td>Even the actors looked really old and disinter...</td>\n",
       "      <td>even the actors looked really old and disinter...</td>\n",
       "    </tr>\n",
       "    <tr>\n",
       "      <th>4</th>\n",
       "      <td>I didn't expect the reboot to be so good! Writ...</td>\n",
       "      <td>i didn't expect the reboot to be so good write...</td>\n",
       "    </tr>\n",
       "    <tr>\n",
       "      <th>5</th>\n",
       "      <td>The movie had its upsides and downsides, but I...</td>\n",
       "      <td>the movie had its upsides and downsides but i ...</td>\n",
       "    </tr>\n",
       "    <tr>\n",
       "      <th>6</th>\n",
       "      <td>What a rotten attempt at a comedy. Not a singl...</td>\n",
       "      <td>what a rotten attempt at a comedy not a single...</td>\n",
       "    </tr>\n",
       "    <tr>\n",
       "      <th>7</th>\n",
       "      <td>Launching on Netflix was a brave move &amp; I real...</td>\n",
       "      <td>launching on netflix was a brave move i really...</td>\n",
       "    </tr>\n",
       "  </tbody>\n",
       "</table>\n",
       "</div>"
      ],
      "text/plain": [
       "                                              review  \\\n",
       "0    I did not simply like it, not my kind of movie.   \n",
       "1  Well, I was bored and felt asleep in the middl...   \n",
       "2             I was really fascinated with the movie   \n",
       "3  Even the actors looked really old and disinter...   \n",
       "4  I didn't expect the reboot to be so good! Writ...   \n",
       "5  The movie had its upsides and downsides, but I...   \n",
       "6  What a rotten attempt at a comedy. Not a singl...   \n",
       "7  Launching on Netflix was a brave move & I real...   \n",
       "\n",
       "                                         review_norm  \n",
       "0      i did not simply like it not my kind of movie  \n",
       "1  well i was bored and felt asleep in the middle...  \n",
       "2             i was really fascinated with the movie  \n",
       "3  even the actors looked really old and disinter...  \n",
       "4  i didn't expect the reboot to be so good write...  \n",
       "5  the movie had its upsides and downsides but i ...  \n",
       "6  what a rotten attempt at a comedy not a single...  \n",
       "7  launching on netflix was a brave move i really...  "
      ]
     },
     "execution_count": 50,
     "metadata": {},
     "output_type": "execute_result"
    }
   ],
   "source": [
    "# puedes eliminar por completo estas reseñas y probar tus modelos en tus propias reseñas; las que se muestran a continuación son solo ejemplos\n",
    "\n",
    "my_reviews = pd.DataFrame([\n",
    "    'I did not simply like it, not my kind of movie.',\n",
    "    'Well, I was bored and felt asleep in the middle of the movie.',\n",
    "    'I was really fascinated with the movie',    \n",
    "    'Even the actors looked really old and disinterested, and they got paid to be in the movie. What a soulless cash grab.',\n",
    "    'I didn\\'t expect the reboot to be so good! Writers really cared about the source material',\n",
    "    'The movie had its upsides and downsides, but I feel like overall it\\'s a decent flick. I could see myself going to see it again.',\n",
    "    'What a rotten attempt at a comedy. Not a single joke lands, everyone acts annoying and loud, even kids won\\'t like this!',\n",
    "    'Launching on Netflix was a brave move & I really appreciate being able to binge on episode after episode, of this exciting intelligent new drama.'\n",
    "], columns=['review'])\n",
    "\n",
    "# eliminar todos los carcateres excepto letras, apostrofos y espacios.\n",
    "clean_text = []\n",
    "\n",
    "for texto in my_reviews[\"review\"]:\n",
    "    pattern = r\"[^a-zA-Z']\"\n",
    "    # Sustituir cada texto por otra versión\n",
    "    texto = re.sub(pattern, \" \", texto)\n",
    "    # Dividirá el texto tomando los espacios como separación y creará una lista\n",
    "    texto = texto.split()\n",
    "    #Unirá los elementos de la lista mediante un espacio creando un solo texto\n",
    "    texto = \" \".join(texto)\n",
    "    # Poner el texto todo en minúsculas\n",
    "    texto = texto.lower()\n",
    "    # Devolver el texto a una lista\n",
    "    clean_text.append(texto)\n",
    "    \n",
    "#Agregar la lista a la base de datos\n",
    "my_reviews['review_norm'] = pd.Series(clean_text)\n",
    "\n",
    "my_reviews"
   ]
  },
  {
   "cell_type": "markdown",
   "metadata": {},
   "source": [
    "### Modelo 2"
   ]
  },
  {
   "cell_type": "code",
   "execution_count": 51,
   "metadata": {},
   "outputs": [
    {
     "name": "stdout",
     "output_type": "stream",
     "text": [
      "0.16:  i did not simply like it not my kind of movie\n",
      "0.14:  well i wa bored and felt asleep in the middle of the movie\n",
      "0.46:  i wa really fascinated with the movie\n",
      "0.12:  even the actor looked really old and disinterested and they got paid to be in the movie what a soull\n",
      "0.30:  i did n't expect the reboot to be so good writer really cared about the source material\n",
      "0.53:  the movie had it upside and downside but i feel like overall it 's a decent flick i could see myself\n",
      "0.04:  what a rotten attempt at a comedy not a single joke land everyone act annoying and loud even kid wo \n",
      "0.87:  launching on netflix wa a brave move i really appreciate being able to binge on episode after episod\n"
     ]
    }
   ],
   "source": [
    "texts = my_reviews['review_norm']\n",
    "cleaned_text = text_preprocessing_2(texts)\n",
    "\n",
    "my_reviews_pred_prob = m1_logistic.predict_proba(count_tf_idf.transform(cleaned_text))[:, 1]\n",
    "\n",
    "for i, review in enumerate(cleaned_text.str.slice(0, 100)):\n",
    "    print(f'{my_reviews_pred_prob[i]:.2f}:  {review}')"
   ]
  },
  {
   "cell_type": "markdown",
   "metadata": {},
   "source": [
    "### Modelo 3"
   ]
  },
  {
   "cell_type": "code",
   "execution_count": 52,
   "metadata": {},
   "outputs": [
    {
     "name": "stdout",
     "output_type": "stream",
     "text": [
      "0.20:  I do not simply like it not my kind of movie\n",
      "0.12:  well I be bored and feel asleep in the middle of the movie\n",
      "0.49:  I be really fascinated with the movie\n",
      "0.10:  even the actor look really old and disintereste and they get pay to be in the movie what a soulless cash grab\n",
      "0.27:  I do not expect the reboot to be so good writer really care about the source material\n",
      "0.50:  the movie have its upside and downside but I feel like overall it be a decent flick I could see myself go to s\n",
      "0.03:  what a rotten attempt at a comedy not a single joke land everyone act annoying and loud even kid will not like\n",
      "0.92:  launch on netflix be a brave move I really appreciate be able to binge on episode after episode of this exciti\n"
     ]
    }
   ],
   "source": [
    "# Tokenizar y lematizar las reseñas propias para el modelo 3\n",
    "cleaned_text = text_preprocessing_3(texts)\n",
    "\n",
    "\n",
    "my_reviews_pred_prob = m2_logistic.predict_proba(count_tf_idf_2.transform(cleaned_text))[:, 1]\n",
    "\n",
    "for i, review in enumerate(cleaned_text.str.slice(0, 110)):\n",
    "    print(f'{my_reviews_pred_prob[i]:.2f}:  {review}')"
   ]
  },
  {
   "cell_type": "markdown",
   "metadata": {},
   "source": [
    "### Modelo 4"
   ]
  },
  {
   "cell_type": "code",
   "execution_count": 53,
   "metadata": {},
   "outputs": [
    {
     "name": "stdout",
     "output_type": "stream",
     "text": [
      "0.62:  I do not simply like it not my kind of movie\n",
      "0.39:  well I be bored and feel asleep in the middle of the movie\n",
      "0.63:  I be really fascinated with the movie\n",
      "0.37:  even the actor look really old and disintereste and they get pay to be in the movie what a soulless \n",
      "0.74:  I do not expect the reboot to be so good writer really care about the source material\n",
      "0.75:  the movie have its upside and downside but I feel like overall it be a decent flick I could see myse\n",
      "0.25:  what a rotten attempt at a comedy not a single joke land everyone act annoying and loud even kid wil\n",
      "0.75:  launch on netflix be a brave move I really appreciate be able to binge on episode after episode of t\n"
     ]
    }
   ],
   "source": [
    "tfidf_vectorizer_4 = count_tf_idf_2\n",
    "my_reviews_pred_prob = m3_lgbm.predict_proba(count_tf_idf_2.transform(cleaned_text))[:, 1]\n",
    "\n",
    "for i, review in enumerate(cleaned_text.str.slice(0, 100)):\n",
    "    print(f'{my_reviews_pred_prob[i]:.2f}:  {review}')"
   ]
  },
  {
   "cell_type": "markdown",
   "metadata": {},
   "source": [
    "**Observaciones:**\n",
    "\n",
    "Ambos modelos de regresión logística funcionan relativamente bien. Las probabilidades de clasificación son distintas para cada reseña, y en la mayoría de los casos el tono de la reseña coincide con su probabilidad. Recordemos que con una probabilidad menor del 0.5 la reseña se considera como negativa; mayor a 0.5, positiva. En el caso del modelo LGBM ocurre que las probabilidades para distintas reseñas son exactamente iguales. Eso debe indicar algún problema con el modelo que también se refleja en el bajo valor de su métrica f1 en comparación con sus homólogos de regresión logística. "
   ]
  },
  {
   "cell_type": "markdown",
   "metadata": {},
   "source": [
    "## Resumen de los resultados"
   ]
  },
  {
   "cell_type": "markdown",
   "metadata": {},
   "source": [
    "Crearemos una tabla que permita comparar los resultados obtenidos:"
   ]
  },
  {
   "cell_type": "code",
   "execution_count": 54,
   "metadata": {},
   "outputs": [
    {
     "data": {
      "text/html": [
       "<div>\n",
       "<style scoped>\n",
       "    .dataframe tbody tr th:only-of-type {\n",
       "        vertical-align: middle;\n",
       "    }\n",
       "\n",
       "    .dataframe tbody tr th {\n",
       "        vertical-align: top;\n",
       "    }\n",
       "\n",
       "    .dataframe thead th {\n",
       "        text-align: right;\n",
       "    }\n",
       "</style>\n",
       "<table border=\"1\" class=\"dataframe\">\n",
       "  <thead>\n",
       "    <tr style=\"text-align: right;\">\n",
       "      <th></th>\n",
       "      <th>Métrica F1</th>\n",
       "    </tr>\n",
       "  </thead>\n",
       "  <tbody>\n",
       "    <tr>\n",
       "      <th>Valor mínimo f1</th>\n",
       "      <td>0.8500</td>\n",
       "    </tr>\n",
       "    <tr>\n",
       "      <th>M. dummy</th>\n",
       "      <td>0.4988</td>\n",
       "    </tr>\n",
       "    <tr>\n",
       "      <th>M. NLK TF-IDF LR</th>\n",
       "      <td>0.8794</td>\n",
       "    </tr>\n",
       "    <tr>\n",
       "      <th>M. spaCy TF-IDF LR</th>\n",
       "      <td>0.8788</td>\n",
       "    </tr>\n",
       "    <tr>\n",
       "      <th>M. spaCy TF-IDF LGBM</th>\n",
       "      <td>0.8443</td>\n",
       "    </tr>\n",
       "  </tbody>\n",
       "</table>\n",
       "</div>"
      ],
      "text/plain": [
       "                      Métrica F1\n",
       "Valor mínimo f1           0.8500\n",
       "M. dummy                  0.4988\n",
       "M. NLK TF-IDF LR          0.8794\n",
       "M. spaCy TF-IDF LR        0.8788\n",
       "M. spaCy TF-IDF LGBM      0.8443"
      ]
     },
     "execution_count": 54,
     "metadata": {},
     "output_type": "execute_result"
    }
   ],
   "source": [
    "data = [0.85,\n",
    "        dummy_f1,\n",
    "          m1_f1,\n",
    "          m2_f1,\n",
    "          m3_f1]\n",
    "index = [\"Valor mínimo f1\",\n",
    "         \"M. dummy\",\n",
    "        \"M. NLK TF-IDF LR\",\n",
    "        \"M. spaCy TF-IDF LR\",\n",
    "        \"M. spaCy TF-IDF LGBM\"]\n",
    "\n",
    "resumen = pd.DataFrame(index = index, data = data, columns = [\"Métrica F1\"]).round(4)\n",
    "\n",
    "resumen"
   ]
  },
  {
   "cell_type": "markdown",
   "metadata": {},
   "source": [
    "Como era de esperarse, dada la situación casi simétrica de los valores objetivo, el modelo dummy alcanza un valor de f1 muy bajo del 0.49. EN cambio, los modelos de regresión logística cuyos textos fueron entrenados con spaCy o NLTK sobrepasaron el valor mínimo de 0.85. Curiosamente, el modelo LGBM no, si bien estuvo muy cerca del valor mínimo."
   ]
  },
  {
   "cell_type": "markdown",
   "metadata": {},
   "source": [
    "## Conclusiones"
   ]
  },
  {
   "cell_type": "markdown",
   "metadata": {},
   "source": [
    "Se exploraron los valores de todo el marco de datos original. En un principio se contaba con un amplio número de columnas con diversos valores que fueron explorados para entender la naturaleza de los datos y el contexto de las reseñas en el mismo. No obtsante, dado que el objetivo del proyecto se centra principalmente en la vectorización de texto para realizar modelos de tono del lenguaje, sólo fue necesaria la columna de `review` como input de nuestras caracterírsticas y la columna `pos` como valores objetivo, también se rescató la columna `ds_part` pues indicaba a qué conjunto de datos pertenecería la observación. Con base en estos datos se limpiaron los textos de todo caracter excepto letras, apostrofos y espacios indeseables. Posteriormente, se preprocesaron las palabras usando NLTK en un caso y spaCy en otro. Estos valroes fueron vectorizados mediante la técnica TF-IDF, con un listado de palabras vacías y sin n-gramas. Para estos dos conjuntos de palabras se le aplicó un modelo de regresión logística a cada uno y un modleo LGBM al texto preprocesado con spaCy. En los casos cuyos modelos fueron de regresión logística, la métrica f1 se sobrepasó, no así con el modelo LGBM. Por último, se imlementaron reseñas de muestra para poder comparar los valores probabilisticos de cada modelo y se compararon sus diferencias. Los modelos basados en regresión logística tuvieron valores similares y extremos mientras que el modelo LGBM difería de los anteriores además de ser, en lo general, mucho más optimista con respecto a cada una de las reseñas."
   ]
  }
 ],
 "metadata": {
  "kernelspec": {
   "display_name": "Python 3 (ipykernel)",
   "language": "python",
   "name": "python3"
  },
  "language_info": {
   "codemirror_mode": {
    "name": "ipython",
    "version": 3
   },
   "file_extension": ".py",
   "mimetype": "text/x-python",
   "name": "python",
   "nbconvert_exporter": "python",
   "pygments_lexer": "ipython3",
   "version": "3.9.5"
  },
  "toc": {
   "base_numbering": 1,
   "nav_menu": {},
   "number_sections": true,
   "sideBar": true,
   "skip_h1_title": true,
   "title_cell": "Table of Contents",
   "title_sidebar": "Contents",
   "toc_cell": false,
   "toc_position": {},
   "toc_section_display": true,
   "toc_window_display": false
  },
  "vscode": {
   "interpreter": {
    "hash": "ac629f305345b17df6668bc9b17021b4f12075c260532782c34ed55a489bc20f"
   }
  }
 },
 "nbformat": 4,
 "nbformat_minor": 4
}
